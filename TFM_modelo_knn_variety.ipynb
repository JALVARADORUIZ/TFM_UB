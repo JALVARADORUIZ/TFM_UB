{
  "nbformat": 4,
  "nbformat_minor": 0,
  "metadata": {
    "colab": {
      "provenance": [],
      "authorship_tag": "ABX9TyMVvRPox84ix7Tvogik98IV",
      "include_colab_link": true
    },
    "kernelspec": {
      "name": "python3",
      "display_name": "Python 3"
    },
    "language_info": {
      "name": "python"
    },
    "accelerator": "GPU"
  },
  "cells": [
    {
      "cell_type": "markdown",
      "metadata": {
        "id": "view-in-github",
        "colab_type": "text"
      },
      "source": [
        "<a href=\"https://colab.research.google.com/github/JALVARADORUIZ/TFM_UB/blob/main/TFM_modelo_knn_variety.ipynb\" target=\"_parent\"><img src=\"https://colab.research.google.com/assets/colab-badge.svg\" alt=\"Open In Colab\"/></a>"
      ]
    },
    {
      "cell_type": "code",
      "source": [
        "from google.colab import drive\n",
        "drive.mount('/content/drive', force_remount=True)"
      ],
      "metadata": {
        "colab": {
          "base_uri": "https://localhost:8080/"
        },
        "id": "vj3V_Xl01GyC",
        "outputId": "a0c7de1e-7b57-45ea-b619-f30d7611379d"
      },
      "execution_count": 1,
      "outputs": [
        {
          "output_type": "stream",
          "name": "stdout",
          "text": [
            "Mounted at /content/drive\n"
          ]
        }
      ]
    },
    {
      "cell_type": "code",
      "source": [
        "import os\n",
        "import numpy as np\n",
        "import matplotlib.pyplot as plt\n",
        "from random import randint\n",
        "import pandas as pd\n",
        "import pickle\n",
        "from tqdm import tqdm\n",
        "tqdm.pandas()\n",
        "\n",
        "from sklearn.preprocessing import LabelEncoder\n",
        "from sklearn.pipeline import make_pipeline\n",
        "from sklearn.decomposition import PCA\n",
        "from sklearn.preprocessing import StandardScaler\n",
        "from sklearn.model_selection import GridSearchCV, cross_val_score\n",
        "from sklearn.model_selection import train_test_split\n",
        "from sklearn.neighbors import KNeighborsClassifier\n",
        "from sklearn.metrics import classification_report, confusion_matrix, accuracy_score"
      ],
      "metadata": {
        "id": "PLFB94fc0_Qm"
      },
      "execution_count": 2,
      "outputs": []
    },
    {
      "cell_type": "code",
      "execution_count": 3,
      "metadata": {
        "id": "IDJ7FLZV0y4D"
      },
      "outputs": [],
      "source": [
        "data = '/content/drive/MyDrive/TFM_Máster BDDS/datawine/df_img_processed2.csv'\n",
        "\n",
        "df = pd.read_csv(data)"
      ]
    },
    {
      "cell_type": "code",
      "source": [
        "df.head(5)"
      ],
      "metadata": {
        "colab": {
          "base_uri": "https://localhost:8080/",
          "height": 612
        },
        "id": "DhlRATQC1jM4",
        "outputId": "352738ec-a746-49f1-e5eb-4f0dd68a7970"
      },
      "execution_count": 4,
      "outputs": [
        {
          "output_type": "execute_result",
          "data": {
            "text/plain": [
              "              winery                                            product  \\\n",
              "0    cathedral ridge  cathedral ridge bangsund vineyard pinot noir 2006   \n",
              "1           penfolds                           penfolds rwt shiraz 2005   \n",
              "2  marques de riscal       marques de riscal frank gehry selection 2001   \n",
              "3            wyndham                    wyndham pinot noir bin 333 2007   \n",
              "4        louis jadot    louis jadot chevalier montrachet grand cru 2006   \n",
              "\n",
              "                           region country_code  rating       variety  \\\n",
              "0          columbia valley oregon           us     3.5    pinot noir   \n",
              "1                  barossa valley           au     4.5  shiraz syrah   \n",
              "2                           rioja           es     5.0   tempranillo   \n",
              "3         south eastern australia           au     4.0    pinot noir   \n",
              "4  chevalier montrachet grand cru           fr     5.0    chardonnay   \n",
              "\n",
              "    price_usd                                              image  \\\n",
              "0  163.000000  vintage-images/MBo5T9ZQQQGbzsRmVORp-w_pl_480x6...   \n",
              "1  169.950000  vintage-images/dDyTwzIfQC68MCUgjmYWpw_pl_480x6...   \n",
              "2  357.196682  vintage-images/t44NPpbUT6uy0vRt4VD2RQ_pl_480x6...   \n",
              "3   10.990000  vintage-images/v1RahJe2QQyp4oAFOv90bA_pl_480x6...   \n",
              "4  309.990000  vintage-images/VlMihlZUQE6US7fr09w5ZA_pl_480x6...   \n",
              "\n",
              "      continente country_code_clean  ...      4086      4087      4088  \\\n",
              "0  north america      united states  ...  0.000000  2.723852  0.112117   \n",
              "1        oceania          australia  ...  1.020779  0.000000  0.000000   \n",
              "2         europe              spain  ...  0.000000  0.555558  0.000000   \n",
              "3        oceania          australia  ...  0.000000  1.728447  0.707242   \n",
              "4         europe             france  ...  0.000000  2.167833  0.000000   \n",
              "\n",
              "       4089 4090  4091      4092  4093  4094      4095  \n",
              "0  1.256278  0.0   0.0  0.688721   0.0   0.0  0.641749  \n",
              "1  2.622155  0.0   0.0  0.290430   0.0   0.0  0.000000  \n",
              "2  0.656157  0.0   0.0  0.000000   0.0   0.0  1.079562  \n",
              "3  0.000000  0.0   0.0  0.000000   0.0   0.0  1.881952  \n",
              "4  0.000000  0.0   0.0  0.400719   0.0   0.0  2.144384  \n",
              "\n",
              "[5 rows x 4111 columns]"
            ],
            "text/html": [
              "\n",
              "  <div id=\"df-f820286c-bbe0-4ede-a188-0bc49b012cf6\">\n",
              "    <div class=\"colab-df-container\">\n",
              "      <div>\n",
              "<style scoped>\n",
              "    .dataframe tbody tr th:only-of-type {\n",
              "        vertical-align: middle;\n",
              "    }\n",
              "\n",
              "    .dataframe tbody tr th {\n",
              "        vertical-align: top;\n",
              "    }\n",
              "\n",
              "    .dataframe thead th {\n",
              "        text-align: right;\n",
              "    }\n",
              "</style>\n",
              "<table border=\"1\" class=\"dataframe\">\n",
              "  <thead>\n",
              "    <tr style=\"text-align: right;\">\n",
              "      <th></th>\n",
              "      <th>winery</th>\n",
              "      <th>product</th>\n",
              "      <th>region</th>\n",
              "      <th>country_code</th>\n",
              "      <th>rating</th>\n",
              "      <th>variety</th>\n",
              "      <th>price_usd</th>\n",
              "      <th>image</th>\n",
              "      <th>continente</th>\n",
              "      <th>country_code_clean</th>\n",
              "      <th>...</th>\n",
              "      <th>4086</th>\n",
              "      <th>4087</th>\n",
              "      <th>4088</th>\n",
              "      <th>4089</th>\n",
              "      <th>4090</th>\n",
              "      <th>4091</th>\n",
              "      <th>4092</th>\n",
              "      <th>4093</th>\n",
              "      <th>4094</th>\n",
              "      <th>4095</th>\n",
              "    </tr>\n",
              "  </thead>\n",
              "  <tbody>\n",
              "    <tr>\n",
              "      <th>0</th>\n",
              "      <td>cathedral ridge</td>\n",
              "      <td>cathedral ridge bangsund vineyard pinot noir 2006</td>\n",
              "      <td>columbia valley oregon</td>\n",
              "      <td>us</td>\n",
              "      <td>3.5</td>\n",
              "      <td>pinot noir</td>\n",
              "      <td>163.000000</td>\n",
              "      <td>vintage-images/MBo5T9ZQQQGbzsRmVORp-w_pl_480x6...</td>\n",
              "      <td>north america</td>\n",
              "      <td>united states</td>\n",
              "      <td>...</td>\n",
              "      <td>0.000000</td>\n",
              "      <td>2.723852</td>\n",
              "      <td>0.112117</td>\n",
              "      <td>1.256278</td>\n",
              "      <td>0.0</td>\n",
              "      <td>0.0</td>\n",
              "      <td>0.688721</td>\n",
              "      <td>0.0</td>\n",
              "      <td>0.0</td>\n",
              "      <td>0.641749</td>\n",
              "    </tr>\n",
              "    <tr>\n",
              "      <th>1</th>\n",
              "      <td>penfolds</td>\n",
              "      <td>penfolds rwt shiraz 2005</td>\n",
              "      <td>barossa valley</td>\n",
              "      <td>au</td>\n",
              "      <td>4.5</td>\n",
              "      <td>shiraz syrah</td>\n",
              "      <td>169.950000</td>\n",
              "      <td>vintage-images/dDyTwzIfQC68MCUgjmYWpw_pl_480x6...</td>\n",
              "      <td>oceania</td>\n",
              "      <td>australia</td>\n",
              "      <td>...</td>\n",
              "      <td>1.020779</td>\n",
              "      <td>0.000000</td>\n",
              "      <td>0.000000</td>\n",
              "      <td>2.622155</td>\n",
              "      <td>0.0</td>\n",
              "      <td>0.0</td>\n",
              "      <td>0.290430</td>\n",
              "      <td>0.0</td>\n",
              "      <td>0.0</td>\n",
              "      <td>0.000000</td>\n",
              "    </tr>\n",
              "    <tr>\n",
              "      <th>2</th>\n",
              "      <td>marques de riscal</td>\n",
              "      <td>marques de riscal frank gehry selection 2001</td>\n",
              "      <td>rioja</td>\n",
              "      <td>es</td>\n",
              "      <td>5.0</td>\n",
              "      <td>tempranillo</td>\n",
              "      <td>357.196682</td>\n",
              "      <td>vintage-images/t44NPpbUT6uy0vRt4VD2RQ_pl_480x6...</td>\n",
              "      <td>europe</td>\n",
              "      <td>spain</td>\n",
              "      <td>...</td>\n",
              "      <td>0.000000</td>\n",
              "      <td>0.555558</td>\n",
              "      <td>0.000000</td>\n",
              "      <td>0.656157</td>\n",
              "      <td>0.0</td>\n",
              "      <td>0.0</td>\n",
              "      <td>0.000000</td>\n",
              "      <td>0.0</td>\n",
              "      <td>0.0</td>\n",
              "      <td>1.079562</td>\n",
              "    </tr>\n",
              "    <tr>\n",
              "      <th>3</th>\n",
              "      <td>wyndham</td>\n",
              "      <td>wyndham pinot noir bin 333 2007</td>\n",
              "      <td>south eastern australia</td>\n",
              "      <td>au</td>\n",
              "      <td>4.0</td>\n",
              "      <td>pinot noir</td>\n",
              "      <td>10.990000</td>\n",
              "      <td>vintage-images/v1RahJe2QQyp4oAFOv90bA_pl_480x6...</td>\n",
              "      <td>oceania</td>\n",
              "      <td>australia</td>\n",
              "      <td>...</td>\n",
              "      <td>0.000000</td>\n",
              "      <td>1.728447</td>\n",
              "      <td>0.707242</td>\n",
              "      <td>0.000000</td>\n",
              "      <td>0.0</td>\n",
              "      <td>0.0</td>\n",
              "      <td>0.000000</td>\n",
              "      <td>0.0</td>\n",
              "      <td>0.0</td>\n",
              "      <td>1.881952</td>\n",
              "    </tr>\n",
              "    <tr>\n",
              "      <th>4</th>\n",
              "      <td>louis jadot</td>\n",
              "      <td>louis jadot chevalier montrachet grand cru 2006</td>\n",
              "      <td>chevalier montrachet grand cru</td>\n",
              "      <td>fr</td>\n",
              "      <td>5.0</td>\n",
              "      <td>chardonnay</td>\n",
              "      <td>309.990000</td>\n",
              "      <td>vintage-images/VlMihlZUQE6US7fr09w5ZA_pl_480x6...</td>\n",
              "      <td>europe</td>\n",
              "      <td>france</td>\n",
              "      <td>...</td>\n",
              "      <td>0.000000</td>\n",
              "      <td>2.167833</td>\n",
              "      <td>0.000000</td>\n",
              "      <td>0.000000</td>\n",
              "      <td>0.0</td>\n",
              "      <td>0.0</td>\n",
              "      <td>0.400719</td>\n",
              "      <td>0.0</td>\n",
              "      <td>0.0</td>\n",
              "      <td>2.144384</td>\n",
              "    </tr>\n",
              "  </tbody>\n",
              "</table>\n",
              "<p>5 rows × 4111 columns</p>\n",
              "</div>\n",
              "      <button class=\"colab-df-convert\" onclick=\"convertToInteractive('df-f820286c-bbe0-4ede-a188-0bc49b012cf6')\"\n",
              "              title=\"Convert this dataframe to an interactive table.\"\n",
              "              style=\"display:none;\">\n",
              "        \n",
              "  <svg xmlns=\"http://www.w3.org/2000/svg\" height=\"24px\"viewBox=\"0 0 24 24\"\n",
              "       width=\"24px\">\n",
              "    <path d=\"M0 0h24v24H0V0z\" fill=\"none\"/>\n",
              "    <path d=\"M18.56 5.44l.94 2.06.94-2.06 2.06-.94-2.06-.94-.94-2.06-.94 2.06-2.06.94zm-11 1L8.5 8.5l.94-2.06 2.06-.94-2.06-.94L8.5 2.5l-.94 2.06-2.06.94zm10 10l.94 2.06.94-2.06 2.06-.94-2.06-.94-.94-2.06-.94 2.06-2.06.94z\"/><path d=\"M17.41 7.96l-1.37-1.37c-.4-.4-.92-.59-1.43-.59-.52 0-1.04.2-1.43.59L10.3 9.45l-7.72 7.72c-.78.78-.78 2.05 0 2.83L4 21.41c.39.39.9.59 1.41.59.51 0 1.02-.2 1.41-.59l7.78-7.78 2.81-2.81c.8-.78.8-2.07 0-2.86zM5.41 20L4 18.59l7.72-7.72 1.47 1.35L5.41 20z\"/>\n",
              "  </svg>\n",
              "      </button>\n",
              "      \n",
              "  <style>\n",
              "    .colab-df-container {\n",
              "      display:flex;\n",
              "      flex-wrap:wrap;\n",
              "      gap: 12px;\n",
              "    }\n",
              "\n",
              "    .colab-df-convert {\n",
              "      background-color: #E8F0FE;\n",
              "      border: none;\n",
              "      border-radius: 50%;\n",
              "      cursor: pointer;\n",
              "      display: none;\n",
              "      fill: #1967D2;\n",
              "      height: 32px;\n",
              "      padding: 0 0 0 0;\n",
              "      width: 32px;\n",
              "    }\n",
              "\n",
              "    .colab-df-convert:hover {\n",
              "      background-color: #E2EBFA;\n",
              "      box-shadow: 0px 1px 2px rgba(60, 64, 67, 0.3), 0px 1px 3px 1px rgba(60, 64, 67, 0.15);\n",
              "      fill: #174EA6;\n",
              "    }\n",
              "\n",
              "    [theme=dark] .colab-df-convert {\n",
              "      background-color: #3B4455;\n",
              "      fill: #D2E3FC;\n",
              "    }\n",
              "\n",
              "    [theme=dark] .colab-df-convert:hover {\n",
              "      background-color: #434B5C;\n",
              "      box-shadow: 0px 1px 3px 1px rgba(0, 0, 0, 0.15);\n",
              "      filter: drop-shadow(0px 1px 2px rgba(0, 0, 0, 0.3));\n",
              "      fill: #FFFFFF;\n",
              "    }\n",
              "  </style>\n",
              "\n",
              "      <script>\n",
              "        const buttonEl =\n",
              "          document.querySelector('#df-f820286c-bbe0-4ede-a188-0bc49b012cf6 button.colab-df-convert');\n",
              "        buttonEl.style.display =\n",
              "          google.colab.kernel.accessAllowed ? 'block' : 'none';\n",
              "\n",
              "        async function convertToInteractive(key) {\n",
              "          const element = document.querySelector('#df-f820286c-bbe0-4ede-a188-0bc49b012cf6');\n",
              "          const dataTable =\n",
              "            await google.colab.kernel.invokeFunction('convertToInteractive',\n",
              "                                                     [key], {});\n",
              "          if (!dataTable) return;\n",
              "\n",
              "          const docLinkHtml = 'Like what you see? Visit the ' +\n",
              "            '<a target=\"_blank\" href=https://colab.research.google.com/notebooks/data_table.ipynb>data table notebook</a>'\n",
              "            + ' to learn more about interactive tables.';\n",
              "          element.innerHTML = '';\n",
              "          dataTable['output_type'] = 'display_data';\n",
              "          await google.colab.output.renderOutput(dataTable, element);\n",
              "          const docLink = document.createElement('div');\n",
              "          docLink.innerHTML = docLinkHtml;\n",
              "          element.appendChild(docLink);\n",
              "        }\n",
              "      </script>\n",
              "    </div>\n",
              "  </div>\n",
              "  "
            ]
          },
          "metadata": {},
          "execution_count": 4
        }
      ]
    },
    {
      "cell_type": "code",
      "source": [
        "print(f\"Existen {len(df['variety'].value_counts())} variedades de vinos\")"
      ],
      "metadata": {
        "colab": {
          "base_uri": "https://localhost:8080/"
        },
        "id": "78ag45ym15Hn",
        "outputId": "c1c28abe-ea8a-41a2-e3be-df728b4c8128"
      },
      "execution_count": 5,
      "outputs": [
        {
          "output_type": "stream",
          "name": "stdout",
          "text": [
            "Existen 257 variedades de vinos\n"
          ]
        }
      ]
    },
    {
      "cell_type": "code",
      "source": [
        "df_variety = df['variety'].value_counts().rename_axis('variety').to_frame('counts')\n",
        "df_variety"
      ],
      "metadata": {
        "colab": {
          "base_uri": "https://localhost:8080/",
          "height": 455
        },
        "id": "pQZy517G2Gqr",
        "outputId": "1af4a301-5003-49af-e872-ab117c7e8cda"
      },
      "execution_count": 6,
      "outputs": [
        {
          "output_type": "execute_result",
          "data": {
            "text/plain": [
              "                    counts\n",
              "variety                   \n",
              "cabernet sauvignon    2215\n",
              "chardonnay            1030\n",
              "shiraz syrah           802\n",
              "pinot noir             714\n",
              "merlot                 519\n",
              "...                    ...\n",
              "symphony                 1\n",
              "moscatel                 1\n",
              "cencibel                 1\n",
              "treixadura               1\n",
              "tocai friulano           1\n",
              "\n",
              "[257 rows x 1 columns]"
            ],
            "text/html": [
              "\n",
              "  <div id=\"df-2d90155a-0258-4c09-97e7-62c1907c22cf\">\n",
              "    <div class=\"colab-df-container\">\n",
              "      <div>\n",
              "<style scoped>\n",
              "    .dataframe tbody tr th:only-of-type {\n",
              "        vertical-align: middle;\n",
              "    }\n",
              "\n",
              "    .dataframe tbody tr th {\n",
              "        vertical-align: top;\n",
              "    }\n",
              "\n",
              "    .dataframe thead th {\n",
              "        text-align: right;\n",
              "    }\n",
              "</style>\n",
              "<table border=\"1\" class=\"dataframe\">\n",
              "  <thead>\n",
              "    <tr style=\"text-align: right;\">\n",
              "      <th></th>\n",
              "      <th>counts</th>\n",
              "    </tr>\n",
              "    <tr>\n",
              "      <th>variety</th>\n",
              "      <th></th>\n",
              "    </tr>\n",
              "  </thead>\n",
              "  <tbody>\n",
              "    <tr>\n",
              "      <th>cabernet sauvignon</th>\n",
              "      <td>2215</td>\n",
              "    </tr>\n",
              "    <tr>\n",
              "      <th>chardonnay</th>\n",
              "      <td>1030</td>\n",
              "    </tr>\n",
              "    <tr>\n",
              "      <th>shiraz syrah</th>\n",
              "      <td>802</td>\n",
              "    </tr>\n",
              "    <tr>\n",
              "      <th>pinot noir</th>\n",
              "      <td>714</td>\n",
              "    </tr>\n",
              "    <tr>\n",
              "      <th>merlot</th>\n",
              "      <td>519</td>\n",
              "    </tr>\n",
              "    <tr>\n",
              "      <th>...</th>\n",
              "      <td>...</td>\n",
              "    </tr>\n",
              "    <tr>\n",
              "      <th>symphony</th>\n",
              "      <td>1</td>\n",
              "    </tr>\n",
              "    <tr>\n",
              "      <th>moscatel</th>\n",
              "      <td>1</td>\n",
              "    </tr>\n",
              "    <tr>\n",
              "      <th>cencibel</th>\n",
              "      <td>1</td>\n",
              "    </tr>\n",
              "    <tr>\n",
              "      <th>treixadura</th>\n",
              "      <td>1</td>\n",
              "    </tr>\n",
              "    <tr>\n",
              "      <th>tocai friulano</th>\n",
              "      <td>1</td>\n",
              "    </tr>\n",
              "  </tbody>\n",
              "</table>\n",
              "<p>257 rows × 1 columns</p>\n",
              "</div>\n",
              "      <button class=\"colab-df-convert\" onclick=\"convertToInteractive('df-2d90155a-0258-4c09-97e7-62c1907c22cf')\"\n",
              "              title=\"Convert this dataframe to an interactive table.\"\n",
              "              style=\"display:none;\">\n",
              "        \n",
              "  <svg xmlns=\"http://www.w3.org/2000/svg\" height=\"24px\"viewBox=\"0 0 24 24\"\n",
              "       width=\"24px\">\n",
              "    <path d=\"M0 0h24v24H0V0z\" fill=\"none\"/>\n",
              "    <path d=\"M18.56 5.44l.94 2.06.94-2.06 2.06-.94-2.06-.94-.94-2.06-.94 2.06-2.06.94zm-11 1L8.5 8.5l.94-2.06 2.06-.94-2.06-.94L8.5 2.5l-.94 2.06-2.06.94zm10 10l.94 2.06.94-2.06 2.06-.94-2.06-.94-.94-2.06-.94 2.06-2.06.94z\"/><path d=\"M17.41 7.96l-1.37-1.37c-.4-.4-.92-.59-1.43-.59-.52 0-1.04.2-1.43.59L10.3 9.45l-7.72 7.72c-.78.78-.78 2.05 0 2.83L4 21.41c.39.39.9.59 1.41.59.51 0 1.02-.2 1.41-.59l7.78-7.78 2.81-2.81c.8-.78.8-2.07 0-2.86zM5.41 20L4 18.59l7.72-7.72 1.47 1.35L5.41 20z\"/>\n",
              "  </svg>\n",
              "      </button>\n",
              "      \n",
              "  <style>\n",
              "    .colab-df-container {\n",
              "      display:flex;\n",
              "      flex-wrap:wrap;\n",
              "      gap: 12px;\n",
              "    }\n",
              "\n",
              "    .colab-df-convert {\n",
              "      background-color: #E8F0FE;\n",
              "      border: none;\n",
              "      border-radius: 50%;\n",
              "      cursor: pointer;\n",
              "      display: none;\n",
              "      fill: #1967D2;\n",
              "      height: 32px;\n",
              "      padding: 0 0 0 0;\n",
              "      width: 32px;\n",
              "    }\n",
              "\n",
              "    .colab-df-convert:hover {\n",
              "      background-color: #E2EBFA;\n",
              "      box-shadow: 0px 1px 2px rgba(60, 64, 67, 0.3), 0px 1px 3px 1px rgba(60, 64, 67, 0.15);\n",
              "      fill: #174EA6;\n",
              "    }\n",
              "\n",
              "    [theme=dark] .colab-df-convert {\n",
              "      background-color: #3B4455;\n",
              "      fill: #D2E3FC;\n",
              "    }\n",
              "\n",
              "    [theme=dark] .colab-df-convert:hover {\n",
              "      background-color: #434B5C;\n",
              "      box-shadow: 0px 1px 3px 1px rgba(0, 0, 0, 0.15);\n",
              "      filter: drop-shadow(0px 1px 2px rgba(0, 0, 0, 0.3));\n",
              "      fill: #FFFFFF;\n",
              "    }\n",
              "  </style>\n",
              "\n",
              "      <script>\n",
              "        const buttonEl =\n",
              "          document.querySelector('#df-2d90155a-0258-4c09-97e7-62c1907c22cf button.colab-df-convert');\n",
              "        buttonEl.style.display =\n",
              "          google.colab.kernel.accessAllowed ? 'block' : 'none';\n",
              "\n",
              "        async function convertToInteractive(key) {\n",
              "          const element = document.querySelector('#df-2d90155a-0258-4c09-97e7-62c1907c22cf');\n",
              "          const dataTable =\n",
              "            await google.colab.kernel.invokeFunction('convertToInteractive',\n",
              "                                                     [key], {});\n",
              "          if (!dataTable) return;\n",
              "\n",
              "          const docLinkHtml = 'Like what you see? Visit the ' +\n",
              "            '<a target=\"_blank\" href=https://colab.research.google.com/notebooks/data_table.ipynb>data table notebook</a>'\n",
              "            + ' to learn more about interactive tables.';\n",
              "          element.innerHTML = '';\n",
              "          dataTable['output_type'] = 'display_data';\n",
              "          await google.colab.output.renderOutput(dataTable, element);\n",
              "          const docLink = document.createElement('div');\n",
              "          docLink.innerHTML = docLinkHtml;\n",
              "          element.appendChild(docLink);\n",
              "        }\n",
              "      </script>\n",
              "    </div>\n",
              "  </div>\n",
              "  "
            ]
          },
          "metadata": {},
          "execution_count": 6
        }
      ]
    },
    {
      "cell_type": "code",
      "source": [
        "df_variety_selected = df_variety[:15]\n",
        "df_variety_selected"
      ],
      "metadata": {
        "colab": {
          "base_uri": "https://localhost:8080/",
          "height": 551
        },
        "id": "2fj-R1CF2QpK",
        "outputId": "d48631cc-0a46-4b8b-fc88-c0936b344aae"
      },
      "execution_count": 7,
      "outputs": [
        {
          "output_type": "execute_result",
          "data": {
            "text/plain": [
              "                    counts\n",
              "variety                   \n",
              "cabernet sauvignon    2215\n",
              "chardonnay            1030\n",
              "shiraz syrah           802\n",
              "pinot noir             714\n",
              "merlot                 519\n",
              "sangiovese             431\n",
              "nebbiolo               339\n",
              "sauvignon blanc        300\n",
              "tempranillo            281\n",
              "touriga nacional       258\n",
              "malbec                 222\n",
              "cabernet franc         219\n",
              "grenache               178\n",
              "riesling               157\n",
              "zinfandel              157"
            ],
            "text/html": [
              "\n",
              "  <div id=\"df-dad51d60-5a03-41cd-bdd0-a365a6411596\">\n",
              "    <div class=\"colab-df-container\">\n",
              "      <div>\n",
              "<style scoped>\n",
              "    .dataframe tbody tr th:only-of-type {\n",
              "        vertical-align: middle;\n",
              "    }\n",
              "\n",
              "    .dataframe tbody tr th {\n",
              "        vertical-align: top;\n",
              "    }\n",
              "\n",
              "    .dataframe thead th {\n",
              "        text-align: right;\n",
              "    }\n",
              "</style>\n",
              "<table border=\"1\" class=\"dataframe\">\n",
              "  <thead>\n",
              "    <tr style=\"text-align: right;\">\n",
              "      <th></th>\n",
              "      <th>counts</th>\n",
              "    </tr>\n",
              "    <tr>\n",
              "      <th>variety</th>\n",
              "      <th></th>\n",
              "    </tr>\n",
              "  </thead>\n",
              "  <tbody>\n",
              "    <tr>\n",
              "      <th>cabernet sauvignon</th>\n",
              "      <td>2215</td>\n",
              "    </tr>\n",
              "    <tr>\n",
              "      <th>chardonnay</th>\n",
              "      <td>1030</td>\n",
              "    </tr>\n",
              "    <tr>\n",
              "      <th>shiraz syrah</th>\n",
              "      <td>802</td>\n",
              "    </tr>\n",
              "    <tr>\n",
              "      <th>pinot noir</th>\n",
              "      <td>714</td>\n",
              "    </tr>\n",
              "    <tr>\n",
              "      <th>merlot</th>\n",
              "      <td>519</td>\n",
              "    </tr>\n",
              "    <tr>\n",
              "      <th>sangiovese</th>\n",
              "      <td>431</td>\n",
              "    </tr>\n",
              "    <tr>\n",
              "      <th>nebbiolo</th>\n",
              "      <td>339</td>\n",
              "    </tr>\n",
              "    <tr>\n",
              "      <th>sauvignon blanc</th>\n",
              "      <td>300</td>\n",
              "    </tr>\n",
              "    <tr>\n",
              "      <th>tempranillo</th>\n",
              "      <td>281</td>\n",
              "    </tr>\n",
              "    <tr>\n",
              "      <th>touriga nacional</th>\n",
              "      <td>258</td>\n",
              "    </tr>\n",
              "    <tr>\n",
              "      <th>malbec</th>\n",
              "      <td>222</td>\n",
              "    </tr>\n",
              "    <tr>\n",
              "      <th>cabernet franc</th>\n",
              "      <td>219</td>\n",
              "    </tr>\n",
              "    <tr>\n",
              "      <th>grenache</th>\n",
              "      <td>178</td>\n",
              "    </tr>\n",
              "    <tr>\n",
              "      <th>riesling</th>\n",
              "      <td>157</td>\n",
              "    </tr>\n",
              "    <tr>\n",
              "      <th>zinfandel</th>\n",
              "      <td>157</td>\n",
              "    </tr>\n",
              "  </tbody>\n",
              "</table>\n",
              "</div>\n",
              "      <button class=\"colab-df-convert\" onclick=\"convertToInteractive('df-dad51d60-5a03-41cd-bdd0-a365a6411596')\"\n",
              "              title=\"Convert this dataframe to an interactive table.\"\n",
              "              style=\"display:none;\">\n",
              "        \n",
              "  <svg xmlns=\"http://www.w3.org/2000/svg\" height=\"24px\"viewBox=\"0 0 24 24\"\n",
              "       width=\"24px\">\n",
              "    <path d=\"M0 0h24v24H0V0z\" fill=\"none\"/>\n",
              "    <path d=\"M18.56 5.44l.94 2.06.94-2.06 2.06-.94-2.06-.94-.94-2.06-.94 2.06-2.06.94zm-11 1L8.5 8.5l.94-2.06 2.06-.94-2.06-.94L8.5 2.5l-.94 2.06-2.06.94zm10 10l.94 2.06.94-2.06 2.06-.94-2.06-.94-.94-2.06-.94 2.06-2.06.94z\"/><path d=\"M17.41 7.96l-1.37-1.37c-.4-.4-.92-.59-1.43-.59-.52 0-1.04.2-1.43.59L10.3 9.45l-7.72 7.72c-.78.78-.78 2.05 0 2.83L4 21.41c.39.39.9.59 1.41.59.51 0 1.02-.2 1.41-.59l7.78-7.78 2.81-2.81c.8-.78.8-2.07 0-2.86zM5.41 20L4 18.59l7.72-7.72 1.47 1.35L5.41 20z\"/>\n",
              "  </svg>\n",
              "      </button>\n",
              "      \n",
              "  <style>\n",
              "    .colab-df-container {\n",
              "      display:flex;\n",
              "      flex-wrap:wrap;\n",
              "      gap: 12px;\n",
              "    }\n",
              "\n",
              "    .colab-df-convert {\n",
              "      background-color: #E8F0FE;\n",
              "      border: none;\n",
              "      border-radius: 50%;\n",
              "      cursor: pointer;\n",
              "      display: none;\n",
              "      fill: #1967D2;\n",
              "      height: 32px;\n",
              "      padding: 0 0 0 0;\n",
              "      width: 32px;\n",
              "    }\n",
              "\n",
              "    .colab-df-convert:hover {\n",
              "      background-color: #E2EBFA;\n",
              "      box-shadow: 0px 1px 2px rgba(60, 64, 67, 0.3), 0px 1px 3px 1px rgba(60, 64, 67, 0.15);\n",
              "      fill: #174EA6;\n",
              "    }\n",
              "\n",
              "    [theme=dark] .colab-df-convert {\n",
              "      background-color: #3B4455;\n",
              "      fill: #D2E3FC;\n",
              "    }\n",
              "\n",
              "    [theme=dark] .colab-df-convert:hover {\n",
              "      background-color: #434B5C;\n",
              "      box-shadow: 0px 1px 3px 1px rgba(0, 0, 0, 0.15);\n",
              "      filter: drop-shadow(0px 1px 2px rgba(0, 0, 0, 0.3));\n",
              "      fill: #FFFFFF;\n",
              "    }\n",
              "  </style>\n",
              "\n",
              "      <script>\n",
              "        const buttonEl =\n",
              "          document.querySelector('#df-dad51d60-5a03-41cd-bdd0-a365a6411596 button.colab-df-convert');\n",
              "        buttonEl.style.display =\n",
              "          google.colab.kernel.accessAllowed ? 'block' : 'none';\n",
              "\n",
              "        async function convertToInteractive(key) {\n",
              "          const element = document.querySelector('#df-dad51d60-5a03-41cd-bdd0-a365a6411596');\n",
              "          const dataTable =\n",
              "            await google.colab.kernel.invokeFunction('convertToInteractive',\n",
              "                                                     [key], {});\n",
              "          if (!dataTable) return;\n",
              "\n",
              "          const docLinkHtml = 'Like what you see? Visit the ' +\n",
              "            '<a target=\"_blank\" href=https://colab.research.google.com/notebooks/data_table.ipynb>data table notebook</a>'\n",
              "            + ' to learn more about interactive tables.';\n",
              "          element.innerHTML = '';\n",
              "          dataTable['output_type'] = 'display_data';\n",
              "          await google.colab.output.renderOutput(dataTable, element);\n",
              "          const docLink = document.createElement('div');\n",
              "          docLink.innerHTML = docLinkHtml;\n",
              "          element.appendChild(docLink);\n",
              "        }\n",
              "      </script>\n",
              "    </div>\n",
              "  </div>\n",
              "  "
            ]
          },
          "metadata": {},
          "execution_count": 7
        }
      ]
    },
    {
      "cell_type": "code",
      "source": [
        "list_variety = list(df_variety_selected.index)\n",
        "\n",
        "def transform_variety(variety, list_variety):\n",
        "  if variety in list_variety:\n",
        "    return variety\n",
        "  else:\n",
        "    return \"other\"\n",
        "\n",
        "df['variety'] = df.progress_apply(lambda x:transform_variety(x.variety,list_variety), axis=1)"
      ],
      "metadata": {
        "colab": {
          "base_uri": "https://localhost:8080/"
        },
        "id": "Y87Ezvyb2Upx",
        "outputId": "f5e99322-6618-4615-ab00-c880878d7994"
      },
      "execution_count": 8,
      "outputs": [
        {
          "output_type": "stream",
          "name": "stderr",
          "text": [
            "100%|██████████| 9878/9878 [00:01<00:00, 5386.64it/s]\n"
          ]
        }
      ]
    },
    {
      "cell_type": "markdown",
      "source": [
        "Aplicamos Label_encoder a variable objetivo"
      ],
      "metadata": {
        "id": "cxa-imSb2jaA"
      }
    },
    {
      "cell_type": "code",
      "source": [
        "le = LabelEncoder()\n",
        "variedad = le.fit_transform(df['variety'])"
      ],
      "metadata": {
        "id": "kP_wcc2A2grW"
      },
      "execution_count": 9,
      "outputs": []
    },
    {
      "cell_type": "markdown",
      "source": [
        "Seleccionamos variables :"
      ],
      "metadata": {
        "id": "AUIBUY3s53Ag"
      }
    },
    {
      "cell_type": "code",
      "source": [
        "X = df.iloc[:,15:].values\n",
        "y = variedad"
      ],
      "metadata": {
        "id": "hHpbu0fb2u6I"
      },
      "execution_count": 10,
      "outputs": []
    },
    {
      "cell_type": "markdown",
      "source": [
        "**1. KNN con datos originales (sin escalar ni reduccion de dimensionalidad)**"
      ],
      "metadata": {
        "id": "GEu9LMJokVj_"
      }
    },
    {
      "cell_type": "code",
      "source": [
        "X_train, X_test, y_train, y_test = train_test_split(X, y, test_size = 0.3, random_state=42)"
      ],
      "metadata": {
        "id": "7QLAEWpfkU5K"
      },
      "execution_count": 11,
      "outputs": []
    },
    {
      "cell_type": "code",
      "source": [
        "X_train.shape, X_test.shape, y_train.shape, y_test.shape"
      ],
      "metadata": {
        "colab": {
          "base_uri": "https://localhost:8080/"
        },
        "id": "sHww4zZ7knN8",
        "outputId": "b230fbf6-f3f1-4957-c98c-75ccc65dffdc"
      },
      "execution_count": 12,
      "outputs": [
        {
          "output_type": "execute_result",
          "data": {
            "text/plain": [
              "((6914, 4096), (2964, 4096), (6914,), (2964,))"
            ]
          },
          "metadata": {},
          "execution_count": 12
        }
      ]
    },
    {
      "cell_type": "code",
      "source": [
        "classifier_knn_original = KNeighborsClassifier() #por defecto"
      ],
      "metadata": {
        "id": "wvrCRHYXkoz_"
      },
      "execution_count": 13,
      "outputs": []
    },
    {
      "cell_type": "code",
      "source": [
        "classifier_knn_original = classifier_knn_original.fit(X_train, y_train)"
      ],
      "metadata": {
        "id": "blWHS5vUk3hg"
      },
      "execution_count": 14,
      "outputs": []
    },
    {
      "cell_type": "code",
      "source": [
        "y_pred_original = classifier_knn_original.predict(X_test)"
      ],
      "metadata": {
        "id": "u1fVe6SRlATt"
      },
      "execution_count": 15,
      "outputs": []
    },
    {
      "cell_type": "code",
      "source": [
        "result_original = confusion_matrix(y_test, y_pred_original)\n",
        "\n",
        "print('Confusion Matrix - Clasificador KNN con data original')\n",
        "\n",
        "print(result_original)\n",
        "print('Accuracy:', accuracy_score(y_test, y_pred_original))"
      ],
      "metadata": {
        "colab": {
          "base_uri": "https://localhost:8080/"
        },
        "id": "MQH1P1a1lIFT",
        "outputId": "aa2153b7-c059-4ea3-e1f9-00df121c7646"
      },
      "execution_count": 30,
      "outputs": [
        {
          "output_type": "stream",
          "name": "stdout",
          "text": [
            "Confusion Matrix - Clasificador KNN con data original\n",
            "[[ 37   5   5   1   1   3   2   7   5   0   1   0   2   0   0   0]\n",
            " [ 14 508   4   2  15  31  17  54   6   0  24   0  18  16   9   2]\n",
            " [  0  10 184   7   2   1   9  49  15   3   1   5   6   4   2   0]\n",
            " [  0   6   1  13   0   3   0   7   7   0   0   0  10   0   3   0]\n",
            " [  3  33   0   1   8   5   0   6   0   0   1   0   1   0   1   0]\n",
            " [  2  77   0   1   4  52   5  16   1   0   7   1   4   0   3   1]\n",
            " [  3  18   0   1   2   6  44  10   6   0   1   1   6   0   3   0]\n",
            " [  9 116  93   5  10  10  21 192  28   5  11  17  30   1  10   4]\n",
            " [  1  12  34  13   2   3  13  26  94   0   2   1  19   1   3   0]\n",
            " [  0   2  14   1   0   0   0  18   4   3   0   0   1   1   0   0]\n",
            " [  3  46   4   1   2  12   2  21   1   0  27   0   4   1   3   3]\n",
            " [  0  17  16   0   1   0   1  31   6   1   1  17   2   0   0   1]\n",
            " [  4  44   6  11   6   8  12  36  23   0   4   2  74   3   2   2]\n",
            " [  1  33   1   0   2   7   1  10   4   0   1   0   4  15   4   0]\n",
            " [  3  21   1   0   4   0   2  10   3   0   2   0   4   1  25   0]\n",
            " [  1  20   1   0   0   1   2   6   0   0   1   0   5   0   1   5]]\n",
            "Accuracy: 0.43792172739541163\n"
          ]
        }
      ]
    },
    {
      "cell_type": "code",
      "source": [
        "print(classification_report(y_test,y_pred_original,target_names=le.classes_))"
      ],
      "metadata": {
        "colab": {
          "base_uri": "https://localhost:8080/"
        },
        "id": "8Ybg6mndlZv8",
        "outputId": "35f13fd7-4bff-4452-d573-dadf83ed577b"
      },
      "execution_count": 17,
      "outputs": [
        {
          "output_type": "stream",
          "name": "stdout",
          "text": [
            "                    precision    recall  f1-score   support\n",
            "\n",
            "    cabernet franc       0.46      0.54      0.49        69\n",
            "cabernet sauvignon       0.52      0.71      0.60       720\n",
            "        chardonnay       0.51      0.62      0.56       298\n",
            "          grenache       0.23      0.26      0.24        50\n",
            "            malbec       0.14      0.14      0.14        59\n",
            "            merlot       0.37      0.30      0.33       174\n",
            "          nebbiolo       0.34      0.44      0.38       101\n",
            "             other       0.38      0.34      0.36       562\n",
            "        pinot noir       0.46      0.42      0.44       224\n",
            "          riesling       0.25      0.07      0.11        44\n",
            "        sangiovese       0.32      0.21      0.25       130\n",
            "   sauvignon blanc       0.39      0.18      0.25        94\n",
            "      shiraz syrah       0.39      0.31      0.35       237\n",
            "       tempranillo       0.35      0.18      0.24        83\n",
            "  touriga nacional       0.36      0.33      0.34        76\n",
            "         zinfandel       0.28      0.12      0.16        43\n",
            "\n",
            "          accuracy                           0.44      2964\n",
            "         macro avg       0.36      0.32      0.33      2964\n",
            "      weighted avg       0.42      0.44      0.42      2964\n",
            "\n"
          ]
        }
      ]
    },
    {
      "cell_type": "code",
      "source": [
        "print(\"Test accuracy: %.3f\" % classifier_knn_original.score(X_test, y_test))"
      ],
      "metadata": {
        "colab": {
          "base_uri": "https://localhost:8080/"
        },
        "id": "74ZDkkwDleM9",
        "outputId": "48e420a6-7c59-48cb-a666-600d42105bf1"
      },
      "execution_count": 18,
      "outputs": [
        {
          "output_type": "stream",
          "name": "stdout",
          "text": [
            "Test accuracy: 0.438\n"
          ]
        }
      ]
    },
    {
      "cell_type": "markdown",
      "source": [
        "**2. KNN escalando datos y utilizando PCA**\n",
        "\n",
        "Escalado de datos"
      ],
      "metadata": {
        "id": "xjQCBQ6x2z75"
      }
    },
    {
      "cell_type": "code",
      "source": [
        "#normalizamos los datos\n",
        "scaler=StandardScaler()\n",
        "\n",
        "scaler.fit(X) # calculo la media para poder hacer la transformacion\n",
        "X_scaled=scaler.transform(X)# Ahora si, escalo los datos y los normalizo"
      ],
      "metadata": {
        "id": "HFjLXrAT26AI"
      },
      "execution_count": 11,
      "outputs": []
    },
    {
      "cell_type": "markdown",
      "source": [
        "Busqueda de n_components PCA\n",
        "\n",
        "n_components=100"
      ],
      "metadata": {
        "id": "O67CWzhh3tyt"
      }
    },
    {
      "cell_type": "code",
      "source": [
        "#Instanciamos objeto PCA y aplicamos\n",
        "pca=PCA(n_components=100) \n",
        "pca.fit(X_scaled) # obtener los componentes principales\n",
        "X_pca=pca.transform(X_scaled) # convertimos nuestros datos con las nuevas dimensiones de PCA\n",
        " \n",
        "#print(\"shape of X_pca\", X_pca.shape)\n",
        "expl = pca.explained_variance_ratio_\n",
        "#print(expl)\n",
        "print('suma:',sum(expl[0:100]))\n",
        "\n",
        " \n",
        "#graficamos el acumulado de varianza explicada en las nuevas dimensiones\n",
        "plt.plot(np.cumsum(pca.explained_variance_ratio_))\n",
        "plt.xlabel('number of components')\n",
        "plt.ylabel('cumulative explained variance')\n",
        "plt.show()"
      ],
      "metadata": {
        "colab": {
          "base_uri": "https://localhost:8080/",
          "height": 296
        },
        "id": "RmmbNLiw3SIf",
        "outputId": "08af264d-9689-477c-984a-11badac701a5"
      },
      "execution_count": 20,
      "outputs": [
        {
          "output_type": "stream",
          "name": "stdout",
          "text": [
            "suma: 0.5271888027516296\n"
          ]
        },
        {
          "output_type": "display_data",
          "data": {
            "text/plain": [
              "<Figure size 432x288 with 1 Axes>"
            ],
            "image/png": "[encoded data removed]"
          },
          "metadata": {
            "needs_background": "light"
          }
        }
      ]
    },
    {
      "cell_type": "markdown",
      "source": [
        "n_components = 500"
      ],
      "metadata": {
        "id": "skBwFktd3_9P"
      }
    },
    {
      "cell_type": "code",
      "source": [
        "#Instanciamos objeto PCA y aplicamos\n",
        "pca=PCA(n_components=500) \n",
        "pca.fit(X_scaled) # obtener los componentes principales\n",
        "X_pca=pca.transform(X_scaled) # convertimos nuestros datos con las nuevas dimensiones de PCA\n",
        " \n",
        "#print(\"shape of X_pca\", X_pca.shape)\n",
        "expl = pca.explained_variance_ratio_\n",
        "#print(expl)\n",
        "print('suma:',sum(expl[0:500]))\n",
        "\n",
        " \n",
        "#graficamos el acumulado de varianza explicada en las nuevas dimensiones\n",
        "plt.plot(np.cumsum(pca.explained_variance_ratio_))\n",
        "plt.xlabel('number of components')\n",
        "plt.ylabel('cumulative explained variance')\n",
        "plt.show()"
      ],
      "metadata": {
        "colab": {
          "base_uri": "https://localhost:8080/",
          "height": 296
        },
        "id": "sjCmH0Vl4ED4",
        "outputId": "16956abd-2605-403d-f277-4e807534213e"
      },
      "execution_count": 21,
      "outputs": [
        {
          "output_type": "stream",
          "name": "stdout",
          "text": [
            "suma: 0.7814950749204196\n"
          ]
        },
        {
          "output_type": "display_data",
          "data": {
            "text/plain": [
              "<Figure size 432x288 with 1 Axes>"
            ],
            "image/png": "[encoded data removed]"
          },
          "metadata": {
            "needs_background": "light"
          }
        }
      ]
    },
    {
      "cell_type": "markdown",
      "source": [
        "n_components = 1000"
      ],
      "metadata": {
        "id": "a4axm21q4fCS"
      }
    },
    {
      "cell_type": "code",
      "source": [
        "#Instanciamos objeto PCA y aplicamos\n",
        "pca=PCA(n_components=1000) \n",
        "pca.fit(X_scaled) # obtener los componentes principales\n",
        "X_pca=pca.transform(X_scaled) # convertimos nuestros datos con las nuevas dimensiones de PCA\n",
        " \n",
        "#print(\"shape of X_pca\", X_pca.shape)\n",
        "expl = pca.explained_variance_ratio_\n",
        "#print(expl)\n",
        "print('suma:',sum(expl[0:1000]))\n",
        "\n",
        " \n",
        "#graficamos el acumulado de varianza explicada en las nuevas dimensiones\n",
        "plt.plot(np.cumsum(pca.explained_variance_ratio_))\n",
        "plt.xlabel('number of components')\n",
        "plt.ylabel('cumulative explained variance')\n",
        "plt.show()"
      ],
      "metadata": {
        "colab": {
          "base_uri": "https://localhost:8080/",
          "height": 296
        },
        "id": "zIwndZas4jLJ",
        "outputId": "9dbd0762-90d6-4484-e616-d533b7f5f619"
      },
      "execution_count": 22,
      "outputs": [
        {
          "output_type": "stream",
          "name": "stdout",
          "text": [
            "suma: 0.8897302235718954\n"
          ]
        },
        {
          "output_type": "display_data",
          "data": {
            "text/plain": [
              "<Figure size 432x288 with 1 Axes>"
            ],
            "image/png": "[encoded data removed]"
          },
          "metadata": {
            "needs_background": "light"
          }
        }
      ]
    },
    {
      "cell_type": "markdown",
      "source": [
        "Considerando que con n_components = 1000 se explica cerca del 90% de la varianza se realiza reduccion de dimensionalidad utilizando PCA."
      ],
      "metadata": {
        "id": "zhGeBVfw5d9G"
      }
    },
    {
      "cell_type": "code",
      "source": [
        "pca = PCA(n_components=1000, random_state=22)\n",
        "pca.fit(X_scaled)\n",
        "X = pca.transform(X_scaled)\n"
      ],
      "metadata": {
        "id": "_V8zONB6C6bj"
      },
      "execution_count": 12,
      "outputs": []
    },
    {
      "cell_type": "code",
      "source": [
        "X_train, X_test, y_train, y_test = train_test_split(X, y, test_size = 0.3, random_state=42)"
      ],
      "metadata": {
        "id": "O8IICu_A5in5"
      },
      "execution_count": 40,
      "outputs": []
    },
    {
      "cell_type": "code",
      "source": [
        "X_train.shape, X_test.shape, y_train.shape, y_test.shape"
      ],
      "metadata": {
        "colab": {
          "base_uri": "https://localhost:8080/"
        },
        "id": "-37mf8HSDXwu",
        "outputId": "728afb7c-ab91-4cb9-b50b-a2f8d59ab488"
      },
      "execution_count": 24,
      "outputs": [
        {
          "output_type": "execute_result",
          "data": {
            "text/plain": [
              "((6914, 4096), (2964, 4096), (6914,), (2964,))"
            ]
          },
          "metadata": {},
          "execution_count": 24
        }
      ]
    },
    {
      "cell_type": "code",
      "source": [
        "param_grid =[\n",
        "              {'weights':['uniform'],\n",
        "               'n_neighbors':[3,5]\n",
        "              },\n",
        "              {\n",
        "               'weights':['distance'],\n",
        "               'n_neighbors':[3,5],\n",
        "               'p':[3,5]\n",
        "              }\n",
        "             ]"
      ],
      "metadata": {
        "id": "kclF7fGK6xbp"
      },
      "execution_count": 43,
      "outputs": []
    },
    {
      "cell_type": "code",
      "source": [
        "gs_knn = GridSearchCV(estimator=KNeighborsClassifier(),\n",
        "                      param_grid = param_grid,\n",
        "                      scoring='accuracy',\n",
        "                      cv=2,\n",
        "                      verbose=2,\n",
        "                      n_jobs=-1)"
      ],
      "metadata": {
        "id": "vDNd0DaP6hWQ"
      },
      "execution_count": 44,
      "outputs": []
    },
    {
      "cell_type": "code",
      "source": [
        "gs_knn = gs_knn.fit(X_train, y_train)"
      ],
      "metadata": {
        "colab": {
          "base_uri": "https://localhost:8080/"
        },
        "id": "HT8iDAF56Zna",
        "outputId": "6a6564f6-8b7a-4ff2-cebe-8366c89f929d"
      },
      "execution_count": 45,
      "outputs": [
        {
          "output_type": "stream",
          "name": "stdout",
          "text": [
            "Fitting 2 folds for each of 6 candidates, totalling 12 fits\n"
          ]
        }
      ]
    },
    {
      "cell_type": "markdown",
      "source": [
        "***best_params: {'n_neighbors': 5, 'p': 3, 'weights': 'distance'}***"
      ],
      "metadata": {
        "id": "NvuwOtQInjqC"
      }
    },
    {
      "cell_type": "code",
      "source": [
        "classifier_knn_pca = KNeighborsClassifier(n_neighbors=5, p=3, weights='distance')"
      ],
      "metadata": {
        "id": "uuq2JH-mn1Ux"
      },
      "execution_count": 26,
      "outputs": []
    },
    {
      "cell_type": "code",
      "source": [
        "classifier_knn_pca.fit(X_train, y_train)"
      ],
      "metadata": {
        "colab": {
          "base_uri": "https://localhost:8080/"
        },
        "id": "Eef-0S-RoKKU",
        "outputId": "fb98fbe0-9760-4b1a-deaa-81304a7980d1"
      },
      "execution_count": 27,
      "outputs": [
        {
          "output_type": "execute_result",
          "data": {
            "text/plain": [
              "KNeighborsClassifier(p=3, weights='distance')"
            ]
          },
          "metadata": {},
          "execution_count": 27
        }
      ]
    },
    {
      "cell_type": "code",
      "source": [
        "y_pred_pca = classifier_knn_pca.predict(X_test)"
      ],
      "metadata": {
        "id": "KEWZOBijoX5I"
      },
      "execution_count": 28,
      "outputs": []
    },
    {
      "cell_type": "code",
      "source": [
        "result_pca = confusion_matrix(y_test, y_pred_pca)\n",
        "\n",
        "print('Confusion Matrix - Clasificador KNN Escaladao y PCA optimizado')\n",
        "\n",
        "print(result_pca)\n",
        "print('Accuracy:', accuracy_score(y_test, y_pred_pca))"
      ],
      "metadata": {
        "colab": {
          "base_uri": "https://localhost:8080/"
        },
        "id": "hYjizOAVoicx",
        "outputId": "1abeab37-c4b0-4e6a-dfb2-e9b00b0ee048"
      },
      "execution_count": 31,
      "outputs": [
        {
          "output_type": "stream",
          "name": "stdout",
          "text": [
            "Confusion Matrix - Clasificador KNN Escaladao y PCA optimizado\n",
            "[[ 40   3   2   1   0   1   1   8   6   0   1   1   4   0   1   0]\n",
            " [  8 522   5   4  12  24  11  54  11   1  12   2  26  12   9   7]\n",
            " [  0   7 171   4   3   1   7  61  19   2   2   8   7   3   2   1]\n",
            " [  0   4   1  22   0   4   0   7   7   0   0   0   4   0   1   0]\n",
            " [  2  28   0   1  11   4   0   7   0   0   1   0   4   0   0   1]\n",
            " [  1  52   0   2   2  75   2  14   2   0   8   1   8   2   2   3]\n",
            " [  1   9   0   1   2   3  60  11   6   0   0   1   6   0   1   0]\n",
            " [  3  78  68   3   7  12  17 231  40   5  17  21  43   3  10   4]\n",
            " [  0   8  31  11   2   3   8  32 101   1   1   1  20   1   3   1]\n",
            " [  0   2   9   1   0   1   0  15   5   8   0   0   2   1   0   0]\n",
            " [  1  27   0   1   1   6   3  22   2   0  50   0   4   5   5   3]\n",
            " [  0  12  16   0   1   1   0  26   7   0   1  26   2   0   0   2]\n",
            " [  3  35   5   6   3  10   7  35  20   0   6   2 100   3   0   2]\n",
            " [  1  16   1   0   2   6   1  10   5   0   3   0   7  28   3   0]\n",
            " [  2  10   1   0   5   0   2   9   4   0   2   0   2   2  37   0]\n",
            " [  2  13   1   0   0   1   1   7   0   0   1   0   9   0   1   7]]\n",
            "Accuracy: 0.502361673414305\n"
          ]
        }
      ]
    },
    {
      "cell_type": "code",
      "source": [
        "print(classification_report(y_test,y_pred_pca,target_names=le.classes_))"
      ],
      "metadata": {
        "colab": {
          "base_uri": "https://localhost:8080/"
        },
        "id": "HamY6JwTo5Nw",
        "outputId": "89084f15-cfc7-4f33-d1f3-4ac691844a3c"
      },
      "execution_count": 32,
      "outputs": [
        {
          "output_type": "stream",
          "name": "stdout",
          "text": [
            "                    precision    recall  f1-score   support\n",
            "\n",
            "    cabernet franc       0.62      0.58      0.60        69\n",
            "cabernet sauvignon       0.63      0.72      0.68       720\n",
            "        chardonnay       0.55      0.57      0.56       298\n",
            "          grenache       0.39      0.44      0.41        50\n",
            "            malbec       0.22      0.19      0.20        59\n",
            "            merlot       0.49      0.43      0.46       174\n",
            "          nebbiolo       0.50      0.59      0.54       101\n",
            "             other       0.42      0.41      0.42       562\n",
            "        pinot noir       0.43      0.45      0.44       224\n",
            "          riesling       0.47      0.18      0.26        44\n",
            "        sangiovese       0.48      0.38      0.43       130\n",
            "   sauvignon blanc       0.41      0.28      0.33        94\n",
            "      shiraz syrah       0.40      0.42      0.41       237\n",
            "       tempranillo       0.47      0.34      0.39        83\n",
            "  touriga nacional       0.49      0.49      0.49        76\n",
            "         zinfandel       0.23      0.16      0.19        43\n",
            "\n",
            "          accuracy                           0.50      2964\n",
            "         macro avg       0.45      0.42      0.43      2964\n",
            "      weighted avg       0.49      0.50      0.50      2964\n",
            "\n"
          ]
        }
      ]
    },
    {
      "cell_type": "code",
      "source": [
        "print(\"Test accuracy: %.3f\" % classifier_knn_pca.score(X_test, y_test))"
      ],
      "metadata": {
        "colab": {
          "base_uri": "https://localhost:8080/"
        },
        "id": "RrCifW34o9ir",
        "outputId": "3e6f09a0-d288-42d4-93b9-a6e4b737375b"
      },
      "execution_count": 33,
      "outputs": [
        {
          "output_type": "stream",
          "name": "stdout",
          "text": [
            "Test accuracy: 0.502\n"
          ]
        }
      ]
    },
    {
      "cell_type": "markdown",
      "source": [
        "Validacion cruzada anidada:"
      ],
      "metadata": {
        "id": "JB9appR1e-4I"
      }
    },
    {
      "cell_type": "code",
      "source": [
        "#scores = cross_val_score(gs_knn,X_train,y_train, scoring='accuracy',cv=5)\n",
        "#print('CV accuracy: %3.f +/-' % (np.mean(scores), np.std(scores)))"
      ],
      "metadata": {
        "id": "fqkg7QQnaVes"
      },
      "execution_count": 53,
      "outputs": []
    },
    {
      "cell_type": "markdown",
      "source": [
        "**3. KNN aplicando oversampling**"
      ],
      "metadata": {
        "id": "zmGeyvphFBEL"
      }
    },
    {
      "cell_type": "code",
      "source": [
        "from imblearn.over_sampling import RandomOverSampler\n",
        "\n",
        "ros = RandomOverSampler(sampling_strategy=\"not majority\")\n",
        "X_res, y_res = ros.fit_resample(X,y)\n",
        "\n",
        "X_train, X_test, y_train, y_test = train_test_split(X_res, y_res, test_size = 0.3, random_state=42)"
      ],
      "metadata": {
        "id": "eHJhpRh2FWil"
      },
      "execution_count": 13,
      "outputs": []
    },
    {
      "cell_type": "code",
      "source": [
        "X_train.shape, X_test.shape, y_train.shape, y_test.shape"
      ],
      "metadata": {
        "colab": {
          "base_uri": "https://localhost:8080/"
        },
        "id": "apmZ9ed2T5CA",
        "outputId": "9a7a33a1-2514-49bd-e061-0597dba8826f"
      },
      "execution_count": 14,
      "outputs": [
        {
          "output_type": "execute_result",
          "data": {
            "text/plain": [
              "((24808, 1000), (10632, 1000), (24808,), (10632,))"
            ]
          },
          "metadata": {},
          "execution_count": 14
        }
      ]
    },
    {
      "cell_type": "code",
      "source": [
        "classifier_knn_balanced = KNeighborsClassifier(n_neighbors=5, p=3, weights='distance')\n",
        "classifier_knn_balanced.fit(X_train, y_train)"
      ],
      "metadata": {
        "colab": {
          "base_uri": "https://localhost:8080/"
        },
        "id": "jHzNYI31gHfr",
        "outputId": "25c2169d-56bc-4af8-c6e2-e505aa0ed75c"
      },
      "execution_count": 15,
      "outputs": [
        {
          "output_type": "execute_result",
          "data": {
            "text/plain": [
              "KNeighborsClassifier(p=3, weights='distance')"
            ]
          },
          "metadata": {},
          "execution_count": 15
        }
      ]
    },
    {
      "cell_type": "code",
      "source": [
        "y_pred_balanced = classifier_knn_balanced.predict(X_test)"
      ],
      "metadata": {
        "id": "4LHXVAOggVaC"
      },
      "execution_count": null,
      "outputs": []
    },
    {
      "cell_type": "code",
      "source": [
        "result_balanced = confusion_matrix(y_test, y_pred_balanced)\n",
        "\n",
        "print('Confusion Matrix - Clasificador KNN optimizado y Balanceado')\n",
        "\n",
        "print(result_balanced)\n",
        "print('Accuracy:', accuracy_score(y_test, y_pred_balanced))"
      ],
      "metadata": {
        "id": "5EqEuxVigb8P"
      },
      "execution_count": null,
      "outputs": []
    },
    {
      "cell_type": "code",
      "source": [
        "print(classification_report(y_test,y_pred_balanced,target_names=le.classes_))"
      ],
      "metadata": {
        "id": "tYoll8pYggGE"
      },
      "execution_count": null,
      "outputs": []
    },
    {
      "cell_type": "code",
      "source": [
        "print(\"Test accuracy: %.3f\" % classifier_knn_balanced.score(X_test, y_test))"
      ],
      "metadata": {
        "id": "qeoRR2kahOPX"
      },
      "execution_count": null,
      "outputs": []
    }
  ]
}