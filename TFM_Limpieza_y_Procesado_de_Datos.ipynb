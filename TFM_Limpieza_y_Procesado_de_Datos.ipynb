{
  "cells": [
    {
      "cell_type": "markdown",
      "metadata": {
        "id": "view-in-github",
        "colab_type": "text"
      },
      "source": [
        "<a href=\"https://colab.research.google.com/github/JALVARADORUIZ/TFM_UB/blob/main/TFM_Limpieza_y_Procesado_de_Datos.ipynb\" target=\"_parent\"><img src=\"https://colab.research.google.com/assets/colab-badge.svg\" alt=\"Open In Colab\"/></a>"
      ]
    },
    {
      "cell_type": "code",
      "execution_count": null,
      "metadata": {
        "id": "oy5--V1kmECm",
        "colab": {
          "base_uri": "https://localhost:8080/"
        },
        "outputId": "bc2b8cba-dbd0-4a2c-fb4a-b806e36ae7f0"
      },
      "outputs": [
        {
          "output_type": "stream",
          "name": "stdout",
          "text": [
            "Looking in indexes: https://pypi.org/simple, https://us-python.pkg.dev/colab-wheels/public/simple/\n",
            "Collecting dataprep\n",
            "  Downloading dataprep-0.4.3-py3-none-any.whl (9.5 MB)\n",
            "\u001b[K     |████████████████████████████████| 9.5 MB 13.4 MB/s \n",
            "\u001b[?25hRequirement already satisfied: tqdm<5.0,>=4.48 in /usr/local/lib/python3.7/dist-packages (from dataprep) (4.64.1)\n",
            "Requirement already satisfied: nltk<4.0.0,>=3.6.7 in /usr/local/lib/python3.7/dist-packages (from dataprep) (3.7)\n",
            "Collecting python-stdnum<2.0,>=1.16\n",
            "  Downloading python_stdnum-1.17-py2.py3-none-any.whl (943 kB)\n",
            "\u001b[K     |████████████████████████████████| 943 kB 66.1 MB/s \n",
            "\u001b[?25hCollecting varname<0.9.0,>=0.8.1\n",
            "  Downloading varname-0.8.3-py3-none-any.whl (21 kB)\n",
            "Requirement already satisfied: pandas<2.0,>=1.1 in /usr/local/lib/python3.7/dist-packages (from dataprep) (1.3.5)\n",
            "Requirement already satisfied: pydantic<2.0,>=1.6 in /usr/local/lib/python3.7/dist-packages (from dataprep) (1.9.2)\n",
            "Requirement already satisfied: numpy<2.0,>=1.21 in /usr/local/lib/python3.7/dist-packages (from dataprep) (1.21.6)\n",
            "Requirement already satisfied: wordcloud<2.0,>=1.8 in /usr/local/lib/python3.7/dist-packages (from dataprep) (1.8.2.2)\n",
            "Collecting python-crfsuite<0.10.0,>=0.9.7\n",
            "  Downloading python_crfsuite-0.9.8-cp37-cp37m-manylinux_2_17_x86_64.manylinux2014_x86_64.whl (965 kB)\n",
            "\u001b[K     |████████████████████████████████| 965 kB 58.0 MB/s \n",
            "\u001b[?25hCollecting python-Levenshtein<0.13.0,>=0.12.2\n",
            "  Downloading python-Levenshtein-0.12.2.tar.gz (50 kB)\n",
            "\u001b[K     |████████████████████████████████| 50 kB 3.9 MB/s \n",
            "\u001b[?25hRequirement already satisfied: bokeh<3,>=2 in /usr/local/lib/python3.7/dist-packages (from dataprep) (2.3.3)\n",
            "Collecting jinja2<4,>=3\n",
            "  Downloading Jinja2-3.1.2-py3-none-any.whl (133 kB)\n",
            "\u001b[K     |████████████████████████████████| 133 kB 63.7 MB/s \n",
            "\u001b[?25hCollecting scipy<=1.7.1\n",
            "  Downloading scipy-1.7.1-cp37-cp37m-manylinux_2_5_x86_64.manylinux1_x86_64.whl (28.5 MB)\n",
            "\u001b[K     |████████████████████████████████| 28.5 MB 1.7 MB/s \n",
            "\u001b[?25hCollecting pystache<0.7.0,>=0.6.0\n",
            "  Downloading pystache-0.6.0.tar.gz (78 kB)\n",
            "\u001b[K     |████████████████████████████████| 78 kB 7.2 MB/s \n",
            "\u001b[?25h  Installing build dependencies ... \u001b[?25l\u001b[?25hdone\n",
            "  Getting requirements to build wheel ... \u001b[?25l\u001b[?25hdone\n",
            "    Preparing wheel metadata ... \u001b[?25l\u001b[?25hdone\n",
            "Collecting dask[array,dataframe,delayed]<2022.0,>=2021.11\n",
            "  Downloading dask-2021.12.0-py3-none-any.whl (1.0 MB)\n",
            "\u001b[K     |████████████████████████████████| 1.0 MB 65.7 MB/s \n",
            "\u001b[?25hCollecting flask_cors<4.0.0,>=3.0.10\n",
            "  Downloading Flask_Cors-3.0.10-py2.py3-none-any.whl (14 kB)\n",
            "Requirement already satisfied: sqlalchemy<2.0.0,>=1.4.32 in /usr/local/lib/python3.7/dist-packages (from dataprep) (1.4.41)\n",
            "Requirement already satisfied: ipywidgets<8.0,>=7.5 in /usr/local/lib/python3.7/dist-packages (from dataprep) (7.7.1)\n",
            "Collecting flask<3,>=2\n",
            "  Downloading Flask-2.2.2-py3-none-any.whl (101 kB)\n",
            "\u001b[K     |████████████████████████████████| 101 kB 10.8 MB/s \n",
            "\u001b[?25hRequirement already satisfied: aiohttp<4.0,>=3.6 in /usr/local/lib/python3.7/dist-packages (from dataprep) (3.8.1)\n",
            "Collecting regex<2022.0.0,>=2021.8.3\n",
            "  Downloading regex-2021.11.10-cp37-cp37m-manylinux_2_17_x86_64.manylinux2014_x86_64.whl (749 kB)\n",
            "\u001b[K     |████████████████████████████████| 749 kB 71.8 MB/s \n",
            "\u001b[?25hCollecting jsonpath-ng<2.0,>=1.5\n",
            "  Downloading jsonpath_ng-1.5.3-py3-none-any.whl (29 kB)\n",
            "Collecting metaphone<0.7,>=0.6\n",
            "  Downloading Metaphone-0.6.tar.gz (14 kB)\n",
            "Requirement already satisfied: multidict<7.0,>=4.5 in /usr/local/lib/python3.7/dist-packages (from aiohttp<4.0,>=3.6->dataprep) (6.0.2)\n",
            "Requirement already satisfied: async-timeout<5.0,>=4.0.0a3 in /usr/local/lib/python3.7/dist-packages (from aiohttp<4.0,>=3.6->dataprep) (4.0.2)\n",
            "Requirement already satisfied: aiosignal>=1.1.2 in /usr/local/lib/python3.7/dist-packages (from aiohttp<4.0,>=3.6->dataprep) (1.2.0)\n",
            "Requirement already satisfied: frozenlist>=1.1.1 in /usr/local/lib/python3.7/dist-packages (from aiohttp<4.0,>=3.6->dataprep) (1.3.1)\n",
            "Requirement already satisfied: typing-extensions>=3.7.4 in /usr/local/lib/python3.7/dist-packages (from aiohttp<4.0,>=3.6->dataprep) (4.1.1)\n",
            "Requirement already satisfied: yarl<2.0,>=1.0 in /usr/local/lib/python3.7/dist-packages (from aiohttp<4.0,>=3.6->dataprep) (1.8.1)\n",
            "Requirement already satisfied: charset-normalizer<3.0,>=2.0 in /usr/local/lib/python3.7/dist-packages (from aiohttp<4.0,>=3.6->dataprep) (2.1.1)\n",
            "Requirement already satisfied: asynctest==0.13.0 in /usr/local/lib/python3.7/dist-packages (from aiohttp<4.0,>=3.6->dataprep) (0.13.0)\n",
            "Requirement already satisfied: attrs>=17.3.0 in /usr/local/lib/python3.7/dist-packages (from aiohttp<4.0,>=3.6->dataprep) (22.1.0)\n",
            "Requirement already satisfied: tornado>=5.1 in /usr/local/lib/python3.7/dist-packages (from bokeh<3,>=2->dataprep) (5.1.1)\n",
            "Requirement already satisfied: packaging>=16.8 in /usr/local/lib/python3.7/dist-packages (from bokeh<3,>=2->dataprep) (21.3)\n",
            "Requirement already satisfied: PyYAML>=3.10 in /usr/local/lib/python3.7/dist-packages (from bokeh<3,>=2->dataprep) (6.0)\n",
            "Requirement already satisfied: pillow>=7.1.0 in /usr/local/lib/python3.7/dist-packages (from bokeh<3,>=2->dataprep) (7.1.2)\n",
            "Requirement already satisfied: python-dateutil>=2.1 in /usr/local/lib/python3.7/dist-packages (from bokeh<3,>=2->dataprep) (2.8.2)\n",
            "Requirement already satisfied: toolz>=0.8.2 in /usr/local/lib/python3.7/dist-packages (from dask[array,dataframe,delayed]<2022.0,>=2021.11->dataprep) (0.12.0)\n",
            "Requirement already satisfied: partd>=0.3.10 in /usr/local/lib/python3.7/dist-packages (from dask[array,dataframe,delayed]<2022.0,>=2021.11->dataprep) (1.3.0)\n",
            "Requirement already satisfied: fsspec>=0.6.0 in /usr/local/lib/python3.7/dist-packages (from dask[array,dataframe,delayed]<2022.0,>=2021.11->dataprep) (2022.8.2)\n",
            "Requirement already satisfied: cloudpickle>=1.1.1 in /usr/local/lib/python3.7/dist-packages (from dask[array,dataframe,delayed]<2022.0,>=2021.11->dataprep) (1.5.0)\n",
            "Collecting itsdangerous>=2.0\n",
            "  Downloading itsdangerous-2.1.2-py3-none-any.whl (15 kB)\n",
            "Collecting click>=8.0\n",
            "  Downloading click-8.1.3-py3-none-any.whl (96 kB)\n",
            "\u001b[K     |████████████████████████████████| 96 kB 6.6 MB/s \n",
            "\u001b[?25hRequirement already satisfied: importlib-metadata>=3.6.0 in /usr/local/lib/python3.7/dist-packages (from flask<3,>=2->dataprep) (4.12.0)\n",
            "Collecting Werkzeug>=2.2.2\n",
            "  Downloading Werkzeug-2.2.2-py3-none-any.whl (232 kB)\n",
            "\u001b[K     |████████████████████████████████| 232 kB 88.5 MB/s \n",
            "\u001b[?25hRequirement already satisfied: Six in /usr/local/lib/python3.7/dist-packages (from flask_cors<4.0.0,>=3.0.10->dataprep) (1.15.0)\n",
            "Requirement already satisfied: zipp>=0.5 in /usr/local/lib/python3.7/dist-packages (from importlib-metadata>=3.6.0->flask<3,>=2->dataprep) (3.8.1)\n",
            "Requirement already satisfied: ipython-genutils~=0.2.0 in /usr/local/lib/python3.7/dist-packages (from ipywidgets<8.0,>=7.5->dataprep) (0.2.0)\n",
            "Requirement already satisfied: widgetsnbextension~=3.6.0 in /usr/local/lib/python3.7/dist-packages (from ipywidgets<8.0,>=7.5->dataprep) (3.6.1)\n",
            "Requirement already satisfied: ipykernel>=4.5.1 in /usr/local/lib/python3.7/dist-packages (from ipywidgets<8.0,>=7.5->dataprep) (5.3.4)\n",
            "Requirement already satisfied: traitlets>=4.3.1 in /usr/local/lib/python3.7/dist-packages (from ipywidgets<8.0,>=7.5->dataprep) (5.1.1)\n",
            "Requirement already satisfied: ipython>=4.0.0 in /usr/local/lib/python3.7/dist-packages (from ipywidgets<8.0,>=7.5->dataprep) (7.9.0)\n",
            "Requirement already satisfied: jupyterlab-widgets>=1.0.0 in /usr/local/lib/python3.7/dist-packages (from ipywidgets<8.0,>=7.5->dataprep) (3.0.3)\n",
            "Requirement already satisfied: jupyter-client in /usr/local/lib/python3.7/dist-packages (from ipykernel>=4.5.1->ipywidgets<8.0,>=7.5->dataprep) (6.1.12)\n",
            "Requirement already satisfied: pickleshare in /usr/local/lib/python3.7/dist-packages (from ipython>=4.0.0->ipywidgets<8.0,>=7.5->dataprep) (0.7.5)\n",
            "Requirement already satisfied: pexpect in /usr/local/lib/python3.7/dist-packages (from ipython>=4.0.0->ipywidgets<8.0,>=7.5->dataprep) (4.8.0)\n",
            "Requirement already satisfied: backcall in /usr/local/lib/python3.7/dist-packages (from ipython>=4.0.0->ipywidgets<8.0,>=7.5->dataprep) (0.2.0)\n",
            "Collecting jedi>=0.10\n",
            "  Downloading jedi-0.18.1-py2.py3-none-any.whl (1.6 MB)\n",
            "\u001b[K     |████████████████████████████████| 1.6 MB 65.2 MB/s \n",
            "\u001b[?25hRequirement already satisfied: decorator in /usr/local/lib/python3.7/dist-packages (from ipython>=4.0.0->ipywidgets<8.0,>=7.5->dataprep) (4.4.2)\n",
            "Requirement already satisfied: pygments in /usr/local/lib/python3.7/dist-packages (from ipython>=4.0.0->ipywidgets<8.0,>=7.5->dataprep) (2.6.1)\n",
            "Requirement already satisfied: setuptools>=18.5 in /usr/local/lib/python3.7/dist-packages (from ipython>=4.0.0->ipywidgets<8.0,>=7.5->dataprep) (57.4.0)\n",
            "Requirement already satisfied: prompt-toolkit<2.1.0,>=2.0.0 in /usr/local/lib/python3.7/dist-packages (from ipython>=4.0.0->ipywidgets<8.0,>=7.5->dataprep) (2.0.10)\n",
            "Requirement already satisfied: parso<0.9.0,>=0.8.0 in /usr/local/lib/python3.7/dist-packages (from jedi>=0.10->ipython>=4.0.0->ipywidgets<8.0,>=7.5->dataprep) (0.8.3)\n",
            "Requirement already satisfied: MarkupSafe>=2.0 in /usr/local/lib/python3.7/dist-packages (from jinja2<4,>=3->dataprep) (2.0.1)\n",
            "Collecting ply\n",
            "  Downloading ply-3.11-py2.py3-none-any.whl (49 kB)\n",
            "\u001b[K     |████████████████████████████████| 49 kB 6.9 MB/s \n",
            "\u001b[?25hRequirement already satisfied: joblib in /usr/local/lib/python3.7/dist-packages (from nltk<4.0.0,>=3.6.7->dataprep) (1.1.0)\n",
            "Requirement already satisfied: pyparsing!=3.0.5,>=2.0.2 in /usr/local/lib/python3.7/dist-packages (from packaging>=16.8->bokeh<3,>=2->dataprep) (3.0.9)\n",
            "Requirement already satisfied: pytz>=2017.3 in /usr/local/lib/python3.7/dist-packages (from pandas<2.0,>=1.1->dataprep) (2022.2.1)\n",
            "Requirement already satisfied: locket in /usr/local/lib/python3.7/dist-packages (from partd>=0.3.10->dask[array,dataframe,delayed]<2022.0,>=2021.11->dataprep) (1.0.0)\n",
            "Requirement already satisfied: wcwidth in /usr/local/lib/python3.7/dist-packages (from prompt-toolkit<2.1.0,>=2.0.0->ipython>=4.0.0->ipywidgets<8.0,>=7.5->dataprep) (0.2.5)\n",
            "Requirement already satisfied: greenlet!=0.4.17 in /usr/local/lib/python3.7/dist-packages (from sqlalchemy<2.0.0,>=1.4.32->dataprep) (1.1.3)\n",
            "Collecting executing<0.9.0,>=0.8.3\n",
            "  Downloading executing-0.8.3-py2.py3-none-any.whl (16 kB)\n",
            "Collecting asttokens<3.0.0,>=2.0.0\n",
            "  Downloading asttokens-2.0.8-py2.py3-none-any.whl (23 kB)\n",
            "Collecting pure_eval<1.0.0\n",
            "  Downloading pure_eval-0.2.2-py3-none-any.whl (11 kB)\n",
            "Collecting MarkupSafe>=2.0\n",
            "  Downloading MarkupSafe-2.1.1-cp37-cp37m-manylinux_2_17_x86_64.manylinux2014_x86_64.whl (25 kB)\n",
            "Requirement already satisfied: notebook>=4.4.1 in /usr/local/lib/python3.7/dist-packages (from widgetsnbextension~=3.6.0->ipywidgets<8.0,>=7.5->dataprep) (5.3.1)\n",
            "Requirement already satisfied: nbformat in /usr/local/lib/python3.7/dist-packages (from notebook>=4.4.1->widgetsnbextension~=3.6.0->ipywidgets<8.0,>=7.5->dataprep) (5.4.0)\n",
            "Requirement already satisfied: Send2Trash in /usr/local/lib/python3.7/dist-packages (from notebook>=4.4.1->widgetsnbextension~=3.6.0->ipywidgets<8.0,>=7.5->dataprep) (1.8.0)\n",
            "Requirement already satisfied: jupyter-core>=4.4.0 in /usr/local/lib/python3.7/dist-packages (from notebook>=4.4.1->widgetsnbextension~=3.6.0->ipywidgets<8.0,>=7.5->dataprep) (4.11.1)\n",
            "Requirement already satisfied: nbconvert in /usr/local/lib/python3.7/dist-packages (from notebook>=4.4.1->widgetsnbextension~=3.6.0->ipywidgets<8.0,>=7.5->dataprep) (5.6.1)\n",
            "Requirement already satisfied: terminado>=0.8.1 in /usr/local/lib/python3.7/dist-packages (from notebook>=4.4.1->widgetsnbextension~=3.6.0->ipywidgets<8.0,>=7.5->dataprep) (0.13.3)\n",
            "Requirement already satisfied: pyzmq>=13 in /usr/local/lib/python3.7/dist-packages (from jupyter-client->ipykernel>=4.5.1->ipywidgets<8.0,>=7.5->dataprep) (23.2.1)\n",
            "Requirement already satisfied: ptyprocess in /usr/local/lib/python3.7/dist-packages (from terminado>=0.8.1->notebook>=4.4.1->widgetsnbextension~=3.6.0->ipywidgets<8.0,>=7.5->dataprep) (0.7.0)\n",
            "Requirement already satisfied: matplotlib in /usr/local/lib/python3.7/dist-packages (from wordcloud<2.0,>=1.8->dataprep) (3.2.2)\n",
            "Requirement already satisfied: idna>=2.0 in /usr/local/lib/python3.7/dist-packages (from yarl<2.0,>=1.0->aiohttp<4.0,>=3.6->dataprep) (2.10)\n",
            "Requirement already satisfied: kiwisolver>=1.0.1 in /usr/local/lib/python3.7/dist-packages (from matplotlib->wordcloud<2.0,>=1.8->dataprep) (1.4.4)\n",
            "Requirement already satisfied: cycler>=0.10 in /usr/local/lib/python3.7/dist-packages (from matplotlib->wordcloud<2.0,>=1.8->dataprep) (0.11.0)\n",
            "Requirement already satisfied: entrypoints>=0.2.2 in /usr/local/lib/python3.7/dist-packages (from nbconvert->notebook>=4.4.1->widgetsnbextension~=3.6.0->ipywidgets<8.0,>=7.5->dataprep) (0.4)\n",
            "Requirement already satisfied: pandocfilters>=1.4.1 in /usr/local/lib/python3.7/dist-packages (from nbconvert->notebook>=4.4.1->widgetsnbextension~=3.6.0->ipywidgets<8.0,>=7.5->dataprep) (1.5.0)\n",
            "Requirement already satisfied: bleach in /usr/local/lib/python3.7/dist-packages (from nbconvert->notebook>=4.4.1->widgetsnbextension~=3.6.0->ipywidgets<8.0,>=7.5->dataprep) (5.0.1)\n",
            "Requirement already satisfied: testpath in /usr/local/lib/python3.7/dist-packages (from nbconvert->notebook>=4.4.1->widgetsnbextension~=3.6.0->ipywidgets<8.0,>=7.5->dataprep) (0.6.0)\n",
            "Requirement already satisfied: defusedxml in /usr/local/lib/python3.7/dist-packages (from nbconvert->notebook>=4.4.1->widgetsnbextension~=3.6.0->ipywidgets<8.0,>=7.5->dataprep) (0.7.1)\n",
            "Requirement already satisfied: mistune<2,>=0.8.1 in /usr/local/lib/python3.7/dist-packages (from nbconvert->notebook>=4.4.1->widgetsnbextension~=3.6.0->ipywidgets<8.0,>=7.5->dataprep) (0.8.4)\n",
            "Requirement already satisfied: fastjsonschema in /usr/local/lib/python3.7/dist-packages (from nbformat->notebook>=4.4.1->widgetsnbextension~=3.6.0->ipywidgets<8.0,>=7.5->dataprep) (2.16.1)\n",
            "Requirement already satisfied: jsonschema>=2.6 in /usr/local/lib/python3.7/dist-packages (from nbformat->notebook>=4.4.1->widgetsnbextension~=3.6.0->ipywidgets<8.0,>=7.5->dataprep) (4.3.3)\n",
            "Requirement already satisfied: pyrsistent!=0.17.0,!=0.17.1,!=0.17.2,>=0.14.0 in /usr/local/lib/python3.7/dist-packages (from jsonschema>=2.6->nbformat->notebook>=4.4.1->widgetsnbextension~=3.6.0->ipywidgets<8.0,>=7.5->dataprep) (0.18.1)\n",
            "Requirement already satisfied: importlib-resources>=1.4.0 in /usr/local/lib/python3.7/dist-packages (from jsonschema>=2.6->nbformat->notebook>=4.4.1->widgetsnbextension~=3.6.0->ipywidgets<8.0,>=7.5->dataprep) (5.9.0)\n",
            "Requirement already satisfied: webencodings in /usr/local/lib/python3.7/dist-packages (from bleach->nbconvert->notebook>=4.4.1->widgetsnbextension~=3.6.0->ipywidgets<8.0,>=7.5->dataprep) (0.5.1)\n",
            "Building wheels for collected packages: metaphone, pystache, python-Levenshtein\n",
            "  Building wheel for metaphone (setup.py) ... \u001b[?25l\u001b[?25hdone\n",
            "  Created wheel for metaphone: filename=Metaphone-0.6-py3-none-any.whl size=13918 sha256=6e8b7cc7cdd626e38c9287a6767b853906366f9d6b6501b0d6f7961fe55b6ac1\n",
            "  Stored in directory: /root/.cache/pip/wheels/1d/a8/cb/6f8902aa5457bd71344e00665c230e9c45255b3f57f2194a0f\n",
            "  Building wheel for pystache (PEP 517) ... \u001b[?25l\u001b[?25hdone\n",
            "  Created wheel for pystache: filename=pystache-0.6.0-py3-none-any.whl size=83635 sha256=0bca2e412d56ef6a8eb322bf79171de76d77280c7570b65b3508d0c15af18b8a\n",
            "  Stored in directory: /root/.cache/pip/wheels/78/87/45/383bd15701a08a94c735e9eaf3ff3299655684aaca63bbad96\n",
            "  Building wheel for python-Levenshtein (setup.py) ... \u001b[?25l\u001b[?25hdone\n",
            "  Created wheel for python-Levenshtein: filename=python_Levenshtein-0.12.2-cp37-cp37m-linux_x86_64.whl size=149861 sha256=8000ad44b0f7024fba4d774b9b81669e9175a14c0c0d130e2a49436045906ba2\n",
            "  Stored in directory: /root/.cache/pip/wheels/05/5f/ca/7c4367734892581bb5ff896f15027a932c551080b2abd3e00d\n",
            "Successfully built metaphone pystache python-Levenshtein\n",
            "Installing collected packages: MarkupSafe, jedi, jinja2, Werkzeug, itsdangerous, click, regex, pure-eval, ply, flask, executing, dask, asttokens, varname, scipy, python-stdnum, python-Levenshtein, python-crfsuite, pystache, metaphone, jsonpath-ng, flask-cors, dataprep\n",
            "  Attempting uninstall: MarkupSafe\n",
            "    Found existing installation: MarkupSafe 2.0.1\n",
            "    Uninstalling MarkupSafe-2.0.1:\n",
            "      Successfully uninstalled MarkupSafe-2.0.1\n",
            "  Attempting uninstall: jinja2\n",
            "    Found existing installation: Jinja2 2.11.3\n",
            "    Uninstalling Jinja2-2.11.3:\n",
            "      Successfully uninstalled Jinja2-2.11.3\n",
            "  Attempting uninstall: Werkzeug\n",
            "    Found existing installation: Werkzeug 1.0.1\n",
            "    Uninstalling Werkzeug-1.0.1:\n",
            "      Successfully uninstalled Werkzeug-1.0.1\n",
            "  Attempting uninstall: itsdangerous\n",
            "    Found existing installation: itsdangerous 1.1.0\n",
            "    Uninstalling itsdangerous-1.1.0:\n",
            "      Successfully uninstalled itsdangerous-1.1.0\n",
            "  Attempting uninstall: click\n",
            "    Found existing installation: click 7.1.2\n",
            "    Uninstalling click-7.1.2:\n",
            "      Successfully uninstalled click-7.1.2\n",
            "  Attempting uninstall: regex\n",
            "    Found existing installation: regex 2022.6.2\n",
            "    Uninstalling regex-2022.6.2:\n",
            "      Successfully uninstalled regex-2022.6.2\n",
            "  Attempting uninstall: flask\n",
            "    Found existing installation: Flask 1.1.4\n",
            "    Uninstalling Flask-1.1.4:\n",
            "      Successfully uninstalled Flask-1.1.4\n",
            "  Attempting uninstall: dask\n",
            "    Found existing installation: dask 2022.2.0\n",
            "    Uninstalling dask-2022.2.0:\n",
            "      Successfully uninstalled dask-2022.2.0\n",
            "  Attempting uninstall: scipy\n",
            "    Found existing installation: scipy 1.7.3\n",
            "    Uninstalling scipy-1.7.3:\n",
            "      Successfully uninstalled scipy-1.7.3\n",
            "\u001b[31mERROR: pip's dependency resolver does not currently take into account all the packages that are installed. This behaviour is the source of the following dependency conflicts.\n",
            "distributed 2022.2.0 requires dask==2022.02.0, but you have dask 2021.12.0 which is incompatible.\u001b[0m\n",
            "Successfully installed MarkupSafe-2.1.1 Werkzeug-2.2.2 asttokens-2.0.8 click-8.1.3 dask-2021.12.0 dataprep-0.4.3 executing-0.8.3 flask-2.2.2 flask-cors-3.0.10 itsdangerous-2.1.2 jedi-0.18.1 jinja2-3.1.2 jsonpath-ng-1.5.3 metaphone-0.6 ply-3.11 pure-eval-0.2.2 pystache-0.6.0 python-Levenshtein-0.12.2 python-crfsuite-0.9.8 python-stdnum-1.17 regex-2021.11.10 scipy-1.7.1 varname-0.8.3\n",
            "Looking in indexes: https://pypi.org/simple, https://us-python.pkg.dev/colab-wheels/public/simple/\n",
            "Collecting pycountry_convert\n",
            "  Downloading pycountry_convert-0.7.2-py3-none-any.whl (13 kB)\n",
            "Requirement already satisfied: pytest>=3.4.0 in /usr/local/lib/python3.7/dist-packages (from pycountry_convert) (3.6.4)\n",
            "Collecting repoze.lru>=0.7\n",
            "  Downloading repoze.lru-0.7-py3-none-any.whl (10 kB)\n",
            "Requirement already satisfied: wheel>=0.30.0 in /usr/local/lib/python3.7/dist-packages (from pycountry_convert) (0.37.1)\n",
            "Collecting pycountry>=16.11.27.1\n",
            "  Downloading pycountry-22.3.5.tar.gz (10.1 MB)\n",
            "\u001b[K     |████████████████████████████████| 10.1 MB 14.7 MB/s \n",
            "\u001b[?25h  Installing build dependencies ... \u001b[?25l\u001b[?25hdone\n",
            "  Getting requirements to build wheel ... \u001b[?25l\u001b[?25hdone\n",
            "    Preparing wheel metadata ... \u001b[?25l\u001b[?25hdone\n",
            "Collecting pytest-mock>=1.6.3\n",
            "  Downloading pytest_mock-3.8.2-py3-none-any.whl (9.1 kB)\n",
            "Collecting pprintpp>=0.3.0\n",
            "  Downloading pprintpp-0.4.0-py2.py3-none-any.whl (16 kB)\n",
            "Collecting pytest-cov>=2.5.1\n",
            "  Downloading pytest_cov-3.0.0-py3-none-any.whl (20 kB)\n",
            "Requirement already satisfied: setuptools in /usr/local/lib/python3.7/dist-packages (from pycountry>=16.11.27.1->pycountry_convert) (57.4.0)\n",
            "Requirement already satisfied: six>=1.10.0 in /usr/local/lib/python3.7/dist-packages (from pytest>=3.4.0->pycountry_convert) (1.15.0)\n",
            "Requirement already satisfied: py>=1.5.0 in /usr/local/lib/python3.7/dist-packages (from pytest>=3.4.0->pycountry_convert) (1.11.0)\n",
            "Requirement already satisfied: atomicwrites>=1.0 in /usr/local/lib/python3.7/dist-packages (from pytest>=3.4.0->pycountry_convert) (1.4.1)\n",
            "Requirement already satisfied: pluggy<0.8,>=0.5 in /usr/local/lib/python3.7/dist-packages (from pytest>=3.4.0->pycountry_convert) (0.7.1)\n",
            "Requirement already satisfied: attrs>=17.4.0 in /usr/local/lib/python3.7/dist-packages (from pytest>=3.4.0->pycountry_convert) (22.1.0)\n",
            "Requirement already satisfied: more-itertools>=4.0.0 in /usr/local/lib/python3.7/dist-packages (from pytest>=3.4.0->pycountry_convert) (8.14.0)\n",
            "Collecting pytest>=3.4.0\n",
            "  Downloading pytest-7.1.3-py3-none-any.whl (298 kB)\n",
            "\u001b[K     |████████████████████████████████| 298 kB 69.5 MB/s \n",
            "\u001b[?25hCollecting coverage[toml]>=5.2.1\n",
            "  Downloading coverage-6.4.4-cp37-cp37m-manylinux_2_5_x86_64.manylinux1_x86_64.manylinux_2_17_x86_64.manylinux2014_x86_64.whl (209 kB)\n",
            "\u001b[K     |████████████████████████████████| 209 kB 69.1 MB/s \n",
            "\u001b[?25hRequirement already satisfied: tomli in /usr/local/lib/python3.7/dist-packages (from coverage[toml]>=5.2.1->pytest-cov>=2.5.1->pycountry_convert) (2.0.1)\n",
            "Collecting iniconfig\n",
            "  Downloading iniconfig-1.1.1-py2.py3-none-any.whl (5.0 kB)\n",
            "Requirement already satisfied: packaging in /usr/local/lib/python3.7/dist-packages (from pytest>=3.4.0->pycountry_convert) (21.3)\n",
            "Requirement already satisfied: importlib-metadata>=0.12 in /usr/local/lib/python3.7/dist-packages (from pytest>=3.4.0->pycountry_convert) (4.12.0)\n",
            "Collecting pytest>=3.4.0\n",
            "  Downloading pytest-7.1.2-py3-none-any.whl (297 kB)\n",
            "\u001b[K     |████████████████████████████████| 297 kB 78.9 MB/s \n",
            "\u001b[?25h  Downloading pytest-7.1.1-py3-none-any.whl (297 kB)\n",
            "\u001b[K     |████████████████████████████████| 297 kB 57.3 MB/s \n",
            "\u001b[?25h  Downloading pytest-7.1.0-py3-none-any.whl (297 kB)\n",
            "\u001b[K     |████████████████████████████████| 297 kB 89.0 MB/s \n",
            "\u001b[?25h  Downloading pytest-7.0.1-py3-none-any.whl (296 kB)\n",
            "\u001b[K     |████████████████████████████████| 296 kB 67.8 MB/s \n",
            "\u001b[?25h  Downloading pytest-7.0.0-py3-none-any.whl (296 kB)\n",
            "\u001b[K     |████████████████████████████████| 296 kB 63.7 MB/s \n",
            "\u001b[?25h  Downloading pytest-6.2.5-py3-none-any.whl (280 kB)\n",
            "\u001b[K     |████████████████████████████████| 280 kB 75.2 MB/s \n",
            "\u001b[?25hRequirement already satisfied: toml in /usr/local/lib/python3.7/dist-packages (from pytest>=3.4.0->pycountry_convert) (0.10.2)\n",
            "  Downloading pytest-6.2.4-py3-none-any.whl (280 kB)\n",
            "\u001b[K     |████████████████████████████████| 280 kB 97.1 MB/s \n",
            "\u001b[?25h  Downloading pytest-6.2.3-py3-none-any.whl (280 kB)\n",
            "\u001b[K     |████████████████████████████████| 280 kB 96.4 MB/s \n",
            "\u001b[?25h  Downloading pytest-6.2.2-py3-none-any.whl (280 kB)\n",
            "\u001b[K     |████████████████████████████████| 280 kB 85.9 MB/s \n",
            "\u001b[?25h  Downloading pytest-6.2.1-py3-none-any.whl (279 kB)\n",
            "\u001b[K     |████████████████████████████████| 279 kB 75.5 MB/s \n",
            "\u001b[?25h  Downloading pytest-6.2.0-py3-none-any.whl (279 kB)\n",
            "\u001b[K     |████████████████████████████████| 279 kB 73.4 MB/s \n",
            "\u001b[?25h  Downloading pytest-6.1.2-py3-none-any.whl (272 kB)\n",
            "\u001b[K     |████████████████████████████████| 272 kB 74.8 MB/s \n",
            "\u001b[?25h  Downloading pytest-6.1.1-py3-none-any.whl (272 kB)\n",
            "\u001b[K     |████████████████████████████████| 272 kB 70.4 MB/s \n",
            "\u001b[?25h  Downloading pytest-6.1.0-py3-none-any.whl (272 kB)\n",
            "\u001b[K     |████████████████████████████████| 272 kB 67.7 MB/s \n",
            "\u001b[?25h  Downloading pytest-6.0.2-py3-none-any.whl (270 kB)\n",
            "\u001b[K     |████████████████████████████████| 270 kB 82.6 MB/s \n",
            "\u001b[?25h  Downloading pytest-6.0.1-py3-none-any.whl (270 kB)\n",
            "\u001b[K     |████████████████████████████████| 270 kB 90.1 MB/s \n",
            "\u001b[?25h  Downloading pytest-6.0.0-py3-none-any.whl (270 kB)\n",
            "\u001b[K     |████████████████████████████████| 270 kB 77.3 MB/s \n",
            "\u001b[?25h  Downloading pytest-5.4.3-py3-none-any.whl (248 kB)\n",
            "\u001b[K     |████████████████████████████████| 248 kB 68.2 MB/s \n",
            "\u001b[?25hRequirement already satisfied: wcwidth in /usr/local/lib/python3.7/dist-packages (from pytest>=3.4.0->pycountry_convert) (0.2.5)\n",
            "  Downloading pytest-5.4.2-py3-none-any.whl (247 kB)\n",
            "\u001b[K     |████████████████████████████████| 247 kB 72.6 MB/s \n",
            "\u001b[?25h  Downloading pytest-5.4.1-py3-none-any.whl (246 kB)\n",
            "\u001b[K     |████████████████████████████████| 246 kB 81.7 MB/s \n",
            "\u001b[?25h  Downloading pytest-5.4.0-py3-none-any.whl (247 kB)\n",
            "\u001b[K     |████████████████████████████████| 247 kB 78.8 MB/s \n",
            "\u001b[?25h  Downloading pytest-5.3.5-py3-none-any.whl (235 kB)\n",
            "\u001b[K     |████████████████████████████████| 235 kB 60.2 MB/s \n",
            "\u001b[?25h  Downloading pytest-5.3.4-py3-none-any.whl (235 kB)\n",
            "\u001b[K     |████████████████████████████████| 235 kB 70.2 MB/s \n",
            "\u001b[?25h  Downloading pytest-5.3.3-py3-none-any.whl (235 kB)\n",
            "\u001b[K     |████████████████████████████████| 235 kB 80.0 MB/s \n",
            "\u001b[?25h  Downloading pytest-5.3.2-py3-none-any.whl (234 kB)\n",
            "\u001b[K     |████████████████████████████████| 234 kB 73.9 MB/s \n",
            "\u001b[?25h  Downloading pytest-5.3.1-py3-none-any.whl (233 kB)\n",
            "\u001b[K     |████████████████████████████████| 233 kB 91.8 MB/s \n",
            "\u001b[?25h  Downloading pytest-5.3.0-py3-none-any.whl (233 kB)\n",
            "\u001b[K     |████████████████████████████████| 233 kB 56.4 MB/s \n",
            "\u001b[?25h  Downloading pytest-5.2.4-py3-none-any.whl (227 kB)\n",
            "\u001b[K     |████████████████████████████████| 227 kB 21.0 MB/s \n",
            "\u001b[?25h  Downloading pytest-5.2.3-py3-none-any.whl (227 kB)\n",
            "\u001b[K     |████████████████████████████████| 227 kB 57.7 MB/s \n",
            "\u001b[?25h  Downloading pytest-5.2.2-py3-none-any.whl (227 kB)\n",
            "\u001b[K     |████████████████████████████████| 227 kB 68.0 MB/s \n",
            "\u001b[?25h  Downloading pytest-5.2.1-py3-none-any.whl (226 kB)\n",
            "\u001b[K     |████████████████████████████████| 226 kB 67.5 MB/s \n",
            "\u001b[?25h  Downloading pytest-5.2.0-py3-none-any.whl (226 kB)\n",
            "\u001b[K     |████████████████████████████████| 226 kB 38.3 MB/s \n",
            "\u001b[?25h  Downloading pytest-5.1.3-py3-none-any.whl (224 kB)\n",
            "\u001b[K     |████████████████████████████████| 224 kB 45.2 MB/s \n",
            "\u001b[?25h  Downloading pytest-5.1.2-py3-none-any.whl (224 kB)\n",
            "\u001b[K     |████████████████████████████████| 224 kB 71.5 MB/s \n",
            "\u001b[?25h  Downloading pytest-5.1.1-py3-none-any.whl (223 kB)\n",
            "\u001b[K     |████████████████████████████████| 223 kB 56.1 MB/s \n",
            "\u001b[?25h  Downloading pytest-5.1.0-py3-none-any.whl (223 kB)\n",
            "\u001b[K     |████████████████████████████████| 223 kB 67.8 MB/s \n",
            "\u001b[?25h  Downloading pytest-5.0.1-py3-none-any.whl (221 kB)\n",
            "\u001b[K     |████████████████████████████████| 221 kB 57.3 MB/s \n",
            "\u001b[?25h  Downloading pytest-5.0.0-py3-none-any.whl (221 kB)\n",
            "\u001b[K     |████████████████████████████████| 221 kB 40.8 MB/s \n",
            "\u001b[?25h  Downloading pytest-4.6.11-py2.py3-none-any.whl (231 kB)\n",
            "\u001b[K     |████████████████████████████████| 231 kB 69.8 MB/s \n",
            "\u001b[?25h  Downloading pytest-4.6.10-py2.py3-none-any.whl (231 kB)\n",
            "\u001b[K     |████████████████████████████████| 231 kB 68.9 MB/s \n",
            "\u001b[?25h  Downloading pytest-4.6.9-py2.py3-none-any.whl (231 kB)\n",
            "\u001b[K     |████████████████████████████████| 231 kB 69.9 MB/s \n",
            "\u001b[?25h  Downloading pytest-4.6.8-py2.py3-none-any.whl (230 kB)\n",
            "\u001b[K     |████████████████████████████████| 230 kB 81.4 MB/s \n",
            "\u001b[?25h  Downloading pytest-4.6.7-py2.py3-none-any.whl (230 kB)\n",
            "\u001b[K     |████████████████████████████████| 230 kB 72.2 MB/s \n",
            "\u001b[?25h  Downloading pytest-4.6.6-py2.py3-none-any.whl (230 kB)\n",
            "\u001b[K     |████████████████████████████████| 230 kB 79.1 MB/s \n",
            "\u001b[?25h  Downloading pytest-4.6.5-py2.py3-none-any.whl (230 kB)\n",
            "\u001b[K     |████████████████████████████████| 230 kB 95.2 MB/s \n",
            "\u001b[?25h  Downloading pytest-4.6.4-py2.py3-none-any.whl (229 kB)\n",
            "\u001b[K     |████████████████████████████████| 229 kB 90.1 MB/s \n",
            "\u001b[?25h  Downloading pytest-4.6.3-py2.py3-none-any.whl (229 kB)\n",
            "\u001b[K     |████████████████████████████████| 229 kB 89.5 MB/s \n",
            "\u001b[?25h  Downloading pytest-4.6.2-py2.py3-none-any.whl (229 kB)\n",
            "\u001b[K     |████████████████████████████████| 229 kB 70.1 MB/s \n",
            "\u001b[?25h  Downloading pytest-4.6.1-py2.py3-none-any.whl (229 kB)\n",
            "\u001b[K     |████████████████████████████████| 229 kB 84.9 MB/s \n",
            "\u001b[?25h  Downloading pytest-4.6.0-py2.py3-none-any.whl (229 kB)\n",
            "\u001b[K     |████████████████████████████████| 229 kB 89.2 MB/s \n",
            "\u001b[?25hINFO: pip is looking at multiple versions of coverage to determine which version is compatible with other requirements. This could take a while.\n",
            "INFO: pip is looking at multiple versions of coverage[toml] to determine which version is compatible with other requirements. This could take a while.\n",
            "Collecting coverage[toml]>=5.2.1\n",
            "  Downloading coverage-6.4.3-cp37-cp37m-manylinux_2_5_x86_64.manylinux1_x86_64.manylinux_2_17_x86_64.manylinux2014_x86_64.whl (209 kB)\n",
            "\u001b[K     |████████████████████████████████| 209 kB 62.1 MB/s \n",
            "\u001b[?25h  Downloading coverage-6.4.2-cp37-cp37m-manylinux_2_5_x86_64.manylinux1_x86_64.manylinux_2_17_x86_64.manylinux2014_x86_64.whl (209 kB)\n",
            "\u001b[K     |████████████████████████████████| 209 kB 73.8 MB/s \n",
            "\u001b[?25h  Downloading coverage-6.4.1-cp37-cp37m-manylinux_2_5_x86_64.manylinux1_x86_64.manylinux_2_17_x86_64.manylinux2014_x86_64.whl (208 kB)\n",
            "\u001b[K     |████████████████████████████████| 208 kB 74.6 MB/s \n",
            "\u001b[?25h  Downloading coverage-6.4-cp37-cp37m-manylinux_2_5_x86_64.manylinux1_x86_64.manylinux_2_17_x86_64.manylinux2014_x86_64.whl (208 kB)\n",
            "\u001b[K     |████████████████████████████████| 208 kB 73.7 MB/s \n",
            "\u001b[?25h  Downloading coverage-6.3.3-cp37-cp37m-manylinux_2_5_x86_64.manylinux1_x86_64.manylinux_2_17_x86_64.manylinux2014_x86_64.whl (207 kB)\n",
            "\u001b[K     |████████████████████████████████| 207 kB 75.2 MB/s \n",
            "\u001b[?25h  Downloading coverage-6.3.2-cp37-cp37m-manylinux_2_5_x86_64.manylinux1_x86_64.manylinux_2_17_x86_64.manylinux2014_x86_64.whl (207 kB)\n",
            "\u001b[K     |████████████████████████████████| 207 kB 70.4 MB/s \n",
            "\u001b[?25h  Downloading coverage-6.3.1-cp37-cp37m-manylinux_2_5_x86_64.manylinux1_x86_64.manylinux_2_17_x86_64.manylinux2014_x86_64.whl (207 kB)\n",
            "\u001b[K     |████████████████████████████████| 207 kB 54.0 MB/s \n",
            "\u001b[?25hINFO: pip is looking at multiple versions of coverage to determine which version is compatible with other requirements. This could take a while.\n",
            "INFO: pip is looking at multiple versions of coverage[toml] to determine which version is compatible with other requirements. This could take a while.\n",
            "  Downloading coverage-6.3-cp37-cp37m-manylinux_2_5_x86_64.manylinux1_x86_64.manylinux_2_17_x86_64.manylinux2014_x86_64.whl (207 kB)\n",
            "\u001b[K     |████████████████████████████████| 207 kB 68.9 MB/s \n",
            "\u001b[?25h  Downloading coverage-6.2-cp37-cp37m-manylinux_2_5_x86_64.manylinux1_x86_64.manylinux_2_12_x86_64.manylinux2010_x86_64.whl (213 kB)\n",
            "\u001b[K     |████████████████████████████████| 213 kB 69.7 MB/s \n",
            "\u001b[?25h  Downloading coverage-6.1.2-cp37-cp37m-manylinux_2_5_x86_64.manylinux1_x86_64.manylinux_2_12_x86_64.manylinux2010_x86_64.whl (213 kB)\n",
            "\u001b[K     |████████████████████████████████| 213 kB 66.8 MB/s \n",
            "\u001b[?25h  Downloading coverage-6.1.1-cp37-cp37m-manylinux_2_5_x86_64.manylinux1_x86_64.manylinux_2_12_x86_64.manylinux2010_x86_64.whl (213 kB)\n",
            "\u001b[K     |████████████████████████████████| 213 kB 65.9 MB/s \n",
            "\u001b[?25h  Downloading coverage-6.1-cp37-cp37m-manylinux_2_5_x86_64.manylinux1_x86_64.manylinux_2_12_x86_64.manylinux2010_x86_64.whl (213 kB)\n",
            "\u001b[K     |████████████████████████████████| 213 kB 69.6 MB/s \n",
            "\u001b[?25hINFO: This is taking longer than usual. You might need to provide the dependency resolver with stricter constraints to reduce runtime. If you want to abort this run, you can press Ctrl + C to do so. To improve how pip performs, tell us what happened here: https://pip.pypa.io/surveys/backtracking\n",
            "INFO: This is taking longer than usual. You might need to provide the dependency resolver with stricter constraints to reduce runtime. If you want to abort this run, you can press Ctrl + C to do so. To improve how pip performs, tell us what happened here: https://pip.pypa.io/surveys/backtracking\n",
            "  Downloading coverage-6.0.2-cp37-cp37m-manylinux_2_5_x86_64.manylinux1_x86_64.manylinux_2_12_x86_64.manylinux2010_x86_64.whl (253 kB)\n",
            "\u001b[K     |████████████████████████████████| 253 kB 68.4 MB/s \n",
            "\u001b[?25h  Downloading coverage-6.0.1-cp37-cp37m-manylinux_2_5_x86_64.manylinux1_x86_64.manylinux_2_12_x86_64.manylinux2010_x86_64.whl (252 kB)\n",
            "\u001b[K     |████████████████████████████████| 252 kB 49.7 MB/s \n",
            "\u001b[?25h  Downloading coverage-6.0-cp37-cp37m-manylinux_2_5_x86_64.manylinux1_x86_64.manylinux_2_12_x86_64.manylinux2010_x86_64.whl (252 kB)\n",
            "\u001b[K     |████████████████████████████████| 252 kB 72.3 MB/s \n",
            "\u001b[?25h  Downloading coverage-5.5-cp37-cp37m-manylinux2010_x86_64.whl (242 kB)\n",
            "\u001b[K     |████████████████████████████████| 242 kB 66.5 MB/s \n",
            "\u001b[?25h  Downloading coverage-5.4-cp37-cp37m-manylinux2010_x86_64.whl (242 kB)\n",
            "\u001b[K     |████████████████████████████████| 242 kB 50.2 MB/s \n",
            "\u001b[?25h  Downloading coverage-5.3.1-cp37-cp37m-manylinux2010_x86_64.whl (242 kB)\n",
            "\u001b[K     |████████████████████████████████| 242 kB 83.3 MB/s \n",
            "\u001b[?25h  Downloading coverage-5.3-cp37-cp37m-manylinux1_x86_64.whl (229 kB)\n",
            "\u001b[K     |████████████████████████████████| 229 kB 82.3 MB/s \n",
            "\u001b[?25h  Downloading coverage-5.2.1-cp37-cp37m-manylinux1_x86_64.whl (229 kB)\n",
            "\u001b[K     |████████████████████████████████| 229 kB 74.7 MB/s \n",
            "\u001b[?25hINFO: pip is looking at multiple versions of pytest-cov to determine which version is compatible with other requirements. This could take a while.\n",
            "Collecting pytest-cov>=2.5.1\n",
            "  Downloading pytest_cov-2.12.1-py2.py3-none-any.whl (20 kB)\n",
            "  Downloading pytest_cov-2.12.0-py2.py3-none-any.whl (20 kB)\n",
            "  Downloading pytest_cov-2.11.1-py2.py3-none-any.whl (20 kB)\n",
            "  Downloading pytest_cov-2.11.0-py2.py3-none-any.whl (20 kB)\n",
            "  Downloading pytest_cov-2.10.1-py2.py3-none-any.whl (19 kB)\n",
            "Collecting coverage>=4.4\n",
            "  Downloading coverage-5.2-cp37-cp37m-manylinux1_x86_64.whl (229 kB)\n",
            "\u001b[K     |████████████████████████████████| 229 kB 57.0 MB/s \n",
            "\u001b[?25h  Downloading coverage-5.1-cp37-cp37m-manylinux1_x86_64.whl (227 kB)\n",
            "\u001b[K     |████████████████████████████████| 227 kB 61.6 MB/s \n",
            "\u001b[?25h  Downloading coverage-5.0.4-cp37-cp37m-manylinux1_x86_64.whl (227 kB)\n",
            "\u001b[K     |████████████████████████████████| 227 kB 19.5 MB/s \n",
            "\u001b[?25h  Downloading coverage-5.0.3-cp37-cp37m-manylinux1_x86_64.whl (227 kB)\n",
            "\u001b[K     |████████████████████████████████| 227 kB 16.2 MB/s \n",
            "\u001b[?25h  Downloading coverage-5.0.2-cp37-cp37m-manylinux1_x86_64.whl (226 kB)\n",
            "\u001b[K     |████████████████████████████████| 226 kB 60.9 MB/s \n",
            "\u001b[?25h  Downloading coverage-5.0.1-cp37-cp37m-manylinux1_x86_64.whl (226 kB)\n",
            "\u001b[K     |████████████████████████████████| 226 kB 59.6 MB/s \n",
            "\u001b[?25h  Downloading coverage-5.0-cp37-cp37m-manylinux1_x86_64.whl (226 kB)\n",
            "\u001b[K     |████████████████████████████████| 226 kB 67.0 MB/s \n",
            "\u001b[?25h  Downloading coverage-4.5.4-cp37-cp37m-manylinux1_x86_64.whl (205 kB)\n",
            "\u001b[K     |████████████████████████████████| 205 kB 74.7 MB/s \n",
            "\u001b[?25h  Downloading coverage-4.5.3-cp37-cp37m-manylinux1_x86_64.whl (204 kB)\n",
            "\u001b[K     |████████████████████████████████| 204 kB 66.1 MB/s \n",
            "\u001b[?25h  Downloading coverage-4.5.2-cp37-cp37m-manylinux1_x86_64.whl (205 kB)\n",
            "\u001b[K     |████████████████████████████████| 205 kB 63.1 MB/s \n",
            "\u001b[?25h  Downloading coverage-4.5.1-cp37-cp37m-manylinux1_x86_64.whl (202 kB)\n",
            "\u001b[K     |████████████████████████████████| 202 kB 38.6 MB/s \n",
            "\u001b[?25h  Downloading coverage-4.5.tar.gz (378 kB)\n",
            "\u001b[K     |████████████████████████████████| 378 kB 56.1 MB/s \n",
            "\u001b[?25h  Downloading coverage-4.4.2.tar.gz (374 kB)\n",
            "\u001b[K     |████████████████████████████████| 374 kB 71.3 MB/s \n",
            "\u001b[?25h  Downloading coverage-4.4.1.tar.gz (369 kB)\n",
            "\u001b[K     |████████████████████████████████| 369 kB 56.7 MB/s \n",
            "\u001b[?25h  Downloading coverage-4.4.tar.gz (369 kB)\n",
            "\u001b[K     |████████████████████████████████| 369 kB 74.5 MB/s \n",
            "\u001b[?25hCollecting pytest-cov>=2.5.1\n",
            "  Downloading pytest_cov-2.10.0-py2.py3-none-any.whl (19 kB)\n",
            "  Downloading pytest_cov-2.9.0-py2.py3-none-any.whl (19 kB)\n",
            "INFO: pip is looking at multiple versions of pytest-mock to determine which version is compatible with other requirements. This could take a while.\n",
            "Collecting pytest-mock>=1.6.3\n",
            "  Downloading pytest_mock-3.8.1-py3-none-any.whl (9.1 kB)\n",
            "  Downloading pytest_mock-3.8.0-py3-none-any.whl (9.1 kB)\n",
            "  Downloading pytest_mock-3.7.0-py3-none-any.whl (12 kB)\n",
            "  Downloading pytest_mock-3.6.1-py3-none-any.whl (12 kB)\n",
            "  Downloading pytest_mock-3.6.0-py3-none-any.whl (12 kB)\n",
            "  Downloading pytest_mock-3.5.1-py3-none-any.whl (12 kB)\n",
            "  Downloading pytest_mock-3.5.0-py3-none-any.whl (12 kB)\n",
            "INFO: pip is looking at multiple versions of pytest-mock to determine which version is compatible with other requirements. This could take a while.\n",
            "  Downloading pytest_mock-3.4.0-py3-none-any.whl (11 kB)\n",
            "  Downloading pytest_mock-3.3.1-py3-none-any.whl (11 kB)\n",
            "  Downloading pytest_mock-3.3.0-py3-none-any.whl (11 kB)\n",
            "  Downloading pytest_mock-3.2.0-py3-none-any.whl (10 kB)\n",
            "Building wheels for collected packages: pycountry\n",
            "  Building wheel for pycountry (PEP 517) ... \u001b[?25l\u001b[?25hdone\n",
            "  Created wheel for pycountry: filename=pycountry-22.3.5-py2.py3-none-any.whl size=10681845 sha256=a6a55596c5b468740f33cb800a4da9d6847f29f9a5c21094ce064c4acd4cdfa3\n",
            "  Stored in directory: /root/.cache/pip/wheels/0e/06/e8/7ee176e95ea9a8a8c3b3afcb1869f20adbd42413d4611c6eb4\n",
            "Successfully built pycountry\n",
            "Installing collected packages: coverage, repoze.lru, pytest-mock, pytest-cov, pycountry, pprintpp, pycountry-convert\n",
            "Successfully installed coverage-6.4.4 pprintpp-0.4.0 pycountry-22.3.5 pycountry-convert-0.7.2 pytest-cov-2.9.0 pytest-mock-3.2.0 repoze.lru-0.7\n"
          ]
        }
      ],
      "source": [
        "#Instalación de librerías necesarias para limpieza de datos\n",
        "!pip install --target=$nb_path dataprep\n",
        "!pip install --target=$nb_path pycountry_convert"
      ]
    },
    {
      "cell_type": "code",
      "execution_count": null,
      "metadata": {
        "id": "aSsK73DTCzU_",
        "colab": {
          "base_uri": "https://localhost:8080/"
        },
        "outputId": "0395b648-072d-45b3-9c6d-c4088b0f454a"
      },
      "outputs": [
        {
          "output_type": "stream",
          "name": "stdout",
          "text": [
            "Mounted at /content/drive\n"
          ]
        }
      ],
      "source": [
        "from google.colab import drive\n",
        "drive.mount('/content/drive', force_remount=True)"
      ]
    },
    {
      "cell_type": "markdown",
      "metadata": {
        "id": "sRHGFLrTv1rV"
      },
      "source": [
        "#### **IMPORTACIÓN DE LIBRERÍAS NECESARIAS**\n"
      ]
    },
    {
      "cell_type": "code",
      "execution_count": null,
      "metadata": {
        "id": "gLtmcVAzl24R"
      },
      "outputs": [],
      "source": [
        "import pandas as pd\n",
        "from pandas_profiling import ProfileReport\n",
        "from dataprep.datasets import load_dataset\n",
        "from dataprep.eda import create_report\n",
        "from dataprep.eda import plot, plot_correlation, plot_missing\n",
        "\n",
        "from dataprep.clean import clean_headers, clean_country, default_text_pipeline, clean_text\n",
        "\n",
        "import pycountry_convert as pc\n",
        "\n",
        "import matplotlib.pyplot as plt\n",
        "\n",
        "%matplotlib inline"
      ]
    },
    {
      "cell_type": "markdown",
      "metadata": {
        "id": "mC3U1BXtwALg"
      },
      "source": [
        "#### **LECTURA DE DATASET**"
      ]
    },
    {
      "cell_type": "code",
      "execution_count": null,
      "metadata": {
        "id": "Aiz-AoKDn79i"
      },
      "outputs": [],
      "source": [
        "df = pd.read_excel('/content/drive/MyDrive/TFM_Máster BDDS/datawine/wine_label_project_10k.xlsx')"
      ]
    },
    {
      "cell_type": "code",
      "execution_count": null,
      "metadata": {
        "colab": {
          "base_uri": "https://localhost:8080/"
        },
        "id": "CgXH1yolwHbD",
        "outputId": "297ec90a-a7ec-461e-c13d-ae7a9e5a7c8e"
      },
      "outputs": [
        {
          "output_type": "stream",
          "name": "stdout",
          "text": [
            "<class 'pandas.core.frame.DataFrame'>\n",
            "RangeIndex: 10000 entries, 0 to 9999\n",
            "Data columns (total 8 columns):\n",
            " #   Column        Non-Null Count  Dtype  \n",
            "---  ------        --------------  -----  \n",
            " 0   Winery        10000 non-null  object \n",
            " 1   Product       10000 non-null  object \n",
            " 2   Region        10000 non-null  object \n",
            " 3   Country code  10000 non-null  object \n",
            " 4   rating        10000 non-null  float64\n",
            " 5   Variety       10000 non-null  object \n",
            " 6   Price USD     10000 non-null  float64\n",
            " 7   image         10000 non-null  object \n",
            "dtypes: float64(2), object(6)\n",
            "memory usage: 625.1+ KB\n"
          ]
        }
      ],
      "source": [
        "df.info()"
      ]
    },
    {
      "cell_type": "code",
      "source": [
        "df.head()"
      ],
      "metadata": {
        "colab": {
          "base_uri": "https://localhost:8080/",
          "height": 206
        },
        "id": "14VA2X6C1js2",
        "outputId": "9d602189-3606-4ccc-b7e6-d963a9c43568"
      },
      "execution_count": null,
      "outputs": [
        {
          "output_type": "execute_result",
          "data": {
            "text/plain": [
              "              Winery                                            Product  \\\n",
              "0    Cathedral Ridge  Cathedral Ridge Bangsund Vineyard Pinot Noir 2006   \n",
              "1           Penfolds                           Penfolds RWT Shiraz 2005   \n",
              "2  Marqués de Riscal       Marqués de Riscal Frank Gehry Selection 2001   \n",
              "3            Wyndham                    Wyndham Pinot Noir BIN 333 2007   \n",
              "4        Louis Jadot    Louis Jadot Chevalier Montrachet Grand Cru 2006   \n",
              "\n",
              "                           Region Country code  rating       Variety  \\\n",
              "0          Columbia Valley Oregon           us     3.5    Pinot Noir   \n",
              "1                  Barossa Valley           au     4.5  Shiraz/Syrah   \n",
              "2                           Rioja           es     5.0   Tempranillo   \n",
              "3         South Eastern Australia           au     4.0    Pinot Noir   \n",
              "4  Chevalier-Montrachet Grand Cru           fr     5.0    Chardonnay   \n",
              "\n",
              "    Price USD                                              image  \n",
              "0  163.000000  vintage-images/MBo5T9ZQQQGbzsRmVORp-w_pl_480x6...  \n",
              "1  169.950000  vintage-images/dDyTwzIfQC68MCUgjmYWpw_pl_480x6...  \n",
              "2  357.196682  vintage-images/t44NPpbUT6uy0vRt4VD2RQ_pl_480x6...  \n",
              "3   10.990000  vintage-images/v1RahJe2QQyp4oAFOv90bA_pl_480x6...  \n",
              "4  309.990000  vintage-images/VlMihlZUQE6US7fr09w5ZA_pl_480x6...  "
            ],
            "text/html": [
              "\n",
              "  <div id=\"df-87f75bab-cd73-4d18-81b0-a1d93d6e9287\">\n",
              "    <div class=\"colab-df-container\">\n",
              "      <div>\n",
              "<style scoped>\n",
              "    .dataframe tbody tr th:only-of-type {\n",
              "        vertical-align: middle;\n",
              "    }\n",
              "\n",
              "    .dataframe tbody tr th {\n",
              "        vertical-align: top;\n",
              "    }\n",
              "\n",
              "    .dataframe thead th {\n",
              "        text-align: right;\n",
              "    }\n",
              "</style>\n",
              "<table border=\"1\" class=\"dataframe\">\n",
              "  <thead>\n",
              "    <tr style=\"text-align: right;\">\n",
              "      <th></th>\n",
              "      <th>Winery</th>\n",
              "      <th>Product</th>\n",
              "      <th>Region</th>\n",
              "      <th>Country code</th>\n",
              "      <th>rating</th>\n",
              "      <th>Variety</th>\n",
              "      <th>Price USD</th>\n",
              "      <th>image</th>\n",
              "    </tr>\n",
              "  </thead>\n",
              "  <tbody>\n",
              "    <tr>\n",
              "      <th>0</th>\n",
              "      <td>Cathedral Ridge</td>\n",
              "      <td>Cathedral Ridge Bangsund Vineyard Pinot Noir 2006</td>\n",
              "      <td>Columbia Valley Oregon</td>\n",
              "      <td>us</td>\n",
              "      <td>3.5</td>\n",
              "      <td>Pinot Noir</td>\n",
              "      <td>163.000000</td>\n",
              "      <td>vintage-images/MBo5T9ZQQQGbzsRmVORp-w_pl_480x6...</td>\n",
              "    </tr>\n",
              "    <tr>\n",
              "      <th>1</th>\n",
              "      <td>Penfolds</td>\n",
              "      <td>Penfolds RWT Shiraz 2005</td>\n",
              "      <td>Barossa Valley</td>\n",
              "      <td>au</td>\n",
              "      <td>4.5</td>\n",
              "      <td>Shiraz/Syrah</td>\n",
              "      <td>169.950000</td>\n",
              "      <td>vintage-images/dDyTwzIfQC68MCUgjmYWpw_pl_480x6...</td>\n",
              "    </tr>\n",
              "    <tr>\n",
              "      <th>2</th>\n",
              "      <td>Marqués de Riscal</td>\n",
              "      <td>Marqués de Riscal Frank Gehry Selection 2001</td>\n",
              "      <td>Rioja</td>\n",
              "      <td>es</td>\n",
              "      <td>5.0</td>\n",
              "      <td>Tempranillo</td>\n",
              "      <td>357.196682</td>\n",
              "      <td>vintage-images/t44NPpbUT6uy0vRt4VD2RQ_pl_480x6...</td>\n",
              "    </tr>\n",
              "    <tr>\n",
              "      <th>3</th>\n",
              "      <td>Wyndham</td>\n",
              "      <td>Wyndham Pinot Noir BIN 333 2007</td>\n",
              "      <td>South Eastern Australia</td>\n",
              "      <td>au</td>\n",
              "      <td>4.0</td>\n",
              "      <td>Pinot Noir</td>\n",
              "      <td>10.990000</td>\n",
              "      <td>vintage-images/v1RahJe2QQyp4oAFOv90bA_pl_480x6...</td>\n",
              "    </tr>\n",
              "    <tr>\n",
              "      <th>4</th>\n",
              "      <td>Louis Jadot</td>\n",
              "      <td>Louis Jadot Chevalier Montrachet Grand Cru 2006</td>\n",
              "      <td>Chevalier-Montrachet Grand Cru</td>\n",
              "      <td>fr</td>\n",
              "      <td>5.0</td>\n",
              "      <td>Chardonnay</td>\n",
              "      <td>309.990000</td>\n",
              "      <td>vintage-images/VlMihlZUQE6US7fr09w5ZA_pl_480x6...</td>\n",
              "    </tr>\n",
              "  </tbody>\n",
              "</table>\n",
              "</div>\n",
              "      <button class=\"colab-df-convert\" onclick=\"convertToInteractive('df-87f75bab-cd73-4d18-81b0-a1d93d6e9287')\"\n",
              "              title=\"Convert this dataframe to an interactive table.\"\n",
              "              style=\"display:none;\">\n",
              "        \n",
              "  <svg xmlns=\"http://www.w3.org/2000/svg\" height=\"24px\"viewBox=\"0 0 24 24\"\n",
              "       width=\"24px\">\n",
              "    <path d=\"M0 0h24v24H0V0z\" fill=\"none\"/>\n",
              "    <path d=\"M18.56 5.44l.94 2.06.94-2.06 2.06-.94-2.06-.94-.94-2.06-.94 2.06-2.06.94zm-11 1L8.5 8.5l.94-2.06 2.06-.94-2.06-.94L8.5 2.5l-.94 2.06-2.06.94zm10 10l.94 2.06.94-2.06 2.06-.94-2.06-.94-.94-2.06-.94 2.06-2.06.94z\"/><path d=\"M17.41 7.96l-1.37-1.37c-.4-.4-.92-.59-1.43-.59-.52 0-1.04.2-1.43.59L10.3 9.45l-7.72 7.72c-.78.78-.78 2.05 0 2.83L4 21.41c.39.39.9.59 1.41.59.51 0 1.02-.2 1.41-.59l7.78-7.78 2.81-2.81c.8-.78.8-2.07 0-2.86zM5.41 20L4 18.59l7.72-7.72 1.47 1.35L5.41 20z\"/>\n",
              "  </svg>\n",
              "      </button>\n",
              "      \n",
              "  <style>\n",
              "    .colab-df-container {\n",
              "      display:flex;\n",
              "      flex-wrap:wrap;\n",
              "      gap: 12px;\n",
              "    }\n",
              "\n",
              "    .colab-df-convert {\n",
              "      background-color: #E8F0FE;\n",
              "      border: none;\n",
              "      border-radius: 50%;\n",
              "      cursor: pointer;\n",
              "      display: none;\n",
              "      fill: #1967D2;\n",
              "      height: 32px;\n",
              "      padding: 0 0 0 0;\n",
              "      width: 32px;\n",
              "    }\n",
              "\n",
              "    .colab-df-convert:hover {\n",
              "      background-color: #E2EBFA;\n",
              "      box-shadow: 0px 1px 2px rgba(60, 64, 67, 0.3), 0px 1px 3px 1px rgba(60, 64, 67, 0.15);\n",
              "      fill: #174EA6;\n",
              "    }\n",
              "\n",
              "    [theme=dark] .colab-df-convert {\n",
              "      background-color: #3B4455;\n",
              "      fill: #D2E3FC;\n",
              "    }\n",
              "\n",
              "    [theme=dark] .colab-df-convert:hover {\n",
              "      background-color: #434B5C;\n",
              "      box-shadow: 0px 1px 3px 1px rgba(0, 0, 0, 0.15);\n",
              "      filter: drop-shadow(0px 1px 2px rgba(0, 0, 0, 0.3));\n",
              "      fill: #FFFFFF;\n",
              "    }\n",
              "  </style>\n",
              "\n",
              "      <script>\n",
              "        const buttonEl =\n",
              "          document.querySelector('#df-87f75bab-cd73-4d18-81b0-a1d93d6e9287 button.colab-df-convert');\n",
              "        buttonEl.style.display =\n",
              "          google.colab.kernel.accessAllowed ? 'block' : 'none';\n",
              "\n",
              "        async function convertToInteractive(key) {\n",
              "          const element = document.querySelector('#df-87f75bab-cd73-4d18-81b0-a1d93d6e9287');\n",
              "          const dataTable =\n",
              "            await google.colab.kernel.invokeFunction('convertToInteractive',\n",
              "                                                     [key], {});\n",
              "          if (!dataTable) return;\n",
              "\n",
              "          const docLinkHtml = 'Like what you see? Visit the ' +\n",
              "            '<a target=\"_blank\" href=https://colab.research.google.com/notebooks/data_table.ipynb>data table notebook</a>'\n",
              "            + ' to learn more about interactive tables.';\n",
              "          element.innerHTML = '';\n",
              "          dataTable['output_type'] = 'display_data';\n",
              "          await google.colab.output.renderOutput(dataTable, element);\n",
              "          const docLink = document.createElement('div');\n",
              "          docLink.innerHTML = docLinkHtml;\n",
              "          element.appendChild(docLink);\n",
              "        }\n",
              "      </script>\n",
              "    </div>\n",
              "  </div>\n",
              "  "
            ]
          },
          "metadata": {},
          "execution_count": 6
        }
      ]
    },
    {
      "cell_type": "markdown",
      "metadata": {
        "id": "cjoFoBrqwETT"
      },
      "source": [
        "#### **LIMPIEZA DE DATASET**"
      ]
    },
    {
      "cell_type": "code",
      "execution_count": null,
      "metadata": {
        "colab": {
          "base_uri": "https://localhost:8080/"
        },
        "id": "Xv1lB6ivoDfa",
        "outputId": "8bbf2345-67f0-427e-e351-61f59a0b6c89"
      },
      "outputs": [
        {
          "output_type": "stream",
          "name": "stdout",
          "text": [
            "Column Headers Cleaning Report:\n",
            "\t6 values cleaned (75.0%)\n"
          ]
        }
      ],
      "source": [
        "#Función que pasa nombre de columnas a lower y las une con \"_\"\n",
        "df = clean_headers(df)"
      ]
    },
    {
      "cell_type": "code",
      "execution_count": null,
      "metadata": {
        "colab": {
          "base_uri": "https://localhost:8080/"
        },
        "id": "ofx__Wa-ocx4",
        "outputId": "610387df-21ed-491e-8ed3-54c6c8206e0f"
      },
      "outputs": [
        {
          "output_type": "stream",
          "name": "stderr",
          "text": [
            "                                                                                                "
          ]
        },
        {
          "output_type": "stream",
          "name": "stdout",
          "text": [
            "Country Cleaning Report:\n",
            "\t10000 values cleaned (100.0%)\n",
            "Result contains 10000 (100.0%) values in the correct format and 0 null values (0.0%)\n"
          ]
        },
        {
          "output_type": "stream",
          "name": "stderr",
          "text": [
            "\r"
          ]
        }
      ],
      "source": [
        "# Se utiliza para sacar el código del continente basado en el código del país.\n",
        "df['pais'] = df['country_code'].str.upper()\n",
        "df['continente'] = df['pais'].apply(lambda x: pc.country_alpha2_to_continent_code(x))\n",
        "del df['pais']\n",
        "df['continente'] = df['continente'].apply(lambda x: pc.convert_continent_code_to_continent_name(x).lower())\n",
        "\n",
        "# Saca el nombre del país basado en el código del país.\n",
        "df = clean_country(df, \"country_code\", input_format=\"alpha-2\")"
      ]
    },
    {
      "cell_type": "code",
      "execution_count": null,
      "metadata": {
        "id": "TsLBAihmoglM"
      },
      "outputs": [],
      "source": [
        "#Función que transforma columnas a minúsculas, remueve acentos, puntuaciones y espacios en blanco.\n",
        "custom_pipeline = [\n",
        "    {\"operator\": \"lowercase\"},\n",
        "    {\"operator\": \"remove_accents\"},\n",
        "    {'operator': 'remove_punctuation'},\n",
        "    {'operator': 'remove_whitespace'}\n",
        "]\n",
        "\n",
        "df = clean_text(df, \"winery\", pipeline=custom_pipeline)\n",
        "df = clean_text(df, \"product\", pipeline=custom_pipeline)\n",
        "df = clean_text(df, \"region\", pipeline=custom_pipeline)\n",
        "df = clean_text(df, \"variety\", pipeline=custom_pipeline)\n",
        "df = clean_text(df, \"country_code_clean\", pipeline=custom_pipeline)"
      ]
    },
    {
      "cell_type": "code",
      "execution_count": null,
      "metadata": {
        "colab": {
          "base_uri": "https://localhost:8080/",
          "height": 563
        },
        "id": "eObBvrjnqX-r",
        "outputId": "6cfb17b5-471c-4597-bc7c-0b0d7b303895"
      },
      "outputs": [
        {
          "output_type": "execute_result",
          "data": {
            "text/plain": [
              "                   winery                                            product  \\\n",
              "3464            casteggio                             casteggio barbera 2010   \n",
              "7037            inglenook              inglenook st regis cabernet sauvignon   \n",
              "5216  clos haut peyraguey  clos haut peyraguey sauternes premier grand cr...   \n",
              "9015            gut oggau                          gut oggau timotheus weiss   \n",
              "4716       louis roederer  louis roederer cristal rose brut champagne mil...   \n",
              "7286  domaine alain chavy  domaine alain chavy puligny montrachet 1er cru...   \n",
              "9134       hideaway creek                 hideaway creek carneros chardonnay   \n",
              "3386           st francis                                  st francis merlot   \n",
              "7053     contadi castaldi                 contadi castaldi franciacorta rose   \n",
              "5922             chehalem              chehalem ribbon ridge pinot noir 2010   \n",
              "\n",
              "                                         region country_code  rating  \\\n",
              "3464                             oltrepo pavese           it     4.0   \n",
              "7037                                napa valley           us     2.5   \n",
              "5216                                  sauternes           fr     4.5   \n",
              "9015                                   weinland           at     4.0   \n",
              "4716                                  champagne           fr     5.0   \n",
              "7286  puligny montrachet 1er cru les folatieres           fr     4.0   \n",
              "9134                                napa valley           us     4.0   \n",
              "3386                              sonoma valley           us     4.0   \n",
              "7053                               franciacorta           it     4.0   \n",
              "5922                               ribbon ridge           us     4.0   \n",
              "\n",
              "                 variety  price_usd  \\\n",
              "3464             barbera      14.99   \n",
              "7037  cabernet sauvignon       7.99   \n",
              "5216            semillon      56.00   \n",
              "9015    gruner veltliner     123.99   \n",
              "4716          pinot noir     699.99   \n",
              "7286          chardonnay      70.00   \n",
              "9134          chardonnay      12.99   \n",
              "3386              merlot      17.99   \n",
              "7053          chardonnay      22.99   \n",
              "5922          pinot noir      64.50   \n",
              "\n",
              "                                                  image     continente  \\\n",
              "3464  vintage-images/Xx3sb6gkRMKhk2PL8IO7XA_pl_480x6...         europe   \n",
              "7037  vintage-images/1wFGJiJ6R62l5zOyKOQFTQ_pl_480x6...  north america   \n",
              "5216  vintage-images/72TsaRbkQR23RB_VPcNjpw_pl_480x6...         europe   \n",
              "9015  vintage-images/5dz9o8YNRTy9fLpEcYg6TQ_pl_480x6...         europe   \n",
              "4716  vintage-images/QcdE7SdeR3G1nzcAS4Scgg_pl_480x6...         europe   \n",
              "7286  vintage-images/m6vVPSzzS-6DCVcL-y6dwQ_pl_480x6...         europe   \n",
              "9134                 vintage-images/1345338133_2160.jpg  north america   \n",
              "3386  vintage-images/VgmsJdRCRROr-NFH855Z4Q_pl_480x6...  north america   \n",
              "7053  vintage-images/Ci2aj5cZShqeGxWbCib4iA_pl_480x6...         europe   \n",
              "5922  vintage-images/3_GLRq00RDa6Wv3SH2oh_g_pl_480x6...  north america   \n",
              "\n",
              "     country_code_clean  \n",
              "3464              italy  \n",
              "7037      united states  \n",
              "5216             france  \n",
              "9015            austria  \n",
              "4716             france  \n",
              "7286             france  \n",
              "9134      united states  \n",
              "3386      united states  \n",
              "7053              italy  \n",
              "5922      united states  "
            ],
            "text/html": [
              "\n",
              "  <div id=\"df-1b215685-2042-483c-8795-910c90ccf823\">\n",
              "    <div class=\"colab-df-container\">\n",
              "      <div>\n",
              "<style scoped>\n",
              "    .dataframe tbody tr th:only-of-type {\n",
              "        vertical-align: middle;\n",
              "    }\n",
              "\n",
              "    .dataframe tbody tr th {\n",
              "        vertical-align: top;\n",
              "    }\n",
              "\n",
              "    .dataframe thead th {\n",
              "        text-align: right;\n",
              "    }\n",
              "</style>\n",
              "<table border=\"1\" class=\"dataframe\">\n",
              "  <thead>\n",
              "    <tr style=\"text-align: right;\">\n",
              "      <th></th>\n",
              "      <th>winery</th>\n",
              "      <th>product</th>\n",
              "      <th>region</th>\n",
              "      <th>country_code</th>\n",
              "      <th>rating</th>\n",
              "      <th>variety</th>\n",
              "      <th>price_usd</th>\n",
              "      <th>image</th>\n",
              "      <th>continente</th>\n",
              "      <th>country_code_clean</th>\n",
              "    </tr>\n",
              "  </thead>\n",
              "  <tbody>\n",
              "    <tr>\n",
              "      <th>3464</th>\n",
              "      <td>casteggio</td>\n",
              "      <td>casteggio barbera 2010</td>\n",
              "      <td>oltrepo pavese</td>\n",
              "      <td>it</td>\n",
              "      <td>4.0</td>\n",
              "      <td>barbera</td>\n",
              "      <td>14.99</td>\n",
              "      <td>vintage-images/Xx3sb6gkRMKhk2PL8IO7XA_pl_480x6...</td>\n",
              "      <td>europe</td>\n",
              "      <td>italy</td>\n",
              "    </tr>\n",
              "    <tr>\n",
              "      <th>7037</th>\n",
              "      <td>inglenook</td>\n",
              "      <td>inglenook st regis cabernet sauvignon</td>\n",
              "      <td>napa valley</td>\n",
              "      <td>us</td>\n",
              "      <td>2.5</td>\n",
              "      <td>cabernet sauvignon</td>\n",
              "      <td>7.99</td>\n",
              "      <td>vintage-images/1wFGJiJ6R62l5zOyKOQFTQ_pl_480x6...</td>\n",
              "      <td>north america</td>\n",
              "      <td>united states</td>\n",
              "    </tr>\n",
              "    <tr>\n",
              "      <th>5216</th>\n",
              "      <td>clos haut peyraguey</td>\n",
              "      <td>clos haut peyraguey sauternes premier grand cr...</td>\n",
              "      <td>sauternes</td>\n",
              "      <td>fr</td>\n",
              "      <td>4.5</td>\n",
              "      <td>semillon</td>\n",
              "      <td>56.00</td>\n",
              "      <td>vintage-images/72TsaRbkQR23RB_VPcNjpw_pl_480x6...</td>\n",
              "      <td>europe</td>\n",
              "      <td>france</td>\n",
              "    </tr>\n",
              "    <tr>\n",
              "      <th>9015</th>\n",
              "      <td>gut oggau</td>\n",
              "      <td>gut oggau timotheus weiss</td>\n",
              "      <td>weinland</td>\n",
              "      <td>at</td>\n",
              "      <td>4.0</td>\n",
              "      <td>gruner veltliner</td>\n",
              "      <td>123.99</td>\n",
              "      <td>vintage-images/5dz9o8YNRTy9fLpEcYg6TQ_pl_480x6...</td>\n",
              "      <td>europe</td>\n",
              "      <td>austria</td>\n",
              "    </tr>\n",
              "    <tr>\n",
              "      <th>4716</th>\n",
              "      <td>louis roederer</td>\n",
              "      <td>louis roederer cristal rose brut champagne mil...</td>\n",
              "      <td>champagne</td>\n",
              "      <td>fr</td>\n",
              "      <td>5.0</td>\n",
              "      <td>pinot noir</td>\n",
              "      <td>699.99</td>\n",
              "      <td>vintage-images/QcdE7SdeR3G1nzcAS4Scgg_pl_480x6...</td>\n",
              "      <td>europe</td>\n",
              "      <td>france</td>\n",
              "    </tr>\n",
              "    <tr>\n",
              "      <th>7286</th>\n",
              "      <td>domaine alain chavy</td>\n",
              "      <td>domaine alain chavy puligny montrachet 1er cru...</td>\n",
              "      <td>puligny montrachet 1er cru les folatieres</td>\n",
              "      <td>fr</td>\n",
              "      <td>4.0</td>\n",
              "      <td>chardonnay</td>\n",
              "      <td>70.00</td>\n",
              "      <td>vintage-images/m6vVPSzzS-6DCVcL-y6dwQ_pl_480x6...</td>\n",
              "      <td>europe</td>\n",
              "      <td>france</td>\n",
              "    </tr>\n",
              "    <tr>\n",
              "      <th>9134</th>\n",
              "      <td>hideaway creek</td>\n",
              "      <td>hideaway creek carneros chardonnay</td>\n",
              "      <td>napa valley</td>\n",
              "      <td>us</td>\n",
              "      <td>4.0</td>\n",
              "      <td>chardonnay</td>\n",
              "      <td>12.99</td>\n",
              "      <td>vintage-images/1345338133_2160.jpg</td>\n",
              "      <td>north america</td>\n",
              "      <td>united states</td>\n",
              "    </tr>\n",
              "    <tr>\n",
              "      <th>3386</th>\n",
              "      <td>st francis</td>\n",
              "      <td>st francis merlot</td>\n",
              "      <td>sonoma valley</td>\n",
              "      <td>us</td>\n",
              "      <td>4.0</td>\n",
              "      <td>merlot</td>\n",
              "      <td>17.99</td>\n",
              "      <td>vintage-images/VgmsJdRCRROr-NFH855Z4Q_pl_480x6...</td>\n",
              "      <td>north america</td>\n",
              "      <td>united states</td>\n",
              "    </tr>\n",
              "    <tr>\n",
              "      <th>7053</th>\n",
              "      <td>contadi castaldi</td>\n",
              "      <td>contadi castaldi franciacorta rose</td>\n",
              "      <td>franciacorta</td>\n",
              "      <td>it</td>\n",
              "      <td>4.0</td>\n",
              "      <td>chardonnay</td>\n",
              "      <td>22.99</td>\n",
              "      <td>vintage-images/Ci2aj5cZShqeGxWbCib4iA_pl_480x6...</td>\n",
              "      <td>europe</td>\n",
              "      <td>italy</td>\n",
              "    </tr>\n",
              "    <tr>\n",
              "      <th>5922</th>\n",
              "      <td>chehalem</td>\n",
              "      <td>chehalem ribbon ridge pinot noir 2010</td>\n",
              "      <td>ribbon ridge</td>\n",
              "      <td>us</td>\n",
              "      <td>4.0</td>\n",
              "      <td>pinot noir</td>\n",
              "      <td>64.50</td>\n",
              "      <td>vintage-images/3_GLRq00RDa6Wv3SH2oh_g_pl_480x6...</td>\n",
              "      <td>north america</td>\n",
              "      <td>united states</td>\n",
              "    </tr>\n",
              "  </tbody>\n",
              "</table>\n",
              "</div>\n",
              "      <button class=\"colab-df-convert\" onclick=\"convertToInteractive('df-1b215685-2042-483c-8795-910c90ccf823')\"\n",
              "              title=\"Convert this dataframe to an interactive table.\"\n",
              "              style=\"display:none;\">\n",
              "        \n",
              "  <svg xmlns=\"http://www.w3.org/2000/svg\" height=\"24px\"viewBox=\"0 0 24 24\"\n",
              "       width=\"24px\">\n",
              "    <path d=\"M0 0h24v24H0V0z\" fill=\"none\"/>\n",
              "    <path d=\"M18.56 5.44l.94 2.06.94-2.06 2.06-.94-2.06-.94-.94-2.06-.94 2.06-2.06.94zm-11 1L8.5 8.5l.94-2.06 2.06-.94-2.06-.94L8.5 2.5l-.94 2.06-2.06.94zm10 10l.94 2.06.94-2.06 2.06-.94-2.06-.94-.94-2.06-.94 2.06-2.06.94z\"/><path d=\"M17.41 7.96l-1.37-1.37c-.4-.4-.92-.59-1.43-.59-.52 0-1.04.2-1.43.59L10.3 9.45l-7.72 7.72c-.78.78-.78 2.05 0 2.83L4 21.41c.39.39.9.59 1.41.59.51 0 1.02-.2 1.41-.59l7.78-7.78 2.81-2.81c.8-.78.8-2.07 0-2.86zM5.41 20L4 18.59l7.72-7.72 1.47 1.35L5.41 20z\"/>\n",
              "  </svg>\n",
              "      </button>\n",
              "      \n",
              "  <style>\n",
              "    .colab-df-container {\n",
              "      display:flex;\n",
              "      flex-wrap:wrap;\n",
              "      gap: 12px;\n",
              "    }\n",
              "\n",
              "    .colab-df-convert {\n",
              "      background-color: #E8F0FE;\n",
              "      border: none;\n",
              "      border-radius: 50%;\n",
              "      cursor: pointer;\n",
              "      display: none;\n",
              "      fill: #1967D2;\n",
              "      height: 32px;\n",
              "      padding: 0 0 0 0;\n",
              "      width: 32px;\n",
              "    }\n",
              "\n",
              "    .colab-df-convert:hover {\n",
              "      background-color: #E2EBFA;\n",
              "      box-shadow: 0px 1px 2px rgba(60, 64, 67, 0.3), 0px 1px 3px 1px rgba(60, 64, 67, 0.15);\n",
              "      fill: #174EA6;\n",
              "    }\n",
              "\n",
              "    [theme=dark] .colab-df-convert {\n",
              "      background-color: #3B4455;\n",
              "      fill: #D2E3FC;\n",
              "    }\n",
              "\n",
              "    [theme=dark] .colab-df-convert:hover {\n",
              "      background-color: #434B5C;\n",
              "      box-shadow: 0px 1px 3px 1px rgba(0, 0, 0, 0.15);\n",
              "      filter: drop-shadow(0px 1px 2px rgba(0, 0, 0, 0.3));\n",
              "      fill: #FFFFFF;\n",
              "    }\n",
              "  </style>\n",
              "\n",
              "      <script>\n",
              "        const buttonEl =\n",
              "          document.querySelector('#df-1b215685-2042-483c-8795-910c90ccf823 button.colab-df-convert');\n",
              "        buttonEl.style.display =\n",
              "          google.colab.kernel.accessAllowed ? 'block' : 'none';\n",
              "\n",
              "        async function convertToInteractive(key) {\n",
              "          const element = document.querySelector('#df-1b215685-2042-483c-8795-910c90ccf823');\n",
              "          const dataTable =\n",
              "            await google.colab.kernel.invokeFunction('convertToInteractive',\n",
              "                                                     [key], {});\n",
              "          if (!dataTable) return;\n",
              "\n",
              "          const docLinkHtml = 'Like what you see? Visit the ' +\n",
              "            '<a target=\"_blank\" href=https://colab.research.google.com/notebooks/data_table.ipynb>data table notebook</a>'\n",
              "            + ' to learn more about interactive tables.';\n",
              "          element.innerHTML = '';\n",
              "          dataTable['output_type'] = 'display_data';\n",
              "          await google.colab.output.renderOutput(dataTable, element);\n",
              "          const docLink = document.createElement('div');\n",
              "          docLink.innerHTML = docLinkHtml;\n",
              "          element.appendChild(docLink);\n",
              "        }\n",
              "      </script>\n",
              "    </div>\n",
              "  </div>\n",
              "  "
            ]
          },
          "metadata": {},
          "execution_count": 10
        }
      ],
      "source": [
        "df.sample(10)"
      ]
    },
    {
      "cell_type": "code",
      "execution_count": null,
      "metadata": {
        "colab": {
          "base_uri": "https://localhost:8080/"
        },
        "id": "WeCpUJV_viWG",
        "outputId": "7cefcc3c-edff-45d4-bb2c-5f180063da38"
      },
      "outputs": [
        {
          "output_type": "execute_result",
          "data": {
            "text/plain": [
              "europe           6357\n",
              "north america    2511\n",
              "south america     623\n",
              "oceania           393\n",
              "africa             67\n",
              "asia               49\n",
              "Name: continente, dtype: int64"
            ]
          },
          "metadata": {},
          "execution_count": 11
        }
      ],
      "source": [
        "df.continente.value_counts(dropna=False)"
      ]
    },
    {
      "cell_type": "code",
      "execution_count": null,
      "metadata": {
        "colab": {
          "base_uri": "https://localhost:8080/"
        },
        "id": "fPyO_q8fwgPM",
        "outputId": "16bed94e-bc44-40ce-be4b-3b20ccf9c1af"
      },
      "outputs": [
        {
          "output_type": "execute_result",
          "data": {
            "text/plain": [
              "france           3026\n",
              "united states    2503\n",
              "italy            2088\n",
              "spain             637\n",
              "portugal          403\n",
              "argentina         330\n",
              "australia         330\n",
              "chile             289\n",
              "germany            82\n",
              "south africa       67\n",
              "new zealand        63\n",
              "austria            49\n",
              "greece             28\n",
              "israel             27\n",
              "hungary            14\n",
              "lebanon            12\n",
              "canada              7\n",
              "slovenia            7\n",
              "romania             6\n",
              "georgia             6\n",
              "macedonia           4\n",
              "bulgaria            4\n",
              "uruguay             4\n",
              "moldova             4\n",
              "switzerland         2\n",
              "croatia             2\n",
              "cyprus              2\n",
              "turkey              1\n",
              "palestine           1\n",
              "mexico              1\n",
              "montenegro          1\n",
              "Name: country_code_clean, dtype: int64"
            ]
          },
          "metadata": {},
          "execution_count": 12
        }
      ],
      "source": [
        "df.country_code_clean.value_counts()"
      ]
    },
    {
      "cell_type": "code",
      "execution_count": null,
      "metadata": {
        "colab": {
          "base_uri": "https://localhost:8080/",
          "height": 265
        },
        "id": "jdiNhFPCzPTJ",
        "outputId": "f74e2a1b-9790-4292-f6b2-4c73187008b0"
      },
      "outputs": [
        {
          "output_type": "display_data",
          "data": {
            "text/plain": [
              "<Figure size 432x288 with 1 Axes>"
            ],
            "image/png": "[encoded data removed]"
          },
          "metadata": {
            "needs_background": "light"
          }
        }
      ],
      "source": [
        "pd.set_option('display.max_colwidth', None)\n",
        "plt.hist(df.query('price_usd < 1500').price_usd, density=True, bins=30);"
      ]
    },
    {
      "cell_type": "code",
      "execution_count": null,
      "metadata": {
        "colab": {
          "base_uri": "https://localhost:8080/",
          "height": 35
        },
        "id": "s9ZtUaGrWVDO",
        "outputId": "f794f3a3-9925-4862-ac15-8829b0a2703d"
      },
      "outputs": [
        {
          "output_type": "execute_result",
          "data": {
            "text/plain": [
              "'1.05%'"
            ],
            "application/vnd.google.colaboratory.intrinsic+json": {
              "type": "string"
            }
          },
          "metadata": {},
          "execution_count": 14
        }
      ],
      "source": [
        "'{}%'.format(round((1-(df.query('price_usd < 1500').shape[0]/df.shape[0]))*100,2))\n"
      ]
    },
    {
      "cell_type": "code",
      "execution_count": null,
      "metadata": {
        "id": "PkW3pitiXsdf"
      },
      "outputs": [],
      "source": [
        "df = df.query('price_usd < 1500')"
      ]
    },
    {
      "cell_type": "code",
      "source": [
        "df.hist(column = 'price_usd', bins=[0,10,20,50,200,1500])\n",
        "plt.show()"
      ],
      "metadata": {
        "colab": {
          "base_uri": "https://localhost:8080/",
          "height": 281
        },
        "id": "L1yLyXPxFvvA",
        "outputId": "f17f6b87-3b90-411b-8239-c497d58469a8"
      },
      "execution_count": null,
      "outputs": [
        {
          "output_type": "display_data",
          "data": {
            "text/plain": [
              "<Figure size 432x288 with 1 Axes>"
            ],
            "image/png": "[encoded data removed]"
          },
          "metadata": {
            "needs_background": "light"
          }
        }
      ]
    },
    {
      "cell_type": "code",
      "execution_count": null,
      "metadata": {
        "id": "DWnykQd_YKZN"
      },
      "outputs": [],
      "source": [
        "df['price_cat'] = pd.cut(df['price_usd'], bins=[0,15,50,150,1500], labels=['bajo', 'medio bajo', 'medio alto', 'alto'])"
      ]
    },
    {
      "cell_type": "code",
      "execution_count": null,
      "metadata": {
        "colab": {
          "base_uri": "https://localhost:8080/",
          "height": 175
        },
        "id": "PTSCsBa8Y2kd",
        "outputId": "e108e1f8-dd91-4cce-804e-359d80bdb2ba"
      },
      "outputs": [
        {
          "output_type": "execute_result",
          "data": {
            "text/plain": [
              "            price_cat\n",
              "medio bajo       3568\n",
              "bajo             2357\n",
              "medio alto       2297\n",
              "alto             1673"
            ],
            "text/html": [
              "\n",
              "  <div id=\"df-08825f5e-793d-447a-98f9-9d7c00daac65\">\n",
              "    <div class=\"colab-df-container\">\n",
              "      <div>\n",
              "<style scoped>\n",
              "    .dataframe tbody tr th:only-of-type {\n",
              "        vertical-align: middle;\n",
              "    }\n",
              "\n",
              "    .dataframe tbody tr th {\n",
              "        vertical-align: top;\n",
              "    }\n",
              "\n",
              "    .dataframe thead th {\n",
              "        text-align: right;\n",
              "    }\n",
              "</style>\n",
              "<table border=\"1\" class=\"dataframe\">\n",
              "  <thead>\n",
              "    <tr style=\"text-align: right;\">\n",
              "      <th></th>\n",
              "      <th>price_cat</th>\n",
              "    </tr>\n",
              "  </thead>\n",
              "  <tbody>\n",
              "    <tr>\n",
              "      <th>medio bajo</th>\n",
              "      <td>3568</td>\n",
              "    </tr>\n",
              "    <tr>\n",
              "      <th>bajo</th>\n",
              "      <td>2357</td>\n",
              "    </tr>\n",
              "    <tr>\n",
              "      <th>medio alto</th>\n",
              "      <td>2297</td>\n",
              "    </tr>\n",
              "    <tr>\n",
              "      <th>alto</th>\n",
              "      <td>1673</td>\n",
              "    </tr>\n",
              "  </tbody>\n",
              "</table>\n",
              "</div>\n",
              "      <button class=\"colab-df-convert\" onclick=\"convertToInteractive('df-08825f5e-793d-447a-98f9-9d7c00daac65')\"\n",
              "              title=\"Convert this dataframe to an interactive table.\"\n",
              "              style=\"display:none;\">\n",
              "        \n",
              "  <svg xmlns=\"http://www.w3.org/2000/svg\" height=\"24px\"viewBox=\"0 0 24 24\"\n",
              "       width=\"24px\">\n",
              "    <path d=\"M0 0h24v24H0V0z\" fill=\"none\"/>\n",
              "    <path d=\"M18.56 5.44l.94 2.06.94-2.06 2.06-.94-2.06-.94-.94-2.06-.94 2.06-2.06.94zm-11 1L8.5 8.5l.94-2.06 2.06-.94-2.06-.94L8.5 2.5l-.94 2.06-2.06.94zm10 10l.94 2.06.94-2.06 2.06-.94-2.06-.94-.94-2.06-.94 2.06-2.06.94z\"/><path d=\"M17.41 7.96l-1.37-1.37c-.4-.4-.92-.59-1.43-.59-.52 0-1.04.2-1.43.59L10.3 9.45l-7.72 7.72c-.78.78-.78 2.05 0 2.83L4 21.41c.39.39.9.59 1.41.59.51 0 1.02-.2 1.41-.59l7.78-7.78 2.81-2.81c.8-.78.8-2.07 0-2.86zM5.41 20L4 18.59l7.72-7.72 1.47 1.35L5.41 20z\"/>\n",
              "  </svg>\n",
              "      </button>\n",
              "      \n",
              "  <style>\n",
              "    .colab-df-container {\n",
              "      display:flex;\n",
              "      flex-wrap:wrap;\n",
              "      gap: 12px;\n",
              "    }\n",
              "\n",
              "    .colab-df-convert {\n",
              "      background-color: #E8F0FE;\n",
              "      border: none;\n",
              "      border-radius: 50%;\n",
              "      cursor: pointer;\n",
              "      display: none;\n",
              "      fill: #1967D2;\n",
              "      height: 32px;\n",
              "      padding: 0 0 0 0;\n",
              "      width: 32px;\n",
              "    }\n",
              "\n",
              "    .colab-df-convert:hover {\n",
              "      background-color: #E2EBFA;\n",
              "      box-shadow: 0px 1px 2px rgba(60, 64, 67, 0.3), 0px 1px 3px 1px rgba(60, 64, 67, 0.15);\n",
              "      fill: #174EA6;\n",
              "    }\n",
              "\n",
              "    [theme=dark] .colab-df-convert {\n",
              "      background-color: #3B4455;\n",
              "      fill: #D2E3FC;\n",
              "    }\n",
              "\n",
              "    [theme=dark] .colab-df-convert:hover {\n",
              "      background-color: #434B5C;\n",
              "      box-shadow: 0px 1px 3px 1px rgba(0, 0, 0, 0.15);\n",
              "      filter: drop-shadow(0px 1px 2px rgba(0, 0, 0, 0.3));\n",
              "      fill: #FFFFFF;\n",
              "    }\n",
              "  </style>\n",
              "\n",
              "      <script>\n",
              "        const buttonEl =\n",
              "          document.querySelector('#df-08825f5e-793d-447a-98f9-9d7c00daac65 button.colab-df-convert');\n",
              "        buttonEl.style.display =\n",
              "          google.colab.kernel.accessAllowed ? 'block' : 'none';\n",
              "\n",
              "        async function convertToInteractive(key) {\n",
              "          const element = document.querySelector('#df-08825f5e-793d-447a-98f9-9d7c00daac65');\n",
              "          const dataTable =\n",
              "            await google.colab.kernel.invokeFunction('convertToInteractive',\n",
              "                                                     [key], {});\n",
              "          if (!dataTable) return;\n",
              "\n",
              "          const docLinkHtml = 'Like what you see? Visit the ' +\n",
              "            '<a target=\"_blank\" href=https://colab.research.google.com/notebooks/data_table.ipynb>data table notebook</a>'\n",
              "            + ' to learn more about interactive tables.';\n",
              "          element.innerHTML = '';\n",
              "          dataTable['output_type'] = 'display_data';\n",
              "          await google.colab.output.renderOutput(dataTable, element);\n",
              "          const docLink = document.createElement('div');\n",
              "          docLink.innerHTML = docLinkHtml;\n",
              "          element.appendChild(docLink);\n",
              "        }\n",
              "      </script>\n",
              "    </div>\n",
              "  </div>\n",
              "  "
            ]
          },
          "metadata": {},
          "execution_count": 18
        }
      ],
      "source": [
        "df.price_cat.value_counts().to_frame()"
      ]
    },
    {
      "cell_type": "code",
      "source": [
        "df['rating_cat'] = pd.cut(df['rating'], bins=[0,2.5,3.5,4,5], labels = ['malo', 'bueno', 'muy bueno','excelente'])"
      ],
      "metadata": {
        "id": "apO56uaFxBmg"
      },
      "execution_count": null,
      "outputs": []
    },
    {
      "cell_type": "code",
      "source": [
        "df.rating_cat.value_counts()/len(df)*100"
      ],
      "metadata": {
        "colab": {
          "base_uri": "https://localhost:8080/"
        },
        "id": "mhzk3UFDxG_-",
        "outputId": "52612789-02bb-4cea-f24f-45da391ecc53"
      },
      "execution_count": null,
      "outputs": [
        {
          "output_type": "execute_result",
          "data": {
            "text/plain": [
              "excelente    37.321880\n",
              "muy bueno    35.816069\n",
              "bueno        21.253158\n",
              "malo          5.608893\n",
              "Name: rating_cat, dtype: float64"
            ]
          },
          "metadata": {},
          "execution_count": 20
        }
      ]
    },
    {
      "cell_type": "markdown",
      "metadata": {
        "id": "x5OJXuvfZkQX"
      },
      "source": [
        "**The three official tiers of French wine quality classification:**\n",
        "- AOC:\n",
        "    - Grand Cru\n",
        "    - Premier Cru\n",
        "- Vin de Pays\n",
        "- Vin de France: The most basic quality tier for French wine. \n",
        "\n",
        "**French Wine Label Terms**\n",
        "- Blanc: White\n",
        "- Brut: Dry\n",
        "- Cave: Wine cellar\n",
        "- Château: Estate - literally 'castle', but mostly refers to large country houses\n",
        "- Coopérative: A co-operative or, more likely, a syndicate of wine growers\n",
        "- Côte/Coteaux: Slope of a hill/hillsides\n",
        "- Crémant: A style of sparkling wine other than Champagne\n",
        "- Cru: Literally, 'growth' - denotes status of a winery or vineyard\n",
        "- Cru Classé: Classified vineyard\n",
        "- Demi-sec: Medium-dry\n",
        "- Domaine: Estate\n",
        "- Doux: Sweet\n",
        "- Grand cru: Literally, 'great growth' - highest-quality wines\n",
        "- Méthode Traditionnelle: Traditional method of sparkling winemaking, same as used for Champagne\n",
        "- Millésime: Vintage\n",
        "Mis en bouteille au château / domaine: Bottled at the chateau/domaine\n",
        "- Négociant: A merchant who buys grapes, juice or wine from growers and sells the wines under his own label\n",
        "- Premier Cru: First growth\n",
        "- Propriétaire: Estate or vineyard owner\n",
        "- Récoltant: A grape grower - literally 'harvester'\n",
        "- Rouge: Red\n",
        "- Sélection de Grains Nobles: Sweet wine made from grapes afftected by botrytis\n",
        "- Supérieur: Wine with higher (superior) alcohol content as a result of being made from riper grapes"
      ]
    },
    {
      "cell_type": "code",
      "execution_count": null,
      "metadata": {
        "id": "xBXujhuefDiR"
      },
      "outputs": [],
      "source": [
        "df['quality'] = None"
      ]
    },
    {
      "cell_type": "code",
      "execution_count": null,
      "metadata": {
        "id": "lz8zh4sLmy9G"
      },
      "outputs": [],
      "source": [
        "df.loc[df['product'].str.contains(\"reserv\") & df['quality']==\"\", 'quality'] = \"reserve\""
      ]
    },
    {
      "cell_type": "code",
      "execution_count": null,
      "metadata": {
        "id": "voNFSOALbwnt"
      },
      "outputs": [],
      "source": [
        "df.loc[df['region'].str.contains(\"vin de pays\"), 'quality'] = \"vin de pays\"\n",
        "df.loc[df['region'].str.contains(\"vin de france\"), 'quality'] = \"vin de france\"\n",
        "df.loc[df['region'].str.contains(\"grand cru\"), 'quality'] = \"grand cru\"\n",
        "df.loc[df['region'].str.contains(\"premier cru\"), 'quality'] = \"premier cru\""
      ]
    },
    {
      "cell_type": "code",
      "execution_count": null,
      "metadata": {
        "id": "IkdGkhUPgtXg"
      },
      "outputs": [],
      "source": [
        "df.loc[df['product'].str.contains(\"vin de pays\"), 'quality'] = \"vin de pays\"\n",
        "df.loc[df['product'].str.contains(\"vin de france\"), 'quality'] = \"vin de france\"\n",
        "df.loc[df['product'].str.contains(\"grand cru\"), 'quality'] = \"grand cru\"\n",
        "df.loc[df['product'].str.contains(\"premier cru\"), 'quality'] = \"premier cru\""
      ]
    },
    {
      "cell_type": "code",
      "source": [
        "df.loc[df['quality'].isna(), 'quality'] = \"undefined\""
      ],
      "metadata": {
        "id": "mwkDayuRYH5-"
      },
      "execution_count": null,
      "outputs": []
    },
    {
      "cell_type": "code",
      "execution_count": null,
      "metadata": {
        "colab": {
          "base_uri": "https://localhost:8080/"
        },
        "id": "WOJOu-UjjRex",
        "outputId": "b7cbc4f9-fc71-42e7-d0ce-400df3d3f714"
      },
      "outputs": [
        {
          "output_type": "execute_result",
          "data": {
            "text/plain": [
              "undefined        8955\n",
              "grand cru         824\n",
              "premier cru        84\n",
              "vin de france      25\n",
              "vin de pays         7\n",
              "Name: quality, dtype: int64"
            ]
          },
          "metadata": {},
          "execution_count": 80
        }
      ],
      "source": [
        "df.quality.value_counts(dropna=False)"
      ]
    },
    {
      "cell_type": "code",
      "execution_count": null,
      "metadata": {
        "colab": {
          "base_uri": "https://localhost:8080/"
        },
        "id": "J48ZXtDzrE47",
        "outputId": "874746d8-71f3-4298-be9f-d3a9e2552819"
      },
      "outputs": [
        {
          "output_type": "execute_result",
          "data": {
            "text/plain": [
              "saint emilion grand cru        204\n",
              "montagne saint emilion           8\n",
              "saint emilion                    3\n",
              "saint georges saint emilion      2\n",
              "puisseguin saint emilion         1\n",
              "lussac saint emilion             1\n",
              "Name: region, dtype: int64"
            ]
          },
          "metadata": {},
          "execution_count": 31
        }
      ],
      "source": [
        "df[df['region'].str.contains(\"emilion\")].region.value_counts()"
      ]
    },
    {
      "cell_type": "code",
      "source": [
        "df['color'] = None"
      ],
      "metadata": {
        "id": "VolC7XRJQ_RD"
      },
      "execution_count": null,
      "outputs": []
    },
    {
      "cell_type": "code",
      "source": [
        "metodo1 = (df['product'].str.contains(\"blanc\")) | \\\n",
        "          (df['product'].str.contains(\"white\"))\n",
        "df.loc[metodo1, 'color'] = \"white\"\n",
        "\n",
        "metodo2 = (df['product'].str.contains(\"red \")) | \\\n",
        "          (df['product'].str.contains(\" red\")) | \\\n",
        "          (df['product'].str.contains(\"rouge\"))\n",
        "df.loc[metodo2, 'color'] = \"red\"\n",
        "\n",
        "metodo3 = (df['product'].str.contains(\"rose \")) | \\\n",
        "          (df['product'].str.contains(\" rose\"))\n",
        "df.loc[metodo3, 'color'] = \"rose\"\n",
        "\n",
        "metodo4 = (df['variety'].str.contains(\"blanc\")) | \\\n",
        "          (df['variety'].str.contains(\"white\"))\n",
        "df.loc[metodo4, 'color'] = \"white\"\n",
        "\n",
        "metodo5 = (df['variety'].str.contains(\"red \")) | \\\n",
        "          (df['variety'].str.contains(\" red\")) | \\\n",
        "          (df['variety'].str.contains(\"rouge\")) | \\\n",
        "          (df['variety'].str.contains(\"tinto\")) | \\\n",
        "          (df['variety'].str.contains(\"tinta\"))\n",
        "df.loc[metodo5, 'color'] = \"red\"\n",
        "\n",
        "metodo6 = (df['color'].isna()) & (df['variety'] == 'pinot gris') | \\\n",
        "          (df['color'].isna()) & (df['variety'] == 'moscato') | \\\n",
        "          (df['color'].isna()) & (df['variety'] == 'pinot grigio') | \\\n",
        "          (df['color'].isna()) & (df['variety'] == 'grillo') | \\\n",
        "          (df['color'].isna()) & (df['variety'] == 'glera') | \\\n",
        "          (df['color'].isna()) & (df['variety'] == 'glera prosecco') | \\\n",
        "          (df['color'].isna()) & (df['variety'] == 'chenin blanc') | \\\n",
        "          (df['color'].isna()) & (df['variety'] == 'semillon') | \\\n",
        "          (df['color'].isna()) & (df['variety'] == 'chardonnay') | \\\n",
        "          (df['color'].isna()) & (df['variety'] == 'riesling') | \\\n",
        "          (df['color'].isna()) & (df['variety'] == 'torrontes') | \\\n",
        "          (df['color'].isna()) & (df['variety'] == 'macabeo') | \\\n",
        "          (df['color'].isna()) & (df['variety'] == 'palomino') | \\\n",
        "          (df['color'].isna()) & (df['variety'] == 'albarino') | \\\n",
        "          (df['color'].isna()) & (df['variety'] == 'viognier') | \\\n",
        "          (df['color'].isna()) & (df['variety'] == 'cortese') | \\\n",
        "          (df['color'].isna()) & (df['variety'] == 'malvasia') | \\\n",
        "          (df['color'].isna()) & (df['variety'] == 'verdicchio') | \\\n",
        "          (df['color'].isna()) & (df['variety'] == 'vermentino') | \\\n",
        "          (df['color'].isna()) & (df['variety'] == 'garganega') | \\\n",
        "          (df['color'].isna()) & (df['variety'] == 'trebbiano') | \\\n",
        "          (df['color'].isna()) & (df['variety'] == 'pedro ximenez') | \\\n",
        "          (df['color'].isna()) & (df['variety'] == 'muscat blanc') | \\\n",
        "          (df['color'].isna()) & (df['variety'] == 'gruner veltliner') | \\\n",
        "          (df['color'].isna()) & (df['variety'] == 'gewurztraminer') | \\\n",
        "          (df['color'].isna()) & (df['variety'] == 'moscato bianco') | \\\n",
        "          (df['color'].isna()) & (df['variety'] == 'arinto de bucelas ') | \\\n",
        "          (df['color'].isna()) & (df['variety'] == 'sauvignon blanc')\n",
        "df.loc[metodo6, 'color'] = \"white\"\n",
        "\n",
        "metodo7 = (df['color'].isna()) & (df['variety'] == \"cabernet franc\") | \\\n",
        "          (df['color'].isna()) & (df['variety'] == 'cabernet sauvignon') | \\\n",
        "          (df['color'].isna()) & (df['variety'] == 'carmenere') | \\\n",
        "          (df['color'].isna()) & (df['variety'] == 'shiraz syrah') | \\\n",
        "          (df['color'].isna()) & (df['variety'] == 'petite sirah') | \\\n",
        "          (df['color'].isna()) & (df['variety'] == 'pinot noir') | \\\n",
        "          (df['color'].isna()) & (df['variety'] == 'merlot') | \\\n",
        "          (df['color'].isna()) & (df['variety'] == 'sangiovese') | \\\n",
        "          (df['color'].isna()) & (df['variety'] == 'nebbiolo') | \\\n",
        "          (df['color'].isna()) & (df['variety'] == 'tempranillo') | \\\n",
        "          (df['color'].isna()) & (df['variety'] == 'touriga nacional') | \\\n",
        "          (df['color'].isna()) & (df['variety'] == 'touriga franca') | \\\n",
        "          (df['color'].isna()) & (df['variety'] == 'malbec') | \\\n",
        "          (df['color'].isna()) & (df['variety'] == 'mourvedre') | \\\n",
        "          (df['color'].isna()) & (df['variety'] == 'grenache') | \\\n",
        "          (df['color'].isna()) & (df['variety'] == 'garnacha') | \\\n",
        "          (df['color'].isna()) & (df['variety'] == 'corvina') | \\\n",
        "          (df['color'].isna()) & (df['variety'] == 'barbera') | \\\n",
        "          (df['color'].isna()) & (df['variety'] == 'gamay') | \\\n",
        "          (df['color'].isna()) & (df['variety'] == 'negroamaro') | \\\n",
        "          (df['color'].isna()) & (df['variety'] == 'aglianico') | \\\n",
        "          (df['color'].isna()) & (df['variety'] == 'primitivo') | \\\n",
        "          (df['color'].isna()) & (df['variety'] == 'lambrusco') | \\\n",
        "          (df['color'].isna()) & (df['variety'] == 'montepulciano') | \\\n",
        "          (df['color'].isna()) & (df['variety'] == 'monastrell') | \\\n",
        "          (df['color'].isna()) & (df['variety'] == 'dolcetto') | \\\n",
        "          (df['color'].isna()) & (df['variety'] == 'concord') | \\\n",
        "          (df['color'].isna()) & (df['variety'] == 'sagrantino') | \\\n",
        "          (df['color'].isna()) & (df['variety'] == 'brachetto') | \\\n",
        "          (df['color'].isna()) & (df['variety'] == 'carignan') | \\\n",
        "          (df['color'].isna()) & (df['variety'] == 'petit verdot') | \\\n",
        "          (df['color'].isna()) & (df['variety'] == 'pinot meunier') | \\\n",
        "          (df['color'].isna()) & (df['variety'] == 'rondinella') | \\\n",
        "          (df['color'].isna()) & (df['variety'] == 'pinot nero') | \\\n",
        "          (df['color'].isna()) & (df['variety'] == 'nero d avola') | \\\n",
        "          (df['color'].isna()) & (df['variety'] == 'zinfandel')\n",
        "df.loc[metodo7, 'color'] = \"red\"\n",
        "\n"
      ],
      "metadata": {
        "id": "wBVZohT1Q_Ug"
      },
      "execution_count": null,
      "outputs": []
    },
    {
      "cell_type": "code",
      "source": [
        "metodo8 = (df['color'].isna())\n",
        "df.loc[metodo8, 'color'] = \"undefined\"\n",
        "\n",
        "#metodo9 = (df['color']==\"rose\")\n",
        "#df.loc[metodo9, 'color'] = \"other\""
      ],
      "metadata": {
        "id": "_EmFR_bSWjhQ"
      },
      "execution_count": null,
      "outputs": []
    },
    {
      "cell_type": "code",
      "source": [
        "df[df['color'].isna()].variety.value_counts()"
      ],
      "metadata": {
        "colab": {
          "base_uri": "https://localhost:8080/"
        },
        "id": "z3pTe3J9R1zc",
        "outputId": "b9890074-1775-4458-dff5-c9de148cbc6c"
      },
      "execution_count": null,
      "outputs": [
        {
          "output_type": "execute_result",
          "data": {
            "text/plain": [
              "Series([], Name: variety, dtype: int64)"
            ]
          },
          "metadata": {},
          "execution_count": 74
        }
      ]
    },
    {
      "cell_type": "code",
      "source": [
        "df.color.value_counts(dropna=False).sum()"
      ],
      "metadata": {
        "colab": {
          "base_uri": "https://localhost:8080/"
        },
        "id": "k85CeEGwVs4M",
        "outputId": "7153b8df-26dc-4728-ba5b-fb3c4ad0e514"
      },
      "execution_count": null,
      "outputs": [
        {
          "output_type": "execute_result",
          "data": {
            "text/plain": [
              "9895"
            ]
          },
          "metadata": {},
          "execution_count": 85
        }
      ]
    },
    {
      "cell_type": "code",
      "execution_count": null,
      "metadata": {
        "id": "4sMSIUuqT6qV"
      },
      "outputs": [],
      "source": [
        "create_report(df)"
      ]
    },
    {
      "cell_type": "code",
      "execution_count": null,
      "metadata": {
        "id": "ZHepTGBDFxy9"
      },
      "outputs": [],
      "source": [
        "df['image_clean'] = df['image'].str.split('/', n=1).str.get(-1)"
      ]
    },
    {
      "cell_type": "code",
      "source": [
        "df.head(5)"
      ],
      "metadata": {
        "colab": {
          "base_uri": "https://localhost:8080/",
          "height": 583
        },
        "id": "M9N_z8YGWETP",
        "outputId": "d149da28-4771-4c87-92c7-faf8164861e7"
      },
      "execution_count": null,
      "outputs": [
        {
          "output_type": "execute_result",
          "data": {
            "text/plain": [
              "              winery                                            product  \\\n",
              "0    cathedral ridge  cathedral ridge bangsund vineyard pinot noir 2006   \n",
              "1           penfolds                           penfolds rwt shiraz 2005   \n",
              "2  marques de riscal       marques de riscal frank gehry selection 2001   \n",
              "3            wyndham                    wyndham pinot noir bin 333 2007   \n",
              "4        louis jadot    louis jadot chevalier montrachet grand cru 2006   \n",
              "\n",
              "                           region country_code  rating       variety  \\\n",
              "0          columbia valley oregon           us     3.5    pinot noir   \n",
              "1                  barossa valley           au     4.5  shiraz syrah   \n",
              "2                           rioja           es     5.0   tempranillo   \n",
              "3         south eastern australia           au     4.0    pinot noir   \n",
              "4  chevalier montrachet grand cru           fr     5.0    chardonnay   \n",
              "\n",
              "    price_usd                                                 image  \\\n",
              "0  163.000000  vintage-images/MBo5T9ZQQQGbzsRmVORp-w_pl_480x640.png   \n",
              "1  169.950000  vintage-images/dDyTwzIfQC68MCUgjmYWpw_pl_480x640.png   \n",
              "2  357.196682  vintage-images/t44NPpbUT6uy0vRt4VD2RQ_pl_480x640.png   \n",
              "3   10.990000  vintage-images/v1RahJe2QQyp4oAFOv90bA_pl_480x640.png   \n",
              "4  309.990000  vintage-images/VlMihlZUQE6US7fr09w5ZA_pl_480x640.png   \n",
              "\n",
              "      continente country_code_clean price_cat rating_cat    quality  color  \\\n",
              "0  north america      united states      alto      bueno  undefined    red   \n",
              "1        oceania          australia      alto  excelente  undefined    red   \n",
              "2         europe              spain      alto  excelente  undefined    red   \n",
              "3        oceania          australia      bajo  muy bueno  undefined    red   \n",
              "4         europe             france      alto  excelente  grand cru  white   \n",
              "\n",
              "                             image_clean  \n",
              "0  MBo5T9ZQQQGbzsRmVORp-w_pl_480x640.png  \n",
              "1  dDyTwzIfQC68MCUgjmYWpw_pl_480x640.png  \n",
              "2  t44NPpbUT6uy0vRt4VD2RQ_pl_480x640.png  \n",
              "3  v1RahJe2QQyp4oAFOv90bA_pl_480x640.png  \n",
              "4  VlMihlZUQE6US7fr09w5ZA_pl_480x640.png  "
            ],
            "text/html": [
              "\n",
              "  <div id=\"df-11beb511-dbd5-4551-b78c-841073d08296\">\n",
              "    <div class=\"colab-df-container\">\n",
              "      <div>\n",
              "<style scoped>\n",
              "    .dataframe tbody tr th:only-of-type {\n",
              "        vertical-align: middle;\n",
              "    }\n",
              "\n",
              "    .dataframe tbody tr th {\n",
              "        vertical-align: top;\n",
              "    }\n",
              "\n",
              "    .dataframe thead th {\n",
              "        text-align: right;\n",
              "    }\n",
              "</style>\n",
              "<table border=\"1\" class=\"dataframe\">\n",
              "  <thead>\n",
              "    <tr style=\"text-align: right;\">\n",
              "      <th></th>\n",
              "      <th>winery</th>\n",
              "      <th>product</th>\n",
              "      <th>region</th>\n",
              "      <th>country_code</th>\n",
              "      <th>rating</th>\n",
              "      <th>variety</th>\n",
              "      <th>price_usd</th>\n",
              "      <th>image</th>\n",
              "      <th>continente</th>\n",
              "      <th>country_code_clean</th>\n",
              "      <th>price_cat</th>\n",
              "      <th>rating_cat</th>\n",
              "      <th>quality</th>\n",
              "      <th>color</th>\n",
              "      <th>image_clean</th>\n",
              "    </tr>\n",
              "  </thead>\n",
              "  <tbody>\n",
              "    <tr>\n",
              "      <th>0</th>\n",
              "      <td>cathedral ridge</td>\n",
              "      <td>cathedral ridge bangsund vineyard pinot noir 2006</td>\n",
              "      <td>columbia valley oregon</td>\n",
              "      <td>us</td>\n",
              "      <td>3.5</td>\n",
              "      <td>pinot noir</td>\n",
              "      <td>163.000000</td>\n",
              "      <td>vintage-images/MBo5T9ZQQQGbzsRmVORp-w_pl_480x640.png</td>\n",
              "      <td>north america</td>\n",
              "      <td>united states</td>\n",
              "      <td>alto</td>\n",
              "      <td>bueno</td>\n",
              "      <td>undefined</td>\n",
              "      <td>red</td>\n",
              "      <td>MBo5T9ZQQQGbzsRmVORp-w_pl_480x640.png</td>\n",
              "    </tr>\n",
              "    <tr>\n",
              "      <th>1</th>\n",
              "      <td>penfolds</td>\n",
              "      <td>penfolds rwt shiraz 2005</td>\n",
              "      <td>barossa valley</td>\n",
              "      <td>au</td>\n",
              "      <td>4.5</td>\n",
              "      <td>shiraz syrah</td>\n",
              "      <td>169.950000</td>\n",
              "      <td>vintage-images/dDyTwzIfQC68MCUgjmYWpw_pl_480x640.png</td>\n",
              "      <td>oceania</td>\n",
              "      <td>australia</td>\n",
              "      <td>alto</td>\n",
              "      <td>excelente</td>\n",
              "      <td>undefined</td>\n",
              "      <td>red</td>\n",
              "      <td>dDyTwzIfQC68MCUgjmYWpw_pl_480x640.png</td>\n",
              "    </tr>\n",
              "    <tr>\n",
              "      <th>2</th>\n",
              "      <td>marques de riscal</td>\n",
              "      <td>marques de riscal frank gehry selection 2001</td>\n",
              "      <td>rioja</td>\n",
              "      <td>es</td>\n",
              "      <td>5.0</td>\n",
              "      <td>tempranillo</td>\n",
              "      <td>357.196682</td>\n",
              "      <td>vintage-images/t44NPpbUT6uy0vRt4VD2RQ_pl_480x640.png</td>\n",
              "      <td>europe</td>\n",
              "      <td>spain</td>\n",
              "      <td>alto</td>\n",
              "      <td>excelente</td>\n",
              "      <td>undefined</td>\n",
              "      <td>red</td>\n",
              "      <td>t44NPpbUT6uy0vRt4VD2RQ_pl_480x640.png</td>\n",
              "    </tr>\n",
              "    <tr>\n",
              "      <th>3</th>\n",
              "      <td>wyndham</td>\n",
              "      <td>wyndham pinot noir bin 333 2007</td>\n",
              "      <td>south eastern australia</td>\n",
              "      <td>au</td>\n",
              "      <td>4.0</td>\n",
              "      <td>pinot noir</td>\n",
              "      <td>10.990000</td>\n",
              "      <td>vintage-images/v1RahJe2QQyp4oAFOv90bA_pl_480x640.png</td>\n",
              "      <td>oceania</td>\n",
              "      <td>australia</td>\n",
              "      <td>bajo</td>\n",
              "      <td>muy bueno</td>\n",
              "      <td>undefined</td>\n",
              "      <td>red</td>\n",
              "      <td>v1RahJe2QQyp4oAFOv90bA_pl_480x640.png</td>\n",
              "    </tr>\n",
              "    <tr>\n",
              "      <th>4</th>\n",
              "      <td>louis jadot</td>\n",
              "      <td>louis jadot chevalier montrachet grand cru 2006</td>\n",
              "      <td>chevalier montrachet grand cru</td>\n",
              "      <td>fr</td>\n",
              "      <td>5.0</td>\n",
              "      <td>chardonnay</td>\n",
              "      <td>309.990000</td>\n",
              "      <td>vintage-images/VlMihlZUQE6US7fr09w5ZA_pl_480x640.png</td>\n",
              "      <td>europe</td>\n",
              "      <td>france</td>\n",
              "      <td>alto</td>\n",
              "      <td>excelente</td>\n",
              "      <td>grand cru</td>\n",
              "      <td>white</td>\n",
              "      <td>VlMihlZUQE6US7fr09w5ZA_pl_480x640.png</td>\n",
              "    </tr>\n",
              "  </tbody>\n",
              "</table>\n",
              "</div>\n",
              "      <button class=\"colab-df-convert\" onclick=\"convertToInteractive('df-11beb511-dbd5-4551-b78c-841073d08296')\"\n",
              "              title=\"Convert this dataframe to an interactive table.\"\n",
              "              style=\"display:none;\">\n",
              "        \n",
              "  <svg xmlns=\"http://www.w3.org/2000/svg\" height=\"24px\"viewBox=\"0 0 24 24\"\n",
              "       width=\"24px\">\n",
              "    <path d=\"M0 0h24v24H0V0z\" fill=\"none\"/>\n",
              "    <path d=\"M18.56 5.44l.94 2.06.94-2.06 2.06-.94-2.06-.94-.94-2.06-.94 2.06-2.06.94zm-11 1L8.5 8.5l.94-2.06 2.06-.94-2.06-.94L8.5 2.5l-.94 2.06-2.06.94zm10 10l.94 2.06.94-2.06 2.06-.94-2.06-.94-.94-2.06-.94 2.06-2.06.94z\"/><path d=\"M17.41 7.96l-1.37-1.37c-.4-.4-.92-.59-1.43-.59-.52 0-1.04.2-1.43.59L10.3 9.45l-7.72 7.72c-.78.78-.78 2.05 0 2.83L4 21.41c.39.39.9.59 1.41.59.51 0 1.02-.2 1.41-.59l7.78-7.78 2.81-2.81c.8-.78.8-2.07 0-2.86zM5.41 20L4 18.59l7.72-7.72 1.47 1.35L5.41 20z\"/>\n",
              "  </svg>\n",
              "      </button>\n",
              "      \n",
              "  <style>\n",
              "    .colab-df-container {\n",
              "      display:flex;\n",
              "      flex-wrap:wrap;\n",
              "      gap: 12px;\n",
              "    }\n",
              "\n",
              "    .colab-df-convert {\n",
              "      background-color: #E8F0FE;\n",
              "      border: none;\n",
              "      border-radius: 50%;\n",
              "      cursor: pointer;\n",
              "      display: none;\n",
              "      fill: #1967D2;\n",
              "      height: 32px;\n",
              "      padding: 0 0 0 0;\n",
              "      width: 32px;\n",
              "    }\n",
              "\n",
              "    .colab-df-convert:hover {\n",
              "      background-color: #E2EBFA;\n",
              "      box-shadow: 0px 1px 2px rgba(60, 64, 67, 0.3), 0px 1px 3px 1px rgba(60, 64, 67, 0.15);\n",
              "      fill: #174EA6;\n",
              "    }\n",
              "\n",
              "    [theme=dark] .colab-df-convert {\n",
              "      background-color: #3B4455;\n",
              "      fill: #D2E3FC;\n",
              "    }\n",
              "\n",
              "    [theme=dark] .colab-df-convert:hover {\n",
              "      background-color: #434B5C;\n",
              "      box-shadow: 0px 1px 3px 1px rgba(0, 0, 0, 0.15);\n",
              "      filter: drop-shadow(0px 1px 2px rgba(0, 0, 0, 0.3));\n",
              "      fill: #FFFFFF;\n",
              "    }\n",
              "  </style>\n",
              "\n",
              "      <script>\n",
              "        const buttonEl =\n",
              "          document.querySelector('#df-11beb511-dbd5-4551-b78c-841073d08296 button.colab-df-convert');\n",
              "        buttonEl.style.display =\n",
              "          google.colab.kernel.accessAllowed ? 'block' : 'none';\n",
              "\n",
              "        async function convertToInteractive(key) {\n",
              "          const element = document.querySelector('#df-11beb511-dbd5-4551-b78c-841073d08296');\n",
              "          const dataTable =\n",
              "            await google.colab.kernel.invokeFunction('convertToInteractive',\n",
              "                                                     [key], {});\n",
              "          if (!dataTable) return;\n",
              "\n",
              "          const docLinkHtml = 'Like what you see? Visit the ' +\n",
              "            '<a target=\"_blank\" href=https://colab.research.google.com/notebooks/data_table.ipynb>data table notebook</a>'\n",
              "            + ' to learn more about interactive tables.';\n",
              "          element.innerHTML = '';\n",
              "          dataTable['output_type'] = 'display_data';\n",
              "          await google.colab.output.renderOutput(dataTable, element);\n",
              "          const docLink = document.createElement('div');\n",
              "          docLink.innerHTML = docLinkHtml;\n",
              "          element.appendChild(docLink);\n",
              "        }\n",
              "      </script>\n",
              "    </div>\n",
              "  </div>\n",
              "  "
            ]
          },
          "metadata": {},
          "execution_count": 81
        }
      ]
    },
    {
      "cell_type": "code",
      "source": [
        "# Guardé archivo limpio para trabajar en otro notebook el modelo y así evitar tener que instalar librerías del principio\n",
        "\n",
        "df.to_csv('/content/drive/MyDrive/TFM_Máster BDDS/datawine/df_clean2.csv', index=False)"
      ],
      "metadata": {
        "id": "0WLfFoqlekd2"
      },
      "execution_count": null,
      "outputs": []
    },
    {
      "cell_type": "code",
      "source": [],
      "metadata": {
        "id": "8dlPXM1nYXKX"
      },
      "execution_count": null,
      "outputs": []
    }
  ],
  "metadata": {
    "colab": {
      "collapsed_sections": [],
      "provenance": [],
      "include_colab_link": true
    },
    "kernelspec": {
      "display_name": "Python 3",
      "name": "python3"
    },
    "language_info": {
      "name": "python"
    }
  },
  "nbformat": 4,
  "nbformat_minor": 0
}