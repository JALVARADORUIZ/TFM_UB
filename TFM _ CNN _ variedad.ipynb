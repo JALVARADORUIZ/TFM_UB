{
  "nbformat": 4,
  "nbformat_minor": 0,
  "metadata": {
    "colab": {
      "provenance": [],
      "collapsed_sections": [],
      "include_colab_link": true
    },
    "kernelspec": {
      "name": "python3",
      "display_name": "Python 3"
    },
    "language_info": {
      "name": "python"
    },
    "accelerator": "GPU"
  },
  "cells": [
    {
      "cell_type": "markdown",
      "metadata": {
        "id": "view-in-github",
        "colab_type": "text"
      },
      "source": [
        "<a href=\"https://colab.research.google.com/github/JALVARADORUIZ/TFM_UB/blob/main/TFM%20_%20CNN%20_%20variedad.ipynb\" target=\"_parent\"><img src=\"https://colab.research.google.com/assets/colab-badge.svg\" alt=\"Open In Colab\"/></a>"
      ]
    },
    {
      "cell_type": "code",
      "execution_count": 1,
      "metadata": {
        "colab": {
          "base_uri": "https://localhost:8080/"
        },
        "id": "uFEF-Ak-cH5_",
        "outputId": "72fb3b6b-aa61-4bc6-8c98-0013784aedaf"
      },
      "outputs": [
        {
          "output_type": "stream",
          "name": "stdout",
          "text": [
            "Mounted at /content/drive\n"
          ]
        }
      ],
      "source": [
        "from google.colab import drive\n",
        "drive.mount('/content/drive', force_remount=True)"
      ]
    },
    {
      "cell_type": "code",
      "source": [
        "import numpy as np \n",
        "import pandas as pd\n",
        "import cv2\n",
        "import glob\n",
        "import os\n",
        "import matplotlib.pyplot as plt\n",
        "import string\n",
        "from mlxtend.plotting import plot_decision_regions\n",
        "from mpl_toolkits.mplot3d import Axes3D\n",
        "from sklearn.decomposition import PCA\n",
        "from sklearn.preprocessing import StandardScaler\n",
        "from sklearn.neighbors import KNeighborsClassifier\n",
        "from sklearn.tree import DecisionTreeClassifier \n",
        "from sklearn.model_selection import train_test_split, cross_val_score\n",
        "from sklearn.utils.multiclass import unique_labels\n",
        "from sklearn.preprocessing import LabelEncoder\n",
        "from sklearn import metrics\n",
        "from sklearn.svm import SVC\n",
        "\n",
        "from tqdm import tqdm\n",
        "tqdm.pandas()\n",
        "\n",
        "\n",
        "dim = 100"
      ],
      "metadata": {
        "id": "62UQPUdncI42"
      },
      "execution_count": 13,
      "outputs": []
    },
    {
      "cell_type": "code",
      "source": [
        "data = '/content/drive/MyDrive/TFM_Máster BDDS/datawine/df_img_processed2.csv'\n",
        "df = pd.read_csv(data)"
      ],
      "metadata": {
        "id": "t2uVdJmJdN_N"
      },
      "execution_count": 14,
      "outputs": []
    },
    {
      "cell_type": "code",
      "source": [
        "df.columns[0:15]"
      ],
      "metadata": {
        "colab": {
          "base_uri": "https://localhost:8080/"
        },
        "id": "esuDC-3rdhTM",
        "outputId": "a382f596-b8c8-4c00-a3bb-501ffed85c24"
      },
      "execution_count": 4,
      "outputs": [
        {
          "output_type": "execute_result",
          "data": {
            "text/plain": [
              "Index(['winery', 'product', 'region', 'country_code', 'rating', 'variety',\n",
              "       'price_usd', 'image', 'continente', 'country_code_clean', 'price_cat',\n",
              "       'rating_cat', 'quality', 'color', 'image_clean'],\n",
              "      dtype='object')"
            ]
          },
          "metadata": {},
          "execution_count": 4
        }
      ]
    },
    {
      "cell_type": "code",
      "source": [
        "'''\n",
        "def getFeatures(files):\n",
        "    images = []\n",
        "    path = \"/content/drive/MyDrive/TFM_Máster BDDS/datawine/vintage-images/\"\n",
        "    for f in enumerate(files):\n",
        "        #print(f[1])\n",
        "        image_path = path + f[1]\n",
        "        image = cv2.imread(image_path, cv2.IMREAD_COLOR)\n",
        "        image = cv2.resize(image, (dim, dim))\n",
        "        image = cv2.cvtColor(image, cv2.COLOR_RGB2BGR)\n",
        "        images.append(image)\n",
        "    return images\n",
        "\n",
        "X = getFeatures(df['image_clean'])\n",
        "\n",
        "'''"
      ],
      "metadata": {
        "id": "k_eG0TnAsxXy"
      },
      "execution_count": null,
      "outputs": []
    },
    {
      "cell_type": "code",
      "source": [
        "'''\n",
        "with open('/content/drive/MyDrive/TFM_Máster BDDS/100_features.npy', 'wb') as f:\n",
        "    np.save(f, X)\n",
        "'''"
      ],
      "metadata": {
        "id": "OyUdNvF7Kcw6"
      },
      "execution_count": null,
      "outputs": []
    },
    {
      "cell_type": "code",
      "source": [
        "with open('/content/drive/MyDrive/TFM_Máster BDDS/100_features.npy', 'rb') as f:\n",
        "    X= np.load(f)"
      ],
      "metadata": {
        "id": "zglrzlepLsot"
      },
      "execution_count": 15,
      "outputs": []
    },
    {
      "cell_type": "code",
      "source": [
        "X = np.array(X)\n",
        "X.shape"
      ],
      "metadata": {
        "colab": {
          "base_uri": "https://localhost:8080/"
        },
        "id": "qy5F3afyvAWQ",
        "outputId": "d172259a-7c72-48d4-85e4-e8ea8013950c"
      },
      "execution_count": 16,
      "outputs": [
        {
          "output_type": "execute_result",
          "data": {
            "text/plain": [
              "(9878, 100, 100, 3)"
            ]
          },
          "metadata": {},
          "execution_count": 16
        }
      ]
    },
    {
      "cell_type": "code",
      "source": [
        "df_variety = df['variety'].value_counts().rename_axis('variety').to_frame('counts')\n",
        "df_variety_selected = df_variety[:15]\n",
        "list_variety = list(df_variety_selected.index)\n",
        "\n",
        "def transform_variety(variety, list_variety):\n",
        "  if variety in list_variety:\n",
        "    return variety\n",
        "  else:\n",
        "    return \"other\"\n",
        "\n",
        "df['variety'] = df.progress_apply(lambda x:transform_variety(x.variety,list_variety), axis=1)\n",
        "\n",
        "le = LabelEncoder()\n",
        "variedad = le.fit_transform(df['variety'])\n",
        "y = np.array(variedad)"
      ],
      "metadata": {
        "colab": {
          "base_uri": "https://localhost:8080/"
        },
        "id": "pIlppIhpvyKt",
        "outputId": "f1242771-e4bd-41ce-db3d-9659b185d977"
      },
      "execution_count": 17,
      "outputs": [
        {
          "output_type": "stream",
          "name": "stderr",
          "text": [
            "100%|██████████| 9878/9878 [00:02<00:00, 4405.16it/s]\n"
          ]
        }
      ]
    },
    {
      "cell_type": "code",
      "source": [
        "y.shape"
      ],
      "metadata": {
        "colab": {
          "base_uri": "https://localhost:8080/"
        },
        "id": "8JUjnIG01MbX",
        "outputId": "bf842561-7079-4f04-e577-13af14087661"
      },
      "execution_count": 18,
      "outputs": [
        {
          "output_type": "execute_result",
          "data": {
            "text/plain": [
              "(9878,)"
            ]
          },
          "metadata": {},
          "execution_count": 18
        }
      ]
    },
    {
      "cell_type": "code",
      "source": [
        "X_train, X_test, y_train, y_test = train_test_split(X, y, test_size = 0.3, random_state=42)"
      ],
      "metadata": {
        "id": "aarFgbf20xAy"
      },
      "execution_count": 19,
      "outputs": []
    },
    {
      "cell_type": "code",
      "source": [
        "# Normalize pixel values between 0 and 1\n",
        "X_train, X_test = X_train / 255.0, X_test / 255.0"
      ],
      "metadata": {
        "id": "BF6aO4yXDyGx"
      },
      "execution_count": 20,
      "outputs": []
    },
    {
      "cell_type": "markdown",
      "source": [
        "**Probando Red neuronal Convulsional Simple (Sin Dropout)**"
      ],
      "metadata": {
        "id": "T65SgUzEOKqJ"
      }
    },
    {
      "cell_type": "code",
      "source": [
        "# We import the data set from tensorflow and build the model there\n",
        "import tensorflow as tf\n",
        "from tensorflow.keras import datasets, layers, models\n",
        "\n",
        "model = models.Sequential()\n",
        "model.add(layers.Conv2D(32, (3, 3), activation='relu', input_shape=(100, 100, 3)))\n",
        "model.add(layers.MaxPooling2D((2, 2)))\n",
        "model.add(layers.Conv2D(64, (3, 3), activation='relu'))\n",
        "model.add(layers.MaxPooling2D((2, 2)))\n",
        "\n",
        "model.add(layers.Conv2D(64, (3, 3), activation='relu'))\n",
        "model.add(layers.Flatten())\n",
        "model.add(layers.Dense(64, activation='relu'))\n",
        "model.add(layers.Dense(16))\n",
        "\n",
        "model.summary()"
      ],
      "metadata": {
        "id": "bRE1mQ9bClZU",
        "outputId": "2d6afd6e-48bd-48f7-f199-eff8ab4f4836",
        "colab": {
          "base_uri": "https://localhost:8080/"
        }
      },
      "execution_count": 21,
      "outputs": [
        {
          "output_type": "stream",
          "name": "stdout",
          "text": [
            "Model: \"sequential_1\"\n",
            "_________________________________________________________________\n",
            " Layer (type)                Output Shape              Param #   \n",
            "=================================================================\n",
            " conv2d_3 (Conv2D)           (None, 98, 98, 32)        896       \n",
            "                                                                 \n",
            " max_pooling2d_2 (MaxPooling  (None, 49, 49, 32)       0         \n",
            " 2D)                                                             \n",
            "                                                                 \n",
            " conv2d_4 (Conv2D)           (None, 47, 47, 64)        18496     \n",
            "                                                                 \n",
            " max_pooling2d_3 (MaxPooling  (None, 23, 23, 64)       0         \n",
            " 2D)                                                             \n",
            "                                                                 \n",
            " conv2d_5 (Conv2D)           (None, 21, 21, 64)        36928     \n",
            "                                                                 \n",
            " flatten_1 (Flatten)         (None, 28224)             0         \n",
            "                                                                 \n",
            " dense_2 (Dense)             (None, 64)                1806400   \n",
            "                                                                 \n",
            " dense_3 (Dense)             (None, 16)                1040      \n",
            "                                                                 \n",
            "=================================================================\n",
            "Total params: 1,863,760\n",
            "Trainable params: 1,863,760\n",
            "Non-trainable params: 0\n",
            "_________________________________________________________________\n"
          ]
        }
      ]
    },
    {
      "cell_type": "code",
      "source": [
        "model.compile(optimizer='adam', \n",
        "             loss=tf.keras.losses.SparseCategoricalCrossentropy(from_logits=True),\n",
        "             metrics=['accuracy'])\n",
        "\n",
        "history = model.fit(X_train, y_train, epochs=50, \n",
        "                    validation_data=(X_test, y_test))"
      ],
      "metadata": {
        "id": "YOiQ2N3fCxnH",
        "outputId": "5bb1fd9f-0b4f-4b0e-d140-b9a1c4f3ebc6",
        "colab": {
          "base_uri": "https://localhost:8080/"
        }
      },
      "execution_count": 22,
      "outputs": [
        {
          "output_type": "stream",
          "name": "stdout",
          "text": [
            "Epoch 1/50\n",
            "217/217 [==============================] - 4s 17ms/step - loss: 2.2045 - accuracy: 0.3163 - val_loss: 2.0433 - val_accuracy: 0.3613\n",
            "Epoch 2/50\n",
            "217/217 [==============================] - 3s 15ms/step - loss: 1.9060 - accuracy: 0.3915 - val_loss: 1.8984 - val_accuracy: 0.4133\n",
            "Epoch 3/50\n",
            "217/217 [==============================] - 3s 15ms/step - loss: 1.7096 - accuracy: 0.4520 - val_loss: 1.8783 - val_accuracy: 0.4271\n",
            "Epoch 4/50\n",
            "217/217 [==============================] - 3s 15ms/step - loss: 1.4826 - accuracy: 0.5237 - val_loss: 1.7890 - val_accuracy: 0.4794\n",
            "Epoch 5/50\n",
            "217/217 [==============================] - 3s 15ms/step - loss: 1.1551 - accuracy: 0.6213 - val_loss: 1.9259 - val_accuracy: 0.4926\n",
            "Epoch 6/50\n",
            "217/217 [==============================] - 3s 15ms/step - loss: 0.8165 - accuracy: 0.7362 - val_loss: 2.1034 - val_accuracy: 0.4781\n",
            "Epoch 7/50\n",
            "217/217 [==============================] - 3s 15ms/step - loss: 0.5324 - accuracy: 0.8283 - val_loss: 2.4668 - val_accuracy: 0.4865\n",
            "Epoch 8/50\n",
            "217/217 [==============================] - 3s 15ms/step - loss: 0.3096 - accuracy: 0.9022 - val_loss: 3.2416 - val_accuracy: 0.4966\n",
            "Epoch 9/50\n",
            "217/217 [==============================] - 3s 15ms/step - loss: 0.1853 - accuracy: 0.9434 - val_loss: 3.7817 - val_accuracy: 0.4976\n",
            "Epoch 10/50\n",
            "217/217 [==============================] - 3s 15ms/step - loss: 0.0993 - accuracy: 0.9721 - val_loss: 4.0027 - val_accuracy: 0.5044\n",
            "Epoch 11/50\n",
            "217/217 [==============================] - 3s 15ms/step - loss: 0.0940 - accuracy: 0.9711 - val_loss: 3.9377 - val_accuracy: 0.4990\n",
            "Epoch 12/50\n",
            "217/217 [==============================] - 3s 15ms/step - loss: 0.0687 - accuracy: 0.9811 - val_loss: 4.4299 - val_accuracy: 0.5209\n",
            "Epoch 13/50\n",
            "217/217 [==============================] - 3s 15ms/step - loss: 0.0704 - accuracy: 0.9787 - val_loss: 4.4094 - val_accuracy: 0.4946\n",
            "Epoch 14/50\n",
            "217/217 [==============================] - 3s 15ms/step - loss: 0.0795 - accuracy: 0.9770 - val_loss: 4.4041 - val_accuracy: 0.5081\n",
            "Epoch 15/50\n",
            "217/217 [==============================] - 3s 15ms/step - loss: 0.0603 - accuracy: 0.9839 - val_loss: 5.1129 - val_accuracy: 0.5277\n",
            "Epoch 16/50\n",
            "217/217 [==============================] - 3s 15ms/step - loss: 0.0285 - accuracy: 0.9938 - val_loss: 4.9878 - val_accuracy: 0.4949\n",
            "Epoch 17/50\n",
            "217/217 [==============================] - 3s 15ms/step - loss: 0.0122 - accuracy: 0.9971 - val_loss: 5.4044 - val_accuracy: 0.5108\n",
            "Epoch 18/50\n",
            "217/217 [==============================] - 3s 15ms/step - loss: 0.0411 - accuracy: 0.9900 - val_loss: 5.3595 - val_accuracy: 0.5027\n",
            "Epoch 19/50\n",
            "217/217 [==============================] - 3s 15ms/step - loss: 0.0362 - accuracy: 0.9900 - val_loss: 5.8253 - val_accuracy: 0.4970\n",
            "Epoch 20/50\n",
            "217/217 [==============================] - 3s 15ms/step - loss: 0.0649 - accuracy: 0.9815 - val_loss: 5.9257 - val_accuracy: 0.4976\n",
            "Epoch 21/50\n",
            "217/217 [==============================] - 3s 15ms/step - loss: 0.0860 - accuracy: 0.9724 - val_loss: 5.1417 - val_accuracy: 0.5024\n",
            "Epoch 22/50\n",
            "217/217 [==============================] - 3s 15ms/step - loss: 0.0616 - accuracy: 0.9812 - val_loss: 5.5471 - val_accuracy: 0.4966\n",
            "Epoch 23/50\n",
            "217/217 [==============================] - 3s 15ms/step - loss: 0.0428 - accuracy: 0.9871 - val_loss: 5.8263 - val_accuracy: 0.5088\n",
            "Epoch 24/50\n",
            "217/217 [==============================] - 3s 15ms/step - loss: 0.0265 - accuracy: 0.9919 - val_loss: 6.4866 - val_accuracy: 0.5260\n",
            "Epoch 25/50\n",
            "217/217 [==============================] - 3s 15ms/step - loss: 0.0237 - accuracy: 0.9929 - val_loss: 5.8750 - val_accuracy: 0.5111\n",
            "Epoch 26/50\n",
            "217/217 [==============================] - 3s 15ms/step - loss: 0.0081 - accuracy: 0.9984 - val_loss: 6.6683 - val_accuracy: 0.5165\n",
            "Epoch 27/50\n",
            "217/217 [==============================] - 3s 15ms/step - loss: 0.0077 - accuracy: 0.9984 - val_loss: 6.8422 - val_accuracy: 0.5064\n",
            "Epoch 28/50\n",
            "217/217 [==============================] - 3s 15ms/step - loss: 0.0126 - accuracy: 0.9958 - val_loss: 6.6467 - val_accuracy: 0.5010\n",
            "Epoch 29/50\n",
            "217/217 [==============================] - 3s 15ms/step - loss: 0.0525 - accuracy: 0.9831 - val_loss: 7.3065 - val_accuracy: 0.4963\n",
            "Epoch 30/50\n",
            "217/217 [==============================] - 3s 15ms/step - loss: 0.0671 - accuracy: 0.9799 - val_loss: 5.7867 - val_accuracy: 0.5044\n",
            "Epoch 31/50\n",
            "217/217 [==============================] - 3s 15ms/step - loss: 0.0588 - accuracy: 0.9825 - val_loss: 6.3847 - val_accuracy: 0.5088\n",
            "Epoch 32/50\n",
            "217/217 [==============================] - 3s 15ms/step - loss: 0.0321 - accuracy: 0.9907 - val_loss: 6.6688 - val_accuracy: 0.5017\n",
            "Epoch 33/50\n",
            "217/217 [==============================] - 3s 15ms/step - loss: 0.0157 - accuracy: 0.9961 - val_loss: 6.3795 - val_accuracy: 0.5081\n",
            "Epoch 34/50\n",
            "217/217 [==============================] - 3s 15ms/step - loss: 0.0365 - accuracy: 0.9894 - val_loss: 5.9858 - val_accuracy: 0.5037\n",
            "Epoch 35/50\n",
            "217/217 [==============================] - 3s 15ms/step - loss: 0.0293 - accuracy: 0.9926 - val_loss: 7.6379 - val_accuracy: 0.5121\n",
            "Epoch 36/50\n",
            "217/217 [==============================] - 3s 15ms/step - loss: 0.0374 - accuracy: 0.9900 - val_loss: 6.3485 - val_accuracy: 0.5115\n",
            "Epoch 37/50\n",
            "217/217 [==============================] - 4s 17ms/step - loss: 0.0219 - accuracy: 0.9954 - val_loss: 6.4388 - val_accuracy: 0.5071\n",
            "Epoch 38/50\n",
            "217/217 [==============================] - 3s 15ms/step - loss: 0.0307 - accuracy: 0.9919 - val_loss: 6.8674 - val_accuracy: 0.5162\n",
            "Epoch 39/50\n",
            "217/217 [==============================] - 3s 15ms/step - loss: 0.0405 - accuracy: 0.9903 - val_loss: 7.1764 - val_accuracy: 0.5057\n",
            "Epoch 40/50\n",
            "217/217 [==============================] - 3s 15ms/step - loss: 0.0379 - accuracy: 0.9903 - val_loss: 6.2936 - val_accuracy: 0.5121\n",
            "Epoch 41/50\n",
            "217/217 [==============================] - 3s 15ms/step - loss: 0.0061 - accuracy: 0.9984 - val_loss: 6.9433 - val_accuracy: 0.5091\n",
            "Epoch 42/50\n",
            "217/217 [==============================] - 3s 15ms/step - loss: 0.0039 - accuracy: 0.9997 - val_loss: 6.9153 - val_accuracy: 0.5057\n",
            "Epoch 43/50\n",
            "217/217 [==============================] - 3s 15ms/step - loss: 0.0034 - accuracy: 0.9999 - val_loss: 6.9532 - val_accuracy: 0.5128\n",
            "Epoch 44/50\n",
            "217/217 [==============================] - 3s 15ms/step - loss: 1.5673e-04 - accuracy: 1.0000 - val_loss: 7.1339 - val_accuracy: 0.5135\n",
            "Epoch 45/50\n",
            "217/217 [==============================] - 3s 15ms/step - loss: 1.0479e-04 - accuracy: 1.0000 - val_loss: 7.2663 - val_accuracy: 0.5148\n",
            "Epoch 46/50\n",
            "217/217 [==============================] - 3s 15ms/step - loss: 8.1084e-05 - accuracy: 1.0000 - val_loss: 7.3745 - val_accuracy: 0.5132\n",
            "Epoch 47/50\n",
            "217/217 [==============================] - 3s 15ms/step - loss: 6.5859e-05 - accuracy: 1.0000 - val_loss: 7.4696 - val_accuracy: 0.5138\n",
            "Epoch 48/50\n",
            "217/217 [==============================] - 3s 15ms/step - loss: 5.4952e-05 - accuracy: 1.0000 - val_loss: 7.5562 - val_accuracy: 0.5135\n",
            "Epoch 49/50\n",
            "217/217 [==============================] - 3s 15ms/step - loss: 4.6484e-05 - accuracy: 1.0000 - val_loss: 7.6396 - val_accuracy: 0.5138\n",
            "Epoch 50/50\n",
            "217/217 [==============================] - 3s 15ms/step - loss: 3.9793e-05 - accuracy: 1.0000 - val_loss: 7.7133 - val_accuracy: 0.5128\n"
          ]
        }
      ]
    },
    {
      "cell_type": "code",
      "source": [
        "plt.plot(history.history['accuracy'], label='accuracy')\n",
        "plt.plot(history.history['val_accuracy'], label = 'val_accuracy')\n",
        "plt.xlabel('Epoch')\n",
        "plt.ylabel('Accuracy')\n",
        "plt.ylim([0, 1])\n",
        "plt.legend(loc='lower right')"
      ],
      "metadata": {
        "id": "6EB0eC3UECgk",
        "outputId": "886f30e7-553c-4b44-eba9-d3960d2ff461",
        "colab": {
          "base_uri": "https://localhost:8080/",
          "height": 300
        }
      },
      "execution_count": 23,
      "outputs": [
        {
          "output_type": "execute_result",
          "data": {
            "text/plain": [
              "<matplotlib.legend.Legend at 0x7f1695efc590>"
            ]
          },
          "metadata": {},
          "execution_count": 23
        },
        {
          "output_type": "display_data",
          "data": {
            "text/plain": [
              "<Figure size 432x288 with 1 Axes>"
            ],
            "image/png": "[encoded data removed]"
          },
          "metadata": {
            "needs_background": "light"
          }
        }
      ]
    },
    {
      "cell_type": "markdown",
      "source": [
        "**Red Neuronal Convulsional con Dropout**"
      ],
      "metadata": {
        "id": "vPOC57e_OVkR"
      }
    },
    {
      "cell_type": "code",
      "source": [
        "from keras.models import Sequential\n",
        "from keras.layers import Conv2D, MaxPooling2D, Flatten, Dense, Dropout, Activation\n",
        "from keras.regularizers import l1_l2\n",
        "\n",
        "model = Sequential()\n",
        "\n",
        "#### Input Layer ####\n",
        "model.add(Conv2D(filters=32, kernel_size=(3,3), padding='same',\n",
        "                 activation='relu', input_shape=(100, 100, 3)))\n",
        "\n",
        "#### Convolutional Layers ####\n",
        "model.add(Conv2D(32, (3,3), activation='relu'))\n",
        "model.add(MaxPooling2D((2,2)))  # Pooling\n",
        "model.add(Dropout(0.2)) # Dropout\n",
        "\n",
        "model.add(Conv2D(64, (3,3), padding='same', activation='relu'))\n",
        "model.add(Conv2D(64, (3,3), activation='relu'))\n",
        "model.add(MaxPooling2D((2,2)))\n",
        "model.add(Dropout(0.2))\n",
        "\n",
        "model.add(Conv2D(128, (3,3), padding='same', activation='relu'))\n",
        "model.add(Conv2D(128, (3,3), activation='relu'))\n",
        "model.add(Activation('relu'))\n",
        "model.add(MaxPooling2D((2,2)))\n",
        "model.add(Dropout(0.2))\n",
        "\n",
        "model.add(Conv2D(512, (5,5), padding='same', activation='relu'))\n",
        "model.add(Conv2D(512, (5,5), activation='relu'))\n",
        "model.add(MaxPooling2D((4,4)))\n",
        "model.add(Dropout(0.2))\n",
        "\n",
        "#### Fully-Connected Layer ####\n",
        "model.add(Flatten())\n",
        "model.add(Dense(1024, activation='relu'))\n",
        "model.add(Dropout(0.2))\n",
        "model.add(Dense(16, activation='softmax'))\n",
        "\n",
        "model.summary() # a handy way to inspect the architecture"
      ],
      "metadata": {
        "id": "CJYYN_-QHdfX",
        "outputId": "c799d143-725c-414f-a3f9-d256015a2256",
        "colab": {
          "base_uri": "https://localhost:8080/"
        }
      },
      "execution_count": 25,
      "outputs": [
        {
          "output_type": "stream",
          "name": "stdout",
          "text": [
            "Model: \"sequential_3\"\n",
            "_________________________________________________________________\n",
            " Layer (type)                Output Shape              Param #   \n",
            "=================================================================\n",
            " conv2d_14 (Conv2D)          (None, 100, 100, 32)      896       \n",
            "                                                                 \n",
            " conv2d_15 (Conv2D)          (None, 98, 98, 32)        9248      \n",
            "                                                                 \n",
            " max_pooling2d_8 (MaxPooling  (None, 49, 49, 32)       0         \n",
            " 2D)                                                             \n",
            "                                                                 \n",
            " dropout_5 (Dropout)         (None, 49, 49, 32)        0         \n",
            "                                                                 \n",
            " conv2d_16 (Conv2D)          (None, 49, 49, 64)        18496     \n",
            "                                                                 \n",
            " conv2d_17 (Conv2D)          (None, 47, 47, 64)        36928     \n",
            "                                                                 \n",
            " max_pooling2d_9 (MaxPooling  (None, 23, 23, 64)       0         \n",
            " 2D)                                                             \n",
            "                                                                 \n",
            " dropout_6 (Dropout)         (None, 23, 23, 64)        0         \n",
            "                                                                 \n",
            " conv2d_18 (Conv2D)          (None, 23, 23, 128)       73856     \n",
            "                                                                 \n",
            " conv2d_19 (Conv2D)          (None, 21, 21, 128)       147584    \n",
            "                                                                 \n",
            " activation_1 (Activation)   (None, 21, 21, 128)       0         \n",
            "                                                                 \n",
            " max_pooling2d_10 (MaxPoolin  (None, 10, 10, 128)      0         \n",
            " g2D)                                                            \n",
            "                                                                 \n",
            " dropout_7 (Dropout)         (None, 10, 10, 128)       0         \n",
            "                                                                 \n",
            " conv2d_20 (Conv2D)          (None, 10, 10, 512)       1638912   \n",
            "                                                                 \n",
            " conv2d_21 (Conv2D)          (None, 6, 6, 512)         6554112   \n",
            "                                                                 \n",
            " max_pooling2d_11 (MaxPoolin  (None, 1, 1, 512)        0         \n",
            " g2D)                                                            \n",
            "                                                                 \n",
            " dropout_8 (Dropout)         (None, 1, 1, 512)         0         \n",
            "                                                                 \n",
            " flatten_3 (Flatten)         (None, 512)               0         \n",
            "                                                                 \n",
            " dense_5 (Dense)             (None, 1024)              525312    \n",
            "                                                                 \n",
            " dropout_9 (Dropout)         (None, 1024)              0         \n",
            "                                                                 \n",
            " dense_6 (Dense)             (None, 16)                16400     \n",
            "                                                                 \n",
            "=================================================================\n",
            "Total params: 9,021,744\n",
            "Trainable params: 9,021,744\n",
            "Non-trainable params: 0\n",
            "_________________________________________________________________\n"
          ]
        }
      ]
    },
    {
      "cell_type": "code",
      "source": [
        "model.compile(optimizer=RMSprop(learning_rate=0.0001), \n",
        "             loss=tf.keras.losses.SparseCategoricalCrossentropy(from_logits=True),\n",
        "             metrics=['accuracy'])\n",
        "\n",
        "history = model.fit(X_train, y_train, epochs=50, \n",
        "                    validation_data=(X_test, y_test))"
      ],
      "metadata": {
        "id": "_t8vlH_-HpMY",
        "outputId": "2ece55e9-5e54-4aac-d56a-8f6002289af3",
        "colab": {
          "base_uri": "https://localhost:8080/"
        }
      },
      "execution_count": 42,
      "outputs": [
        {
          "output_type": "stream",
          "name": "stdout",
          "text": [
            "Epoch 1/50\n"
          ]
        },
        {
          "output_type": "stream",
          "name": "stderr",
          "text": [
            "/usr/local/lib/python3.7/dist-packages/tensorflow/python/util/dispatch.py:1082: UserWarning: \"`sparse_categorical_crossentropy` received `from_logits=True`, but the `output` argument was produced by a sigmoid or softmax activation and thus does not represent logits. Was this intended?\"\n",
            "  return dispatch_target(*args, **kwargs)\n"
          ]
        },
        {
          "output_type": "stream",
          "name": "stdout",
          "text": [
            "217/217 [==============================] - 17s 65ms/step - loss: 0.2917 - accuracy: 0.8959 - val_loss: 3.1318 - val_accuracy: 0.5057\n",
            "Epoch 2/50\n",
            "217/217 [==============================] - 13s 60ms/step - loss: 0.2249 - accuracy: 0.9207 - val_loss: 3.4067 - val_accuracy: 0.5101\n",
            "Epoch 3/50\n",
            "217/217 [==============================] - 13s 61ms/step - loss: 0.2154 - accuracy: 0.9232 - val_loss: 3.5194 - val_accuracy: 0.5091\n",
            "Epoch 4/50\n",
            "217/217 [==============================] - 13s 61ms/step - loss: 0.1993 - accuracy: 0.9277 - val_loss: 3.6269 - val_accuracy: 0.5057\n",
            "Epoch 5/50\n",
            "217/217 [==============================] - 13s 61ms/step - loss: 0.1943 - accuracy: 0.9323 - val_loss: 3.7540 - val_accuracy: 0.5105\n",
            "Epoch 6/50\n",
            "217/217 [==============================] - 13s 62ms/step - loss: 0.1880 - accuracy: 0.9349 - val_loss: 3.7367 - val_accuracy: 0.5101\n",
            "Epoch 7/50\n",
            "217/217 [==============================] - 13s 61ms/step - loss: 0.1902 - accuracy: 0.9358 - val_loss: 3.8282 - val_accuracy: 0.5081\n",
            "Epoch 8/50\n",
            "217/217 [==============================] - 15s 69ms/step - loss: 0.1699 - accuracy: 0.9432 - val_loss: 3.8521 - val_accuracy: 0.5115\n",
            "Epoch 9/50\n",
            "217/217 [==============================] - 13s 62ms/step - loss: 0.1757 - accuracy: 0.9411 - val_loss: 4.0705 - val_accuracy: 0.5084\n",
            "Epoch 10/50\n",
            "217/217 [==============================] - 13s 62ms/step - loss: 0.1675 - accuracy: 0.9421 - val_loss: 4.1211 - val_accuracy: 0.5132\n",
            "Epoch 11/50\n",
            "217/217 [==============================] - 14s 63ms/step - loss: 0.1606 - accuracy: 0.9446 - val_loss: 4.2224 - val_accuracy: 0.5084\n",
            "Epoch 12/50\n",
            "217/217 [==============================] - 13s 62ms/step - loss: 0.1590 - accuracy: 0.9485 - val_loss: 4.3556 - val_accuracy: 0.5098\n",
            "Epoch 13/50\n",
            "217/217 [==============================] - 13s 62ms/step - loss: 0.1479 - accuracy: 0.9501 - val_loss: 4.3505 - val_accuracy: 0.5142\n",
            "Epoch 14/50\n",
            "217/217 [==============================] - 13s 62ms/step - loss: 0.1433 - accuracy: 0.9494 - val_loss: 4.4936 - val_accuracy: 0.5081\n",
            "Epoch 15/50\n",
            "217/217 [==============================] - 14s 62ms/step - loss: 0.1613 - accuracy: 0.9469 - val_loss: 4.3734 - val_accuracy: 0.5108\n",
            "Epoch 16/50\n",
            "217/217 [==============================] - 14s 62ms/step - loss: 0.1449 - accuracy: 0.9478 - val_loss: 4.5437 - val_accuracy: 0.5101\n",
            "Epoch 17/50\n",
            "217/217 [==============================] - 14s 63ms/step - loss: 0.1476 - accuracy: 0.9472 - val_loss: 4.6891 - val_accuracy: 0.5111\n",
            "Epoch 18/50\n",
            "217/217 [==============================] - 14s 63ms/step - loss: 0.1483 - accuracy: 0.9469 - val_loss: 4.5478 - val_accuracy: 0.5071\n",
            "Epoch 19/50\n",
            "217/217 [==============================] - 14s 63ms/step - loss: 0.1442 - accuracy: 0.9492 - val_loss: 4.6782 - val_accuracy: 0.5067\n",
            "Epoch 20/50\n",
            "217/217 [==============================] - 14s 64ms/step - loss: 0.1346 - accuracy: 0.9537 - val_loss: 4.8039 - val_accuracy: 0.5108\n",
            "Epoch 21/50\n",
            "217/217 [==============================] - 14s 63ms/step - loss: 0.1370 - accuracy: 0.9500 - val_loss: 4.7773 - val_accuracy: 0.5094\n",
            "Epoch 22/50\n",
            "217/217 [==============================] - 14s 63ms/step - loss: 0.1432 - accuracy: 0.9507 - val_loss: 4.8563 - val_accuracy: 0.5094\n",
            "Epoch 23/50\n",
            "217/217 [==============================] - 14s 65ms/step - loss: 0.1333 - accuracy: 0.9552 - val_loss: 4.9331 - val_accuracy: 0.5108\n",
            "Epoch 24/50\n",
            "217/217 [==============================] - 14s 63ms/step - loss: 0.1464 - accuracy: 0.9526 - val_loss: 4.8712 - val_accuracy: 0.5135\n",
            "Epoch 25/50\n",
            "217/217 [==============================] - 14s 63ms/step - loss: 0.1292 - accuracy: 0.9552 - val_loss: 5.0502 - val_accuracy: 0.5125\n",
            "Epoch 26/50\n",
            "217/217 [==============================] - 14s 63ms/step - loss: 0.1326 - accuracy: 0.9540 - val_loss: 5.0597 - val_accuracy: 0.5142\n",
            "Epoch 27/50\n",
            "217/217 [==============================] - 14s 64ms/step - loss: 0.1356 - accuracy: 0.9537 - val_loss: 5.0730 - val_accuracy: 0.5121\n",
            "Epoch 28/50\n",
            "217/217 [==============================] - 14s 64ms/step - loss: 0.1332 - accuracy: 0.9573 - val_loss: 5.1292 - val_accuracy: 0.5118\n",
            "Epoch 29/50\n",
            "217/217 [==============================] - 14s 64ms/step - loss: 0.1292 - accuracy: 0.9560 - val_loss: 5.1528 - val_accuracy: 0.5111\n",
            "Epoch 30/50\n",
            "217/217 [==============================] - 14s 64ms/step - loss: 0.1255 - accuracy: 0.9562 - val_loss: 5.3128 - val_accuracy: 0.5057\n",
            "Epoch 31/50\n",
            "217/217 [==============================] - 14s 64ms/step - loss: 0.1200 - accuracy: 0.9576 - val_loss: 5.3019 - val_accuracy: 0.5111\n",
            "Epoch 32/50\n",
            "217/217 [==============================] - 14s 64ms/step - loss: 0.1214 - accuracy: 0.9570 - val_loss: 5.3429 - val_accuracy: 0.5057\n",
            "Epoch 33/50\n",
            "217/217 [==============================] - 14s 64ms/step - loss: 0.1227 - accuracy: 0.9589 - val_loss: 5.2530 - val_accuracy: 0.5071\n",
            "Epoch 34/50\n",
            "217/217 [==============================] - 14s 64ms/step - loss: 0.1168 - accuracy: 0.9591 - val_loss: 5.3386 - val_accuracy: 0.5105\n",
            "Epoch 35/50\n",
            "217/217 [==============================] - 14s 64ms/step - loss: 0.1179 - accuracy: 0.9599 - val_loss: 5.4519 - val_accuracy: 0.5057\n",
            "Epoch 36/50\n",
            "217/217 [==============================] - 14s 64ms/step - loss: 0.1229 - accuracy: 0.9583 - val_loss: 5.5840 - val_accuracy: 0.5081\n",
            "Epoch 37/50\n",
            "217/217 [==============================] - 14s 67ms/step - loss: 0.1283 - accuracy: 0.9573 - val_loss: 5.4307 - val_accuracy: 0.5078\n",
            "Epoch 38/50\n",
            "217/217 [==============================] - 15s 67ms/step - loss: 0.1164 - accuracy: 0.9607 - val_loss: 5.5676 - val_accuracy: 0.5094\n",
            "Epoch 39/50\n",
            "217/217 [==============================] - 14s 65ms/step - loss: 0.1183 - accuracy: 0.9604 - val_loss: 5.5567 - val_accuracy: 0.5064\n",
            "Epoch 40/50\n",
            "217/217 [==============================] - 14s 65ms/step - loss: 0.1238 - accuracy: 0.9602 - val_loss: 5.6180 - val_accuracy: 0.5067\n",
            "Epoch 41/50\n",
            "217/217 [==============================] - 14s 66ms/step - loss: 0.1191 - accuracy: 0.9604 - val_loss: 5.6107 - val_accuracy: 0.5088\n",
            "Epoch 42/50\n",
            "217/217 [==============================] - 14s 65ms/step - loss: 0.1168 - accuracy: 0.9614 - val_loss: 5.6981 - val_accuracy: 0.5061\n",
            "Epoch 43/50\n",
            "217/217 [==============================] - 14s 65ms/step - loss: 0.1199 - accuracy: 0.9607 - val_loss: 5.6337 - val_accuracy: 0.5024\n",
            "Epoch 44/50\n",
            "217/217 [==============================] - 14s 64ms/step - loss: 0.1087 - accuracy: 0.9625 - val_loss: 5.7915 - val_accuracy: 0.5064\n",
            "Epoch 45/50\n",
            "217/217 [==============================] - 14s 64ms/step - loss: 0.1096 - accuracy: 0.9656 - val_loss: 5.9205 - val_accuracy: 0.5081\n",
            "Epoch 46/50\n",
            "217/217 [==============================] - 14s 64ms/step - loss: 0.1171 - accuracy: 0.9588 - val_loss: 5.8327 - val_accuracy: 0.5084\n",
            "Epoch 47/50\n",
            "217/217 [==============================] - 14s 65ms/step - loss: 0.1153 - accuracy: 0.9621 - val_loss: 5.9647 - val_accuracy: 0.5074\n",
            "Epoch 48/50\n",
            "217/217 [==============================] - 14s 64ms/step - loss: 0.1081 - accuracy: 0.9650 - val_loss: 5.8612 - val_accuracy: 0.5148\n",
            "Epoch 49/50\n",
            "217/217 [==============================] - 14s 64ms/step - loss: 0.1118 - accuracy: 0.9633 - val_loss: 6.0018 - val_accuracy: 0.5111\n",
            "Epoch 50/50\n",
            "217/217 [==============================] - 14s 65ms/step - loss: 0.1046 - accuracy: 0.9647 - val_loss: 6.0402 - val_accuracy: 0.5088\n"
          ]
        }
      ]
    },
    {
      "cell_type": "code",
      "source": [
        "plt.plot(history.history['accuracy'], label='accuracy')\n",
        "plt.plot(history.history['val_accuracy'], label = 'val_accuracy')\n",
        "plt.xlabel('Epoch')\n",
        "plt.ylabel('Accuracy')\n",
        "plt.ylim([0, 1])\n",
        "plt.legend(loc='lower right')"
      ],
      "metadata": {
        "id": "dg0ogPJPKcwE",
        "outputId": "0d269d02-1c8e-4dbc-c792-3d9639e2be73",
        "colab": {
          "base_uri": "https://localhost:8080/",
          "height": 300
        }
      },
      "execution_count": 43,
      "outputs": [
        {
          "output_type": "execute_result",
          "data": {
            "text/plain": [
              "<matplotlib.legend.Legend at 0x7f15052a1a90>"
            ]
          },
          "metadata": {},
          "execution_count": 43
        },
        {
          "output_type": "display_data",
          "data": {
            "text/plain": [
              "<Figure size 432x288 with 1 Axes>"
            ],
            "image/png": "[encoded data removed]"
          },
          "metadata": {
            "needs_background": "light"
          }
        }
      ]
    },
    {
      "cell_type": "code",
      "source": [
        "%%time\n",
        "\n",
        "from tensorflow.keras.optimizers import RMSprop\n",
        "from keras.callbacks import ModelCheckpoint, EarlyStopping, TensorBoard\n",
        "from livelossplot import PlotLossesKeras\n",
        "from livelossplot.keras import PlotLossesCallback\n",
        "'''\n",
        "BATCH_SIZE = 32\n",
        "steps_per_epoch = X_train.shape[0] // BATCH_SIZE\n",
        "val_steps = y_train.shape[0] // BATCH_SIZE\n",
        "'''\n",
        "n_epochs = 50\n",
        "\n",
        "optimizer = RMSprop(learning_rate=0.0001)\n",
        "\n",
        "model.compile(loss='categorical_crossentropy', optimizer=optimizer, metrics=['accuracy'])\n",
        "\n",
        "# Saves Keras model after each epoch\n",
        "checkpointer = ModelCheckpoint(filepath='img_model.weights.best.hdf5', \n",
        "                               verbose=1, \n",
        "                               save_best_only=True)\n",
        "\n",
        "# Early stopping to prevent overtraining and to ensure decreasing validation loss\n",
        "early_stop = EarlyStopping(monitor='val_loss',\n",
        "                           patience=10,\n",
        "                           restore_best_weights=True,\n",
        "                           mode='min')\n",
        "\n",
        "# tensorboard_callback = TensorBoard(log_dir=\"./logs\")\n",
        "\n",
        "# Actual fitting of the model\n",
        "history = model.fit(X_train,\n",
        "                    y_train,\n",
        "                    epochs=n_epochs, \n",
        "                    #steps_per_epoch=steps_per_epoch,\n",
        "                    validation_data=(X_test, y_test),\n",
        "                    #validation_steps=val_steps,\n",
        "                    callbacks=[early_stop, checkpointer, PlotLossesKeras()],\n",
        "                    verbose=False)"
      ],
      "metadata": {
        "id": "VDffXgcaIRK5"
      },
      "execution_count": null,
      "outputs": []
    },
    {
      "cell_type": "code",
      "source": [
        "import joblib\n",
        "\n",
        "joblib.dump(classifier_svc_pca, '/content/drive/MyDrive/TFM_Máster BDDS/Modelos/modelo_CNN_variedad_features100.pkl')"
      ],
      "metadata": {
        "colab": {
          "base_uri": "https://localhost:8080/"
        },
        "id": "MeNRB9fot_2X",
        "outputId": "9b4f01e0-36b2-48b4-edeb-83b9a51a89e5"
      },
      "execution_count": null,
      "outputs": [
        {
          "output_type": "execute_result",
          "data": {
            "text/plain": [
              "['/content/drive/MyDrive/TFM_Máster BDDS/Modelos/modelo_svm_variedad_features100.pkl']"
            ]
          },
          "metadata": {},
          "execution_count": 44
        }
      ]
    }
  ]
}