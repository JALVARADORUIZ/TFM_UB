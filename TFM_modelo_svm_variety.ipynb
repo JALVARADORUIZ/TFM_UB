{
  "cells": [
    {
      "cell_type": "markdown",
      "metadata": {
        "id": "view-in-github",
        "colab_type": "text"
      },
      "source": [
        "<a href=\"https://colab.research.google.com/github/JALVARADORUIZ/TFM_UB/blob/main/TFM_modelo_svm_variety.ipynb\" target=\"_parent\"><img src=\"https://colab.research.google.com/assets/colab-badge.svg\" alt=\"Open In Colab\"/></a>"
      ]
    },
    {
      "cell_type": "markdown",
      "source": [
        "#### **PREPARACIÓN DEL ENTORNO**\n"
      ],
      "metadata": {
        "id": "FLTq6isNiaH6"
      }
    },
    {
      "cell_type": "code",
      "execution_count": 8,
      "metadata": {
        "colab": {
          "base_uri": "https://localhost:8080/"
        },
        "id": "VPJw3RMIQwXB",
        "outputId": "d9615701-0948-4e11-9460-a5cb30e64f59"
      },
      "outputs": [
        {
          "output_type": "stream",
          "name": "stdout",
          "text": [
            "Mounted at /content/drive\n"
          ]
        }
      ],
      "source": [
        "from google.colab import drive\n",
        "drive.mount('/content/drive', force_remount=True)"
      ]
    },
    {
      "cell_type": "code",
      "execution_count": 2,
      "metadata": {
        "id": "1zMzPgLwQaqP"
      },
      "outputs": [],
      "source": [
        "from keras.preprocessing.image import load_img \n",
        "from keras.preprocessing.image import img_to_array \n",
        "from keras.applications.vgg16 import preprocess_input "
      ]
    },
    {
      "cell_type": "code",
      "execution_count": 15,
      "metadata": {
        "id": "IRdsxZ_SRtUs"
      },
      "outputs": [],
      "source": [
        "import os\n",
        "import numpy as np\n",
        "import matplotlib.pyplot as plt\n",
        "from random import randint\n",
        "import pandas as pd\n",
        "import pickle\n",
        "from tqdm import tqdm\n",
        "tqdm.pandas()\n",
        "\n",
        "from sklearn.preprocessing import LabelEncoder\n",
        "from sklearn.pipeline import make_pipeline\n",
        "from sklearn.decomposition import PCA\n",
        "from sklearn.preprocessing import StandardScaler\n",
        "from sklearn.model_selection import GridSearchCV, cross_val_score\n",
        "from sklearn.model_selection import train_test_split\n",
        "from sklearn.neighbors import KNeighborsClassifier\n",
        "from sklearn.metrics import classification_report, confusion_matrix, accuracy_score"
      ]
    },
    {
      "cell_type": "code",
      "execution_count": 5,
      "metadata": {
        "id": "V2z2JtdGR3eA"
      },
      "outputs": [],
      "source": [
        "import os\n",
        "import numpy as np\n",
        "import matplotlib.pyplot as plt\n",
        "from random import randint\n",
        "import pandas as pd\n",
        "import pickle\n",
        "from tqdm import tqdm"
      ]
    },
    {
      "cell_type": "code",
      "source": [
        "tqdm.pandas()"
      ],
      "metadata": {
        "id": "_xn42MItVWO6"
      },
      "execution_count": 6,
      "outputs": []
    },
    {
      "cell_type": "markdown",
      "source": [
        "#### **PREPROCESADO DE IMÁGENES**\n"
      ],
      "metadata": {
        "id": "85iLqKkpixwp"
      }
    },
    {
      "cell_type": "code",
      "execution_count": 74,
      "metadata": {
        "id": "OddYFUsXR6zI"
      },
      "outputs": [],
      "source": [
        "data = '/content/drive/MyDrive/DATAWINE/df_img_processed2.csv'\n",
        "\n",
        "df = pd.read_csv(data)"
      ]
    },
    {
      "cell_type": "markdown",
      "source": [
        "Analisis de las etiquetas asociadas a cada una de las imagenes:"
      ],
      "metadata": {
        "id": "rUTOWsj-C3JB"
      }
    },
    {
      "cell_type": "code",
      "source": [
        "df.head(5)"
      ],
      "metadata": {
        "colab": {
          "base_uri": "https://localhost:8080/",
          "height": 612
        },
        "id": "zjoNRJiDOTGP",
        "outputId": "3ed9ddb3-d371-40ed-82d2-22e7c7da18ee"
      },
      "execution_count": 10,
      "outputs": [
        {
          "output_type": "execute_result",
          "data": {
            "text/plain": [
              "              winery                                            product  \\\n",
              "0    cathedral ridge  cathedral ridge bangsund vineyard pinot noir 2006   \n",
              "1           penfolds                           penfolds rwt shiraz 2005   \n",
              "2  marques de riscal       marques de riscal frank gehry selection 2001   \n",
              "3            wyndham                    wyndham pinot noir bin 333 2007   \n",
              "4        louis jadot    louis jadot chevalier montrachet grand cru 2006   \n",
              "\n",
              "                           region country_code  rating       variety  \\\n",
              "0          columbia valley oregon           us     3.5    pinot noir   \n",
              "1                  barossa valley           au     4.5  shiraz syrah   \n",
              "2                           rioja           es     5.0   tempranillo   \n",
              "3         south eastern australia           au     4.0    pinot noir   \n",
              "4  chevalier montrachet grand cru           fr     5.0    chardonnay   \n",
              "\n",
              "    price_usd                                              image  \\\n",
              "0  163.000000  vintage-images/MBo5T9ZQQQGbzsRmVORp-w_pl_480x6...   \n",
              "1  169.950000  vintage-images/dDyTwzIfQC68MCUgjmYWpw_pl_480x6...   \n",
              "2  357.196682  vintage-images/t44NPpbUT6uy0vRt4VD2RQ_pl_480x6...   \n",
              "3   10.990000  vintage-images/v1RahJe2QQyp4oAFOv90bA_pl_480x6...   \n",
              "4  309.990000  vintage-images/VlMihlZUQE6US7fr09w5ZA_pl_480x6...   \n",
              "\n",
              "      continente country_code_clean  ...      4086      4087      4088  \\\n",
              "0  north america      united states  ...  0.000000  2.723852  0.112117   \n",
              "1        oceania          australia  ...  1.020779  0.000000  0.000000   \n",
              "2         europe              spain  ...  0.000000  0.555558  0.000000   \n",
              "3        oceania          australia  ...  0.000000  1.728447  0.707242   \n",
              "4         europe             france  ...  0.000000  2.167833  0.000000   \n",
              "\n",
              "       4089 4090  4091      4092  4093  4094      4095  \n",
              "0  1.256278  0.0   0.0  0.688721   0.0   0.0  0.641749  \n",
              "1  2.622155  0.0   0.0  0.290430   0.0   0.0  0.000000  \n",
              "2  0.656157  0.0   0.0  0.000000   0.0   0.0  1.079562  \n",
              "3  0.000000  0.0   0.0  0.000000   0.0   0.0  1.881952  \n",
              "4  0.000000  0.0   0.0  0.400719   0.0   0.0  2.144384  \n",
              "\n",
              "[5 rows x 4111 columns]"
            ],
            "text/html": [
              "\n",
              "  <div id=\"df-29af7a73-dd3a-4563-92f9-dbeb2a8ce008\">\n",
              "    <div class=\"colab-df-container\">\n",
              "      <div>\n",
              "<style scoped>\n",
              "    .dataframe tbody tr th:only-of-type {\n",
              "        vertical-align: middle;\n",
              "    }\n",
              "\n",
              "    .dataframe tbody tr th {\n",
              "        vertical-align: top;\n",
              "    }\n",
              "\n",
              "    .dataframe thead th {\n",
              "        text-align: right;\n",
              "    }\n",
              "</style>\n",
              "<table border=\"1\" class=\"dataframe\">\n",
              "  <thead>\n",
              "    <tr style=\"text-align: right;\">\n",
              "      <th></th>\n",
              "      <th>winery</th>\n",
              "      <th>product</th>\n",
              "      <th>region</th>\n",
              "      <th>country_code</th>\n",
              "      <th>rating</th>\n",
              "      <th>variety</th>\n",
              "      <th>price_usd</th>\n",
              "      <th>image</th>\n",
              "      <th>continente</th>\n",
              "      <th>country_code_clean</th>\n",
              "      <th>...</th>\n",
              "      <th>4086</th>\n",
              "      <th>4087</th>\n",
              "      <th>4088</th>\n",
              "      <th>4089</th>\n",
              "      <th>4090</th>\n",
              "      <th>4091</th>\n",
              "      <th>4092</th>\n",
              "      <th>4093</th>\n",
              "      <th>4094</th>\n",
              "      <th>4095</th>\n",
              "    </tr>\n",
              "  </thead>\n",
              "  <tbody>\n",
              "    <tr>\n",
              "      <th>0</th>\n",
              "      <td>cathedral ridge</td>\n",
              "      <td>cathedral ridge bangsund vineyard pinot noir 2006</td>\n",
              "      <td>columbia valley oregon</td>\n",
              "      <td>us</td>\n",
              "      <td>3.5</td>\n",
              "      <td>pinot noir</td>\n",
              "      <td>163.000000</td>\n",
              "      <td>vintage-images/MBo5T9ZQQQGbzsRmVORp-w_pl_480x6...</td>\n",
              "      <td>north america</td>\n",
              "      <td>united states</td>\n",
              "      <td>...</td>\n",
              "      <td>0.000000</td>\n",
              "      <td>2.723852</td>\n",
              "      <td>0.112117</td>\n",
              "      <td>1.256278</td>\n",
              "      <td>0.0</td>\n",
              "      <td>0.0</td>\n",
              "      <td>0.688721</td>\n",
              "      <td>0.0</td>\n",
              "      <td>0.0</td>\n",
              "      <td>0.641749</td>\n",
              "    </tr>\n",
              "    <tr>\n",
              "      <th>1</th>\n",
              "      <td>penfolds</td>\n",
              "      <td>penfolds rwt shiraz 2005</td>\n",
              "      <td>barossa valley</td>\n",
              "      <td>au</td>\n",
              "      <td>4.5</td>\n",
              "      <td>shiraz syrah</td>\n",
              "      <td>169.950000</td>\n",
              "      <td>vintage-images/dDyTwzIfQC68MCUgjmYWpw_pl_480x6...</td>\n",
              "      <td>oceania</td>\n",
              "      <td>australia</td>\n",
              "      <td>...</td>\n",
              "      <td>1.020779</td>\n",
              "      <td>0.000000</td>\n",
              "      <td>0.000000</td>\n",
              "      <td>2.622155</td>\n",
              "      <td>0.0</td>\n",
              "      <td>0.0</td>\n",
              "      <td>0.290430</td>\n",
              "      <td>0.0</td>\n",
              "      <td>0.0</td>\n",
              "      <td>0.000000</td>\n",
              "    </tr>\n",
              "    <tr>\n",
              "      <th>2</th>\n",
              "      <td>marques de riscal</td>\n",
              "      <td>marques de riscal frank gehry selection 2001</td>\n",
              "      <td>rioja</td>\n",
              "      <td>es</td>\n",
              "      <td>5.0</td>\n",
              "      <td>tempranillo</td>\n",
              "      <td>357.196682</td>\n",
              "      <td>vintage-images/t44NPpbUT6uy0vRt4VD2RQ_pl_480x6...</td>\n",
              "      <td>europe</td>\n",
              "      <td>spain</td>\n",
              "      <td>...</td>\n",
              "      <td>0.000000</td>\n",
              "      <td>0.555558</td>\n",
              "      <td>0.000000</td>\n",
              "      <td>0.656157</td>\n",
              "      <td>0.0</td>\n",
              "      <td>0.0</td>\n",
              "      <td>0.000000</td>\n",
              "      <td>0.0</td>\n",
              "      <td>0.0</td>\n",
              "      <td>1.079562</td>\n",
              "    </tr>\n",
              "    <tr>\n",
              "      <th>3</th>\n",
              "      <td>wyndham</td>\n",
              "      <td>wyndham pinot noir bin 333 2007</td>\n",
              "      <td>south eastern australia</td>\n",
              "      <td>au</td>\n",
              "      <td>4.0</td>\n",
              "      <td>pinot noir</td>\n",
              "      <td>10.990000</td>\n",
              "      <td>vintage-images/v1RahJe2QQyp4oAFOv90bA_pl_480x6...</td>\n",
              "      <td>oceania</td>\n",
              "      <td>australia</td>\n",
              "      <td>...</td>\n",
              "      <td>0.000000</td>\n",
              "      <td>1.728447</td>\n",
              "      <td>0.707242</td>\n",
              "      <td>0.000000</td>\n",
              "      <td>0.0</td>\n",
              "      <td>0.0</td>\n",
              "      <td>0.000000</td>\n",
              "      <td>0.0</td>\n",
              "      <td>0.0</td>\n",
              "      <td>1.881952</td>\n",
              "    </tr>\n",
              "    <tr>\n",
              "      <th>4</th>\n",
              "      <td>louis jadot</td>\n",
              "      <td>louis jadot chevalier montrachet grand cru 2006</td>\n",
              "      <td>chevalier montrachet grand cru</td>\n",
              "      <td>fr</td>\n",
              "      <td>5.0</td>\n",
              "      <td>chardonnay</td>\n",
              "      <td>309.990000</td>\n",
              "      <td>vintage-images/VlMihlZUQE6US7fr09w5ZA_pl_480x6...</td>\n",
              "      <td>europe</td>\n",
              "      <td>france</td>\n",
              "      <td>...</td>\n",
              "      <td>0.000000</td>\n",
              "      <td>2.167833</td>\n",
              "      <td>0.000000</td>\n",
              "      <td>0.000000</td>\n",
              "      <td>0.0</td>\n",
              "      <td>0.0</td>\n",
              "      <td>0.400719</td>\n",
              "      <td>0.0</td>\n",
              "      <td>0.0</td>\n",
              "      <td>2.144384</td>\n",
              "    </tr>\n",
              "  </tbody>\n",
              "</table>\n",
              "<p>5 rows × 4111 columns</p>\n",
              "</div>\n",
              "      <button class=\"colab-df-convert\" onclick=\"convertToInteractive('df-29af7a73-dd3a-4563-92f9-dbeb2a8ce008')\"\n",
              "              title=\"Convert this dataframe to an interactive table.\"\n",
              "              style=\"display:none;\">\n",
              "        \n",
              "  <svg xmlns=\"http://www.w3.org/2000/svg\" height=\"24px\"viewBox=\"0 0 24 24\"\n",
              "       width=\"24px\">\n",
              "    <path d=\"M0 0h24v24H0V0z\" fill=\"none\"/>\n",
              "    <path d=\"M18.56 5.44l.94 2.06.94-2.06 2.06-.94-2.06-.94-.94-2.06-.94 2.06-2.06.94zm-11 1L8.5 8.5l.94-2.06 2.06-.94-2.06-.94L8.5 2.5l-.94 2.06-2.06.94zm10 10l.94 2.06.94-2.06 2.06-.94-2.06-.94-.94-2.06-.94 2.06-2.06.94z\"/><path d=\"M17.41 7.96l-1.37-1.37c-.4-.4-.92-.59-1.43-.59-.52 0-1.04.2-1.43.59L10.3 9.45l-7.72 7.72c-.78.78-.78 2.05 0 2.83L4 21.41c.39.39.9.59 1.41.59.51 0 1.02-.2 1.41-.59l7.78-7.78 2.81-2.81c.8-.78.8-2.07 0-2.86zM5.41 20L4 18.59l7.72-7.72 1.47 1.35L5.41 20z\"/>\n",
              "  </svg>\n",
              "      </button>\n",
              "      \n",
              "  <style>\n",
              "    .colab-df-container {\n",
              "      display:flex;\n",
              "      flex-wrap:wrap;\n",
              "      gap: 12px;\n",
              "    }\n",
              "\n",
              "    .colab-df-convert {\n",
              "      background-color: #E8F0FE;\n",
              "      border: none;\n",
              "      border-radius: 50%;\n",
              "      cursor: pointer;\n",
              "      display: none;\n",
              "      fill: #1967D2;\n",
              "      height: 32px;\n",
              "      padding: 0 0 0 0;\n",
              "      width: 32px;\n",
              "    }\n",
              "\n",
              "    .colab-df-convert:hover {\n",
              "      background-color: #E2EBFA;\n",
              "      box-shadow: 0px 1px 2px rgba(60, 64, 67, 0.3), 0px 1px 3px 1px rgba(60, 64, 67, 0.15);\n",
              "      fill: #174EA6;\n",
              "    }\n",
              "\n",
              "    [theme=dark] .colab-df-convert {\n",
              "      background-color: #3B4455;\n",
              "      fill: #D2E3FC;\n",
              "    }\n",
              "\n",
              "    [theme=dark] .colab-df-convert:hover {\n",
              "      background-color: #434B5C;\n",
              "      box-shadow: 0px 1px 3px 1px rgba(0, 0, 0, 0.15);\n",
              "      filter: drop-shadow(0px 1px 2px rgba(0, 0, 0, 0.3));\n",
              "      fill: #FFFFFF;\n",
              "    }\n",
              "  </style>\n",
              "\n",
              "      <script>\n",
              "        const buttonEl =\n",
              "          document.querySelector('#df-29af7a73-dd3a-4563-92f9-dbeb2a8ce008 button.colab-df-convert');\n",
              "        buttonEl.style.display =\n",
              "          google.colab.kernel.accessAllowed ? 'block' : 'none';\n",
              "\n",
              "        async function convertToInteractive(key) {\n",
              "          const element = document.querySelector('#df-29af7a73-dd3a-4563-92f9-dbeb2a8ce008');\n",
              "          const dataTable =\n",
              "            await google.colab.kernel.invokeFunction('convertToInteractive',\n",
              "                                                     [key], {});\n",
              "          if (!dataTable) return;\n",
              "\n",
              "          const docLinkHtml = 'Like what you see? Visit the ' +\n",
              "            '<a target=\"_blank\" href=https://colab.research.google.com/notebooks/data_table.ipynb>data table notebook</a>'\n",
              "            + ' to learn more about interactive tables.';\n",
              "          element.innerHTML = '';\n",
              "          dataTable['output_type'] = 'display_data';\n",
              "          await google.colab.output.renderOutput(dataTable, element);\n",
              "          const docLink = document.createElement('div');\n",
              "          docLink.innerHTML = docLinkHtml;\n",
              "          element.appendChild(docLink);\n",
              "        }\n",
              "      </script>\n",
              "    </div>\n",
              "  </div>\n",
              "  "
            ]
          },
          "metadata": {},
          "execution_count": 10
        }
      ]
    },
    {
      "cell_type": "code",
      "source": [
        "df_variety = df['variety'].value_counts().rename_axis('variety').to_frame('counts')\n",
        "df_variety"
      ],
      "metadata": {
        "colab": {
          "base_uri": "https://localhost:8080/",
          "height": 455
        },
        "id": "B1iVbM0krHlc",
        "outputId": "920543a1-d306-4a0d-d9b1-e52e19d76696"
      },
      "execution_count": 75,
      "outputs": [
        {
          "output_type": "execute_result",
          "data": {
            "text/plain": [
              "                    counts\n",
              "variety                   \n",
              "cabernet sauvignon    2215\n",
              "chardonnay            1030\n",
              "shiraz syrah           802\n",
              "pinot noir             714\n",
              "merlot                 519\n",
              "...                    ...\n",
              "symphony                 1\n",
              "moscatel                 1\n",
              "cencibel                 1\n",
              "treixadura               1\n",
              "tocai friulano           1\n",
              "\n",
              "[257 rows x 1 columns]"
            ],
            "text/html": [
              "\n",
              "  <div id=\"df-816c16a0-4367-4eb6-a586-b9818c2d1788\">\n",
              "    <div class=\"colab-df-container\">\n",
              "      <div>\n",
              "<style scoped>\n",
              "    .dataframe tbody tr th:only-of-type {\n",
              "        vertical-align: middle;\n",
              "    }\n",
              "\n",
              "    .dataframe tbody tr th {\n",
              "        vertical-align: top;\n",
              "    }\n",
              "\n",
              "    .dataframe thead th {\n",
              "        text-align: right;\n",
              "    }\n",
              "</style>\n",
              "<table border=\"1\" class=\"dataframe\">\n",
              "  <thead>\n",
              "    <tr style=\"text-align: right;\">\n",
              "      <th></th>\n",
              "      <th>counts</th>\n",
              "    </tr>\n",
              "    <tr>\n",
              "      <th>variety</th>\n",
              "      <th></th>\n",
              "    </tr>\n",
              "  </thead>\n",
              "  <tbody>\n",
              "    <tr>\n",
              "      <th>cabernet sauvignon</th>\n",
              "      <td>2215</td>\n",
              "    </tr>\n",
              "    <tr>\n",
              "      <th>chardonnay</th>\n",
              "      <td>1030</td>\n",
              "    </tr>\n",
              "    <tr>\n",
              "      <th>shiraz syrah</th>\n",
              "      <td>802</td>\n",
              "    </tr>\n",
              "    <tr>\n",
              "      <th>pinot noir</th>\n",
              "      <td>714</td>\n",
              "    </tr>\n",
              "    <tr>\n",
              "      <th>merlot</th>\n",
              "      <td>519</td>\n",
              "    </tr>\n",
              "    <tr>\n",
              "      <th>...</th>\n",
              "      <td>...</td>\n",
              "    </tr>\n",
              "    <tr>\n",
              "      <th>symphony</th>\n",
              "      <td>1</td>\n",
              "    </tr>\n",
              "    <tr>\n",
              "      <th>moscatel</th>\n",
              "      <td>1</td>\n",
              "    </tr>\n",
              "    <tr>\n",
              "      <th>cencibel</th>\n",
              "      <td>1</td>\n",
              "    </tr>\n",
              "    <tr>\n",
              "      <th>treixadura</th>\n",
              "      <td>1</td>\n",
              "    </tr>\n",
              "    <tr>\n",
              "      <th>tocai friulano</th>\n",
              "      <td>1</td>\n",
              "    </tr>\n",
              "  </tbody>\n",
              "</table>\n",
              "<p>257 rows × 1 columns</p>\n",
              "</div>\n",
              "      <button class=\"colab-df-convert\" onclick=\"convertToInteractive('df-816c16a0-4367-4eb6-a586-b9818c2d1788')\"\n",
              "              title=\"Convert this dataframe to an interactive table.\"\n",
              "              style=\"display:none;\">\n",
              "        \n",
              "  <svg xmlns=\"http://www.w3.org/2000/svg\" height=\"24px\"viewBox=\"0 0 24 24\"\n",
              "       width=\"24px\">\n",
              "    <path d=\"M0 0h24v24H0V0z\" fill=\"none\"/>\n",
              "    <path d=\"M18.56 5.44l.94 2.06.94-2.06 2.06-.94-2.06-.94-.94-2.06-.94 2.06-2.06.94zm-11 1L8.5 8.5l.94-2.06 2.06-.94-2.06-.94L8.5 2.5l-.94 2.06-2.06.94zm10 10l.94 2.06.94-2.06 2.06-.94-2.06-.94-.94-2.06-.94 2.06-2.06.94z\"/><path d=\"M17.41 7.96l-1.37-1.37c-.4-.4-.92-.59-1.43-.59-.52 0-1.04.2-1.43.59L10.3 9.45l-7.72 7.72c-.78.78-.78 2.05 0 2.83L4 21.41c.39.39.9.59 1.41.59.51 0 1.02-.2 1.41-.59l7.78-7.78 2.81-2.81c.8-.78.8-2.07 0-2.86zM5.41 20L4 18.59l7.72-7.72 1.47 1.35L5.41 20z\"/>\n",
              "  </svg>\n",
              "      </button>\n",
              "      \n",
              "  <style>\n",
              "    .colab-df-container {\n",
              "      display:flex;\n",
              "      flex-wrap:wrap;\n",
              "      gap: 12px;\n",
              "    }\n",
              "\n",
              "    .colab-df-convert {\n",
              "      background-color: #E8F0FE;\n",
              "      border: none;\n",
              "      border-radius: 50%;\n",
              "      cursor: pointer;\n",
              "      display: none;\n",
              "      fill: #1967D2;\n",
              "      height: 32px;\n",
              "      padding: 0 0 0 0;\n",
              "      width: 32px;\n",
              "    }\n",
              "\n",
              "    .colab-df-convert:hover {\n",
              "      background-color: #E2EBFA;\n",
              "      box-shadow: 0px 1px 2px rgba(60, 64, 67, 0.3), 0px 1px 3px 1px rgba(60, 64, 67, 0.15);\n",
              "      fill: #174EA6;\n",
              "    }\n",
              "\n",
              "    [theme=dark] .colab-df-convert {\n",
              "      background-color: #3B4455;\n",
              "      fill: #D2E3FC;\n",
              "    }\n",
              "\n",
              "    [theme=dark] .colab-df-convert:hover {\n",
              "      background-color: #434B5C;\n",
              "      box-shadow: 0px 1px 3px 1px rgba(0, 0, 0, 0.15);\n",
              "      filter: drop-shadow(0px 1px 2px rgba(0, 0, 0, 0.3));\n",
              "      fill: #FFFFFF;\n",
              "    }\n",
              "  </style>\n",
              "\n",
              "      <script>\n",
              "        const buttonEl =\n",
              "          document.querySelector('#df-816c16a0-4367-4eb6-a586-b9818c2d1788 button.colab-df-convert');\n",
              "        buttonEl.style.display =\n",
              "          google.colab.kernel.accessAllowed ? 'block' : 'none';\n",
              "\n",
              "        async function convertToInteractive(key) {\n",
              "          const element = document.querySelector('#df-816c16a0-4367-4eb6-a586-b9818c2d1788');\n",
              "          const dataTable =\n",
              "            await google.colab.kernel.invokeFunction('convertToInteractive',\n",
              "                                                     [key], {});\n",
              "          if (!dataTable) return;\n",
              "\n",
              "          const docLinkHtml = 'Like what you see? Visit the ' +\n",
              "            '<a target=\"_blank\" href=https://colab.research.google.com/notebooks/data_table.ipynb>data table notebook</a>'\n",
              "            + ' to learn more about interactive tables.';\n",
              "          element.innerHTML = '';\n",
              "          dataTable['output_type'] = 'display_data';\n",
              "          await google.colab.output.renderOutput(dataTable, element);\n",
              "          const docLink = document.createElement('div');\n",
              "          docLink.innerHTML = docLinkHtml;\n",
              "          element.appendChild(docLink);\n",
              "        }\n",
              "      </script>\n",
              "    </div>\n",
              "  </div>\n",
              "  "
            ]
          },
          "metadata": {},
          "execution_count": 75
        }
      ]
    },
    {
      "cell_type": "code",
      "source": [
        "df_variety_selected = df_variety[:15]\n",
        "df_variety_selected"
      ],
      "metadata": {
        "colab": {
          "base_uri": "https://localhost:8080/",
          "height": 551
        },
        "id": "gRzs0haBrO02",
        "outputId": "4e8d2fa5-4b82-438a-b40a-664cd11fb0be"
      },
      "execution_count": 76,
      "outputs": [
        {
          "output_type": "execute_result",
          "data": {
            "text/plain": [
              "                    counts\n",
              "variety                   \n",
              "cabernet sauvignon    2215\n",
              "chardonnay            1030\n",
              "shiraz syrah           802\n",
              "pinot noir             714\n",
              "merlot                 519\n",
              "sangiovese             431\n",
              "nebbiolo               339\n",
              "sauvignon blanc        300\n",
              "tempranillo            281\n",
              "touriga nacional       258\n",
              "malbec                 222\n",
              "cabernet franc         219\n",
              "grenache               178\n",
              "riesling               157\n",
              "zinfandel              157"
            ],
            "text/html": [
              "\n",
              "  <div id=\"df-ee3875bb-8239-4596-a6c8-25d53c42bca9\">\n",
              "    <div class=\"colab-df-container\">\n",
              "      <div>\n",
              "<style scoped>\n",
              "    .dataframe tbody tr th:only-of-type {\n",
              "        vertical-align: middle;\n",
              "    }\n",
              "\n",
              "    .dataframe tbody tr th {\n",
              "        vertical-align: top;\n",
              "    }\n",
              "\n",
              "    .dataframe thead th {\n",
              "        text-align: right;\n",
              "    }\n",
              "</style>\n",
              "<table border=\"1\" class=\"dataframe\">\n",
              "  <thead>\n",
              "    <tr style=\"text-align: right;\">\n",
              "      <th></th>\n",
              "      <th>counts</th>\n",
              "    </tr>\n",
              "    <tr>\n",
              "      <th>variety</th>\n",
              "      <th></th>\n",
              "    </tr>\n",
              "  </thead>\n",
              "  <tbody>\n",
              "    <tr>\n",
              "      <th>cabernet sauvignon</th>\n",
              "      <td>2215</td>\n",
              "    </tr>\n",
              "    <tr>\n",
              "      <th>chardonnay</th>\n",
              "      <td>1030</td>\n",
              "    </tr>\n",
              "    <tr>\n",
              "      <th>shiraz syrah</th>\n",
              "      <td>802</td>\n",
              "    </tr>\n",
              "    <tr>\n",
              "      <th>pinot noir</th>\n",
              "      <td>714</td>\n",
              "    </tr>\n",
              "    <tr>\n",
              "      <th>merlot</th>\n",
              "      <td>519</td>\n",
              "    </tr>\n",
              "    <tr>\n",
              "      <th>sangiovese</th>\n",
              "      <td>431</td>\n",
              "    </tr>\n",
              "    <tr>\n",
              "      <th>nebbiolo</th>\n",
              "      <td>339</td>\n",
              "    </tr>\n",
              "    <tr>\n",
              "      <th>sauvignon blanc</th>\n",
              "      <td>300</td>\n",
              "    </tr>\n",
              "    <tr>\n",
              "      <th>tempranillo</th>\n",
              "      <td>281</td>\n",
              "    </tr>\n",
              "    <tr>\n",
              "      <th>touriga nacional</th>\n",
              "      <td>258</td>\n",
              "    </tr>\n",
              "    <tr>\n",
              "      <th>malbec</th>\n",
              "      <td>222</td>\n",
              "    </tr>\n",
              "    <tr>\n",
              "      <th>cabernet franc</th>\n",
              "      <td>219</td>\n",
              "    </tr>\n",
              "    <tr>\n",
              "      <th>grenache</th>\n",
              "      <td>178</td>\n",
              "    </tr>\n",
              "    <tr>\n",
              "      <th>riesling</th>\n",
              "      <td>157</td>\n",
              "    </tr>\n",
              "    <tr>\n",
              "      <th>zinfandel</th>\n",
              "      <td>157</td>\n",
              "    </tr>\n",
              "  </tbody>\n",
              "</table>\n",
              "</div>\n",
              "      <button class=\"colab-df-convert\" onclick=\"convertToInteractive('df-ee3875bb-8239-4596-a6c8-25d53c42bca9')\"\n",
              "              title=\"Convert this dataframe to an interactive table.\"\n",
              "              style=\"display:none;\">\n",
              "        \n",
              "  <svg xmlns=\"http://www.w3.org/2000/svg\" height=\"24px\"viewBox=\"0 0 24 24\"\n",
              "       width=\"24px\">\n",
              "    <path d=\"M0 0h24v24H0V0z\" fill=\"none\"/>\n",
              "    <path d=\"M18.56 5.44l.94 2.06.94-2.06 2.06-.94-2.06-.94-.94-2.06-.94 2.06-2.06.94zm-11 1L8.5 8.5l.94-2.06 2.06-.94-2.06-.94L8.5 2.5l-.94 2.06-2.06.94zm10 10l.94 2.06.94-2.06 2.06-.94-2.06-.94-.94-2.06-.94 2.06-2.06.94z\"/><path d=\"M17.41 7.96l-1.37-1.37c-.4-.4-.92-.59-1.43-.59-.52 0-1.04.2-1.43.59L10.3 9.45l-7.72 7.72c-.78.78-.78 2.05 0 2.83L4 21.41c.39.39.9.59 1.41.59.51 0 1.02-.2 1.41-.59l7.78-7.78 2.81-2.81c.8-.78.8-2.07 0-2.86zM5.41 20L4 18.59l7.72-7.72 1.47 1.35L5.41 20z\"/>\n",
              "  </svg>\n",
              "      </button>\n",
              "      \n",
              "  <style>\n",
              "    .colab-df-container {\n",
              "      display:flex;\n",
              "      flex-wrap:wrap;\n",
              "      gap: 12px;\n",
              "    }\n",
              "\n",
              "    .colab-df-convert {\n",
              "      background-color: #E8F0FE;\n",
              "      border: none;\n",
              "      border-radius: 50%;\n",
              "      cursor: pointer;\n",
              "      display: none;\n",
              "      fill: #1967D2;\n",
              "      height: 32px;\n",
              "      padding: 0 0 0 0;\n",
              "      width: 32px;\n",
              "    }\n",
              "\n",
              "    .colab-df-convert:hover {\n",
              "      background-color: #E2EBFA;\n",
              "      box-shadow: 0px 1px 2px rgba(60, 64, 67, 0.3), 0px 1px 3px 1px rgba(60, 64, 67, 0.15);\n",
              "      fill: #174EA6;\n",
              "    }\n",
              "\n",
              "    [theme=dark] .colab-df-convert {\n",
              "      background-color: #3B4455;\n",
              "      fill: #D2E3FC;\n",
              "    }\n",
              "\n",
              "    [theme=dark] .colab-df-convert:hover {\n",
              "      background-color: #434B5C;\n",
              "      box-shadow: 0px 1px 3px 1px rgba(0, 0, 0, 0.15);\n",
              "      filter: drop-shadow(0px 1px 2px rgba(0, 0, 0, 0.3));\n",
              "      fill: #FFFFFF;\n",
              "    }\n",
              "  </style>\n",
              "\n",
              "      <script>\n",
              "        const buttonEl =\n",
              "          document.querySelector('#df-ee3875bb-8239-4596-a6c8-25d53c42bca9 button.colab-df-convert');\n",
              "        buttonEl.style.display =\n",
              "          google.colab.kernel.accessAllowed ? 'block' : 'none';\n",
              "\n",
              "        async function convertToInteractive(key) {\n",
              "          const element = document.querySelector('#df-ee3875bb-8239-4596-a6c8-25d53c42bca9');\n",
              "          const dataTable =\n",
              "            await google.colab.kernel.invokeFunction('convertToInteractive',\n",
              "                                                     [key], {});\n",
              "          if (!dataTable) return;\n",
              "\n",
              "          const docLinkHtml = 'Like what you see? Visit the ' +\n",
              "            '<a target=\"_blank\" href=https://colab.research.google.com/notebooks/data_table.ipynb>data table notebook</a>'\n",
              "            + ' to learn more about interactive tables.';\n",
              "          element.innerHTML = '';\n",
              "          dataTable['output_type'] = 'display_data';\n",
              "          await google.colab.output.renderOutput(dataTable, element);\n",
              "          const docLink = document.createElement('div');\n",
              "          docLink.innerHTML = docLinkHtml;\n",
              "          element.appendChild(docLink);\n",
              "        }\n",
              "      </script>\n",
              "    </div>\n",
              "  </div>\n",
              "  "
            ]
          },
          "metadata": {},
          "execution_count": 76
        }
      ]
    },
    {
      "cell_type": "code",
      "source": [
        "list_variety = list(df_variety_selected.index)\n",
        "\n",
        "def transform_variety(variety, list_variety):\n",
        "  if variety in list_variety:\n",
        "    return variety\n",
        "  else:\n",
        "    return \"other\"\n",
        "\n",
        "df['variety'] = df.progress_apply(lambda x:transform_variety(x.variety,list_variety), axis=1)"
      ],
      "metadata": {
        "colab": {
          "base_uri": "https://localhost:8080/"
        },
        "id": "mpq2oxbqrS1z",
        "outputId": "dafeab4a-9c5e-46af-b01c-c768741d05df"
      },
      "execution_count": 77,
      "outputs": [
        {
          "output_type": "stream",
          "name": "stderr",
          "text": [
            "100%|██████████| 9878/9878 [00:02<00:00, 3392.97it/s]\n"
          ]
        }
      ]
    },
    {
      "cell_type": "code",
      "source": [
        "le = LabelEncoder()\n",
        "variedad = le.fit_transform(df['variety'])"
      ],
      "metadata": {
        "id": "SnSBzHx4rWvt"
      },
      "execution_count": 78,
      "outputs": []
    },
    {
      "cell_type": "code",
      "source": [
        "X = df.iloc[:,15:].values\n",
        "y = variedad"
      ],
      "metadata": {
        "id": "AkRycyjRrkZr"
      },
      "execution_count": 79,
      "outputs": []
    },
    {
      "cell_type": "markdown",
      "source": [
        "**1. SVM con datos originales (4096 features)**"
      ],
      "metadata": {
        "id": "5CaG2D02rlxk"
      }
    },
    {
      "cell_type": "code",
      "source": [
        "from sklearn.svm import SVC"
      ],
      "metadata": {
        "id": "mZMzkxz-H8vY"
      },
      "execution_count": 17,
      "outputs": []
    },
    {
      "cell_type": "code",
      "source": [
        "X.shape, y.shape"
      ],
      "metadata": {
        "colab": {
          "base_uri": "https://localhost:8080/"
        },
        "id": "gYR7BVcWJRRQ",
        "outputId": "6d9c7605-0471-448b-c750-99e78852461e"
      },
      "execution_count": 20,
      "outputs": [
        {
          "output_type": "execute_result",
          "data": {
            "text/plain": [
              "((9878, 4096), (9878,))"
            ]
          },
          "metadata": {},
          "execution_count": 20
        }
      ]
    },
    {
      "cell_type": "code",
      "source": [
        "X_train, X_test, y_train, y_test = train_test_split(X, y, test_size = 0.3, random_state=42)"
      ],
      "metadata": {
        "id": "YgOjtC3lqb-P"
      },
      "execution_count": 21,
      "outputs": []
    },
    {
      "cell_type": "code",
      "source": [
        "# Con parametros por defecto\n",
        "classifier_scv_original = SVC(kernel='rbf', random_state=32)"
      ],
      "metadata": {
        "id": "xrRwQ87Cva9C"
      },
      "execution_count": 22,
      "outputs": []
    },
    {
      "cell_type": "code",
      "source": [
        "classifier_scv_original.fit(X_train, y_train)\n"
      ],
      "metadata": {
        "colab": {
          "base_uri": "https://localhost:8080/"
        },
        "id": "77RhtcHJwAgM",
        "outputId": "3f496e3a-b416-45e9-f0b4-9ff9f5e3db76"
      },
      "execution_count": 23,
      "outputs": [
        {
          "output_type": "execute_result",
          "data": {
            "text/plain": [
              "SVC(random_state=32)"
            ]
          },
          "metadata": {},
          "execution_count": 23
        }
      ]
    },
    {
      "cell_type": "code",
      "source": [
        "y_pred_original = classifier_scv_original.predict(X_test)"
      ],
      "metadata": {
        "id": "GYBl3C91R0xK"
      },
      "execution_count": 24,
      "outputs": []
    },
    {
      "cell_type": "code",
      "source": [
        "result_original = confusion_matrix(y_test, y_pred_original)\n",
        "\n",
        "print('Confusion Matrix Clasificador SVC original')\n",
        "\n",
        "print(result_original)\n",
        "\n",
        "print('Accuracy:', accuracy_score(y_test, y_pred_original))"
      ],
      "metadata": {
        "colab": {
          "base_uri": "https://localhost:8080/"
        },
        "id": "ZkcHFXoVR6Gy",
        "outputId": "2aaa2bf2-7978-4971-824a-eef855ea4daf"
      },
      "execution_count": 25,
      "outputs": [
        {
          "output_type": "stream",
          "name": "stdout",
          "text": [
            "Confusion Matrix Clasificador SVC original\n",
            "[[ 13  36   4   0   0   0   0   7   9   0   0   0   0   0   0   0]\n",
            " [  0 629   3   0   0   1   0  80   4   0   1   0   2   0   0   0]\n",
            " [  0   9 173   0   0   0   0 104   9   0   0   0   3   0   0   0]\n",
            " [  0   9   1   6   0   0   0  14  10   0   0   0  10   0   0   0]\n",
            " [  0  47   0   0   4   0   0   8   0   0   0   0   0   0   0   0]\n",
            " [  0 120   0   0   0  27   0  25   1   0   1   0   0   0   0   0]\n",
            " [  0  44   1   0   0   0  16  31   7   0   0   0   2   0   0   0]\n",
            " [  0 127  65   0   0   0   0 328  33   0   0   0   7   0   2   0]\n",
            " [  0   9  18   0   0   0   0  68 118   0   0   0  11   0   0   0]\n",
            " [  0   1  11   0   0   0   0  30   1   0   0   0   1   0   0   0]\n",
            " [  0  87   0   0   0   0   0  28   0   0  15   0   0   0   0   0]\n",
            " [  0   8  17   0   0   0   0  55   1   0   0  12   1   0   0   0]\n",
            " [  0  76   4   0   0   0   0  68  53   0   1   0  35   0   0   0]\n",
            " [  0  46   0   0   0   0   0  28   6   0   0   0   1   2   0   0]\n",
            " [  0  33   0   0   0   0   0  14   3   0   0   0   1   0  25   0]\n",
            " [  0  26   2   0   0   0   0  12   3   0   0   0   0   0   0   0]]\n",
            "Accuracy: 0.4733468286099865\n"
          ]
        }
      ]
    },
    {
      "cell_type": "code",
      "source": [
        "print(classification_report(y_test,y_pred_original,target_names=le.classes_))"
      ],
      "metadata": {
        "colab": {
          "base_uri": "https://localhost:8080/"
        },
        "id": "P7dQlR_FobgF",
        "outputId": "dbc9e8fc-1a9a-417d-ca4b-c7c40d324063"
      },
      "execution_count": 26,
      "outputs": [
        {
          "output_type": "stream",
          "name": "stdout",
          "text": [
            "                    precision    recall  f1-score   support\n",
            "\n",
            "    cabernet franc       1.00      0.19      0.32        69\n",
            "cabernet sauvignon       0.48      0.87      0.62       720\n",
            "        chardonnay       0.58      0.58      0.58       298\n",
            "          grenache       1.00      0.12      0.21        50\n",
            "            malbec       1.00      0.07      0.13        59\n",
            "            merlot       0.96      0.16      0.27       174\n",
            "          nebbiolo       1.00      0.16      0.27       101\n",
            "             other       0.36      0.58      0.45       562\n",
            "        pinot noir       0.46      0.53      0.49       224\n",
            "          riesling       0.00      0.00      0.00        44\n",
            "        sangiovese       0.83      0.12      0.20       130\n",
            "   sauvignon blanc       1.00      0.13      0.23        94\n",
            "      shiraz syrah       0.47      0.15      0.23       237\n",
            "       tempranillo       1.00      0.02      0.05        83\n",
            "  touriga nacional       0.93      0.33      0.49        76\n",
            "         zinfandel       0.00      0.00      0.00        43\n",
            "\n",
            "          accuracy                           0.47      2964\n",
            "         macro avg       0.69      0.25      0.28      2964\n",
            "      weighted avg       0.59      0.47      0.42      2964\n",
            "\n"
          ]
        },
        {
          "output_type": "stream",
          "name": "stderr",
          "text": [
            "/usr/local/lib/python3.7/dist-packages/sklearn/metrics/_classification.py:1318: UndefinedMetricWarning: Precision and F-score are ill-defined and being set to 0.0 in labels with no predicted samples. Use `zero_division` parameter to control this behavior.\n",
            "  _warn_prf(average, modifier, msg_start, len(result))\n",
            "/usr/local/lib/python3.7/dist-packages/sklearn/metrics/_classification.py:1318: UndefinedMetricWarning: Precision and F-score are ill-defined and being set to 0.0 in labels with no predicted samples. Use `zero_division` parameter to control this behavior.\n",
            "  _warn_prf(average, modifier, msg_start, len(result))\n",
            "/usr/local/lib/python3.7/dist-packages/sklearn/metrics/_classification.py:1318: UndefinedMetricWarning: Precision and F-score are ill-defined and being set to 0.0 in labels with no predicted samples. Use `zero_division` parameter to control this behavior.\n",
            "  _warn_prf(average, modifier, msg_start, len(result))\n"
          ]
        }
      ]
    },
    {
      "cell_type": "code",
      "source": [
        "print(\"Test accuracy: %.3f\" % classifier_scv_original.score(X_test, y_test))"
      ],
      "metadata": {
        "colab": {
          "base_uri": "https://localhost:8080/"
        },
        "id": "mg8OVhmksmRy",
        "outputId": "4464c30d-65de-4158-8f6a-a478e1f0a27c"
      },
      "execution_count": 27,
      "outputs": [
        {
          "output_type": "stream",
          "name": "stdout",
          "text": [
            "Test accuracy: 0.473\n"
          ]
        }
      ]
    },
    {
      "cell_type": "markdown",
      "source": [
        "**2. SVC con escalado y PCA**"
      ],
      "metadata": {
        "id": "eosQyRsFtzSC"
      }
    },
    {
      "cell_type": "code",
      "source": [
        "#normalizamos los datos\n",
        "scaler=StandardScaler()\n",
        "\n",
        "scaler.fit(X) # calculo la media para poder hacer la transformacion\n",
        "X_scaled=scaler.transform(X)# Ahora si, escalo los datos y los normalizo"
      ],
      "metadata": {
        "id": "IbxX4xmrtyrN"
      },
      "execution_count": 80,
      "outputs": []
    },
    {
      "cell_type": "code",
      "source": [
        "pca = PCA(n_components=1000, random_state=22)\n",
        "pca.fit(X_scaled)\n",
        "X = pca.transform(X_scaled)\n"
      ],
      "metadata": {
        "id": "_Vx3w1PyuDd4"
      },
      "execution_count": 81,
      "outputs": []
    },
    {
      "cell_type": "code",
      "source": [
        "X_train, X_test, y_train, y_test = train_test_split(X, y, test_size = 0.3, random_state=42)"
      ],
      "metadata": {
        "id": "IYn-wekQuOqU"
      },
      "execution_count": 82,
      "outputs": []
    },
    {
      "cell_type": "code",
      "source": [
        "X_train.shape, X_test.shape, y_train.shape, y_test.shape"
      ],
      "metadata": {
        "colab": {
          "base_uri": "https://localhost:8080/"
        },
        "id": "xfXbam2buSUI",
        "outputId": "db5196c6-b117-49d4-adb4-54746e1f1122"
      },
      "execution_count": 83,
      "outputs": [
        {
          "output_type": "execute_result",
          "data": {
            "text/plain": [
              "((6914, 1000), (2964, 1000), (6914,), (2964,))"
            ]
          },
          "metadata": {},
          "execution_count": 83
        }
      ]
    },
    {
      "cell_type": "code",
      "source": [
        "param_range=[0.001,0.01,0.1,1,10]\n",
        "param_grid =[\n",
        "              {'kernel':['rbf'],\n",
        "               'C':param_range,\n",
        "               'gamma':param_range\n",
        "              }\n",
        "             ]"
      ],
      "metadata": {
        "id": "zHeycBawwZaw"
      },
      "execution_count": 44,
      "outputs": []
    },
    {
      "cell_type": "code",
      "source": [
        "gs_svc = GridSearchCV(SVC(),\n",
        "                      param_grid=param_grid,\n",
        "                      scoring='accuracy',\n",
        "                      cv=3,\n",
        "                      verbose=2,\n",
        "                      n_jobs=-1)"
      ],
      "metadata": {
        "id": "Z2Y2deF9wgNU"
      },
      "execution_count": 49,
      "outputs": []
    },
    {
      "cell_type": "code",
      "source": [
        "model_svc = gs_svc.fit(X_train, y_train)"
      ],
      "metadata": {
        "colab": {
          "base_uri": "https://localhost:8080/"
        },
        "id": "8ZvWLeZlw3xp",
        "outputId": "0f1604e1-a913-4fb6-9ded-45b062910faa"
      },
      "execution_count": 50,
      "outputs": [
        {
          "output_type": "stream",
          "name": "stdout",
          "text": [
            "Fitting 3 folds for each of 16 candidates, totalling 48 fits\n"
          ]
        }
      ]
    },
    {
      "cell_type": "code",
      "source": [
        "model_svc.best_estimator_"
      ],
      "metadata": {
        "colab": {
          "base_uri": "https://localhost:8080/"
        },
        "id": "SYQ1rYlc0XSY",
        "outputId": "3bdb5dbc-7b8a-40d6-e4e6-2c2345111af0"
      },
      "execution_count": 51,
      "outputs": [
        {
          "output_type": "execute_result",
          "data": {
            "text/plain": [
              "SVC(C=10, gamma=0.01)"
            ]
          },
          "metadata": {},
          "execution_count": 51
        }
      ]
    },
    {
      "cell_type": "code",
      "source": [
        "model_svc.best_score_"
      ],
      "metadata": {
        "colab": {
          "base_uri": "https://localhost:8080/"
        },
        "id": "ubT2jIZ90dv1",
        "outputId": "570eedf7-4fdd-426c-b0bc-1d8ef42ba822"
      },
      "execution_count": 52,
      "outputs": [
        {
          "output_type": "execute_result",
          "data": {
            "text/plain": [
              "0.43737396561420416"
            ]
          },
          "metadata": {},
          "execution_count": 52
        }
      ]
    },
    {
      "cell_type": "code",
      "source": [
        "classifier_svc_pca = SVC(C=10,gamma=0.01,kernel='rbf')"
      ],
      "metadata": {
        "id": "ObkqgrIDurTW"
      },
      "execution_count": 84,
      "outputs": []
    },
    {
      "cell_type": "code",
      "source": [
        "classifier_svc_pca.fit(X_train, y_train)"
      ],
      "metadata": {
        "colab": {
          "base_uri": "https://localhost:8080/"
        },
        "id": "ziBWiqUAuVW5",
        "outputId": "6d830677-aad0-4cc6-8efb-66c106a24f21"
      },
      "execution_count": 85,
      "outputs": [
        {
          "output_type": "execute_result",
          "data": {
            "text/plain": [
              "SVC(C=10, gamma=0.01)"
            ]
          },
          "metadata": {},
          "execution_count": 85
        }
      ]
    },
    {
      "cell_type": "code",
      "source": [
        "y_pred_pca = classifier_svc_pca.predict(X_test)"
      ],
      "metadata": {
        "id": "WsL9wwtYvOGM"
      },
      "execution_count": 86,
      "outputs": []
    },
    {
      "cell_type": "code",
      "source": [
        "result_pca = confusion_matrix(y_test, y_pred_pca)\n",
        "\n",
        "print('Confusion Matrix - Clasificador SVC Escalado y PCA optimizado')\n",
        "\n",
        "print(result_pca)\n",
        "print('Accuracy:', accuracy_score(y_test, y_pred_pca))"
      ],
      "metadata": {
        "colab": {
          "base_uri": "https://localhost:8080/"
        },
        "id": "08tilDQGvTMQ",
        "outputId": "007c335c-dd9e-4d91-8eff-48b25ea43476"
      },
      "execution_count": 87,
      "outputs": [
        {
          "output_type": "stream",
          "name": "stdout",
          "text": [
            "Confusion Matrix - Clasificador SVC Escaladao y PCA optimizado\n",
            "[[ 38   0   0   0   0   0   0  31   0   0   0   0   0   0   0   0]\n",
            " [  0 368   0   0   0   0   0 352   0   0   0   0   0   0   0   0]\n",
            " [  0   0  30   0   0   0   0 268   0   0   0   0   0   0   0   0]\n",
            " [  0   0   0  17   0   0   0  33   0   0   0   0   0   0   0   0]\n",
            " [  0   0   0   0   8   0   0  51   0   0   0   0   0   0   0   0]\n",
            " [  0   1   0   0   0  71   0 102   0   0   0   0   0   0   0   0]\n",
            " [  0   0   0   0   0   0  50  51   0   0   0   0   0   0   0   0]\n",
            " [  0   0   0   0   0   0   0 562   0   0   0   0   0   0   0   0]\n",
            " [  0   0   0   0   0   0   0 187  37   0   0   0   0   0   0   0]\n",
            " [  0   0   0   0   0   0   0  37   0   7   0   0   0   0   0   0]\n",
            " [  0   0   0   0   0   0   0  91   0   0  39   0   0   0   0   0]\n",
            " [  0   0   0   0   0   0   0  77   0   0   0  17   0   0   0   0]\n",
            " [  0   0   0   0   0   0   0 162   0   0   0   0  75   0   0   0]\n",
            " [  0   0   0   0   0   0   0  59   0   0   0   0   0  24   0   0]\n",
            " [  0   0   0   0   0   0   0  45   0   0   0   0   0   0  31   0]\n",
            " [  0   0   0   0   0   0   0  41   0   0   0   0   0   0   0   2]]\n",
            "Accuracy: 0.4642375168690958\n"
          ]
        }
      ]
    },
    {
      "cell_type": "code",
      "source": [
        "print(classification_report(y_test,y_pred_pca,target_names=le.classes_))"
      ],
      "metadata": {
        "colab": {
          "base_uri": "https://localhost:8080/"
        },
        "id": "zwYz0Rf1vfjV",
        "outputId": "d792727e-6042-481d-853c-19983e1056bf"
      },
      "execution_count": 88,
      "outputs": [
        {
          "output_type": "stream",
          "name": "stdout",
          "text": [
            "                    precision    recall  f1-score   support\n",
            "\n",
            "    cabernet franc       1.00      0.55      0.71        69\n",
            "cabernet sauvignon       1.00      0.51      0.68       720\n",
            "        chardonnay       1.00      0.10      0.18       298\n",
            "          grenache       1.00      0.34      0.51        50\n",
            "            malbec       1.00      0.14      0.24        59\n",
            "            merlot       1.00      0.41      0.58       174\n",
            "          nebbiolo       1.00      0.50      0.66       101\n",
            "             other       0.26      1.00      0.41       562\n",
            "        pinot noir       1.00      0.17      0.28       224\n",
            "          riesling       1.00      0.16      0.27        44\n",
            "        sangiovese       1.00      0.30      0.46       130\n",
            "   sauvignon blanc       1.00      0.18      0.31        94\n",
            "      shiraz syrah       1.00      0.32      0.48       237\n",
            "       tempranillo       1.00      0.29      0.45        83\n",
            "  touriga nacional       1.00      0.41      0.58        76\n",
            "         zinfandel       1.00      0.05      0.09        43\n",
            "\n",
            "          accuracy                           0.46      2964\n",
            "         macro avg       0.95      0.34      0.43      2964\n",
            "      weighted avg       0.86      0.46      0.47      2964\n",
            "\n"
          ]
        }
      ]
    },
    {
      "cell_type": "code",
      "source": [
        "print(\"Test accuracy: %.3f\" % classifier_svc_pca.score(X_test, y_test))"
      ],
      "metadata": {
        "colab": {
          "base_uri": "https://localhost:8080/"
        },
        "id": "3-Ll-IL1vg7F",
        "outputId": "b8aeee32-bac2-475e-d179-b53852a0ae7f"
      },
      "execution_count": 89,
      "outputs": [
        {
          "output_type": "stream",
          "name": "stdout",
          "text": [
            "Test accuracy: 0.464\n"
          ]
        }
      ]
    },
    {
      "cell_type": "code",
      "source": [
        "# Validacion anidada\n",
        "scores = cross_val_score(classifier_svc_pca,X_train,y_train, scoring='accuracy',cv=5)"
      ],
      "metadata": {
        "id": "0mj1lfEjFfqf"
      },
      "execution_count": 90,
      "outputs": []
    },
    {
      "cell_type": "code",
      "source": [
        "print('CV accuracy: %.3f +/- %.3f' %(np.mean(scores), np.std(scores)))"
      ],
      "metadata": {
        "colab": {
          "base_uri": "https://localhost:8080/"
        },
        "id": "XzmhXrT9FlI7",
        "outputId": "1bcfabdd-f895-401a-bee7-4b9cecf91c0e"
      },
      "execution_count": 91,
      "outputs": [
        {
          "output_type": "stream",
          "name": "stdout",
          "text": [
            "CV accuracy: 0.456 +/- 0.009\n"
          ]
        }
      ]
    },
    {
      "cell_type": "markdown",
      "source": [
        "**Balanceando las Clases**"
      ],
      "metadata": {
        "id": "MFAh086Jp8MY"
      }
    },
    {
      "cell_type": "code",
      "source": [
        "from imblearn.over_sampling import RandomOverSampler\n",
        "\n",
        "ros = RandomOverSampler(sampling_strategy=\"not majority\")\n",
        "X_res, y_res = ros.fit_resample(X,y)\n",
        "\n",
        "X_train, X_test, y_train, y_test = train_test_split(X_res, y_res, test_size = 0.3, random_state=42)"
      ],
      "metadata": {
        "id": "A3-h8BV4p-qR"
      },
      "execution_count": 60,
      "outputs": []
    },
    {
      "cell_type": "code",
      "source": [
        "classifier_svc_balanced = SVC(C=10,gamma=0.01,kernel='rbf')"
      ],
      "metadata": {
        "id": "49RQNkRuqIPI"
      },
      "execution_count": 61,
      "outputs": []
    },
    {
      "cell_type": "code",
      "source": [
        "classifier_svc_balanced.fit(X_train, y_train)"
      ],
      "metadata": {
        "colab": {
          "base_uri": "https://localhost:8080/"
        },
        "id": "CAuoGSczqSqj",
        "outputId": "aecfddc6-1104-4068-c248-2cf02e5387b4"
      },
      "execution_count": 62,
      "outputs": [
        {
          "output_type": "execute_result",
          "data": {
            "text/plain": [
              "SVC(C=10, gamma=0.01)"
            ]
          },
          "metadata": {},
          "execution_count": 62
        }
      ]
    },
    {
      "cell_type": "code",
      "source": [
        "y_pred_balanced= classifier_svc_balanced.predict(X_test)"
      ],
      "metadata": {
        "id": "EiLzP8pNqW8M"
      },
      "execution_count": 63,
      "outputs": []
    },
    {
      "cell_type": "code",
      "source": [
        "result = confusion_matrix(y_test, y_pred_balanced)\n",
        "\n",
        "print('Confusion Matrix - SVC Balanceado')\n",
        "\n",
        "print(result)\n",
        "\n",
        "\n",
        "print('Accuracy:', accuracy_score(y_test, y_pred_balanced))"
      ],
      "metadata": {
        "colab": {
          "base_uri": "https://localhost:8080/"
        },
        "id": "7PBhA-V3qakS",
        "outputId": "57d8c28a-3717-4583-baff-112642fccd00"
      },
      "execution_count": 64,
      "outputs": [
        {
          "output_type": "stream",
          "name": "stdout",
          "text": [
            "Confusion Matrix - SVC Balanceado\n",
            "[[628   0   0   0   0   0   0   0   0   0   0   0   0   0   0   0]\n",
            " [  0 314   0   0   1   0   0 337   0   0   0   0   0   0   0   0]\n",
            " [  0   0 499   0   0   0   0 170   0   0   0   0   0   0   0   0]\n",
            " [  0   0   0 685   0   0   0   0   0   0   0   0   0   0   0   0]\n",
            " [  0   0   0   0 663   0   0   0   0   0   0   0   0   0   0   0]\n",
            " [  0   0   0   0   0 634   0  20   0   0   0   0   0   0   0   0]\n",
            " [  0   0   0   0   0   0 673   0   0   0   0   0   0   0   0   0]\n",
            " [  0   1   0   0   0   0   0 697   0   0   0   0   1   0   0   0]\n",
            " [  0   0   0   0   0   0   0  73 606   0   0   0   0   0   0   0]\n",
            " [  0   0   0   0   0   0   0   0   0 637   0   0   0   0   0   0]\n",
            " [  0   0   0   0   0   0   0   9   0   0 608   0   0   0   0   0]\n",
            " [  0   0   0   0   0   0   0   5   0   0   0 675   0   0   0   0]\n",
            " [  0   0   0   0   0   0   0  64   0   0   0   0 600   0   0   0]\n",
            " [  0   0   0   0   0   0   0   0   0   0   0   0   0 676   0   0]\n",
            " [  0   0   0   0   0   0   0   0   0   0   0   0   0   0 694   0]\n",
            " [  0   0   0   0   0   0   0   0   0   0   0   0   0   0   0 662]]\n",
            "Accuracy: 0.9359480812641083\n"
          ]
        }
      ]
    },
    {
      "cell_type": "code",
      "source": [
        "print(classification_report(y_test,y_pred_balanced,target_names=le.classes_))"
      ],
      "metadata": {
        "colab": {
          "base_uri": "https://localhost:8080/"
        },
        "id": "MvuulEF-qf3o",
        "outputId": "71dfe41d-abab-469c-ea5b-d4598159d7d7"
      },
      "execution_count": 65,
      "outputs": [
        {
          "output_type": "stream",
          "name": "stdout",
          "text": [
            "                    precision    recall  f1-score   support\n",
            "\n",
            "    cabernet franc       1.00      1.00      1.00       628\n",
            "cabernet sauvignon       1.00      0.48      0.65       652\n",
            "        chardonnay       1.00      0.75      0.85       669\n",
            "          grenache       1.00      1.00      1.00       685\n",
            "            malbec       1.00      1.00      1.00       663\n",
            "            merlot       1.00      0.97      0.98       654\n",
            "          nebbiolo       1.00      1.00      1.00       673\n",
            "             other       0.51      1.00      0.67       699\n",
            "        pinot noir       1.00      0.89      0.94       679\n",
            "          riesling       1.00      1.00      1.00       637\n",
            "        sangiovese       1.00      0.99      0.99       617\n",
            "   sauvignon blanc       1.00      0.99      1.00       680\n",
            "      shiraz syrah       1.00      0.90      0.95       664\n",
            "       tempranillo       1.00      1.00      1.00       676\n",
            "  touriga nacional       1.00      1.00      1.00       694\n",
            "         zinfandel       1.00      1.00      1.00       662\n",
            "\n",
            "          accuracy                           0.94     10632\n",
            "         macro avg       0.97      0.94      0.94     10632\n",
            "      weighted avg       0.97      0.94      0.94     10632\n",
            "\n"
          ]
        }
      ]
    },
    {
      "cell_type": "code",
      "source": [
        "print(\"Test accuracy: %.3f\" % classifier_svc_balanced.score(X_test, y_test))"
      ],
      "metadata": {
        "colab": {
          "base_uri": "https://localhost:8080/"
        },
        "id": "o5yAbB5e_Tok",
        "outputId": "597ddf9c-4ae4-46b1-eeb2-520eda972645"
      },
      "execution_count": 67,
      "outputs": [
        {
          "output_type": "stream",
          "name": "stdout",
          "text": [
            "Test accuracy: 0.936\n"
          ]
        }
      ]
    },
    {
      "cell_type": "code",
      "source": [
        "# Validacion anidada\n",
        "scores = cross_val_score(classifier_svc_balanced,X_train,y_train, scoring='accuracy',cv=5)\n"
      ],
      "metadata": {
        "id": "kfil1sdtBGds"
      },
      "execution_count": null,
      "outputs": []
    },
    {
      "cell_type": "code",
      "source": [
        "print('CV accuracy: %.3f +/- %.3f' %(np.mean(scores), np.std(scores)))"
      ],
      "metadata": {
        "colab": {
          "base_uri": "https://localhost:8080/"
        },
        "id": "F8Zqjyo7FVMa",
        "outputId": "015a1770-8b5d-4122-d27d-03359683cd8d"
      },
      "execution_count": 69,
      "outputs": [
        {
          "output_type": "stream",
          "name": "stdout",
          "text": [
            "CV accuracy: 0.919 +/- 0.004\n"
          ]
        }
      ]
    },
    {
      "cell_type": "code",
      "source": [
        "# usamos el modulo joblib para guardar y cargar\n",
        "import joblib\n",
        "joblib.dump(classifier_svc_balanced, 'classifier_svc_balanced.joblib') \n",
        "#eje = joblib.load('filename.joblib')\n",
        "#b=eje.predict(X[0:5])\n",
        "#print(b)"
      ],
      "metadata": {
        "colab": {
          "base_uri": "https://localhost:8080/"
        },
        "id": "ku10nnzSbsNC",
        "outputId": "f8222291-8e19-4cae-e4ef-f807cc0e6f38"
      },
      "execution_count": 93,
      "outputs": [
        {
          "output_type": "execute_result",
          "data": {
            "text/plain": [
              "['classifier_svc_balanced.joblib']"
            ]
          },
          "metadata": {},
          "execution_count": 93
        }
      ]
    }
  ],
  "metadata": {
    "colab": {
      "provenance": [],
      "collapsed_sections": [],
      "include_colab_link": true
    },
    "gpuClass": "standard",
    "kernelspec": {
      "display_name": "Python 3",
      "name": "python3"
    },
    "language_info": {
      "name": "python"
    }
  },
  "nbformat": 4,
  "nbformat_minor": 0
}