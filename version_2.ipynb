{
  "nbformat": 4,
  "nbformat_minor": 0,
  "metadata": {
    "colab": {
      "provenance": [],
      "collapsed_sections": [],
      "authorship_tag": "ABX9TyM2HSxupEFL9HVeEoffDAJY",
      "include_colab_link": true
    },
    "kernelspec": {
      "name": "python3",
      "display_name": "Python 3"
    },
    "language_info": {
      "name": "python"
    }
  },
  "cells": [
    {
      "cell_type": "markdown",
      "metadata": {
        "id": "view-in-github",
        "colab_type": "text"
      },
      "source": [
        "<a href=\"https://colab.research.google.com/github/JALVARADORUIZ/TFM_UB/blob/main/version_2.ipynb\" target=\"_parent\"><img src=\"https://colab.research.google.com/assets/colab-badge.svg\" alt=\"Open In Colab\"/></a>"
      ]
    },
    {
      "cell_type": "code",
      "execution_count": 1,
      "metadata": {
        "colab": {
          "base_uri": "https://localhost:8080/"
        },
        "id": "uFEF-Ak-cH5_",
        "outputId": "31ecf315-198f-4a70-cb01-5683a95b4989"
      },
      "outputs": [
        {
          "output_type": "stream",
          "name": "stdout",
          "text": [
            "Mounted at /content/drive\n"
          ]
        }
      ],
      "source": [
        "from google.colab import drive\n",
        "drive.mount('/content/drive', force_remount=True)"
      ]
    },
    {
      "cell_type": "code",
      "source": [
        "import numpy as np \n",
        "import pandas as pd\n",
        "import cv2\n",
        "import glob\n",
        "import os\n",
        "import matplotlib.pyplot as plt\n",
        "import string\n",
        "from mlxtend.plotting import plot_decision_regions\n",
        "from mpl_toolkits.mplot3d import Axes3D\n",
        "from sklearn.decomposition import PCA\n",
        "from sklearn.preprocessing import StandardScaler\n",
        "from sklearn.neighbors import KNeighborsClassifier\n",
        "from sklearn.tree import DecisionTreeClassifier \n",
        "from sklearn.model_selection import train_test_split, cross_val_score\n",
        "from sklearn.utils.multiclass import unique_labels\n",
        "from sklearn.preprocessing import LabelEncoder\n",
        "from sklearn import metrics\n",
        "from sklearn.svm import SVC\n",
        "\n",
        "from tqdm import tqdm\n",
        "tqdm.pandas()\n",
        "\n",
        "\n",
        "dim = 100"
      ],
      "metadata": {
        "id": "62UQPUdncI42"
      },
      "execution_count": 2,
      "outputs": []
    },
    {
      "cell_type": "code",
      "source": [
        "data = '/content/drive/MyDrive/TFM_Máster BDDS/datawine/df_img_processed2.csv'\n",
        "df = pd.read_csv(data)"
      ],
      "metadata": {
        "id": "t2uVdJmJdN_N"
      },
      "execution_count": 3,
      "outputs": []
    },
    {
      "cell_type": "code",
      "source": [
        "df.columns[0:15]"
      ],
      "metadata": {
        "colab": {
          "base_uri": "https://localhost:8080/"
        },
        "id": "esuDC-3rdhTM",
        "outputId": "c7081c84-9493-4860-ede5-9742ec86d0d6"
      },
      "execution_count": 4,
      "outputs": [
        {
          "output_type": "execute_result",
          "data": {
            "text/plain": [
              "Index(['winery', 'product', 'region', 'country_code', 'rating', 'variety',\n",
              "       'price_usd', 'image', 'continente', 'country_code_clean', 'price_cat',\n",
              "       'rating_cat', 'quality', 'color', 'image_clean'],\n",
              "      dtype='object')"
            ]
          },
          "metadata": {},
          "execution_count": 4
        }
      ]
    },
    {
      "cell_type": "code",
      "source": [
        "def getFeatures(files):\n",
        "    images = []\n",
        "    path = \"/content/drive/MyDrive/TFM_Máster BDDS/datawine/vintage-images/\"\n",
        "    for f in enumerate(files):\n",
        "        #print(f[1])\n",
        "        image_path = path + f[1]\n",
        "        image = cv2.imread(image_path, cv2.IMREAD_COLOR)\n",
        "        image = cv2.resize(image, (dim, dim))\n",
        "        image = cv2.cvtColor(image, cv2.COLOR_RGB2BGR)\n",
        "        images.append(image)\n",
        "    return images\n",
        "\n",
        "X = getFeatures(df['image_clean'])"
      ],
      "metadata": {
        "id": "k_eG0TnAsxXy"
      },
      "execution_count": 4,
      "outputs": []
    },
    {
      "cell_type": "code",
      "source": [
        "X = np.array(X)\n",
        "X.shape"
      ],
      "metadata": {
        "colab": {
          "base_uri": "https://localhost:8080/"
        },
        "id": "qy5F3afyvAWQ",
        "outputId": "b95f3193-e33e-4ea4-9836-c4e8d8c5ff4f"
      },
      "execution_count": 5,
      "outputs": [
        {
          "output_type": "execute_result",
          "data": {
            "text/plain": [
              "(9878, 100, 100, 3)"
            ]
          },
          "metadata": {},
          "execution_count": 5
        }
      ]
    },
    {
      "cell_type": "code",
      "source": [
        "with open('/content/drive/MyDrive/TFM_Máster BDDS/100_features.npy', 'wb') as f:\n",
        "    np.save(f, X)"
      ],
      "metadata": {
        "id": "OyUdNvF7Kcw6"
      },
      "execution_count": 6,
      "outputs": []
    },
    {
      "cell_type": "code",
      "source": [
        "with open('/content/drive/MyDrive/TFM_Máster BDDS/100_features.npy', 'rb') as f:\n",
        "    X= np.load(f)"
      ],
      "metadata": {
        "id": "zglrzlepLsot"
      },
      "execution_count": null,
      "outputs": []
    },
    {
      "cell_type": "code",
      "source": [
        "df_variety = df['variety'].value_counts().rename_axis('variety').to_frame('counts')\n",
        "df_variety_selected = df_variety[:15]\n",
        "list_variety = list(df_variety_selected.index)\n",
        "\n",
        "def transform_variety(variety, list_variety):\n",
        "  if variety in list_variety:\n",
        "    return variety\n",
        "  else:\n",
        "    return \"other\"\n",
        "\n",
        "df['variety'] = df.progress_apply(lambda x:transform_variety(x.variety,list_variety), axis=1)\n",
        "\n",
        "le = LabelEncoder()\n",
        "variedad = le.fit_transform(df['variety'])\n",
        "y = np.array(variedad)"
      ],
      "metadata": {
        "colab": {
          "base_uri": "https://localhost:8080/"
        },
        "id": "pIlppIhpvyKt",
        "outputId": "b116a80c-06e4-4aba-bd70-7e0a8448d81d"
      },
      "execution_count": 7,
      "outputs": [
        {
          "output_type": "stream",
          "name": "stderr",
          "text": [
            "100%|██████████| 9878/9878 [00:03<00:00, 3079.67it/s]\n"
          ]
        }
      ]
    },
    {
      "cell_type": "code",
      "source": [
        "y.shape"
      ],
      "metadata": {
        "colab": {
          "base_uri": "https://localhost:8080/"
        },
        "id": "8JUjnIG01MbX",
        "outputId": "719afccb-d54c-4ee7-bce2-be0cbed04409"
      },
      "execution_count": 8,
      "outputs": [
        {
          "output_type": "execute_result",
          "data": {
            "text/plain": [
              "(9878,)"
            ]
          },
          "metadata": {},
          "execution_count": 8
        }
      ]
    },
    {
      "cell_type": "code",
      "source": [
        "#X_train, X_test, y_train, y_test = train_test_split(X, y, test_size = 0.3, random_state=42)"
      ],
      "metadata": {
        "id": "aarFgbf20xAy"
      },
      "execution_count": 9,
      "outputs": []
    },
    {
      "cell_type": "code",
      "source": [
        "#Scale Data Images\n",
        "scaler = StandardScaler()\n",
        "#X_train = scaler.fit_transform([i.flatten() for i in X_train])\n",
        "#X_test = scaler.fit_transform([i.flatten() for i in X_test])\n",
        "X_scaled = scaler.fit_transform([i.flatten() for i in X])"
      ],
      "metadata": {
        "id": "4FfWQ7_Q0t2w"
      },
      "execution_count": 11,
      "outputs": []
    },
    {
      "cell_type": "markdown",
      "source": [
        "Busqueda de n_components PCA"
      ],
      "metadata": {
        "id": "F4V4jEV82Glb"
      }
    },
    {
      "cell_type": "code",
      "source": [
        "#Instanciamos objeto PCA y aplicamos\n",
        "pca=PCA(n_components=100) \n",
        "pca.fit(X_scaled) # obtener los componentes principales\n",
        "X_pca=pca.transform(X_scaled) # convertimos nuestros datos con las nuevas dimensiones de PCA\n",
        " \n",
        "#print(\"shape of X_pca\", X_pca.shape)\n",
        "expl = pca.explained_variance_ratio_\n",
        "#print(expl)\n",
        "print('suma:',sum(expl[0:100]))\n",
        "\n",
        " \n",
        "#graficamos el acumulado de varianza explicada en las nuevas dimensiones\n",
        "plt.plot(np.cumsum(pca.explained_variance_ratio_))\n",
        "plt.xlabel('number of components')\n",
        "plt.ylabel('cumulative explained variance')\n",
        "plt.show()"
      ],
      "metadata": {
        "colab": {
          "base_uri": "https://localhost:8080/",
          "height": 296
        },
        "id": "ek-GZIvg1ZtJ",
        "outputId": "8c6ff774-dd5b-43e1-ce03-5cedba1e643c"
      },
      "execution_count": 12,
      "outputs": [
        {
          "output_type": "stream",
          "name": "stdout",
          "text": [
            "suma: 0.8235646572548613\n"
          ]
        },
        {
          "output_type": "display_data",
          "data": {
            "text/plain": [
              "<Figure size 432x288 with 1 Axes>"
            ],
            "image/png": "[encoded data removed]"
          },
          "metadata": {
            "needs_background": "light"
          }
        }
      ]
    },
    {
      "cell_type": "code",
      "source": [
        "#Instanciamos objeto PCA y aplicamos\n",
        "pca=PCA(n_components=200) \n",
        "pca.fit(X_scaled) # obtener los componentes principales\n",
        "X_pca=pca.transform(X_scaled) # convertimos nuestros datos con las nuevas dimensiones de PCA\n",
        " \n",
        "#print(\"shape of X_pca\", X_pca.shape)\n",
        "expl = pca.explained_variance_ratio_\n",
        "#print(expl)\n",
        "print('suma:',sum(expl[0:200]))\n",
        "\n",
        " \n",
        "#graficamos el acumulado de varianza explicada en las nuevas dimensiones\n",
        "plt.plot(np.cumsum(pca.explained_variance_ratio_))\n",
        "plt.xlabel('number of components')\n",
        "plt.ylabel('cumulative explained variance')\n",
        "plt.show()"
      ],
      "metadata": {
        "colab": {
          "base_uri": "https://localhost:8080/",
          "height": 296
        },
        "id": "_hM4hZ0b3tYR",
        "outputId": "65ea9104-8947-44b5-b7df-d7ae70da528b"
      },
      "execution_count": 13,
      "outputs": [
        {
          "output_type": "stream",
          "name": "stdout",
          "text": [
            "suma: 0.8667198349859163\n"
          ]
        },
        {
          "output_type": "display_data",
          "data": {
            "text/plain": [
              "<Figure size 432x288 with 1 Axes>"
            ],
            "image/png": "[encoded data removed]"
          },
          "metadata": {
            "needs_background": "light"
          }
        }
      ]
    },
    {
      "cell_type": "code",
      "source": [
        "X_train, X_test, y_train, y_test = train_test_split(X_pca, y, test_size = 0.3, random_state=32)"
      ],
      "metadata": {
        "id": "k-dK-JieRnVb"
      },
      "execution_count": 15,
      "outputs": []
    },
    {
      "cell_type": "code",
      "source": [
        "X_train.shape, X_test.shape, y_train.shape, y_test.shape"
      ],
      "metadata": {
        "colab": {
          "base_uri": "https://localhost:8080/"
        },
        "id": "PELXC5UzTMtZ",
        "outputId": "e07a53dc-11fd-4b42-9341-b1b887ca73fe"
      },
      "execution_count": 16,
      "outputs": [
        {
          "output_type": "execute_result",
          "data": {
            "text/plain": [
              "((6914, 200), (2964, 200), (6914,), (2964,))"
            ]
          },
          "metadata": {},
          "execution_count": 16
        }
      ]
    },
    {
      "cell_type": "code",
      "source": [
        "param_range=[0.001,0.01,0.1,1,10]\n",
        "param_grid =[\n",
        "              {'kernel':['rbf'],\n",
        "               'C':param_range,\n",
        "               'gamma':param_range\n",
        "              }\n",
        "             ]"
      ],
      "metadata": {
        "id": "RjQpghg-TYrk"
      },
      "execution_count": 17,
      "outputs": []
    },
    {
      "cell_type": "code",
      "source": [
        "from sklearn.model_selection import GridSearchCV, cross_val_score\n",
        "\n",
        "gs_svc = GridSearchCV(SVC(),\n",
        "                      param_grid=param_grid,\n",
        "                      scoring='accuracy',\n",
        "                      cv=3,\n",
        "                      verbose=2,\n",
        "                      n_jobs=-1)"
      ],
      "metadata": {
        "id": "jNNxO7stTk5s"
      },
      "execution_count": 19,
      "outputs": []
    },
    {
      "cell_type": "code",
      "source": [
        "model_svc = gs_svc.fit(X_train, y_train)"
      ],
      "metadata": {
        "colab": {
          "base_uri": "https://localhost:8080/"
        },
        "id": "qb5gUoS_TurA",
        "outputId": "e9fbd8c0-992b-4f7a-f7fc-d2a46c3979de"
      },
      "execution_count": 20,
      "outputs": [
        {
          "output_type": "stream",
          "name": "stdout",
          "text": [
            "Fitting 3 folds for each of 25 candidates, totalling 75 fits\n"
          ]
        }
      ]
    },
    {
      "cell_type": "code",
      "source": [
        "model_svc.best_estimator_"
      ],
      "metadata": {
        "colab": {
          "base_uri": "https://localhost:8080/"
        },
        "id": "Ga5TxxCPXIMw",
        "outputId": "f0b18dd9-4b98-4b59-882b-1ee182421d08"
      },
      "execution_count": 21,
      "outputs": [
        {
          "output_type": "execute_result",
          "data": {
            "text/plain": [
              "SVC(C=10, gamma=0.001)"
            ]
          },
          "metadata": {},
          "execution_count": 21
        }
      ]
    },
    {
      "cell_type": "code",
      "source": [
        "model_svc.best_score_"
      ],
      "metadata": {
        "colab": {
          "base_uri": "https://localhost:8080/"
        },
        "id": "l0EvRUNaXL5n",
        "outputId": "f9e45191-3f7e-4616-c060-ba6b7f89a899"
      },
      "execution_count": 22,
      "outputs": [
        {
          "output_type": "execute_result",
          "data": {
            "text/plain": [
              "0.44836669980718247"
            ]
          },
          "metadata": {},
          "execution_count": 22
        }
      ]
    },
    {
      "cell_type": "code",
      "source": [
        "classifier_svc_pca = SVC(C=10,gamma=0.001,kernel='rbf')"
      ],
      "metadata": {
        "id": "wDM2orOvXPHX"
      },
      "execution_count": 23,
      "outputs": []
    },
    {
      "cell_type": "code",
      "source": [
        "classifier_svc_pca.fit(X_train, y_train)"
      ],
      "metadata": {
        "colab": {
          "base_uri": "https://localhost:8080/"
        },
        "id": "iTuMEWEMXW_W",
        "outputId": "af96af27-65a3-4f06-94ca-233bf0d2b847"
      },
      "execution_count": 24,
      "outputs": [
        {
          "output_type": "execute_result",
          "data": {
            "text/plain": [
              "SVC(C=10, gamma=0.001)"
            ]
          },
          "metadata": {},
          "execution_count": 24
        }
      ]
    },
    {
      "cell_type": "code",
      "source": [
        "y_pred_pca = classifier_svc_pca.predict(X_test)"
      ],
      "metadata": {
        "id": "LsPoq2tpXao_"
      },
      "execution_count": 25,
      "outputs": []
    },
    {
      "cell_type": "code",
      "source": [
        "from sklearn.metrics import classification_report, confusion_matrix, accuracy_score\n",
        "result_pca = confusion_matrix(y_test, y_pred_pca)\n",
        "\n",
        "print('Confusion Matrix - Clasificador SVC Escalado y PCA optimizado')\n",
        "\n",
        "print(result_pca)\n",
        "print('Accuracy:', accuracy_score(y_test, y_pred_pca))"
      ],
      "metadata": {
        "colab": {
          "base_uri": "https://localhost:8080/"
        },
        "id": "Ib6DdL7bXjKw",
        "outputId": "c88a9436-0fb1-4e4a-e9d3-18f7aa4e010c"
      },
      "execution_count": 27,
      "outputs": [
        {
          "output_type": "stream",
          "name": "stdout",
          "text": [
            "Confusion Matrix - Clasificador SVC Escalado y PCA optimizado\n",
            "[[ 35   0   0   0   0   0   0  31   0   0   0   0   0   0   0   0]\n",
            " [  0 328   0   0   1   1   0 333   0   0   0   0   0   0   0   0]\n",
            " [  0   1  42   0   0   0   0 277   0   0   0   0   0   0   0   0]\n",
            " [  0   0   0  19   0   0   0  34   0   0   0   0   0   0   0   0]\n",
            " [  0   2   0   0  12   0   0  60   0   0   0   0   0   0   0   0]\n",
            " [  0   4   0   0   1  61   0  89   0   0   0   0   0   0   0   0]\n",
            " [  0   0   0   0   0   0  54  52   0   0   0   0   0   0   0   0]\n",
            " [  0   3   0   0   1   0   0 601   1   0   0   1   0   0   0   0]\n",
            " [  0   0   0   0   0   0   0 163  30   0   0   0   0   0   0   0]\n",
            " [  0   1   0   0   0   0   0  43   0   5   0   0   0   0   0   0]\n",
            " [  0   0   0   0   0   0   0 102   0   0  34   0   0   0   0   0]\n",
            " [  0   0   0   0   0   0   0  80   0   0   0  24   0   0   0   0]\n",
            " [  0   2   0   0   0   1   0 175   0   0   0   0  58   0   0   0]\n",
            " [  0   0   0   0   0   0   0  57   0   0   0   0   0  24   0   0]\n",
            " [  0   1   0   0   0   0   0  42   0   0   0   0   0   0  36   0]\n",
            " [  0   1   0   0   0   1   0  38   0   0   0   0   0   0   0   2]]\n",
            "Accuracy: 0.4605263157894737\n"
          ]
        }
      ]
    },
    {
      "cell_type": "code",
      "source": [
        "print(classification_report(y_test,y_pred_pca,target_names=le.classes_))"
      ],
      "metadata": {
        "colab": {
          "base_uri": "https://localhost:8080/"
        },
        "id": "z_e1iX0aXx_r",
        "outputId": "3ae9373a-804c-4872-b267-e17bd2452100"
      },
      "execution_count": 28,
      "outputs": [
        {
          "output_type": "stream",
          "name": "stdout",
          "text": [
            "                    precision    recall  f1-score   support\n",
            "\n",
            "    cabernet franc       1.00      0.53      0.69        66\n",
            "cabernet sauvignon       0.96      0.49      0.65       663\n",
            "        chardonnay       1.00      0.13      0.23       320\n",
            "          grenache       1.00      0.36      0.53        53\n",
            "            malbec       0.80      0.16      0.27        74\n",
            "            merlot       0.95      0.39      0.56       155\n",
            "          nebbiolo       1.00      0.51      0.67       106\n",
            "             other       0.28      0.99      0.43       607\n",
            "        pinot noir       0.97      0.16      0.27       193\n",
            "          riesling       1.00      0.10      0.19        49\n",
            "        sangiovese       1.00      0.25      0.40       136\n",
            "   sauvignon blanc       0.96      0.23      0.37       104\n",
            "      shiraz syrah       1.00      0.25      0.39       236\n",
            "       tempranillo       1.00      0.30      0.46        81\n",
            "  touriga nacional       1.00      0.46      0.63        79\n",
            "         zinfandel       1.00      0.05      0.09        42\n",
            "\n",
            "          accuracy                           0.46      2964\n",
            "         macro avg       0.93      0.33      0.43      2964\n",
            "      weighted avg       0.83      0.46      0.46      2964\n",
            "\n"
          ]
        }
      ]
    },
    {
      "cell_type": "code",
      "source": [
        "print(\"Test accuracy: %.3f\" % classifier_svc_pca.score(X_test, y_test))"
      ],
      "metadata": {
        "colab": {
          "base_uri": "https://localhost:8080/"
        },
        "id": "MllSDYDoYBYQ",
        "outputId": "366c0fd4-5c28-4424-b624-c332461c41a4"
      },
      "execution_count": 29,
      "outputs": [
        {
          "output_type": "stream",
          "name": "stdout",
          "text": [
            "Test accuracy: 0.461\n"
          ]
        }
      ]
    },
    {
      "cell_type": "markdown",
      "source": [
        "**Balanceo**"
      ],
      "metadata": {
        "id": "QFwWPkXUakxa"
      }
    },
    {
      "cell_type": "code",
      "source": [
        "from imblearn.over_sampling import RandomOverSampler\n",
        "\n",
        "ros = RandomOverSampler(sampling_strategy=\"not majority\")\n",
        "X_res, y_res = ros.fit_resample(X_pca,y)\n",
        "\n",
        "X_train, X_test, y_train, y_test = train_test_split(X_res, y_res, test_size = 0.3)"
      ],
      "metadata": {
        "id": "WO0v0-wNYGoq"
      },
      "execution_count": 30,
      "outputs": []
    },
    {
      "cell_type": "code",
      "source": [
        "model_svc = gs_svc.fit(X_train, y_train)"
      ],
      "metadata": {
        "colab": {
          "base_uri": "https://localhost:8080/"
        },
        "id": "HxKawQhLZSUX",
        "outputId": "fdb162ac-01fe-4a66-8240-0817279abd44"
      },
      "execution_count": 36,
      "outputs": [
        {
          "output_type": "stream",
          "name": "stdout",
          "text": [
            "Fitting 3 folds for each of 25 candidates, totalling 75 fits\n"
          ]
        }
      ]
    },
    {
      "cell_type": "code",
      "source": [
        "model_svc.best_estimator_"
      ],
      "metadata": {
        "colab": {
          "base_uri": "https://localhost:8080/"
        },
        "id": "GL3wBdpbZT9v",
        "outputId": "5b3ebefc-0332-410c-f099-c825f129b6f8"
      },
      "execution_count": 37,
      "outputs": [
        {
          "output_type": "execute_result",
          "data": {
            "text/plain": [
              "SVC(C=1, gamma=0.001)"
            ]
          },
          "metadata": {},
          "execution_count": 37
        }
      ]
    },
    {
      "cell_type": "code",
      "source": [
        "classifier_svc_balanced = SVC(C=1,gamma=0.001,kernel='rbf')"
      ],
      "metadata": {
        "id": "2Rvw-GsJYVE1"
      },
      "execution_count": 38,
      "outputs": []
    },
    {
      "cell_type": "code",
      "source": [
        "classifier_svc_balanced.fit(X_train, y_train)"
      ],
      "metadata": {
        "colab": {
          "base_uri": "https://localhost:8080/"
        },
        "id": "Q8qf2M04YYy_",
        "outputId": "18adec05-4703-4f8e-86f9-1ec223f9347f"
      },
      "execution_count": 39,
      "outputs": [
        {
          "output_type": "execute_result",
          "data": {
            "text/plain": [
              "SVC(C=1, gamma=0.001)"
            ]
          },
          "metadata": {},
          "execution_count": 39
        }
      ]
    },
    {
      "cell_type": "code",
      "source": [
        "y_pred_balanced= classifier_svc_balanced.predict(X_test)"
      ],
      "metadata": {
        "id": "iTYyl7-3YeJL"
      },
      "execution_count": 40,
      "outputs": []
    },
    {
      "cell_type": "code",
      "source": [
        "result = confusion_matrix(y_test, y_pred_balanced)\n",
        "\n",
        "print('Confusion Matrix - SVC Balanceado')\n",
        "\n",
        "print(result)\n",
        "\n",
        "\n",
        "print('Accuracy:', accuracy_score(y_test, y_pred_balanced))"
      ],
      "metadata": {
        "colab": {
          "base_uri": "https://localhost:8080/"
        },
        "id": "S_Zykca6Yhh7",
        "outputId": "861f6539-3983-4b0c-f98e-40639ac2e891"
      },
      "execution_count": 41,
      "outputs": [
        {
          "output_type": "stream",
          "name": "stdout",
          "text": [
            "Confusion Matrix - SVC Balanceado\n",
            "[[680   0   0   0   0   0   0   5   0   0   0   0   0   0   0   0]\n",
            " [  0 332   0   0   3   2   0 320   0   0   0   0   1   0   0   0]\n",
            " [  0   3 516   0   0   0   0 151   0   0   0   0   0   0   0   0]\n",
            " [  0   0   0 656   0   0   0   0   0   0   0   0   0   0   0   0]\n",
            " [  0   0   0   0 612   0   0   0   0   0   0   0   0   0   0   0]\n",
            " [  0   0   0   0   0 659   0  17   0   0   0   0   0   0   0   0]\n",
            " [  0   0   0   0   0   0 638   5   0   0   0   0   0   0   0   0]\n",
            " [  0   3   1   0   1   0   0 633   0   0   0   0   3   0   0   0]\n",
            " [  0   0   0   0   0   0   0  56 614   0   0   0   0   0   0   0]\n",
            " [  0   0   0   0   0   0   0   0   0 672   0   0   0   0   0   0]\n",
            " [  0   0   0   0   0   0   0  18   0   0 676   0   0   0   0   0]\n",
            " [  0   0   0   0   0   0   0   0   0   0   0 657   0   0   0   0]\n",
            " [  0   1   0   0   0   0   0  73   0   0   0   0 605   0   0   0]\n",
            " [  0   0   0   0   0   0   0   2   0   0   0   0   0 654   0   0]\n",
            " [  0   0   0   0   0   0   0   0   0   0   0   0   0   0 655   0]\n",
            " [  0   0   0   0   0   0   0   0   0   0   0   0   0   0   0 708]]\n",
            "Accuracy: 0.9374529721595184\n"
          ]
        }
      ]
    },
    {
      "cell_type": "code",
      "source": [
        "print(classification_report(y_test,y_pred_balanced,target_names=le.classes_))"
      ],
      "metadata": {
        "colab": {
          "base_uri": "https://localhost:8080/"
        },
        "id": "SoYUvUHeYkZ4",
        "outputId": "442cd120-54e4-4e89-e76f-e0bb6058e4b6"
      },
      "execution_count": 42,
      "outputs": [
        {
          "output_type": "stream",
          "name": "stdout",
          "text": [
            "                    precision    recall  f1-score   support\n",
            "\n",
            "    cabernet franc       1.00      0.99      1.00       685\n",
            "cabernet sauvignon       0.98      0.50      0.67       658\n",
            "        chardonnay       1.00      0.77      0.87       670\n",
            "          grenache       1.00      1.00      1.00       656\n",
            "            malbec       0.99      1.00      1.00       612\n",
            "            merlot       1.00      0.97      0.99       676\n",
            "          nebbiolo       1.00      0.99      1.00       643\n",
            "             other       0.49      0.99      0.66       641\n",
            "        pinot noir       1.00      0.92      0.96       670\n",
            "          riesling       1.00      1.00      1.00       672\n",
            "        sangiovese       1.00      0.97      0.99       694\n",
            "   sauvignon blanc       1.00      1.00      1.00       657\n",
            "      shiraz syrah       0.99      0.89      0.94       679\n",
            "       tempranillo       1.00      1.00      1.00       656\n",
            "  touriga nacional       1.00      1.00      1.00       655\n",
            "         zinfandel       1.00      1.00      1.00       708\n",
            "\n",
            "          accuracy                           0.94     10632\n",
            "         macro avg       0.97      0.94      0.94     10632\n",
            "      weighted avg       0.97      0.94      0.94     10632\n",
            "\n"
          ]
        }
      ]
    },
    {
      "cell_type": "code",
      "source": [
        "print(\"Test accuracy: %.3f\" % classifier_svc_pca.score(X_test, y_test))"
      ],
      "metadata": {
        "colab": {
          "base_uri": "https://localhost:8080/"
        },
        "id": "v4daQXDFae-0",
        "outputId": "a5afe655-c41e-47f7-f949-57c43c6f7a50"
      },
      "execution_count": 43,
      "outputs": [
        {
          "output_type": "stream",
          "name": "stdout",
          "text": [
            "Test accuracy: 0.797\n"
          ]
        }
      ]
    },
    {
      "cell_type": "code",
      "source": [
        "import joblib\n",
        "\n",
        "joblib.dump(classifier_svc_pca, '/content/drive/MyDrive/TFM_Máster BDDS/Modelos/modelo_svm_variedad_features100.pkl')"
      ],
      "metadata": {
        "colab": {
          "base_uri": "https://localhost:8080/"
        },
        "id": "MeNRB9fot_2X",
        "outputId": "9b4f01e0-36b2-48b4-edeb-83b9a51a89e5"
      },
      "execution_count": 44,
      "outputs": [
        {
          "output_type": "execute_result",
          "data": {
            "text/plain": [
              "['/content/drive/MyDrive/TFM_Máster BDDS/Modelos/modelo_svm_variedad_features100.pkl']"
            ]
          },
          "metadata": {},
          "execution_count": 44
        }
      ]
    }
  ]
}