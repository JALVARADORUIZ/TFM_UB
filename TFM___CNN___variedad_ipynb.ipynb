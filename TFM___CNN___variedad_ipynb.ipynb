{
  "nbformat": 4,
  "nbformat_minor": 0,
  "metadata": {
    "colab": {
      "provenance": [],
      "collapsed_sections": [],
      "include_colab_link": true
    },
    "kernelspec": {
      "name": "python3",
      "display_name": "Python 3"
    },
    "language_info": {
      "name": "python"
    },
    "accelerator": "GPU"
  },
  "cells": [
    {
      "cell_type": "markdown",
      "metadata": {
        "id": "view-in-github",
        "colab_type": "text"
      },
      "source": [
        "<a href=\"https://colab.research.google.com/github/JALVARADORUIZ/TFM_UB/blob/main/TFM___CNN___variedad_ipynb.ipynb\" target=\"_parent\"><img src=\"https://colab.research.google.com/assets/colab-badge.svg\" alt=\"Open In Colab\"/></a>"
      ]
    },
    {
      "cell_type": "code",
      "execution_count": 1,
      "metadata": {
        "colab": {
          "base_uri": "https://localhost:8080/"
        },
        "id": "uFEF-Ak-cH5_",
        "outputId": "a50949fa-783d-4eee-b73e-3e564dd72914"
      },
      "outputs": [
        {
          "output_type": "stream",
          "name": "stdout",
          "text": [
            "Mounted at /content/drive\n"
          ]
        }
      ],
      "source": [
        "from google.colab import drive\n",
        "drive.mount('/content/drive', force_remount=True)"
      ]
    },
    {
      "cell_type": "code",
      "source": [
        "import numpy as np \n",
        "import pandas as pd\n",
        "import cv2\n",
        "import glob\n",
        "import os\n",
        "import matplotlib.pyplot as plt\n",
        "import string\n",
        "from mlxtend.plotting import plot_decision_regions\n",
        "from mpl_toolkits.mplot3d import Axes3D\n",
        "from sklearn.decomposition import PCA\n",
        "from sklearn.preprocessing import StandardScaler\n",
        "from sklearn.neighbors import KNeighborsClassifier\n",
        "from sklearn.tree import DecisionTreeClassifier \n",
        "from sklearn.model_selection import train_test_split, cross_val_score\n",
        "from sklearn.utils.multiclass import unique_labels\n",
        "from sklearn.preprocessing import LabelEncoder\n",
        "from sklearn import metrics\n",
        "from sklearn.svm import SVC\n",
        "\n",
        "from tqdm import tqdm\n",
        "tqdm.pandas()\n",
        "\n",
        "\n",
        "dim = 100"
      ],
      "metadata": {
        "id": "62UQPUdncI42"
      },
      "execution_count": 2,
      "outputs": []
    },
    {
      "cell_type": "code",
      "source": [
        "data = '/content/drive/MyDrive/TFM_Máster BDDS/datawine/df_img_processed2.csv'\n",
        "df = pd.read_csv(data)"
      ],
      "metadata": {
        "id": "t2uVdJmJdN_N"
      },
      "execution_count": 3,
      "outputs": []
    },
    {
      "cell_type": "code",
      "source": [
        "df.columns[0:15]"
      ],
      "metadata": {
        "colab": {
          "base_uri": "https://localhost:8080/"
        },
        "id": "esuDC-3rdhTM",
        "outputId": "83ba1ee6-6b62-42c5-b8c9-5b68acd260b2"
      },
      "execution_count": 4,
      "outputs": [
        {
          "output_type": "execute_result",
          "data": {
            "text/plain": [
              "Index(['winery', 'product', 'region', 'country_code', 'rating', 'variety',\n",
              "       'price_usd', 'image', 'continente', 'country_code_clean', 'price_cat',\n",
              "       'rating_cat', 'quality', 'color', 'image_clean'],\n",
              "      dtype='object')"
            ]
          },
          "metadata": {},
          "execution_count": 4
        }
      ]
    },
    {
      "cell_type": "code",
      "source": [
        "'''\n",
        "def getFeatures(files):\n",
        "    images = []\n",
        "    path = \"/content/drive/MyDrive/TFM_Máster BDDS/datawine/vintage-images/\"\n",
        "    for f in enumerate(files):\n",
        "        #print(f[1])\n",
        "        image_path = path + f[1]\n",
        "        image = cv2.imread(image_path, cv2.IMREAD_COLOR)\n",
        "        image = cv2.resize(image, (dim, dim))\n",
        "        image = cv2.cvtColor(image, cv2.COLOR_RGB2BGR)\n",
        "        images.append(image)\n",
        "    return images\n",
        "\n",
        "X = getFeatures(df['image_clean'])\n",
        "\n",
        "'''"
      ],
      "metadata": {
        "id": "k_eG0TnAsxXy"
      },
      "execution_count": null,
      "outputs": []
    },
    {
      "cell_type": "code",
      "source": [
        "'''\n",
        "with open('/content/drive/MyDrive/TFM_Máster BDDS/100_features.npy', 'wb') as f:\n",
        "    np.save(f, X)\n",
        "'''"
      ],
      "metadata": {
        "id": "OyUdNvF7Kcw6"
      },
      "execution_count": null,
      "outputs": []
    },
    {
      "cell_type": "code",
      "source": [
        "with open('/content/drive/MyDrive/TFM_Máster BDDS/100_features.npy', 'rb') as f:\n",
        "    X= np.load(f)"
      ],
      "metadata": {
        "id": "zglrzlepLsot"
      },
      "execution_count": 5,
      "outputs": []
    },
    {
      "cell_type": "code",
      "source": [
        "X = np.array(X)\n",
        "X.shape"
      ],
      "metadata": {
        "colab": {
          "base_uri": "https://localhost:8080/"
        },
        "id": "qy5F3afyvAWQ",
        "outputId": "f8c2fb22-de51-4603-86b6-bce117d77d2c"
      },
      "execution_count": 6,
      "outputs": [
        {
          "output_type": "execute_result",
          "data": {
            "text/plain": [
              "(9878, 100, 100, 3)"
            ]
          },
          "metadata": {},
          "execution_count": 6
        }
      ]
    },
    {
      "cell_type": "code",
      "source": [
        "df_variety = df['variety'].value_counts().rename_axis('variety').to_frame('counts')\n",
        "df_variety_selected = df_variety[:15]\n",
        "list_variety = list(df_variety_selected.index)\n",
        "\n",
        "def transform_variety(variety, list_variety):\n",
        "  if variety in list_variety:\n",
        "    return variety\n",
        "  else:\n",
        "    return \"other\"\n",
        "\n",
        "df['variety'] = df.progress_apply(lambda x:transform_variety(x.variety,list_variety), axis=1)\n",
        "\n",
        "le = LabelEncoder()\n",
        "variedad = le.fit_transform(df['variety'])\n",
        "y = np.array(variedad)"
      ],
      "metadata": {
        "colab": {
          "base_uri": "https://localhost:8080/"
        },
        "id": "pIlppIhpvyKt",
        "outputId": "7217e9b3-9115-4941-bf20-f67ab1377039"
      },
      "execution_count": 7,
      "outputs": [
        {
          "output_type": "stream",
          "name": "stderr",
          "text": [
            "100%|██████████| 9878/9878 [00:02<00:00, 4475.01it/s]\n"
          ]
        }
      ]
    },
    {
      "cell_type": "code",
      "source": [
        "y.shape"
      ],
      "metadata": {
        "colab": {
          "base_uri": "https://localhost:8080/"
        },
        "id": "8JUjnIG01MbX",
        "outputId": "4d5b971d-0372-4cde-f139-f0e7295824d6"
      },
      "execution_count": 8,
      "outputs": [
        {
          "output_type": "execute_result",
          "data": {
            "text/plain": [
              "(9878,)"
            ]
          },
          "metadata": {},
          "execution_count": 8
        }
      ]
    },
    {
      "cell_type": "code",
      "source": [
        "X_train, X_test, y_train, y_test = train_test_split(X, y, test_size = 0.3, random_state=42)"
      ],
      "metadata": {
        "id": "aarFgbf20xAy"
      },
      "execution_count": 9,
      "outputs": []
    },
    {
      "cell_type": "code",
      "source": [
        "# Normalize pixel values between 0 and 1\n",
        "X_train, X_test = X_train / 255.0, X_test / 255.0"
      ],
      "metadata": {
        "id": "BF6aO4yXDyGx"
      },
      "execution_count": 10,
      "outputs": []
    },
    {
      "cell_type": "markdown",
      "source": [
        "**Probando Red neuronal Convulsional Simple (Sin Dropout)**"
      ],
      "metadata": {
        "id": "T65SgUzEOKqJ"
      }
    },
    {
      "cell_type": "code",
      "source": [
        "# We import the data set from tensorflow and build the model there\n",
        "import tensorflow as tf\n",
        "from tensorflow.keras import datasets, layers, models\n",
        "\n",
        "model = models.Sequential()\n",
        "model.add(layers.Conv2D(32, (3, 3), activation='relu', input_shape=(100, 100, 3)))\n",
        "model.add(layers.MaxPooling2D((2, 2)))\n",
        "model.add(layers.Conv2D(64, (3, 3), activation='relu'))\n",
        "model.add(layers.MaxPooling2D((2, 2)))\n",
        "\n",
        "model.add(layers.Conv2D(64, (3, 3), activation='relu'))\n",
        "model.add(layers.Flatten())\n",
        "model.add(layers.Dense(64, activation='relu'))\n",
        "model.add(layers.Dense(16))\n",
        "\n",
        "model.summary()"
      ],
      "metadata": {
        "colab": {
          "base_uri": "https://localhost:8080/"
        },
        "id": "bRE1mQ9bClZU",
        "outputId": "24d04148-4687-4678-ced3-8663a9aff14b"
      },
      "execution_count": 15,
      "outputs": [
        {
          "output_type": "stream",
          "name": "stdout",
          "text": [
            "Model: \"sequential_1\"\n",
            "_________________________________________________________________\n",
            " Layer (type)                Output Shape              Param #   \n",
            "=================================================================\n",
            " conv2d_3 (Conv2D)           (None, 98, 98, 32)        896       \n",
            "                                                                 \n",
            " max_pooling2d_2 (MaxPooling  (None, 49, 49, 32)       0         \n",
            " 2D)                                                             \n",
            "                                                                 \n",
            " conv2d_4 (Conv2D)           (None, 47, 47, 64)        18496     \n",
            "                                                                 \n",
            " max_pooling2d_3 (MaxPooling  (None, 23, 23, 64)       0         \n",
            " 2D)                                                             \n",
            "                                                                 \n",
            " conv2d_5 (Conv2D)           (None, 21, 21, 64)        36928     \n",
            "                                                                 \n",
            " flatten_1 (Flatten)         (None, 28224)             0         \n",
            "                                                                 \n",
            " dense_2 (Dense)             (None, 64)                1806400   \n",
            "                                                                 \n",
            " dense_3 (Dense)             (None, 16)                1040      \n",
            "                                                                 \n",
            "=================================================================\n",
            "Total params: 1,863,760\n",
            "Trainable params: 1,863,760\n",
            "Non-trainable params: 0\n",
            "_________________________________________________________________\n"
          ]
        }
      ]
    },
    {
      "cell_type": "code",
      "source": [
        "model.compile(optimizer='adam', \n",
        "             loss=tf.keras.losses.SparseCategoricalCrossentropy(from_logits=True),\n",
        "             metrics=['accuracy'])\n",
        "\n",
        "history = model.fit(X_train, y_train, epochs=30, \n",
        "                    validation_data=(X_test, y_test))"
      ],
      "metadata": {
        "id": "YOiQ2N3fCxnH",
        "colab": {
          "base_uri": "https://localhost:8080/"
        },
        "outputId": "d883638b-b459-440d-a462-32932ca63068"
      },
      "execution_count": 16,
      "outputs": [
        {
          "output_type": "stream",
          "name": "stdout",
          "text": [
            "Epoch 1/30\n",
            "217/217 [==============================] - 5s 19ms/step - loss: 2.1874 - accuracy: 0.3248 - val_loss: 2.0789 - val_accuracy: 0.3721\n",
            "Epoch 2/30\n",
            "217/217 [==============================] - 3s 15ms/step - loss: 1.9235 - accuracy: 0.3972 - val_loss: 1.9601 - val_accuracy: 0.3883\n",
            "Epoch 3/30\n",
            "217/217 [==============================] - 3s 15ms/step - loss: 1.7782 - accuracy: 0.4319 - val_loss: 1.8383 - val_accuracy: 0.4231\n",
            "Epoch 4/30\n",
            "217/217 [==============================] - 3s 15ms/step - loss: 1.6156 - accuracy: 0.4829 - val_loss: 1.7950 - val_accuracy: 0.4413\n",
            "Epoch 5/30\n",
            "217/217 [==============================] - 3s 15ms/step - loss: 1.3637 - accuracy: 0.5597 - val_loss: 1.8130 - val_accuracy: 0.4514\n",
            "Epoch 6/30\n",
            "217/217 [==============================] - 3s 15ms/step - loss: 1.0590 - accuracy: 0.6582 - val_loss: 2.0225 - val_accuracy: 0.4831\n",
            "Epoch 7/30\n",
            "217/217 [==============================] - 3s 15ms/step - loss: 0.7881 - accuracy: 0.7433 - val_loss: 2.2627 - val_accuracy: 0.4949\n",
            "Epoch 8/30\n",
            "217/217 [==============================] - 3s 15ms/step - loss: 0.4938 - accuracy: 0.8390 - val_loss: 2.5688 - val_accuracy: 0.4899\n",
            "Epoch 9/30\n",
            "217/217 [==============================] - 3s 15ms/step - loss: 0.3061 - accuracy: 0.9050 - val_loss: 3.1170 - val_accuracy: 0.4801\n",
            "Epoch 10/30\n",
            "217/217 [==============================] - 3s 15ms/step - loss: 0.1842 - accuracy: 0.9447 - val_loss: 3.5264 - val_accuracy: 0.5067\n",
            "Epoch 11/30\n",
            "217/217 [==============================] - 3s 15ms/step - loss: 0.1117 - accuracy: 0.9673 - val_loss: 4.0095 - val_accuracy: 0.4980\n",
            "Epoch 12/30\n",
            "217/217 [==============================] - 3s 15ms/step - loss: 0.0909 - accuracy: 0.9741 - val_loss: 4.0478 - val_accuracy: 0.4990\n",
            "Epoch 13/30\n",
            "217/217 [==============================] - 3s 15ms/step - loss: 0.0643 - accuracy: 0.9808 - val_loss: 4.8471 - val_accuracy: 0.4963\n",
            "Epoch 14/30\n",
            "217/217 [==============================] - 3s 15ms/step - loss: 0.0797 - accuracy: 0.9776 - val_loss: 4.8325 - val_accuracy: 0.5061\n",
            "Epoch 15/30\n",
            "217/217 [==============================] - 3s 15ms/step - loss: 0.0369 - accuracy: 0.9907 - val_loss: 4.6289 - val_accuracy: 0.4993\n",
            "Epoch 16/30\n",
            "217/217 [==============================] - 3s 15ms/step - loss: 0.0420 - accuracy: 0.9900 - val_loss: 4.9055 - val_accuracy: 0.5047\n",
            "Epoch 17/30\n",
            "217/217 [==============================] - 3s 15ms/step - loss: 0.0531 - accuracy: 0.9835 - val_loss: 5.3774 - val_accuracy: 0.4949\n",
            "Epoch 18/30\n",
            "217/217 [==============================] - 3s 15ms/step - loss: 0.0658 - accuracy: 0.9799 - val_loss: 4.8894 - val_accuracy: 0.4993\n",
            "Epoch 19/30\n",
            "217/217 [==============================] - 3s 15ms/step - loss: 0.0447 - accuracy: 0.9868 - val_loss: 5.1384 - val_accuracy: 0.4953\n",
            "Epoch 20/30\n",
            "217/217 [==============================] - 3s 15ms/step - loss: 0.0375 - accuracy: 0.9889 - val_loss: 5.0501 - val_accuracy: 0.5040\n",
            "Epoch 21/30\n",
            "217/217 [==============================] - 3s 15ms/step - loss: 0.0250 - accuracy: 0.9915 - val_loss: 5.8950 - val_accuracy: 0.5030\n",
            "Epoch 22/30\n",
            "217/217 [==============================] - 3s 15ms/step - loss: 0.0539 - accuracy: 0.9821 - val_loss: 5.2915 - val_accuracy: 0.4980\n",
            "Epoch 23/30\n",
            "217/217 [==============================] - 3s 15ms/step - loss: 0.0703 - accuracy: 0.9783 - val_loss: 5.3737 - val_accuracy: 0.4956\n",
            "Epoch 24/30\n",
            "217/217 [==============================] - 3s 15ms/step - loss: 0.0751 - accuracy: 0.9774 - val_loss: 5.4714 - val_accuracy: 0.5027\n",
            "Epoch 25/30\n",
            "217/217 [==============================] - 3s 16ms/step - loss: 0.0192 - accuracy: 0.9960 - val_loss: 6.1422 - val_accuracy: 0.4983\n",
            "Epoch 26/30\n",
            "217/217 [==============================] - 4s 17ms/step - loss: 0.0048 - accuracy: 0.9984 - val_loss: 6.4474 - val_accuracy: 0.5071\n",
            "Epoch 27/30\n",
            "217/217 [==============================] - 3s 16ms/step - loss: 0.0015 - accuracy: 0.9996 - val_loss: 6.7065 - val_accuracy: 0.5078\n",
            "Epoch 28/30\n",
            "217/217 [==============================] - 3s 15ms/step - loss: 9.8516e-04 - accuracy: 0.9997 - val_loss: 6.8700 - val_accuracy: 0.5064\n",
            "Epoch 29/30\n",
            "217/217 [==============================] - 3s 15ms/step - loss: 8.5399e-04 - accuracy: 0.9997 - val_loss: 7.0106 - val_accuracy: 0.5064\n",
            "Epoch 30/30\n",
            "217/217 [==============================] - 3s 15ms/step - loss: 6.4284e-04 - accuracy: 0.9997 - val_loss: 7.0682 - val_accuracy: 0.5057\n"
          ]
        }
      ]
    },
    {
      "cell_type": "code",
      "source": [
        "plt.plot(history.history['accuracy'], label='accuracy')\n",
        "plt.plot(history.history['val_accuracy'], label = 'val_accuracy')\n",
        "plt.xlabel('Epoch')\n",
        "plt.ylabel('Accuracy')\n",
        "plt.ylim([0, 1])\n",
        "plt.legend(loc='lower right')"
      ],
      "metadata": {
        "colab": {
          "base_uri": "https://localhost:8080/",
          "height": 300
        },
        "id": "6EB0eC3UECgk",
        "outputId": "30374bec-1593-4390-8d8e-5ed5ebeef426"
      },
      "execution_count": 17,
      "outputs": [
        {
          "output_type": "execute_result",
          "data": {
            "text/plain": [
              "<matplotlib.legend.Legend at 0x7f5cda244850>"
            ]
          },
          "metadata": {},
          "execution_count": 17
        },
        {
          "output_type": "display_data",
          "data": {
            "text/plain": [
              "<Figure size 432x288 with 1 Axes>"
            ],
            "image/png": "[encoded data removed]"
          },
          "metadata": {
            "needs_background": "light"
          }
        }
      ]
    },
    {
      "cell_type": "markdown",
      "source": [
        "**Red Neuronal Convulsional con Dropout**"
      ],
      "metadata": {
        "id": "vPOC57e_OVkR"
      }
    },
    {
      "cell_type": "code",
      "source": [
        "from keras.models import Sequential\n",
        "from keras.layers import Conv2D, MaxPooling2D, Flatten, Dense, Dropout, Activation\n",
        "from keras.regularizers import l1_l2\n",
        "\n",
        "model = Sequential()\n",
        "\n",
        "#### Input Layer ####\n",
        "model.add(Conv2D(filters=32, kernel_size=(3,3), padding='same',\n",
        "                 activation='relu', input_shape=(100, 100, 3)))\n",
        "\n",
        "#### Convolutional Layers ####\n",
        "model.add(Conv2D(32, (3,3), activation='relu'))\n",
        "model.add(MaxPooling2D((2,2)))  # Pooling\n",
        "model.add(Dropout(0.2)) # Dropout\n",
        "\n",
        "model.add(Conv2D(64, (3,3), padding='same', activation='relu'))\n",
        "model.add(Conv2D(64, (3,3), activation='relu'))\n",
        "model.add(MaxPooling2D((2,2)))\n",
        "model.add(Dropout(0.2))\n",
        "\n",
        "model.add(Conv2D(128, (3,3), padding='same', activation='relu'))\n",
        "model.add(Conv2D(128, (3,3), activation='relu'))\n",
        "model.add(Activation('relu'))\n",
        "model.add(MaxPooling2D((2,2)))\n",
        "model.add(Dropout(0.2))\n",
        "\n",
        "model.add(Conv2D(512, (5,5), padding='same', activation='relu'))\n",
        "model.add(Conv2D(512, (5,5), activation='relu'))\n",
        "model.add(MaxPooling2D((4,4)))\n",
        "model.add(Dropout(0.2))\n",
        "\n",
        "#### Fully-Connected Layer ####\n",
        "model.add(Flatten())\n",
        "model.add(Dense(1024, activation='relu'))\n",
        "model.add(Dropout(0.2))\n",
        "model.add(Dense(16, activation='softmax'))\n",
        "\n",
        "model.summary() # a handy way to inspect the architecture"
      ],
      "metadata": {
        "colab": {
          "base_uri": "https://localhost:8080/"
        },
        "id": "CJYYN_-QHdfX",
        "outputId": "6f12198e-06ec-4e79-d25e-481858c0014e"
      },
      "execution_count": 11,
      "outputs": [
        {
          "output_type": "stream",
          "name": "stdout",
          "text": [
            "Model: \"sequential\"\n",
            "_________________________________________________________________\n",
            " Layer (type)                Output Shape              Param #   \n",
            "=================================================================\n",
            " conv2d (Conv2D)             (None, 100, 100, 32)      896       \n",
            "                                                                 \n",
            " conv2d_1 (Conv2D)           (None, 98, 98, 32)        9248      \n",
            "                                                                 \n",
            " max_pooling2d (MaxPooling2D  (None, 49, 49, 32)       0         \n",
            " )                                                               \n",
            "                                                                 \n",
            " dropout (Dropout)           (None, 49, 49, 32)        0         \n",
            "                                                                 \n",
            " conv2d_2 (Conv2D)           (None, 49, 49, 64)        18496     \n",
            "                                                                 \n",
            " conv2d_3 (Conv2D)           (None, 47, 47, 64)        36928     \n",
            "                                                                 \n",
            " max_pooling2d_1 (MaxPooling  (None, 23, 23, 64)       0         \n",
            " 2D)                                                             \n",
            "                                                                 \n",
            " dropout_1 (Dropout)         (None, 23, 23, 64)        0         \n",
            "                                                                 \n",
            " conv2d_4 (Conv2D)           (None, 23, 23, 128)       73856     \n",
            "                                                                 \n",
            " conv2d_5 (Conv2D)           (None, 21, 21, 128)       147584    \n",
            "                                                                 \n",
            " activation (Activation)     (None, 21, 21, 128)       0         \n",
            "                                                                 \n",
            " max_pooling2d_2 (MaxPooling  (None, 10, 10, 128)      0         \n",
            " 2D)                                                             \n",
            "                                                                 \n",
            " dropout_2 (Dropout)         (None, 10, 10, 128)       0         \n",
            "                                                                 \n",
            " conv2d_6 (Conv2D)           (None, 10, 10, 512)       1638912   \n",
            "                                                                 \n",
            " conv2d_7 (Conv2D)           (None, 6, 6, 512)         6554112   \n",
            "                                                                 \n",
            " max_pooling2d_3 (MaxPooling  (None, 1, 1, 512)        0         \n",
            " 2D)                                                             \n",
            "                                                                 \n",
            " dropout_3 (Dropout)         (None, 1, 1, 512)         0         \n",
            "                                                                 \n",
            " flatten (Flatten)           (None, 512)               0         \n",
            "                                                                 \n",
            " dense (Dense)               (None, 1024)              525312    \n",
            "                                                                 \n",
            " dropout_4 (Dropout)         (None, 1024)              0         \n",
            "                                                                 \n",
            " dense_1 (Dense)             (None, 16)                16400     \n",
            "                                                                 \n",
            "=================================================================\n",
            "Total params: 9,021,744\n",
            "Trainable params: 9,021,744\n",
            "Non-trainable params: 0\n",
            "_________________________________________________________________\n"
          ]
        }
      ]
    },
    {
      "cell_type": "code",
      "source": [
        "'''\n",
        "model.compile(optimizer=RMSprop(learning_rate=0.0001), \n",
        "             loss=tf.keras.losses.SparseCategoricalCrossentropy(from_logits=True),\n",
        "             metrics=['accuracy'])\n",
        "\n",
        "history = model.fit(X_train, y_train, epochs=50, \n",
        "                    validation_data=(X_test, y_test))\n",
        "'''"
      ],
      "metadata": {
        "id": "_t8vlH_-HpMY"
      },
      "execution_count": null,
      "outputs": []
    },
    {
      "cell_type": "code",
      "source": [
        "'''\n",
        "plt.plot(history.history['accuracy'], label='accuracy')\n",
        "plt.plot(history.history['val_accuracy'], label = 'val_accuracy')\n",
        "plt.xlabel('Epoch')\n",
        "plt.ylabel('Accuracy')\n",
        "plt.ylim([0, 1])\n",
        "plt.legend(loc='lower right')\n",
        "'''"
      ],
      "metadata": {
        "id": "dg0ogPJPKcwE"
      },
      "execution_count": null,
      "outputs": []
    },
    {
      "cell_type": "code",
      "source": [
        "%%time\n",
        "\n",
        "'''import tensorflow as tf\n",
        "import keras\n",
        "from tensorflow.keras import datasets, layers, models'''\n",
        "import tensorflow as tf\n",
        "from tensorflow.keras.optimizers import RMSprop\n",
        "from keras.callbacks import ModelCheckpoint, EarlyStopping, TensorBoard\n",
        "#from livelossplot import PlotLossesKeras\n",
        "#from livelossplot.inputs.tf_keras import PlotLossesCallback\n",
        "\n",
        "BATCH_SIZE = 32\n",
        "steps_per_epoch = X_train.shape[0] // BATCH_SIZE\n",
        "val_steps = y_train.shape[0] // BATCH_SIZE\n",
        "\n",
        "n_epochs = 100\n",
        "\n",
        "optimizer = RMSprop(learning_rate=0.0001)\n",
        "\n",
        "model.compile(loss=tf.keras.losses.SparseCategoricalCrossentropy(from_logits=True), optimizer=optimizer, metrics=['accuracy'])\n",
        "\n",
        "# Saves Keras model after each epoch\n",
        "checkpointer = ModelCheckpoint(filepath='img_model.weights.best.hdf5', \n",
        "                               verbose=1, \n",
        "                               save_best_only=True)\n",
        "\n",
        "# Early stopping to prevent overtraining and to ensure decreasing validation loss\n",
        "early_stop = EarlyStopping(monitor='val_loss',\n",
        "                           patience=10,\n",
        "                           restore_best_weights=True,\n",
        "                           mode='min')\n",
        "\n",
        "# tensorboard_callback = TensorBoard(log_dir=\"./logs\")\n",
        "\n",
        "# Actual fitting of the model\n",
        "history = model.fit(X_train,\n",
        "                    y_train,\n",
        "                    epochs=n_epochs, \n",
        "                    #steps_per_epoch=steps_per_epoch,\n",
        "                    validation_data=(X_test, y_test),\n",
        "                    #validation_steps=val_steps,\n",
        "                    callbacks=[checkpointer],\n",
        "                    verbose=True)"
      ],
      "metadata": {
        "colab": {
          "base_uri": "https://localhost:8080/"
        },
        "id": "VDffXgcaIRK5",
        "outputId": "a9d7cd35-174e-4040-f6c3-a2db0eba51e2"
      },
      "execution_count": 13,
      "outputs": [
        {
          "output_type": "stream",
          "name": "stdout",
          "text": [
            "Epoch 1/100\n"
          ]
        },
        {
          "output_type": "stream",
          "name": "stderr",
          "text": [
            "/usr/local/lib/python3.7/dist-packages/tensorflow/python/util/dispatch.py:1082: UserWarning: \"`sparse_categorical_crossentropy` received `from_logits=True`, but the `output` argument was produced by a sigmoid or softmax activation and thus does not represent logits. Was this intended?\"\n",
            "  return dispatch_target(*args, **kwargs)\n"
          ]
        },
        {
          "output_type": "stream",
          "name": "stdout",
          "text": [
            "217/217 [==============================] - ETA: 0s - loss: 2.4247 - accuracy: 0.2223\n",
            "Epoch 1: val_loss improved from inf to 2.37618, saving model to img_model.weights.best.hdf5\n",
            "217/217 [==============================] - 28s 70ms/step - loss: 2.4247 - accuracy: 0.2223 - val_loss: 2.3762 - val_accuracy: 0.2763\n",
            "Epoch 2/100\n",
            "216/217 [============================>.] - ETA: 0s - loss: 2.2429 - accuracy: 0.2925\n",
            "Epoch 2: val_loss improved from 2.37618 to 2.29461, saving model to img_model.weights.best.hdf5\n",
            "217/217 [==============================] - 14s 64ms/step - loss: 2.2427 - accuracy: 0.2926 - val_loss: 2.2946 - val_accuracy: 0.2470\n",
            "Epoch 3/100\n",
            "216/217 [============================>.] - ETA: 0s - loss: 2.0726 - accuracy: 0.3410\n",
            "Epoch 3: val_loss improved from 2.29461 to 2.17478, saving model to img_model.weights.best.hdf5\n",
            "217/217 [==============================] - 14s 64ms/step - loss: 2.0723 - accuracy: 0.3412 - val_loss: 2.1748 - val_accuracy: 0.3327\n",
            "Epoch 4/100\n",
            "216/217 [============================>.] - ETA: 0s - loss: 2.0126 - accuracy: 0.3587\n",
            "Epoch 4: val_loss improved from 2.17478 to 2.01838, saving model to img_model.weights.best.hdf5\n",
            "217/217 [==============================] - 14s 66ms/step - loss: 2.0126 - accuracy: 0.3587 - val_loss: 2.0184 - val_accuracy: 0.3688\n",
            "Epoch 5/100\n",
            "216/217 [============================>.] - ETA: 0s - loss: 1.9883 - accuracy: 0.3679\n",
            "Epoch 5: val_loss did not improve from 2.01838\n",
            "217/217 [==============================] - 14s 64ms/step - loss: 1.9883 - accuracy: 0.3679 - val_loss: 2.1477 - val_accuracy: 0.3512\n",
            "Epoch 6/100\n",
            "216/217 [============================>.] - ETA: 0s - loss: 1.9521 - accuracy: 0.3786\n",
            "Epoch 6: val_loss improved from 2.01838 to 1.98911, saving model to img_model.weights.best.hdf5\n",
            "217/217 [==============================] - 14s 65ms/step - loss: 1.9521 - accuracy: 0.3787 - val_loss: 1.9891 - val_accuracy: 0.3715\n",
            "Epoch 7/100\n",
            "216/217 [============================>.] - ETA: 0s - loss: 1.9257 - accuracy: 0.3777\n",
            "Epoch 7: val_loss did not improve from 1.98911\n",
            "217/217 [==============================] - 14s 63ms/step - loss: 1.9261 - accuracy: 0.3776 - val_loss: 2.0540 - val_accuracy: 0.3856\n",
            "Epoch 8/100\n",
            "216/217 [============================>.] - ETA: 0s - loss: 1.8979 - accuracy: 0.3870\n",
            "Epoch 8: val_loss improved from 1.98911 to 1.94769, saving model to img_model.weights.best.hdf5\n",
            "217/217 [==============================] - 14s 64ms/step - loss: 1.8980 - accuracy: 0.3869 - val_loss: 1.9477 - val_accuracy: 0.3772\n",
            "Epoch 9/100\n",
            "216/217 [============================>.] - ETA: 0s - loss: 1.8710 - accuracy: 0.3945\n",
            "Epoch 9: val_loss improved from 1.94769 to 1.94211, saving model to img_model.weights.best.hdf5\n",
            "217/217 [==============================] - 14s 64ms/step - loss: 1.8710 - accuracy: 0.3946 - val_loss: 1.9421 - val_accuracy: 0.3930\n",
            "Epoch 10/100\n",
            "216/217 [============================>.] - ETA: 0s - loss: 1.8343 - accuracy: 0.4013\n",
            "Epoch 10: val_loss did not improve from 1.94211\n",
            "217/217 [==============================] - 14s 64ms/step - loss: 1.8354 - accuracy: 0.4012 - val_loss: 2.0640 - val_accuracy: 0.3904\n",
            "Epoch 11/100\n",
            "216/217 [============================>.] - ETA: 0s - loss: 1.7902 - accuracy: 0.4162\n",
            "Epoch 11: val_loss did not improve from 1.94211\n",
            "217/217 [==============================] - 14s 63ms/step - loss: 1.7904 - accuracy: 0.4163 - val_loss: 2.0956 - val_accuracy: 0.3131\n",
            "Epoch 12/100\n",
            "216/217 [============================>.] - ETA: 0s - loss: 1.7545 - accuracy: 0.4266\n",
            "Epoch 12: val_loss did not improve from 1.94211\n",
            "217/217 [==============================] - 14s 63ms/step - loss: 1.7544 - accuracy: 0.4267 - val_loss: 1.9938 - val_accuracy: 0.3414\n",
            "Epoch 13/100\n",
            "216/217 [============================>.] - ETA: 0s - loss: 1.7103 - accuracy: 0.4374\n",
            "Epoch 13: val_loss improved from 1.94211 to 1.81724, saving model to img_model.weights.best.hdf5\n",
            "217/217 [==============================] - 14s 64ms/step - loss: 1.7101 - accuracy: 0.4374 - val_loss: 1.8172 - val_accuracy: 0.4261\n",
            "Epoch 14/100\n",
            "216/217 [============================>.] - ETA: 0s - loss: 1.6521 - accuracy: 0.4540\n",
            "Epoch 14: val_loss did not improve from 1.81724\n",
            "217/217 [==============================] - 15s 67ms/step - loss: 1.6526 - accuracy: 0.4540 - val_loss: 1.8969 - val_accuracy: 0.3715\n",
            "Epoch 15/100\n",
            "216/217 [============================>.] - ETA: 0s - loss: 1.6031 - accuracy: 0.4763\n",
            "Epoch 15: val_loss did not improve from 1.81724\n",
            "217/217 [==============================] - 14s 63ms/step - loss: 1.6033 - accuracy: 0.4763 - val_loss: 1.8678 - val_accuracy: 0.4096\n",
            "Epoch 16/100\n",
            "216/217 [============================>.] - ETA: 0s - loss: 1.5335 - accuracy: 0.4932\n",
            "Epoch 16: val_loss did not improve from 1.81724\n",
            "217/217 [==============================] - 14s 64ms/step - loss: 1.5336 - accuracy: 0.4932 - val_loss: 1.8957 - val_accuracy: 0.4116\n",
            "Epoch 17/100\n",
            "216/217 [============================>.] - ETA: 0s - loss: 1.4508 - accuracy: 0.5166\n",
            "Epoch 17: val_loss did not improve from 1.81724\n",
            "217/217 [==============================] - 14s 63ms/step - loss: 1.4506 - accuracy: 0.5166 - val_loss: 1.8711 - val_accuracy: 0.4339\n",
            "Epoch 18/100\n",
            "216/217 [============================>.] - ETA: 0s - loss: 1.3743 - accuracy: 0.5447\n",
            "Epoch 18: val_loss improved from 1.81724 to 1.75684, saving model to img_model.weights.best.hdf5\n",
            "217/217 [==============================] - 14s 64ms/step - loss: 1.3743 - accuracy: 0.5447 - val_loss: 1.7568 - val_accuracy: 0.4524\n",
            "Epoch 19/100\n",
            "216/217 [============================>.] - ETA: 0s - loss: 1.2729 - accuracy: 0.5816\n",
            "Epoch 19: val_loss did not improve from 1.75684\n",
            "217/217 [==============================] - 14s 63ms/step - loss: 1.2728 - accuracy: 0.5816 - val_loss: 1.7676 - val_accuracy: 0.4399\n",
            "Epoch 20/100\n",
            "216/217 [============================>.] - ETA: 0s - loss: 1.1738 - accuracy: 0.6102\n",
            "Epoch 20: val_loss did not improve from 1.75684\n",
            "217/217 [==============================] - 14s 63ms/step - loss: 1.1742 - accuracy: 0.6101 - val_loss: 1.9731 - val_accuracy: 0.4153\n",
            "Epoch 21/100\n",
            "216/217 [============================>.] - ETA: 0s - loss: 1.0807 - accuracy: 0.6386\n",
            "Epoch 21: val_loss did not improve from 1.75684\n",
            "217/217 [==============================] - 14s 63ms/step - loss: 1.0805 - accuracy: 0.6387 - val_loss: 2.1041 - val_accuracy: 0.4410\n",
            "Epoch 22/100\n",
            "216/217 [============================>.] - ETA: 0s - loss: 0.9737 - accuracy: 0.6755\n",
            "Epoch 22: val_loss did not improve from 1.75684\n",
            "217/217 [==============================] - 14s 63ms/step - loss: 0.9734 - accuracy: 0.6756 - val_loss: 1.7880 - val_accuracy: 0.4953\n",
            "Epoch 23/100\n",
            "216/217 [============================>.] - ETA: 0s - loss: 0.8691 - accuracy: 0.7128\n",
            "Epoch 23: val_loss did not improve from 1.75684\n",
            "217/217 [==============================] - 14s 63ms/step - loss: 0.8692 - accuracy: 0.7128 - val_loss: 2.0489 - val_accuracy: 0.4760\n",
            "Epoch 24/100\n",
            "216/217 [============================>.] - ETA: 0s - loss: 0.7535 - accuracy: 0.7514\n",
            "Epoch 24: val_loss did not improve from 1.75684\n",
            "217/217 [==============================] - 14s 63ms/step - loss: 0.7534 - accuracy: 0.7515 - val_loss: 2.1132 - val_accuracy: 0.4676\n",
            "Epoch 25/100\n",
            "216/217 [============================>.] - ETA: 0s - loss: 0.6715 - accuracy: 0.7695\n",
            "Epoch 25: val_loss did not improve from 1.75684\n",
            "217/217 [==============================] - 14s 63ms/step - loss: 0.6718 - accuracy: 0.7695 - val_loss: 2.6134 - val_accuracy: 0.4109\n",
            "Epoch 26/100\n",
            "216/217 [============================>.] - ETA: 0s - loss: 0.5621 - accuracy: 0.8119\n",
            "Epoch 26: val_loss did not improve from 1.75684\n",
            "217/217 [==============================] - 14s 63ms/step - loss: 0.5620 - accuracy: 0.8120 - val_loss: 2.5612 - val_accuracy: 0.4912\n",
            "Epoch 27/100\n",
            "216/217 [============================>.] - ETA: 0s - loss: 0.4886 - accuracy: 0.8393\n",
            "Epoch 27: val_loss did not improve from 1.75684\n",
            "217/217 [==============================] - 14s 64ms/step - loss: 0.4886 - accuracy: 0.8393 - val_loss: 3.2330 - val_accuracy: 0.3623\n",
            "Epoch 28/100\n",
            "216/217 [============================>.] - ETA: 0s - loss: 0.4192 - accuracy: 0.8555\n",
            "Epoch 28: val_loss did not improve from 1.75684\n",
            "217/217 [==============================] - 14s 63ms/step - loss: 0.4192 - accuracy: 0.8555 - val_loss: 2.8434 - val_accuracy: 0.4464\n",
            "Epoch 29/100\n",
            "216/217 [============================>.] - ETA: 0s - loss: 0.3630 - accuracy: 0.8673\n",
            "Epoch 29: val_loss did not improve from 1.75684\n",
            "217/217 [==============================] - 14s 63ms/step - loss: 0.3631 - accuracy: 0.8672 - val_loss: 2.8586 - val_accuracy: 0.4798\n",
            "Epoch 30/100\n",
            "216/217 [============================>.] - ETA: 0s - loss: 0.3164 - accuracy: 0.8929\n",
            "Epoch 30: val_loss did not improve from 1.75684\n",
            "217/217 [==============================] - 14s 63ms/step - loss: 0.3163 - accuracy: 0.8930 - val_loss: 2.7339 - val_accuracy: 0.4862\n",
            "Epoch 31/100\n",
            "216/217 [============================>.] - ETA: 0s - loss: 0.2799 - accuracy: 0.9087\n",
            "Epoch 31: val_loss did not improve from 1.75684\n",
            "217/217 [==============================] - 14s 63ms/step - loss: 0.2800 - accuracy: 0.9087 - val_loss: 3.3952 - val_accuracy: 0.5118\n",
            "Epoch 32/100\n",
            "216/217 [============================>.] - ETA: 0s - loss: 0.2500 - accuracy: 0.9197\n",
            "Epoch 32: val_loss did not improve from 1.75684\n",
            "217/217 [==============================] - 14s 63ms/step - loss: 0.2500 - accuracy: 0.9197 - val_loss: 2.8414 - val_accuracy: 0.4990\n",
            "Epoch 33/100\n",
            "216/217 [============================>.] - ETA: 0s - loss: 0.2265 - accuracy: 0.9194\n",
            "Epoch 33: val_loss did not improve from 1.75684\n",
            "217/217 [==============================] - 14s 63ms/step - loss: 0.2264 - accuracy: 0.9194 - val_loss: 3.2259 - val_accuracy: 0.4987\n",
            "Epoch 34/100\n",
            "216/217 [============================>.] - ETA: 0s - loss: 0.2037 - accuracy: 0.9308\n",
            "Epoch 34: val_loss did not improve from 1.75684\n",
            "217/217 [==============================] - 14s 63ms/step - loss: 0.2037 - accuracy: 0.9309 - val_loss: 3.3652 - val_accuracy: 0.5024\n",
            "Epoch 35/100\n",
            "216/217 [============================>.] - ETA: 0s - loss: 0.1910 - accuracy: 0.9401\n",
            "Epoch 35: val_loss did not improve from 1.75684\n",
            "217/217 [==============================] - 14s 63ms/step - loss: 0.1913 - accuracy: 0.9400 - val_loss: 3.1882 - val_accuracy: 0.4804\n",
            "Epoch 36/100\n",
            "216/217 [============================>.] - ETA: 0s - loss: 0.1704 - accuracy: 0.9440\n",
            "Epoch 36: val_loss did not improve from 1.75684\n",
            "217/217 [==============================] - 14s 63ms/step - loss: 0.1704 - accuracy: 0.9440 - val_loss: 3.2938 - val_accuracy: 0.4922\n",
            "Epoch 37/100\n",
            "216/217 [============================>.] - ETA: 0s - loss: 0.1664 - accuracy: 0.9427\n",
            "Epoch 37: val_loss did not improve from 1.75684\n",
            "217/217 [==============================] - 14s 63ms/step - loss: 0.1664 - accuracy: 0.9427 - val_loss: 3.7519 - val_accuracy: 0.4639\n",
            "Epoch 38/100\n",
            "216/217 [============================>.] - ETA: 0s - loss: 0.1540 - accuracy: 0.9492\n",
            "Epoch 38: val_loss did not improve from 1.75684\n",
            "217/217 [==============================] - 14s 63ms/step - loss: 0.1539 - accuracy: 0.9492 - val_loss: 3.4052 - val_accuracy: 0.4946\n",
            "Epoch 39/100\n",
            "216/217 [============================>.] - ETA: 0s - loss: 0.1432 - accuracy: 0.9565\n",
            "Epoch 39: val_loss did not improve from 1.75684\n",
            "217/217 [==============================] - 14s 64ms/step - loss: 0.1431 - accuracy: 0.9565 - val_loss: 3.4325 - val_accuracy: 0.4980\n",
            "Epoch 40/100\n",
            "216/217 [============================>.] - ETA: 0s - loss: 0.1471 - accuracy: 0.9512\n",
            "Epoch 40: val_loss did not improve from 1.75684\n",
            "217/217 [==============================] - 14s 63ms/step - loss: 0.1470 - accuracy: 0.9513 - val_loss: 3.5103 - val_accuracy: 0.5000\n",
            "Epoch 41/100\n",
            "216/217 [============================>.] - ETA: 0s - loss: 0.1254 - accuracy: 0.9579\n",
            "Epoch 41: val_loss did not improve from 1.75684\n",
            "217/217 [==============================] - 14s 63ms/step - loss: 0.1253 - accuracy: 0.9579 - val_loss: 3.8378 - val_accuracy: 0.4983\n",
            "Epoch 42/100\n",
            "216/217 [============================>.] - ETA: 0s - loss: 0.1209 - accuracy: 0.9617\n",
            "Epoch 42: val_loss did not improve from 1.75684\n",
            "217/217 [==============================] - 14s 63ms/step - loss: 0.1208 - accuracy: 0.9617 - val_loss: 3.7272 - val_accuracy: 0.4848\n",
            "Epoch 43/100\n",
            "216/217 [============================>.] - ETA: 0s - loss: 0.1184 - accuracy: 0.9618\n",
            "Epoch 43: val_loss did not improve from 1.75684\n",
            "217/217 [==============================] - 14s 63ms/step - loss: 0.1183 - accuracy: 0.9618 - val_loss: 3.4247 - val_accuracy: 0.5061\n",
            "Epoch 44/100\n",
            "216/217 [============================>.] - ETA: 0s - loss: 0.1141 - accuracy: 0.9654\n",
            "Epoch 44: val_loss did not improve from 1.75684\n",
            "217/217 [==============================] - 14s 63ms/step - loss: 0.1141 - accuracy: 0.9654 - val_loss: 3.7812 - val_accuracy: 0.5027\n",
            "Epoch 45/100\n",
            "216/217 [============================>.] - ETA: 0s - loss: 0.1058 - accuracy: 0.9660\n",
            "Epoch 45: val_loss did not improve from 1.75684\n",
            "217/217 [==============================] - 14s 63ms/step - loss: 0.1058 - accuracy: 0.9660 - val_loss: 4.0884 - val_accuracy: 0.5091\n",
            "Epoch 46/100\n",
            "216/217 [============================>.] - ETA: 0s - loss: 0.0998 - accuracy: 0.9670\n",
            "Epoch 46: val_loss did not improve from 1.75684\n",
            "217/217 [==============================] - 14s 63ms/step - loss: 0.0997 - accuracy: 0.9670 - val_loss: 4.2006 - val_accuracy: 0.5159\n",
            "Epoch 47/100\n",
            "216/217 [============================>.] - ETA: 0s - loss: 0.1201 - accuracy: 0.9628\n",
            "Epoch 47: val_loss did not improve from 1.75684\n",
            "217/217 [==============================] - 14s 63ms/step - loss: 0.1201 - accuracy: 0.9628 - val_loss: 3.6951 - val_accuracy: 0.4831\n",
            "Epoch 48/100\n",
            "216/217 [============================>.] - ETA: 0s - loss: 0.0930 - accuracy: 0.9701\n",
            "Epoch 48: val_loss did not improve from 1.75684\n",
            "217/217 [==============================] - 14s 63ms/step - loss: 0.0930 - accuracy: 0.9701 - val_loss: 3.9646 - val_accuracy: 0.5040\n",
            "Epoch 49/100\n",
            "216/217 [============================>.] - ETA: 0s - loss: 0.0932 - accuracy: 0.9701\n",
            "Epoch 49: val_loss did not improve from 1.75684\n",
            "217/217 [==============================] - 14s 63ms/step - loss: 0.0932 - accuracy: 0.9701 - val_loss: 4.3348 - val_accuracy: 0.4960\n",
            "Epoch 50/100\n",
            "216/217 [============================>.] - ETA: 0s - loss: 0.0930 - accuracy: 0.9689\n",
            "Epoch 50: val_loss did not improve from 1.75684\n",
            "217/217 [==============================] - 14s 64ms/step - loss: 0.0930 - accuracy: 0.9689 - val_loss: 3.9333 - val_accuracy: 0.4993\n",
            "Epoch 51/100\n",
            "216/217 [============================>.] - ETA: 0s - loss: 0.0947 - accuracy: 0.9714\n",
            "Epoch 51: val_loss did not improve from 1.75684\n",
            "217/217 [==============================] - 14s 63ms/step - loss: 0.0946 - accuracy: 0.9714 - val_loss: 4.0807 - val_accuracy: 0.5135\n",
            "Epoch 52/100\n",
            "216/217 [============================>.] - ETA: 0s - loss: 0.0838 - accuracy: 0.9748\n",
            "Epoch 52: val_loss did not improve from 1.75684\n",
            "217/217 [==============================] - 14s 63ms/step - loss: 0.0838 - accuracy: 0.9748 - val_loss: 3.6711 - val_accuracy: 0.4926\n",
            "Epoch 53/100\n",
            "216/217 [============================>.] - ETA: 0s - loss: 0.0903 - accuracy: 0.9722\n",
            "Epoch 53: val_loss did not improve from 1.75684\n",
            "217/217 [==============================] - 14s 63ms/step - loss: 0.0903 - accuracy: 0.9722 - val_loss: 4.4195 - val_accuracy: 0.5148\n",
            "Epoch 54/100\n",
            "216/217 [============================>.] - ETA: 0s - loss: 0.0973 - accuracy: 0.9719\n",
            "Epoch 54: val_loss did not improve from 1.75684\n",
            "217/217 [==============================] - 14s 63ms/step - loss: 0.0972 - accuracy: 0.9719 - val_loss: 4.0706 - val_accuracy: 0.5145\n",
            "Epoch 55/100\n",
            "216/217 [============================>.] - ETA: 0s - loss: 0.0780 - accuracy: 0.9744\n",
            "Epoch 55: val_loss did not improve from 1.75684\n",
            "217/217 [==============================] - 14s 63ms/step - loss: 0.0780 - accuracy: 0.9744 - val_loss: 5.0387 - val_accuracy: 0.5159\n",
            "Epoch 56/100\n",
            "216/217 [============================>.] - ETA: 0s - loss: 0.0953 - accuracy: 0.9729\n",
            "Epoch 56: val_loss did not improve from 1.75684\n",
            "217/217 [==============================] - 14s 63ms/step - loss: 0.0953 - accuracy: 0.9730 - val_loss: 4.3854 - val_accuracy: 0.5105\n",
            "Epoch 57/100\n",
            "216/217 [============================>.] - ETA: 0s - loss: 0.0707 - accuracy: 0.9761\n",
            "Epoch 57: val_loss did not improve from 1.75684\n",
            "217/217 [==============================] - 14s 63ms/step - loss: 0.0707 - accuracy: 0.9761 - val_loss: 4.8357 - val_accuracy: 0.5148\n",
            "Epoch 58/100\n",
            "216/217 [============================>.] - ETA: 0s - loss: 0.0897 - accuracy: 0.9755\n",
            "Epoch 58: val_loss did not improve from 1.75684\n",
            "217/217 [==============================] - 14s 63ms/step - loss: 0.0896 - accuracy: 0.9756 - val_loss: 4.6641 - val_accuracy: 0.5074\n",
            "Epoch 59/100\n",
            "216/217 [============================>.] - ETA: 0s - loss: 0.0831 - accuracy: 0.9745\n",
            "Epoch 59: val_loss did not improve from 1.75684\n",
            "217/217 [==============================] - 14s 63ms/step - loss: 0.0831 - accuracy: 0.9745 - val_loss: 4.8572 - val_accuracy: 0.5037\n",
            "Epoch 60/100\n",
            "216/217 [============================>.] - ETA: 0s - loss: 0.0800 - accuracy: 0.9764\n",
            "Epoch 60: val_loss did not improve from 1.75684\n",
            "217/217 [==============================] - 14s 63ms/step - loss: 0.0799 - accuracy: 0.9764 - val_loss: 4.8787 - val_accuracy: 0.5108\n",
            "Epoch 61/100\n",
            "216/217 [============================>.] - ETA: 0s - loss: 0.0749 - accuracy: 0.9763\n",
            "Epoch 61: val_loss did not improve from 1.75684\n",
            "217/217 [==============================] - 14s 64ms/step - loss: 0.0749 - accuracy: 0.9763 - val_loss: 4.4300 - val_accuracy: 0.4811\n",
            "Epoch 62/100\n",
            "216/217 [============================>.] - ETA: 0s - loss: 0.0823 - accuracy: 0.9747\n",
            "Epoch 62: val_loss did not improve from 1.75684\n",
            "217/217 [==============================] - 14s 63ms/step - loss: 0.0823 - accuracy: 0.9747 - val_loss: 4.5603 - val_accuracy: 0.4976\n",
            "Epoch 63/100\n",
            "216/217 [============================>.] - ETA: 0s - loss: 0.0869 - accuracy: 0.9745\n",
            "Epoch 63: val_loss did not improve from 1.75684\n",
            "217/217 [==============================] - 14s 63ms/step - loss: 0.0868 - accuracy: 0.9745 - val_loss: 4.4538 - val_accuracy: 0.4926\n",
            "Epoch 64/100\n",
            "216/217 [============================>.] - ETA: 0s - loss: 0.0880 - accuracy: 0.9753\n",
            "Epoch 64: val_loss did not improve from 1.75684\n",
            "217/217 [==============================] - 14s 63ms/step - loss: 0.0879 - accuracy: 0.9753 - val_loss: 4.0535 - val_accuracy: 0.4821\n",
            "Epoch 65/100\n",
            "216/217 [============================>.] - ETA: 0s - loss: 0.0919 - accuracy: 0.9735\n",
            "Epoch 65: val_loss did not improve from 1.75684\n",
            "217/217 [==============================] - 14s 63ms/step - loss: 0.0919 - accuracy: 0.9735 - val_loss: 4.0598 - val_accuracy: 0.5030\n",
            "Epoch 66/100\n",
            "216/217 [============================>.] - ETA: 0s - loss: 0.0877 - accuracy: 0.9734\n",
            "Epoch 66: val_loss did not improve from 1.75684\n",
            "217/217 [==============================] - 15s 68ms/step - loss: 0.0876 - accuracy: 0.9734 - val_loss: 4.2712 - val_accuracy: 0.4912\n",
            "Epoch 67/100\n",
            "216/217 [============================>.] - ETA: 0s - loss: 0.0841 - accuracy: 0.9774\n",
            "Epoch 67: val_loss did not improve from 1.75684\n",
            "217/217 [==============================] - 14s 63ms/step - loss: 0.0841 - accuracy: 0.9774 - val_loss: 4.1331 - val_accuracy: 0.5061\n",
            "Epoch 68/100\n",
            "216/217 [============================>.] - ETA: 0s - loss: 0.0796 - accuracy: 0.9769\n",
            "Epoch 68: val_loss did not improve from 1.75684\n",
            "217/217 [==============================] - 14s 63ms/step - loss: 0.0796 - accuracy: 0.9769 - val_loss: 4.2316 - val_accuracy: 0.4987\n",
            "Epoch 69/100\n",
            "216/217 [============================>.] - ETA: 0s - loss: 0.0891 - accuracy: 0.9754\n",
            "Epoch 69: val_loss did not improve from 1.75684\n",
            "217/217 [==============================] - 14s 63ms/step - loss: 0.0891 - accuracy: 0.9754 - val_loss: 4.6238 - val_accuracy: 0.4879\n",
            "Epoch 70/100\n",
            "216/217 [============================>.] - ETA: 0s - loss: 0.0904 - accuracy: 0.9738\n",
            "Epoch 70: val_loss did not improve from 1.75684\n",
            "217/217 [==============================] - 14s 63ms/step - loss: 0.0904 - accuracy: 0.9738 - val_loss: 3.3288 - val_accuracy: 0.4841\n",
            "Epoch 71/100\n",
            "216/217 [============================>.] - ETA: 0s - loss: 0.0780 - accuracy: 0.9770\n",
            "Epoch 71: val_loss did not improve from 1.75684\n",
            "217/217 [==============================] - 14s 63ms/step - loss: 0.0780 - accuracy: 0.9770 - val_loss: 4.7452 - val_accuracy: 0.4993\n",
            "Epoch 72/100\n",
            "216/217 [============================>.] - ETA: 0s - loss: 0.0838 - accuracy: 0.9770\n",
            "Epoch 72: val_loss did not improve from 1.75684\n",
            "217/217 [==============================] - 14s 64ms/step - loss: 0.0838 - accuracy: 0.9770 - val_loss: 5.4933 - val_accuracy: 0.5142\n",
            "Epoch 73/100\n",
            "216/217 [============================>.] - ETA: 0s - loss: 0.0872 - accuracy: 0.9755\n",
            "Epoch 73: val_loss did not improve from 1.75684\n",
            "217/217 [==============================] - 14s 63ms/step - loss: 0.0872 - accuracy: 0.9756 - val_loss: 4.7692 - val_accuracy: 0.5098\n",
            "Epoch 74/100\n",
            "216/217 [============================>.] - ETA: 0s - loss: 0.0725 - accuracy: 0.9784\n",
            "Epoch 74: val_loss did not improve from 1.75684\n",
            "217/217 [==============================] - 14s 63ms/step - loss: 0.0725 - accuracy: 0.9784 - val_loss: 4.4684 - val_accuracy: 0.5094\n",
            "Epoch 75/100\n",
            "216/217 [============================>.] - ETA: 0s - loss: 0.0889 - accuracy: 0.9740\n",
            "Epoch 75: val_loss did not improve from 1.75684\n",
            "217/217 [==============================] - 14s 63ms/step - loss: 0.0888 - accuracy: 0.9740 - val_loss: 5.1635 - val_accuracy: 0.5121\n",
            "Epoch 76/100\n",
            "216/217 [============================>.] - ETA: 0s - loss: 0.0768 - accuracy: 0.9771\n",
            "Epoch 76: val_loss did not improve from 1.75684\n",
            "217/217 [==============================] - 14s 63ms/step - loss: 0.0768 - accuracy: 0.9771 - val_loss: 4.9541 - val_accuracy: 0.5007\n",
            "Epoch 77/100\n",
            "216/217 [============================>.] - ETA: 0s - loss: 0.0850 - accuracy: 0.9734\n",
            "Epoch 77: val_loss did not improve from 1.75684\n",
            "217/217 [==============================] - 14s 63ms/step - loss: 0.0850 - accuracy: 0.9734 - val_loss: 5.2303 - val_accuracy: 0.4848\n",
            "Epoch 78/100\n",
            "216/217 [============================>.] - ETA: 0s - loss: 0.0949 - accuracy: 0.9750\n",
            "Epoch 78: val_loss did not improve from 1.75684\n",
            "217/217 [==============================] - 14s 63ms/step - loss: 0.0949 - accuracy: 0.9750 - val_loss: 4.4258 - val_accuracy: 0.4926\n",
            "Epoch 79/100\n",
            "216/217 [============================>.] - ETA: 0s - loss: 0.0875 - accuracy: 0.9779\n",
            "Epoch 79: val_loss did not improve from 1.75684\n",
            "217/217 [==============================] - 15s 68ms/step - loss: 0.0874 - accuracy: 0.9779 - val_loss: 5.0051 - val_accuracy: 0.5037\n",
            "Epoch 80/100\n",
            "216/217 [============================>.] - ETA: 0s - loss: 0.0894 - accuracy: 0.9750\n",
            "Epoch 80: val_loss did not improve from 1.75684\n",
            "217/217 [==============================] - 14s 63ms/step - loss: 0.0896 - accuracy: 0.9748 - val_loss: 3.8741 - val_accuracy: 0.4443\n",
            "Epoch 81/100\n",
            "216/217 [============================>.] - ETA: 0s - loss: 0.0889 - accuracy: 0.9770\n",
            "Epoch 81: val_loss did not improve from 1.75684\n",
            "217/217 [==============================] - 14s 63ms/step - loss: 0.0889 - accuracy: 0.9770 - val_loss: 4.4986 - val_accuracy: 0.5054\n",
            "Epoch 82/100\n",
            "216/217 [============================>.] - ETA: 0s - loss: 0.0828 - accuracy: 0.9734\n",
            "Epoch 82: val_loss did not improve from 1.75684\n",
            "217/217 [==============================] - 14s 63ms/step - loss: 0.0828 - accuracy: 0.9734 - val_loss: 5.0804 - val_accuracy: 0.4926\n",
            "Epoch 83/100\n",
            "216/217 [============================>.] - ETA: 0s - loss: 0.0947 - accuracy: 0.9737\n",
            "Epoch 83: val_loss did not improve from 1.75684\n",
            "217/217 [==============================] - 14s 64ms/step - loss: 0.0947 - accuracy: 0.9737 - val_loss: 4.2344 - val_accuracy: 0.5054\n",
            "Epoch 84/100\n",
            "216/217 [============================>.] - ETA: 0s - loss: 0.0856 - accuracy: 0.9771\n",
            "Epoch 84: val_loss did not improve from 1.75684\n",
            "217/217 [==============================] - 14s 63ms/step - loss: 0.0856 - accuracy: 0.9771 - val_loss: 3.4378 - val_accuracy: 0.4990\n",
            "Epoch 85/100\n",
            "216/217 [============================>.] - ETA: 0s - loss: 0.0861 - accuracy: 0.9750\n",
            "Epoch 85: val_loss did not improve from 1.75684\n",
            "217/217 [==============================] - 14s 63ms/step - loss: 0.0863 - accuracy: 0.9748 - val_loss: 5.1430 - val_accuracy: 0.5030\n",
            "Epoch 86/100\n",
            "216/217 [============================>.] - ETA: 0s - loss: 0.0946 - accuracy: 0.9747\n",
            "Epoch 86: val_loss did not improve from 1.75684\n",
            "217/217 [==============================] - 14s 63ms/step - loss: 0.0946 - accuracy: 0.9747 - val_loss: 4.3624 - val_accuracy: 0.4919\n",
            "Epoch 87/100\n",
            "216/217 [============================>.] - ETA: 0s - loss: 0.1030 - accuracy: 0.9676\n",
            "Epoch 87: val_loss did not improve from 1.75684\n",
            "217/217 [==============================] - 14s 63ms/step - loss: 0.1030 - accuracy: 0.9676 - val_loss: 4.7280 - val_accuracy: 0.4973\n",
            "Epoch 88/100\n",
            "216/217 [============================>.] - ETA: 0s - loss: 0.0980 - accuracy: 0.9747\n",
            "Epoch 88: val_loss did not improve from 1.75684\n",
            "217/217 [==============================] - 14s 63ms/step - loss: 0.0980 - accuracy: 0.9747 - val_loss: 3.8146 - val_accuracy: 0.4760\n",
            "Epoch 89/100\n",
            "216/217 [============================>.] - ETA: 0s - loss: 0.0811 - accuracy: 0.9758\n",
            "Epoch 89: val_loss did not improve from 1.75684\n",
            "217/217 [==============================] - 14s 63ms/step - loss: 0.0811 - accuracy: 0.9758 - val_loss: 4.4963 - val_accuracy: 0.4980\n",
            "Epoch 90/100\n",
            "216/217 [============================>.] - ETA: 0s - loss: 0.0993 - accuracy: 0.9742\n",
            "Epoch 90: val_loss did not improve from 1.75684\n",
            "217/217 [==============================] - 14s 63ms/step - loss: 0.0993 - accuracy: 0.9743 - val_loss: 5.5186 - val_accuracy: 0.4855\n",
            "Epoch 91/100\n",
            "216/217 [============================>.] - ETA: 0s - loss: 0.0968 - accuracy: 0.9727\n",
            "Epoch 91: val_loss did not improve from 1.75684\n",
            "217/217 [==============================] - 14s 63ms/step - loss: 0.0968 - accuracy: 0.9727 - val_loss: 5.0809 - val_accuracy: 0.4939\n",
            "Epoch 92/100\n",
            "216/217 [============================>.] - ETA: 0s - loss: 0.0944 - accuracy: 0.9757\n",
            "Epoch 92: val_loss did not improve from 1.75684\n",
            "217/217 [==============================] - 14s 63ms/step - loss: 0.0943 - accuracy: 0.9757 - val_loss: 4.4784 - val_accuracy: 0.4919\n",
            "Epoch 93/100\n",
            "216/217 [============================>.] - ETA: 0s - loss: 0.0979 - accuracy: 0.9770\n",
            "Epoch 93: val_loss did not improve from 1.75684\n",
            "217/217 [==============================] - 14s 63ms/step - loss: 0.0978 - accuracy: 0.9770 - val_loss: 4.7818 - val_accuracy: 0.5078\n",
            "Epoch 94/100\n",
            "216/217 [============================>.] - ETA: 0s - loss: 0.1010 - accuracy: 0.9724\n",
            "Epoch 94: val_loss did not improve from 1.75684\n",
            "217/217 [==============================] - 14s 64ms/step - loss: 0.1010 - accuracy: 0.9724 - val_loss: 4.3832 - val_accuracy: 0.4997\n",
            "Epoch 95/100\n",
            "216/217 [============================>.] - ETA: 0s - loss: 0.1059 - accuracy: 0.9744\n",
            "Epoch 95: val_loss did not improve from 1.75684\n",
            "217/217 [==============================] - 14s 63ms/step - loss: 0.1059 - accuracy: 0.9744 - val_loss: 4.2296 - val_accuracy: 0.5013\n",
            "Epoch 96/100\n",
            "216/217 [============================>.] - ETA: 0s - loss: 0.0839 - accuracy: 0.9761\n",
            "Epoch 96: val_loss did not improve from 1.75684\n",
            "217/217 [==============================] - 14s 63ms/step - loss: 0.0841 - accuracy: 0.9760 - val_loss: 3.9521 - val_accuracy: 0.4963\n",
            "Epoch 97/100\n",
            "216/217 [============================>.] - ETA: 0s - loss: 0.0831 - accuracy: 0.9782\n",
            "Epoch 97: val_loss did not improve from 1.75684\n",
            "217/217 [==============================] - 14s 63ms/step - loss: 0.0831 - accuracy: 0.9782 - val_loss: 5.3320 - val_accuracy: 0.5165\n",
            "Epoch 98/100\n",
            "216/217 [============================>.] - ETA: 0s - loss: 0.0910 - accuracy: 0.9754\n",
            "Epoch 98: val_loss did not improve from 1.75684\n",
            "217/217 [==============================] - 14s 63ms/step - loss: 0.0909 - accuracy: 0.9754 - val_loss: 4.1624 - val_accuracy: 0.4963\n",
            "Epoch 99/100\n",
            "216/217 [============================>.] - ETA: 0s - loss: 0.0907 - accuracy: 0.9728\n",
            "Epoch 99: val_loss did not improve from 1.75684\n",
            "217/217 [==============================] - 14s 63ms/step - loss: 0.0907 - accuracy: 0.9728 - val_loss: 4.8584 - val_accuracy: 0.5037\n",
            "Epoch 100/100\n",
            "216/217 [============================>.] - ETA: 0s - loss: 0.1065 - accuracy: 0.9709\n",
            "Epoch 100: val_loss did not improve from 1.75684\n",
            "217/217 [==============================] - 14s 63ms/step - loss: 0.1065 - accuracy: 0.9709 - val_loss: 5.1781 - val_accuracy: 0.5138\n",
            "CPU times: user 16min 47s, sys: 45.9 s, total: 17min 33s\n",
            "Wall time: 23min 24s\n"
          ]
        }
      ]
    },
    {
      "cell_type": "code",
      "source": [
        "history.history['accuracy'][97],history.history['loss'][97]"
      ],
      "metadata": {
        "colab": {
          "base_uri": "https://localhost:8080/"
        },
        "id": "JaxgL51fedkq",
        "outputId": "fde5123f-9154-46ca-ef3d-356919814cba"
      },
      "execution_count": 49,
      "outputs": [
        {
          "output_type": "execute_result",
          "data": {
            "text/plain": [
              "(0.9795918464660645, 0.08132734149694443)"
            ]
          },
          "metadata": {},
          "execution_count": 49
        }
      ]
    },
    {
      "cell_type": "code",
      "source": [
        "history.history['val_accuracy'],history.history['val_loss']"
      ],
      "metadata": {
        "colab": {
          "base_uri": "https://localhost:8080/"
        },
        "id": "lFYkg8-lfWN5",
        "outputId": "159c0496-1e60-480a-cfec-08497b2753ac"
      },
      "execution_count": 52,
      "outputs": [
        {
          "output_type": "execute_result",
          "data": {
            "text/plain": [
              "([0.27732792496681213], [2.4365451335906982])"
            ]
          },
          "metadata": {},
          "execution_count": 52
        }
      ]
    },
    {
      "cell_type": "code",
      "source": [
        "plt.plot(history.history['accuracy'], label='accuracy')\n",
        "plt.plot(history.history['val_accuracy'], label = 'val_accuracy')\n",
        "plt.xlabel('Epoch')\n",
        "plt.ylabel('Accuracy')\n",
        "plt.ylim([0, 1])\n",
        "plt.legend(loc='lower right')"
      ],
      "metadata": {
        "colab": {
          "base_uri": "https://localhost:8080/",
          "height": 300
        },
        "id": "_XSiIcmTbmTb",
        "outputId": "54aee9fb-cb9d-4b0f-9af9-fe59219d2529"
      },
      "execution_count": 14,
      "outputs": [
        {
          "output_type": "execute_result",
          "data": {
            "text/plain": [
              "<matplotlib.legend.Legend at 0x7fd8bf7ed050>"
            ]
          },
          "metadata": {},
          "execution_count": 14
        },
        {
          "output_type": "display_data",
          "data": {
            "text/plain": [
              "<Figure size 432x288 with 1 Axes>"
            ],
            "image/png": "[encoded data removed]"
          },
          "metadata": {
            "needs_background": "light"
          }
        }
      ]
    },
    {
      "cell_type": "code",
      "source": [
        "plt.plot(history.history['loss'], label='loss')\n",
        "plt.plot(history.history['val_loss'], label = 'val_loss')\n",
        "plt.xlabel('Epoch')\n",
        "plt.ylabel('Accuracy')\n",
        "plt.ylim([0, 10])\n",
        "plt.legend(loc='lower right')"
      ],
      "metadata": {
        "colab": {
          "base_uri": "https://localhost:8080/",
          "height": 300
        },
        "id": "oQjg4wUGbsA1",
        "outputId": "e9bc9398-5a87-471f-bf5a-0eeee9c470a5"
      },
      "execution_count": 15,
      "outputs": [
        {
          "output_type": "execute_result",
          "data": {
            "text/plain": [
              "<matplotlib.legend.Legend at 0x7fd8be757e90>"
            ]
          },
          "metadata": {},
          "execution_count": 15
        },
        {
          "output_type": "display_data",
          "data": {
            "text/plain": [
              "<Figure size 432x288 with 1 Axes>"
            ],
            "image/png": "[encoded data removed]"
          },
          "metadata": {
            "needs_background": "light"
          }
        }
      ]
    },
    {
      "cell_type": "code",
      "source": [
        "from keras.preprocessing.image import ImageDataGenerator\n",
        "test_generator = ImageDataGenerator(rescale=1/255.)\n",
        "\n",
        "testgen = test_generator.flow_from_directory('/content/drive/MyDrive/TFM_Máster BDDS/Etiquetas',\n",
        "                                             target_size=(128, 128),\n",
        "                                             batch_size=1,\n",
        "                                             class_mode=None,\n",
        "                                             classes=class_subset, \n",
        "                                             shuffle=False,\n",
        "                                             seed=42)"
      ],
      "metadata": {
        "id": "oGtv6IxJcHyt"
      },
      "execution_count": null,
      "outputs": []
    },
    {
      "cell_type": "code",
      "source": [
        "model.load_weights('img_model.weights.best.hdf5')\n",
        "\n",
        "predicted_classes = model.predict_classes(X_test)\n",
        "\n",
        "class_indices = X_train.class_indices\n",
        "class_indices = dict((v,k) for k,v in class_indices.items())\n",
        "true_classes = X_test.classes"
      ],
      "metadata": {
        "id": "YEDkGv5VdnFx"
      },
      "execution_count": null,
      "outputs": []
    },
    {
      "cell_type": "code",
      "source": [
        "import joblib\n",
        "\n",
        "joblib.dump(classifier_svc_pca, '/content/drive/MyDrive/TFM_Máster BDDS/Modelos/modelo_CNN_variedad_features100.pkl')"
      ],
      "metadata": {
        "colab": {
          "base_uri": "https://localhost:8080/"
        },
        "id": "MeNRB9fot_2X",
        "outputId": "9b4f01e0-36b2-48b4-edeb-83b9a51a89e5"
      },
      "execution_count": null,
      "outputs": [
        {
          "output_type": "execute_result",
          "data": {
            "text/plain": [
              "['/content/drive/MyDrive/TFM_Máster BDDS/Modelos/modelo_svm_variedad_features100.pkl']"
            ]
          },
          "metadata": {},
          "execution_count": 44
        }
      ]
    },
    {
      "cell_type": "markdown",
      "source": [
        "#https://www.learndatasci.com/tutorials/convolutional-neural-networks-image-classification/"
      ],
      "metadata": {
        "id": "1TbOb2YYeSMt"
      }
    }
  ]
}