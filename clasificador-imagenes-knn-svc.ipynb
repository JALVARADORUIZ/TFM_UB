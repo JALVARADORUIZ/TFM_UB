{
 "cells": [
  {
   "cell_type": "markdown",
   "id": "e250d780",
   "metadata": {
    "id": "FLTq6isNiaH6",
    "papermill": {
     "duration": 0.020978,
     "end_time": "2022-09-26T01:51:14.939409",
     "exception": false,
     "start_time": "2022-09-26T01:51:14.918431",
     "status": "completed"
    },
    "tags": []
   },
   "source": [
    "#### **PREPARACIÓN DEL ENTORNO**\n"
   ]
  },
  {
   "cell_type": "code",
   "execution_count": 1,
   "id": "5f6e2972",
   "metadata": {
    "execution": {
     "iopub.execute_input": "2022-09-26T01:51:14.975215Z",
     "iopub.status.busy": "2022-09-26T01:51:14.974661Z",
     "iopub.status.idle": "2022-09-26T01:51:16.145761Z",
     "shell.execute_reply": "2022-09-26T01:51:16.144832Z"
    },
    "id": "V2z2JtdGR3eA",
    "papermill": {
     "duration": 1.189465,
     "end_time": "2022-09-26T01:51:16.148926",
     "exception": false,
     "start_time": "2022-09-26T01:51:14.959461",
     "status": "completed"
    },
    "tags": []
   },
   "outputs": [],
   "source": [
    "import os\n",
    "import numpy as np\n",
    "import matplotlib.pyplot as plt\n",
    "from random import randint\n",
    "import pandas as pd\n",
    "import pickle\n",
    "from tqdm import tqdm\n",
    "tqdm.pandas()\n",
    "\n",
    "from sklearn.preprocessing import LabelEncoder\n",
    "from sklearn.pipeline import make_pipeline\n",
    "from sklearn.decomposition import PCA\n",
    "from sklearn.preprocessing import StandardScaler\n",
    "from sklearn.model_selection import GridSearchCV, cross_val_score\n",
    "from sklearn.model_selection import train_test_split\n",
    "from sklearn.neighbors import KNeighborsClassifier\n",
    "from sklearn.metrics import classification_report, confusion_matrix, accuracy_score"
   ]
  },
  {
   "cell_type": "code",
   "execution_count": 2,
   "id": "61a91091",
   "metadata": {
    "execution": {
     "iopub.execute_input": "2022-09-26T01:51:16.187053Z",
     "iopub.status.busy": "2022-09-26T01:51:16.186706Z",
     "iopub.status.idle": "2022-09-26T01:51:16.191618Z",
     "shell.execute_reply": "2022-09-26T01:51:16.190773Z"
    },
    "id": "_xn42MItVWO6",
    "papermill": {
     "duration": 0.027912,
     "end_time": "2022-09-26T01:51:16.195524",
     "exception": false,
     "start_time": "2022-09-26T01:51:16.167612",
     "status": "completed"
    },
    "tags": []
   },
   "outputs": [],
   "source": [
    "tqdm.pandas()"
   ]
  },
  {
   "cell_type": "markdown",
   "id": "616e97b2",
   "metadata": {
    "id": "85iLqKkpixwp",
    "papermill": {
     "duration": 0.017496,
     "end_time": "2022-09-26T01:51:16.230873",
     "exception": false,
     "start_time": "2022-09-26T01:51:16.213377",
     "status": "completed"
    },
    "tags": []
   },
   "source": [
    "#### **PREPROCESADO DE IMÁGENES**\n"
   ]
  },
  {
   "cell_type": "code",
   "execution_count": 3,
   "id": "90eeb3ab",
   "metadata": {
    "execution": {
     "iopub.execute_input": "2022-09-26T01:51:16.267868Z",
     "iopub.status.busy": "2022-09-26T01:51:16.267555Z",
     "iopub.status.idle": "2022-09-26T01:51:26.390731Z",
     "shell.execute_reply": "2022-09-26T01:51:26.389763Z"
    },
    "id": "bVefhfxW78D8",
    "papermill": {
     "duration": 10.14443,
     "end_time": "2022-09-26T01:51:26.393244",
     "exception": false,
     "start_time": "2022-09-26T01:51:16.248814",
     "status": "completed"
    },
    "tags": []
   },
   "outputs": [],
   "source": [
    "data = '../input/cvsfeatures/df_img_processed2.csv'\n",
    "\n",
    "df = pd.read_csv(data)"
   ]
  },
  {
   "cell_type": "code",
   "execution_count": 4,
   "id": "80cc2c1d",
   "metadata": {
    "execution": {
     "iopub.execute_input": "2022-09-26T01:51:26.419860Z",
     "iopub.status.busy": "2022-09-26T01:51:26.418377Z",
     "iopub.status.idle": "2022-09-26T01:51:26.462045Z",
     "shell.execute_reply": "2022-09-26T01:51:26.460978Z"
    },
    "id": "zjoNRJiDOTGP",
    "outputId": "70ee19f8-bd45-438c-c003-bf6224205a07",
    "papermill": {
     "duration": 0.059965,
     "end_time": "2022-09-26T01:51:26.465401",
     "exception": false,
     "start_time": "2022-09-26T01:51:26.405436",
     "status": "completed"
    },
    "tags": []
   },
   "outputs": [
    {
     "data": {
      "text/html": [
       "<div>\n",
       "<style scoped>\n",
       "    .dataframe tbody tr th:only-of-type {\n",
       "        vertical-align: middle;\n",
       "    }\n",
       "\n",
       "    .dataframe tbody tr th {\n",
       "        vertical-align: top;\n",
       "    }\n",
       "\n",
       "    .dataframe thead th {\n",
       "        text-align: right;\n",
       "    }\n",
       "</style>\n",
       "<table border=\"1\" class=\"dataframe\">\n",
       "  <thead>\n",
       "    <tr style=\"text-align: right;\">\n",
       "      <th></th>\n",
       "      <th>winery</th>\n",
       "      <th>product</th>\n",
       "      <th>region</th>\n",
       "      <th>country_code</th>\n",
       "      <th>rating</th>\n",
       "      <th>variety</th>\n",
       "      <th>price_usd</th>\n",
       "      <th>image</th>\n",
       "      <th>continente</th>\n",
       "      <th>country_code_clean</th>\n",
       "      <th>...</th>\n",
       "      <th>4086</th>\n",
       "      <th>4087</th>\n",
       "      <th>4088</th>\n",
       "      <th>4089</th>\n",
       "      <th>4090</th>\n",
       "      <th>4091</th>\n",
       "      <th>4092</th>\n",
       "      <th>4093</th>\n",
       "      <th>4094</th>\n",
       "      <th>4095</th>\n",
       "    </tr>\n",
       "  </thead>\n",
       "  <tbody>\n",
       "    <tr>\n",
       "      <th>0</th>\n",
       "      <td>cathedral ridge</td>\n",
       "      <td>cathedral ridge bangsund vineyard pinot noir 2006</td>\n",
       "      <td>columbia valley oregon</td>\n",
       "      <td>us</td>\n",
       "      <td>3.5</td>\n",
       "      <td>pinot noir</td>\n",
       "      <td>163.000000</td>\n",
       "      <td>vintage-images/MBo5T9ZQQQGbzsRmVORp-w_pl_480x6...</td>\n",
       "      <td>north america</td>\n",
       "      <td>united states</td>\n",
       "      <td>...</td>\n",
       "      <td>0.000000</td>\n",
       "      <td>2.723852</td>\n",
       "      <td>0.112117</td>\n",
       "      <td>1.256278</td>\n",
       "      <td>0.000000</td>\n",
       "      <td>0.0</td>\n",
       "      <td>0.688721</td>\n",
       "      <td>0.0</td>\n",
       "      <td>0.000000</td>\n",
       "      <td>0.641749</td>\n",
       "    </tr>\n",
       "    <tr>\n",
       "      <th>1</th>\n",
       "      <td>penfolds</td>\n",
       "      <td>penfolds rwt shiraz 2005</td>\n",
       "      <td>barossa valley</td>\n",
       "      <td>au</td>\n",
       "      <td>4.5</td>\n",
       "      <td>shiraz syrah</td>\n",
       "      <td>169.950000</td>\n",
       "      <td>vintage-images/dDyTwzIfQC68MCUgjmYWpw_pl_480x6...</td>\n",
       "      <td>oceania</td>\n",
       "      <td>australia</td>\n",
       "      <td>...</td>\n",
       "      <td>1.020779</td>\n",
       "      <td>0.000000</td>\n",
       "      <td>0.000000</td>\n",
       "      <td>2.622155</td>\n",
       "      <td>0.000000</td>\n",
       "      <td>0.0</td>\n",
       "      <td>0.290430</td>\n",
       "      <td>0.0</td>\n",
       "      <td>0.000000</td>\n",
       "      <td>0.000000</td>\n",
       "    </tr>\n",
       "    <tr>\n",
       "      <th>2</th>\n",
       "      <td>marques de riscal</td>\n",
       "      <td>marques de riscal frank gehry selection 2001</td>\n",
       "      <td>rioja</td>\n",
       "      <td>es</td>\n",
       "      <td>5.0</td>\n",
       "      <td>tempranillo</td>\n",
       "      <td>357.196682</td>\n",
       "      <td>vintage-images/t44NPpbUT6uy0vRt4VD2RQ_pl_480x6...</td>\n",
       "      <td>europe</td>\n",
       "      <td>spain</td>\n",
       "      <td>...</td>\n",
       "      <td>0.000000</td>\n",
       "      <td>0.555558</td>\n",
       "      <td>0.000000</td>\n",
       "      <td>0.656157</td>\n",
       "      <td>0.000000</td>\n",
       "      <td>0.0</td>\n",
       "      <td>0.000000</td>\n",
       "      <td>0.0</td>\n",
       "      <td>0.000000</td>\n",
       "      <td>1.079562</td>\n",
       "    </tr>\n",
       "    <tr>\n",
       "      <th>3</th>\n",
       "      <td>wyndham</td>\n",
       "      <td>wyndham pinot noir bin 333 2007</td>\n",
       "      <td>south eastern australia</td>\n",
       "      <td>au</td>\n",
       "      <td>4.0</td>\n",
       "      <td>pinot noir</td>\n",
       "      <td>10.990000</td>\n",
       "      <td>vintage-images/v1RahJe2QQyp4oAFOv90bA_pl_480x6...</td>\n",
       "      <td>oceania</td>\n",
       "      <td>australia</td>\n",
       "      <td>...</td>\n",
       "      <td>0.000000</td>\n",
       "      <td>1.728447</td>\n",
       "      <td>0.707242</td>\n",
       "      <td>0.000000</td>\n",
       "      <td>0.000000</td>\n",
       "      <td>0.0</td>\n",
       "      <td>0.000000</td>\n",
       "      <td>0.0</td>\n",
       "      <td>0.000000</td>\n",
       "      <td>1.881952</td>\n",
       "    </tr>\n",
       "    <tr>\n",
       "      <th>4</th>\n",
       "      <td>louis jadot</td>\n",
       "      <td>louis jadot chevalier montrachet grand cru 2006</td>\n",
       "      <td>chevalier montrachet grand cru</td>\n",
       "      <td>fr</td>\n",
       "      <td>5.0</td>\n",
       "      <td>chardonnay</td>\n",
       "      <td>309.990000</td>\n",
       "      <td>vintage-images/VlMihlZUQE6US7fr09w5ZA_pl_480x6...</td>\n",
       "      <td>europe</td>\n",
       "      <td>france</td>\n",
       "      <td>...</td>\n",
       "      <td>0.000000</td>\n",
       "      <td>2.167833</td>\n",
       "      <td>0.000000</td>\n",
       "      <td>0.000000</td>\n",
       "      <td>0.000000</td>\n",
       "      <td>0.0</td>\n",
       "      <td>0.400719</td>\n",
       "      <td>0.0</td>\n",
       "      <td>0.000000</td>\n",
       "      <td>2.144384</td>\n",
       "    </tr>\n",
       "    <tr>\n",
       "      <th>...</th>\n",
       "      <td>...</td>\n",
       "      <td>...</td>\n",
       "      <td>...</td>\n",
       "      <td>...</td>\n",
       "      <td>...</td>\n",
       "      <td>...</td>\n",
       "      <td>...</td>\n",
       "      <td>...</td>\n",
       "      <td>...</td>\n",
       "      <td>...</td>\n",
       "      <td>...</td>\n",
       "      <td>...</td>\n",
       "      <td>...</td>\n",
       "      <td>...</td>\n",
       "      <td>...</td>\n",
       "      <td>...</td>\n",
       "      <td>...</td>\n",
       "      <td>...</td>\n",
       "      <td>...</td>\n",
       "      <td>...</td>\n",
       "      <td>...</td>\n",
       "    </tr>\n",
       "    <tr>\n",
       "      <th>9873</th>\n",
       "      <td>jermann</td>\n",
       "      <td>jermann blau blau rosso</td>\n",
       "      <td>delle venezie</td>\n",
       "      <td>it</td>\n",
       "      <td>4.0</td>\n",
       "      <td>blaufrankisch</td>\n",
       "      <td>35.138185</td>\n",
       "      <td>vintage-images/mpvstrRZSD-yVA3__GEWng_pl_480x6...</td>\n",
       "      <td>europe</td>\n",
       "      <td>italy</td>\n",
       "      <td>...</td>\n",
       "      <td>0.000000</td>\n",
       "      <td>0.210194</td>\n",
       "      <td>0.000000</td>\n",
       "      <td>1.297643</td>\n",
       "      <td>0.000000</td>\n",
       "      <td>0.0</td>\n",
       "      <td>0.000000</td>\n",
       "      <td>0.0</td>\n",
       "      <td>0.162085</td>\n",
       "      <td>2.841119</td>\n",
       "    </tr>\n",
       "    <tr>\n",
       "      <th>9874</th>\n",
       "      <td>caposaldo</td>\n",
       "      <td>caposaldo sweet pink merlot moscato</td>\n",
       "      <td>veneto</td>\n",
       "      <td>it</td>\n",
       "      <td>2.0</td>\n",
       "      <td>merlot</td>\n",
       "      <td>10.990000</td>\n",
       "      <td>vintage-images/jYq_vdJgRCGsVqvs5vX3fg_pl_480x6...</td>\n",
       "      <td>europe</td>\n",
       "      <td>italy</td>\n",
       "      <td>...</td>\n",
       "      <td>1.358612</td>\n",
       "      <td>0.000000</td>\n",
       "      <td>0.000000</td>\n",
       "      <td>0.000000</td>\n",
       "      <td>0.000000</td>\n",
       "      <td>0.0</td>\n",
       "      <td>0.000000</td>\n",
       "      <td>0.0</td>\n",
       "      <td>0.788493</td>\n",
       "      <td>2.711399</td>\n",
       "    </tr>\n",
       "    <tr>\n",
       "      <th>9875</th>\n",
       "      <td>chalone vineyard</td>\n",
       "      <td>chalone vineyard monterey pinot noir</td>\n",
       "      <td>monterey county</td>\n",
       "      <td>us</td>\n",
       "      <td>3.5</td>\n",
       "      <td>pinot noir</td>\n",
       "      <td>15.990000</td>\n",
       "      <td>vintage-images/4PY0biY6St2tFoytqwopJg_pl_480x6...</td>\n",
       "      <td>north america</td>\n",
       "      <td>united states</td>\n",
       "      <td>...</td>\n",
       "      <td>0.000000</td>\n",
       "      <td>1.227074</td>\n",
       "      <td>0.727661</td>\n",
       "      <td>0.000000</td>\n",
       "      <td>0.000000</td>\n",
       "      <td>0.0</td>\n",
       "      <td>0.000000</td>\n",
       "      <td>0.0</td>\n",
       "      <td>2.678588</td>\n",
       "      <td>1.821980</td>\n",
       "    </tr>\n",
       "    <tr>\n",
       "      <th>9876</th>\n",
       "      <td>san antonio winery</td>\n",
       "      <td>san antonio winery imperial red semi sweet</td>\n",
       "      <td>california</td>\n",
       "      <td>us</td>\n",
       "      <td>4.0</td>\n",
       "      <td>merlot</td>\n",
       "      <td>8.990000</td>\n",
       "      <td>vintage-images/9YJV02cwSriLjK1al5G6DA_pl_480x6...</td>\n",
       "      <td>north america</td>\n",
       "      <td>united states</td>\n",
       "      <td>...</td>\n",
       "      <td>3.614763</td>\n",
       "      <td>0.000000</td>\n",
       "      <td>0.000000</td>\n",
       "      <td>1.649501</td>\n",
       "      <td>0.000000</td>\n",
       "      <td>0.0</td>\n",
       "      <td>0.000000</td>\n",
       "      <td>0.0</td>\n",
       "      <td>0.000000</td>\n",
       "      <td>0.000000</td>\n",
       "    </tr>\n",
       "    <tr>\n",
       "      <th>9877</th>\n",
       "      <td>sterling vineyards</td>\n",
       "      <td>sterling vineyards vintner s collection chardo...</td>\n",
       "      <td>central coast</td>\n",
       "      <td>us</td>\n",
       "      <td>4.0</td>\n",
       "      <td>chardonnay</td>\n",
       "      <td>10.990000</td>\n",
       "      <td>vintage-images/jUL_jvtVTOui84oN75hFXg_pl_480x6...</td>\n",
       "      <td>north america</td>\n",
       "      <td>united states</td>\n",
       "      <td>...</td>\n",
       "      <td>1.762334</td>\n",
       "      <td>4.283692</td>\n",
       "      <td>1.624774</td>\n",
       "      <td>0.000000</td>\n",
       "      <td>1.234128</td>\n",
       "      <td>0.0</td>\n",
       "      <td>0.000000</td>\n",
       "      <td>0.0</td>\n",
       "      <td>0.000000</td>\n",
       "      <td>0.171963</td>\n",
       "    </tr>\n",
       "  </tbody>\n",
       "</table>\n",
       "<p>9878 rows × 4111 columns</p>\n",
       "</div>"
      ],
      "text/plain": [
       "                  winery                                            product  \\\n",
       "0        cathedral ridge  cathedral ridge bangsund vineyard pinot noir 2006   \n",
       "1               penfolds                           penfolds rwt shiraz 2005   \n",
       "2      marques de riscal       marques de riscal frank gehry selection 2001   \n",
       "3                wyndham                    wyndham pinot noir bin 333 2007   \n",
       "4            louis jadot    louis jadot chevalier montrachet grand cru 2006   \n",
       "...                  ...                                                ...   \n",
       "9873             jermann                            jermann blau blau rosso   \n",
       "9874           caposaldo                caposaldo sweet pink merlot moscato   \n",
       "9875    chalone vineyard               chalone vineyard monterey pinot noir   \n",
       "9876  san antonio winery         san antonio winery imperial red semi sweet   \n",
       "9877  sterling vineyards  sterling vineyards vintner s collection chardo...   \n",
       "\n",
       "                              region country_code  rating        variety  \\\n",
       "0             columbia valley oregon           us     3.5     pinot noir   \n",
       "1                     barossa valley           au     4.5   shiraz syrah   \n",
       "2                              rioja           es     5.0    tempranillo   \n",
       "3            south eastern australia           au     4.0     pinot noir   \n",
       "4     chevalier montrachet grand cru           fr     5.0     chardonnay   \n",
       "...                              ...          ...     ...            ...   \n",
       "9873                   delle venezie           it     4.0  blaufrankisch   \n",
       "9874                          veneto           it     2.0         merlot   \n",
       "9875                 monterey county           us     3.5     pinot noir   \n",
       "9876                      california           us     4.0         merlot   \n",
       "9877                   central coast           us     4.0     chardonnay   \n",
       "\n",
       "       price_usd                                              image  \\\n",
       "0     163.000000  vintage-images/MBo5T9ZQQQGbzsRmVORp-w_pl_480x6...   \n",
       "1     169.950000  vintage-images/dDyTwzIfQC68MCUgjmYWpw_pl_480x6...   \n",
       "2     357.196682  vintage-images/t44NPpbUT6uy0vRt4VD2RQ_pl_480x6...   \n",
       "3      10.990000  vintage-images/v1RahJe2QQyp4oAFOv90bA_pl_480x6...   \n",
       "4     309.990000  vintage-images/VlMihlZUQE6US7fr09w5ZA_pl_480x6...   \n",
       "...          ...                                                ...   \n",
       "9873   35.138185  vintage-images/mpvstrRZSD-yVA3__GEWng_pl_480x6...   \n",
       "9874   10.990000  vintage-images/jYq_vdJgRCGsVqvs5vX3fg_pl_480x6...   \n",
       "9875   15.990000  vintage-images/4PY0biY6St2tFoytqwopJg_pl_480x6...   \n",
       "9876    8.990000  vintage-images/9YJV02cwSriLjK1al5G6DA_pl_480x6...   \n",
       "9877   10.990000  vintage-images/jUL_jvtVTOui84oN75hFXg_pl_480x6...   \n",
       "\n",
       "         continente country_code_clean  ...      4086      4087      4088  \\\n",
       "0     north america      united states  ...  0.000000  2.723852  0.112117   \n",
       "1           oceania          australia  ...  1.020779  0.000000  0.000000   \n",
       "2            europe              spain  ...  0.000000  0.555558  0.000000   \n",
       "3           oceania          australia  ...  0.000000  1.728447  0.707242   \n",
       "4            europe             france  ...  0.000000  2.167833  0.000000   \n",
       "...             ...                ...  ...       ...       ...       ...   \n",
       "9873         europe              italy  ...  0.000000  0.210194  0.000000   \n",
       "9874         europe              italy  ...  1.358612  0.000000  0.000000   \n",
       "9875  north america      united states  ...  0.000000  1.227074  0.727661   \n",
       "9876  north america      united states  ...  3.614763  0.000000  0.000000   \n",
       "9877  north america      united states  ...  1.762334  4.283692  1.624774   \n",
       "\n",
       "          4089      4090  4091      4092  4093      4094      4095  \n",
       "0     1.256278  0.000000   0.0  0.688721   0.0  0.000000  0.641749  \n",
       "1     2.622155  0.000000   0.0  0.290430   0.0  0.000000  0.000000  \n",
       "2     0.656157  0.000000   0.0  0.000000   0.0  0.000000  1.079562  \n",
       "3     0.000000  0.000000   0.0  0.000000   0.0  0.000000  1.881952  \n",
       "4     0.000000  0.000000   0.0  0.400719   0.0  0.000000  2.144384  \n",
       "...        ...       ...   ...       ...   ...       ...       ...  \n",
       "9873  1.297643  0.000000   0.0  0.000000   0.0  0.162085  2.841119  \n",
       "9874  0.000000  0.000000   0.0  0.000000   0.0  0.788493  2.711399  \n",
       "9875  0.000000  0.000000   0.0  0.000000   0.0  2.678588  1.821980  \n",
       "9876  1.649501  0.000000   0.0  0.000000   0.0  0.000000  0.000000  \n",
       "9877  0.000000  1.234128   0.0  0.000000   0.0  0.000000  0.171963  \n",
       "\n",
       "[9878 rows x 4111 columns]"
      ]
     },
     "execution_count": 4,
     "metadata": {},
     "output_type": "execute_result"
    }
   ],
   "source": [
    "df"
   ]
  },
  {
   "cell_type": "code",
   "execution_count": 5,
   "id": "bbc1eab9",
   "metadata": {
    "execution": {
     "iopub.execute_input": "2022-09-26T01:51:26.491837Z",
     "iopub.status.busy": "2022-09-26T01:51:26.491247Z",
     "iopub.status.idle": "2022-09-26T01:51:26.504994Z",
     "shell.execute_reply": "2022-09-26T01:51:26.504137Z"
    },
    "id": "MWwfSlfeRU7i",
    "outputId": "cc2385c9-8c48-4016-ddbf-dc937672b86c",
    "papermill": {
     "duration": 0.029309,
     "end_time": "2022-09-26T01:51:26.507263",
     "exception": false,
     "start_time": "2022-09-26T01:51:26.477954",
     "status": "completed"
    },
    "tags": []
   },
   "outputs": [
    {
     "name": "stdout",
     "output_type": "stream",
     "text": [
      "Existen 257 variedades de vinos\n"
     ]
    }
   ],
   "source": [
    "print(f\"Existen {len(df['variety'].value_counts())} variedades de vinos\")"
   ]
  },
  {
   "cell_type": "code",
   "execution_count": 6,
   "id": "8f2363bf",
   "metadata": {
    "execution": {
     "iopub.execute_input": "2022-09-26T01:51:26.532532Z",
     "iopub.status.busy": "2022-09-26T01:51:26.532265Z",
     "iopub.status.idle": "2022-09-26T01:51:26.543175Z",
     "shell.execute_reply": "2022-09-26T01:51:26.542254Z"
    },
    "id": "XyhZQwjsM9YZ",
    "outputId": "6299c578-f9ba-4f7c-ceac-5b43b79c591d",
    "papermill": {
     "duration": 0.025696,
     "end_time": "2022-09-26T01:51:26.545037",
     "exception": false,
     "start_time": "2022-09-26T01:51:26.519341",
     "status": "completed"
    },
    "tags": []
   },
   "outputs": [
    {
     "data": {
      "text/html": [
       "<div>\n",
       "<style scoped>\n",
       "    .dataframe tbody tr th:only-of-type {\n",
       "        vertical-align: middle;\n",
       "    }\n",
       "\n",
       "    .dataframe tbody tr th {\n",
       "        vertical-align: top;\n",
       "    }\n",
       "\n",
       "    .dataframe thead th {\n",
       "        text-align: right;\n",
       "    }\n",
       "</style>\n",
       "<table border=\"1\" class=\"dataframe\">\n",
       "  <thead>\n",
       "    <tr style=\"text-align: right;\">\n",
       "      <th></th>\n",
       "      <th>counts</th>\n",
       "    </tr>\n",
       "    <tr>\n",
       "      <th>variety</th>\n",
       "      <th></th>\n",
       "    </tr>\n",
       "  </thead>\n",
       "  <tbody>\n",
       "    <tr>\n",
       "      <th>cabernet sauvignon</th>\n",
       "      <td>2215</td>\n",
       "    </tr>\n",
       "    <tr>\n",
       "      <th>chardonnay</th>\n",
       "      <td>1030</td>\n",
       "    </tr>\n",
       "    <tr>\n",
       "      <th>shiraz syrah</th>\n",
       "      <td>802</td>\n",
       "    </tr>\n",
       "    <tr>\n",
       "      <th>pinot noir</th>\n",
       "      <td>714</td>\n",
       "    </tr>\n",
       "    <tr>\n",
       "      <th>merlot</th>\n",
       "      <td>519</td>\n",
       "    </tr>\n",
       "    <tr>\n",
       "      <th>...</th>\n",
       "      <td>...</td>\n",
       "    </tr>\n",
       "    <tr>\n",
       "      <th>symphony</th>\n",
       "      <td>1</td>\n",
       "    </tr>\n",
       "    <tr>\n",
       "      <th>moscatel</th>\n",
       "      <td>1</td>\n",
       "    </tr>\n",
       "    <tr>\n",
       "      <th>cencibel</th>\n",
       "      <td>1</td>\n",
       "    </tr>\n",
       "    <tr>\n",
       "      <th>treixadura</th>\n",
       "      <td>1</td>\n",
       "    </tr>\n",
       "    <tr>\n",
       "      <th>tocai friulano</th>\n",
       "      <td>1</td>\n",
       "    </tr>\n",
       "  </tbody>\n",
       "</table>\n",
       "<p>257 rows × 1 columns</p>\n",
       "</div>"
      ],
      "text/plain": [
       "                    counts\n",
       "variety                   \n",
       "cabernet sauvignon    2215\n",
       "chardonnay            1030\n",
       "shiraz syrah           802\n",
       "pinot noir             714\n",
       "merlot                 519\n",
       "...                    ...\n",
       "symphony                 1\n",
       "moscatel                 1\n",
       "cencibel                 1\n",
       "treixadura               1\n",
       "tocai friulano           1\n",
       "\n",
       "[257 rows x 1 columns]"
      ]
     },
     "execution_count": 6,
     "metadata": {},
     "output_type": "execute_result"
    }
   ],
   "source": [
    "df_variety = df['variety'].value_counts().rename_axis('variety').to_frame('counts')\n",
    "df_variety"
   ]
  },
  {
   "cell_type": "markdown",
   "id": "3c119996",
   "metadata": {
    "id": "uWeDIGzmNly7",
    "papermill": {
     "duration": 0.012034,
     "end_time": "2022-09-26T01:51:26.569340",
     "exception": false,
     "start_time": "2022-09-26T01:51:26.557306",
     "status": "completed"
    },
    "tags": []
   },
   "source": [
    "Vemos que existen 257 variedades de vinos, pero vemos que los 5 principales variedades representan más del 53% de los datos."
   ]
  },
  {
   "cell_type": "code",
   "execution_count": 7,
   "id": "26380b0a",
   "metadata": {
    "execution": {
     "iopub.execute_input": "2022-09-26T01:51:26.596858Z",
     "iopub.status.busy": "2022-09-26T01:51:26.595376Z",
     "iopub.status.idle": "2022-09-26T01:51:26.605773Z",
     "shell.execute_reply": "2022-09-26T01:51:26.604949Z"
    },
    "id": "tbLrWm4GNq_s",
    "outputId": "c2d10e18-5b0a-4dd9-ab7b-fbe547235a91",
    "papermill": {
     "duration": 0.025606,
     "end_time": "2022-09-26T01:51:26.607714",
     "exception": false,
     "start_time": "2022-09-26T01:51:26.582108",
     "status": "completed"
    },
    "tags": []
   },
   "outputs": [
    {
     "data": {
      "text/html": [
       "<div>\n",
       "<style scoped>\n",
       "    .dataframe tbody tr th:only-of-type {\n",
       "        vertical-align: middle;\n",
       "    }\n",
       "\n",
       "    .dataframe tbody tr th {\n",
       "        vertical-align: top;\n",
       "    }\n",
       "\n",
       "    .dataframe thead th {\n",
       "        text-align: right;\n",
       "    }\n",
       "</style>\n",
       "<table border=\"1\" class=\"dataframe\">\n",
       "  <thead>\n",
       "    <tr style=\"text-align: right;\">\n",
       "      <th></th>\n",
       "      <th>counts</th>\n",
       "    </tr>\n",
       "    <tr>\n",
       "      <th>variety</th>\n",
       "      <th></th>\n",
       "    </tr>\n",
       "  </thead>\n",
       "  <tbody>\n",
       "    <tr>\n",
       "      <th>cabernet sauvignon</th>\n",
       "      <td>2215</td>\n",
       "    </tr>\n",
       "    <tr>\n",
       "      <th>chardonnay</th>\n",
       "      <td>1030</td>\n",
       "    </tr>\n",
       "    <tr>\n",
       "      <th>shiraz syrah</th>\n",
       "      <td>802</td>\n",
       "    </tr>\n",
       "    <tr>\n",
       "      <th>pinot noir</th>\n",
       "      <td>714</td>\n",
       "    </tr>\n",
       "    <tr>\n",
       "      <th>merlot</th>\n",
       "      <td>519</td>\n",
       "    </tr>\n",
       "    <tr>\n",
       "      <th>sangiovese</th>\n",
       "      <td>431</td>\n",
       "    </tr>\n",
       "    <tr>\n",
       "      <th>nebbiolo</th>\n",
       "      <td>339</td>\n",
       "    </tr>\n",
       "    <tr>\n",
       "      <th>sauvignon blanc</th>\n",
       "      <td>300</td>\n",
       "    </tr>\n",
       "    <tr>\n",
       "      <th>tempranillo</th>\n",
       "      <td>281</td>\n",
       "    </tr>\n",
       "    <tr>\n",
       "      <th>touriga nacional</th>\n",
       "      <td>258</td>\n",
       "    </tr>\n",
       "    <tr>\n",
       "      <th>malbec</th>\n",
       "      <td>222</td>\n",
       "    </tr>\n",
       "    <tr>\n",
       "      <th>cabernet franc</th>\n",
       "      <td>219</td>\n",
       "    </tr>\n",
       "    <tr>\n",
       "      <th>grenache</th>\n",
       "      <td>178</td>\n",
       "    </tr>\n",
       "    <tr>\n",
       "      <th>riesling</th>\n",
       "      <td>157</td>\n",
       "    </tr>\n",
       "    <tr>\n",
       "      <th>zinfandel</th>\n",
       "      <td>157</td>\n",
       "    </tr>\n",
       "  </tbody>\n",
       "</table>\n",
       "</div>"
      ],
      "text/plain": [
       "                    counts\n",
       "variety                   \n",
       "cabernet sauvignon    2215\n",
       "chardonnay            1030\n",
       "shiraz syrah           802\n",
       "pinot noir             714\n",
       "merlot                 519\n",
       "sangiovese             431\n",
       "nebbiolo               339\n",
       "sauvignon blanc        300\n",
       "tempranillo            281\n",
       "touriga nacional       258\n",
       "malbec                 222\n",
       "cabernet franc         219\n",
       "grenache               178\n",
       "riesling               157\n",
       "zinfandel              157"
      ]
     },
     "execution_count": 7,
     "metadata": {},
     "output_type": "execute_result"
    }
   ],
   "source": [
    "df_variety_selected = df_variety[:15]\n",
    "df_variety_selected"
   ]
  },
  {
   "cell_type": "code",
   "execution_count": 8,
   "id": "40d04d7c",
   "metadata": {
    "execution": {
     "iopub.execute_input": "2022-09-26T01:51:26.633950Z",
     "iopub.status.busy": "2022-09-26T01:51:26.633690Z",
     "iopub.status.idle": "2022-09-26T01:51:26.643415Z",
     "shell.execute_reply": "2022-09-26T01:51:26.642567Z"
    },
    "id": "f7q6Z5UFSTfC",
    "outputId": "a7952661-ae13-49f8-e694-6b242347f71b",
    "papermill": {
     "duration": 0.024965,
     "end_time": "2022-09-26T01:51:26.645472",
     "exception": false,
     "start_time": "2022-09-26T01:51:26.620507",
     "status": "completed"
    },
    "tags": []
   },
   "outputs": [
    {
     "data": {
      "text/plain": [
       "counts    7822\n",
       "dtype: int64"
      ]
     },
     "execution_count": 8,
     "metadata": {},
     "output_type": "execute_result"
    }
   ],
   "source": [
    "df_variety_selected.sum()"
   ]
  },
  {
   "cell_type": "markdown",
   "id": "5f240ecc",
   "metadata": {
    "id": "49GB1cWASb9e",
    "papermill": {
     "duration": 0.01225,
     "end_time": "2022-09-26T01:51:26.670115",
     "exception": false,
     "start_time": "2022-09-26T01:51:26.657865",
     "status": "completed"
    },
    "tags": []
   },
   "source": [
    "Si consideramos las 15 principales categorias, obtenemos una representación cercana al 80% de los datos.\n",
    "\n",
    "En este punto, vamos a proceder a utilizar 16 categorias de esta columna, incluyendo como Otras las variety que no estan representadas en el 80% seleccionado."
   ]
  },
  {
   "cell_type": "code",
   "execution_count": 9,
   "id": "9b09b445",
   "metadata": {
    "execution": {
     "iopub.execute_input": "2022-09-26T01:51:26.696221Z",
     "iopub.status.busy": "2022-09-26T01:51:26.695933Z",
     "iopub.status.idle": "2022-09-26T01:51:29.494948Z",
     "shell.execute_reply": "2022-09-26T01:51:29.493611Z"
    },
    "id": "fQOUWDKyS74A",
    "outputId": "4fcde2b4-d01d-4af8-bebc-647b30abb4e0",
    "papermill": {
     "duration": 2.815073,
     "end_time": "2022-09-26T01:51:29.497667",
     "exception": false,
     "start_time": "2022-09-26T01:51:26.682594",
     "status": "completed"
    },
    "tags": []
   },
   "outputs": [
    {
     "name": "stderr",
     "output_type": "stream",
     "text": [
      "100%|██████████| 9878/9878 [00:02<00:00, 3545.71it/s]\n"
     ]
    }
   ],
   "source": [
    "list_variety = list(df_variety_selected.index)\n",
    "\n",
    "def transform_variety(variety, list_variety):\n",
    "  if variety in list_variety:\n",
    "    return variety\n",
    "  else:\n",
    "    return \"other\"\n",
    "\n",
    "df['variety'] = df.progress_apply(lambda x:transform_variety(x.variety,list_variety), axis=1)"
   ]
  },
  {
   "cell_type": "code",
   "execution_count": 10,
   "id": "12ccbe0b",
   "metadata": {
    "execution": {
     "iopub.execute_input": "2022-09-26T01:51:29.525584Z",
     "iopub.status.busy": "2022-09-26T01:51:29.525291Z",
     "iopub.status.idle": "2022-09-26T01:51:29.534801Z",
     "shell.execute_reply": "2022-09-26T01:51:29.533946Z"
    },
    "id": "CFOGFd69Vate",
    "outputId": "f22de558-7bcb-493c-cc93-5312dd32723b",
    "papermill": {
     "duration": 0.025491,
     "end_time": "2022-09-26T01:51:29.536833",
     "exception": false,
     "start_time": "2022-09-26T01:51:29.511342",
     "status": "completed"
    },
    "tags": []
   },
   "outputs": [
    {
     "data": {
      "text/plain": [
       "cabernet sauvignon    2215\n",
       "other                 2056\n",
       "chardonnay            1030\n",
       "shiraz syrah           802\n",
       "pinot noir             714\n",
       "merlot                 519\n",
       "sangiovese             431\n",
       "nebbiolo               339\n",
       "sauvignon blanc        300\n",
       "tempranillo            281\n",
       "touriga nacional       258\n",
       "malbec                 222\n",
       "cabernet franc         219\n",
       "grenache               178\n",
       "riesling               157\n",
       "zinfandel              157\n",
       "Name: variety, dtype: int64"
      ]
     },
     "execution_count": 10,
     "metadata": {},
     "output_type": "execute_result"
    }
   ],
   "source": [
    "df['variety'].value_counts()"
   ]
  },
  {
   "cell_type": "code",
   "execution_count": 11,
   "id": "53e631fb",
   "metadata": {
    "execution": {
     "iopub.execute_input": "2022-09-26T01:51:29.564464Z",
     "iopub.status.busy": "2022-09-26T01:51:29.563598Z",
     "iopub.status.idle": "2022-09-26T01:51:29.570490Z",
     "shell.execute_reply": "2022-09-26T01:51:29.569562Z"
    },
    "papermill": {
     "duration": 0.022856,
     "end_time": "2022-09-26T01:51:29.572591",
     "exception": false,
     "start_time": "2022-09-26T01:51:29.549735",
     "status": "completed"
    },
    "tags": []
   },
   "outputs": [],
   "source": [
    "le = LabelEncoder()\n",
    "variedad = le.fit_transform(df['variety'])"
   ]
  },
  {
   "cell_type": "code",
   "execution_count": 12,
   "id": "5f2ca011",
   "metadata": {
    "execution": {
     "iopub.execute_input": "2022-09-26T01:51:29.599996Z",
     "iopub.status.busy": "2022-09-26T01:51:29.599693Z",
     "iopub.status.idle": "2022-09-26T01:51:29.604060Z",
     "shell.execute_reply": "2022-09-26T01:51:29.603025Z"
    },
    "id": "mZMzkxz-H8vY",
    "papermill": {
     "duration": 0.020685,
     "end_time": "2022-09-26T01:51:29.606416",
     "exception": false,
     "start_time": "2022-09-26T01:51:29.585731",
     "status": "completed"
    },
    "tags": []
   },
   "outputs": [],
   "source": [
    "from sklearn.neighbors import KNeighborsClassifier"
   ]
  },
  {
   "cell_type": "code",
   "execution_count": 13,
   "id": "553d3066",
   "metadata": {
    "execution": {
     "iopub.execute_input": "2022-09-26T01:51:29.633533Z",
     "iopub.status.busy": "2022-09-26T01:51:29.633261Z",
     "iopub.status.idle": "2022-09-26T01:51:29.731693Z",
     "shell.execute_reply": "2022-09-26T01:51:29.730563Z"
    },
    "id": "trSMZ92QqBeK",
    "papermill": {
     "duration": 0.114462,
     "end_time": "2022-09-26T01:51:29.733840",
     "exception": false,
     "start_time": "2022-09-26T01:51:29.619378",
     "status": "completed"
    },
    "tags": []
   },
   "outputs": [],
   "source": [
    "X = df.iloc[:,15:].values\n",
    "y = variedad"
   ]
  },
  {
   "cell_type": "code",
   "execution_count": 14,
   "id": "d3f74186",
   "metadata": {
    "execution": {
     "iopub.execute_input": "2022-09-26T01:51:29.761427Z",
     "iopub.status.busy": "2022-09-26T01:51:29.761125Z",
     "iopub.status.idle": "2022-09-26T01:51:29.767248Z",
     "shell.execute_reply": "2022-09-26T01:51:29.766335Z"
    },
    "id": "gYR7BVcWJRRQ",
    "outputId": "38b993fa-217d-4d3a-eb84-beca5d68b147",
    "papermill": {
     "duration": 0.022318,
     "end_time": "2022-09-26T01:51:29.769490",
     "exception": false,
     "start_time": "2022-09-26T01:51:29.747172",
     "status": "completed"
    },
    "tags": []
   },
   "outputs": [
    {
     "data": {
      "text/plain": [
       "((9878, 4096), (9878,))"
      ]
     },
     "execution_count": 14,
     "metadata": {},
     "output_type": "execute_result"
    }
   ],
   "source": [
    "X.shape, y.shape"
   ]
  },
  {
   "cell_type": "code",
   "execution_count": 15,
   "id": "665d1ba3",
   "metadata": {
    "execution": {
     "iopub.execute_input": "2022-09-26T01:51:29.796776Z",
     "iopub.status.busy": "2022-09-26T01:51:29.796500Z",
     "iopub.status.idle": "2022-09-26T01:51:30.244054Z",
     "shell.execute_reply": "2022-09-26T01:51:30.242936Z"
    },
    "id": "YgOjtC3lqb-P",
    "papermill": {
     "duration": 0.464344,
     "end_time": "2022-09-26T01:51:30.246962",
     "exception": false,
     "start_time": "2022-09-26T01:51:29.782618",
     "status": "completed"
    },
    "tags": []
   },
   "outputs": [],
   "source": [
    "from sklearn.model_selection import train_test_split\n",
    "X_train, X_test, y_train, y_test = train_test_split(X, y, test_size = 0.3, random_state=42)"
   ]
  },
  {
   "cell_type": "markdown",
   "id": "f5143b41",
   "metadata": {
    "papermill": {
     "duration": 0.014984,
     "end_time": "2022-09-26T01:51:30.277355",
     "exception": false,
     "start_time": "2022-09-26T01:51:30.262371",
     "status": "completed"
    },
    "tags": []
   },
   "source": [
    "**KNN**"
   ]
  },
  {
   "cell_type": "code",
   "execution_count": 16,
   "id": "eb22de6c",
   "metadata": {
    "execution": {
     "iopub.execute_input": "2022-09-26T01:51:30.310077Z",
     "iopub.status.busy": "2022-09-26T01:51:30.308379Z",
     "iopub.status.idle": "2022-09-26T01:51:30.314560Z",
     "shell.execute_reply": "2022-09-26T01:51:30.313610Z"
    },
    "id": "xrRwQ87Cva9C",
    "papermill": {
     "duration": 0.024254,
     "end_time": "2022-09-26T01:51:30.316721",
     "exception": false,
     "start_time": "2022-09-26T01:51:30.292467",
     "status": "completed"
    },
    "tags": []
   },
   "outputs": [],
   "source": [
    "classifier_knn = KNeighborsClassifier()"
   ]
  },
  {
   "cell_type": "code",
   "execution_count": 17,
   "id": "1782554c",
   "metadata": {
    "execution": {
     "iopub.execute_input": "2022-09-26T01:51:30.348643Z",
     "iopub.status.busy": "2022-09-26T01:51:30.347670Z",
     "iopub.status.idle": "2022-09-26T01:51:30.377539Z",
     "shell.execute_reply": "2022-09-26T01:51:30.376399Z"
    },
    "id": "77RhtcHJwAgM",
    "outputId": "c192c1a4-463f-4009-8db9-80c73e6a0d3c",
    "papermill": {
     "duration": 0.048193,
     "end_time": "2022-09-26T01:51:30.380053",
     "exception": false,
     "start_time": "2022-09-26T01:51:30.331860",
     "status": "completed"
    },
    "tags": []
   },
   "outputs": [
    {
     "data": {
      "text/plain": [
       "KNeighborsClassifier()"
      ]
     },
     "execution_count": 17,
     "metadata": {},
     "output_type": "execute_result"
    }
   ],
   "source": [
    "classifier_knn.fit(X_train, y_train)\n"
   ]
  },
  {
   "cell_type": "code",
   "execution_count": 18,
   "id": "2d3129cc",
   "metadata": {
    "execution": {
     "iopub.execute_input": "2022-09-26T01:51:30.411335Z",
     "iopub.status.busy": "2022-09-26T01:51:30.411040Z",
     "iopub.status.idle": "2022-09-26T01:51:33.827412Z",
     "shell.execute_reply": "2022-09-26T01:51:33.826411Z"
    },
    "id": "GYBl3C91R0xK",
    "papermill": {
     "duration": 3.434928,
     "end_time": "2022-09-26T01:51:33.829839",
     "exception": false,
     "start_time": "2022-09-26T01:51:30.394911",
     "status": "completed"
    },
    "tags": []
   },
   "outputs": [],
   "source": [
    "y_pred_knn = classifier_knn.predict(X_test)"
   ]
  },
  {
   "cell_type": "code",
   "execution_count": 19,
   "id": "c66d4daa",
   "metadata": {
    "execution": {
     "iopub.execute_input": "2022-09-26T01:51:33.858345Z",
     "iopub.status.busy": "2022-09-26T01:51:33.857730Z",
     "iopub.status.idle": "2022-09-26T01:51:33.868124Z",
     "shell.execute_reply": "2022-09-26T01:51:33.867084Z"
    },
    "id": "ZkcHFXoVR6Gy",
    "outputId": "f5569bb5-5ee5-4058-bd8d-2da789fa5334",
    "papermill": {
     "duration": 0.027146,
     "end_time": "2022-09-26T01:51:33.870644",
     "exception": false,
     "start_time": "2022-09-26T01:51:33.843498",
     "status": "completed"
    },
    "tags": []
   },
   "outputs": [
    {
     "name": "stdout",
     "output_type": "stream",
     "text": [
      "Confusion Matrix KNN\n",
      "[[ 37   5   5   1   1   3   2   7   5   0   1   0   2   0   0   0]\n",
      " [ 14 508   4   2  15  31  17  54   6   0  24   0  18  16   9   2]\n",
      " [  0  10 184   7   2   1   9  49  15   3   1   5   6   4   2   0]\n",
      " [  0   6   1  13   0   3   0   7   7   0   0   0  10   0   3   0]\n",
      " [  3  33   0   1   8   5   0   6   0   0   1   0   1   0   1   0]\n",
      " [  2  77   0   1   4  52   5  16   1   0   7   1   4   0   3   1]\n",
      " [  3  18   0   1   2   6  44  10   6   0   1   1   6   0   3   0]\n",
      " [  9 116  93   5  10  10  21 192  28   5  11  17  30   1  10   4]\n",
      " [  1  12  34  13   2   3  13  26  94   0   2   1  19   1   3   0]\n",
      " [  0   2  14   1   0   0   0  18   4   3   0   0   1   1   0   0]\n",
      " [  3  46   4   1   2  12   2  21   1   0  27   0   4   1   3   3]\n",
      " [  0  17  16   0   1   0   1  31   6   1   1  17   2   0   0   1]\n",
      " [  4  44   6  11   6   8  12  36  23   0   4   2  74   3   2   2]\n",
      " [  1  33   1   0   2   7   1  10   4   0   1   0   4  15   4   0]\n",
      " [  3  21   1   0   4   0   2  10   3   0   2   0   4   1  25   0]\n",
      " [  1  20   1   0   0   1   2   6   0   0   1   0   5   0   1   5]]\n",
      "Accuracy: 0.43792172739541163\n"
     ]
    }
   ],
   "source": [
    "from sklearn.metrics import classification_report, confusion_matrix, accuracy_score\n",
    "\n",
    "result = confusion_matrix(y_test, y_pred_knn)\n",
    "\n",
    "print('Confusion Matrix KNN')\n",
    "\n",
    "print(result)\n",
    "\n",
    "\n",
    "print('Accuracy:', accuracy_score(y_test, y_pred_knn))"
   ]
  },
  {
   "cell_type": "code",
   "execution_count": 20,
   "id": "f31c1699",
   "metadata": {
    "execution": {
     "iopub.execute_input": "2022-09-26T01:51:33.898580Z",
     "iopub.status.busy": "2022-09-26T01:51:33.897786Z",
     "iopub.status.idle": "2022-09-26T01:51:33.912532Z",
     "shell.execute_reply": "2022-09-26T01:51:33.911024Z"
    },
    "papermill": {
     "duration": 0.03121,
     "end_time": "2022-09-26T01:51:33.915026",
     "exception": false,
     "start_time": "2022-09-26T01:51:33.883816",
     "status": "completed"
    },
    "tags": []
   },
   "outputs": [
    {
     "name": "stdout",
     "output_type": "stream",
     "text": [
      "                    precision    recall  f1-score   support\n",
      "\n",
      "    cabernet franc       0.46      0.54      0.49        69\n",
      "cabernet sauvignon       0.52      0.71      0.60       720\n",
      "        chardonnay       0.51      0.62      0.56       298\n",
      "          grenache       0.23      0.26      0.24        50\n",
      "            malbec       0.14      0.14      0.14        59\n",
      "            merlot       0.37      0.30      0.33       174\n",
      "          nebbiolo       0.34      0.44      0.38       101\n",
      "             other       0.38      0.34      0.36       562\n",
      "        pinot noir       0.46      0.42      0.44       224\n",
      "          riesling       0.25      0.07      0.11        44\n",
      "        sangiovese       0.32      0.21      0.25       130\n",
      "   sauvignon blanc       0.39      0.18      0.25        94\n",
      "      shiraz syrah       0.39      0.31      0.35       237\n",
      "       tempranillo       0.35      0.18      0.24        83\n",
      "  touriga nacional       0.36      0.33      0.34        76\n",
      "         zinfandel       0.28      0.12      0.16        43\n",
      "\n",
      "          accuracy                           0.44      2964\n",
      "         macro avg       0.36      0.32      0.33      2964\n",
      "      weighted avg       0.42      0.44      0.42      2964\n",
      "\n"
     ]
    }
   ],
   "source": [
    "print(classification_report(y_test,y_pred_knn,target_names=le.classes_))"
   ]
  },
  {
   "cell_type": "code",
   "execution_count": 21,
   "id": "972a0253",
   "metadata": {
    "execution": {
     "iopub.execute_input": "2022-09-26T01:51:33.944102Z",
     "iopub.status.busy": "2022-09-26T01:51:33.943302Z",
     "iopub.status.idle": "2022-09-26T01:51:37.016577Z",
     "shell.execute_reply": "2022-09-26T01:51:37.015389Z"
    },
    "papermill": {
     "duration": 3.090113,
     "end_time": "2022-09-26T01:51:37.019316",
     "exception": false,
     "start_time": "2022-09-26T01:51:33.929203",
     "status": "completed"
    },
    "tags": []
   },
   "outputs": [
    {
     "name": "stdout",
     "output_type": "stream",
     "text": [
      "Test accuracy: 0.438\n"
     ]
    }
   ],
   "source": [
    "print(\"Test accuracy: %.3f\" % classifier_knn.score(X_test, y_test))"
   ]
  },
  {
   "cell_type": "markdown",
   "id": "a005853d",
   "metadata": {
    "papermill": {
     "duration": 0.013403,
     "end_time": "2022-09-26T01:51:37.046940",
     "exception": false,
     "start_time": "2022-09-26T01:51:37.033537",
     "status": "completed"
    },
    "tags": []
   },
   "source": [
    "**SVC**"
   ]
  },
  {
   "cell_type": "code",
   "execution_count": 22,
   "id": "83d3dce2",
   "metadata": {
    "execution": {
     "iopub.execute_input": "2022-09-26T01:51:37.075487Z",
     "iopub.status.busy": "2022-09-26T01:51:37.074645Z",
     "iopub.status.idle": "2022-09-26T01:51:37.079568Z",
     "shell.execute_reply": "2022-09-26T01:51:37.078734Z"
    },
    "papermill": {
     "duration": 0.021083,
     "end_time": "2022-09-26T01:51:37.081507",
     "exception": false,
     "start_time": "2022-09-26T01:51:37.060424",
     "status": "completed"
    },
    "tags": []
   },
   "outputs": [],
   "source": [
    "from sklearn.svm import SVC\n",
    "classifier_svc = SVC(kernel='rbf')"
   ]
  },
  {
   "cell_type": "code",
   "execution_count": 23,
   "id": "a5499cfe",
   "metadata": {
    "execution": {
     "iopub.execute_input": "2022-09-26T01:51:37.110089Z",
     "iopub.status.busy": "2022-09-26T01:51:37.109334Z",
     "iopub.status.idle": "2022-09-26T01:53:42.374916Z",
     "shell.execute_reply": "2022-09-26T01:53:42.373947Z"
    },
    "papermill": {
     "duration": 125.295249,
     "end_time": "2022-09-26T01:53:42.390023",
     "exception": false,
     "start_time": "2022-09-26T01:51:37.094774",
     "status": "completed"
    },
    "tags": []
   },
   "outputs": [
    {
     "data": {
      "text/plain": [
       "SVC()"
      ]
     },
     "execution_count": 23,
     "metadata": {},
     "output_type": "execute_result"
    }
   ],
   "source": [
    "classifier_svc.fit(X_train, y_train)"
   ]
  },
  {
   "cell_type": "code",
   "execution_count": 24,
   "id": "518ea150",
   "metadata": {
    "execution": {
     "iopub.execute_input": "2022-09-26T01:53:42.418470Z",
     "iopub.status.busy": "2022-09-26T01:53:42.418158Z",
     "iopub.status.idle": "2022-09-26T01:55:02.859989Z",
     "shell.execute_reply": "2022-09-26T01:55:02.858991Z"
    },
    "papermill": {
     "duration": 80.458954,
     "end_time": "2022-09-26T01:55:02.862685",
     "exception": false,
     "start_time": "2022-09-26T01:53:42.403731",
     "status": "completed"
    },
    "tags": []
   },
   "outputs": [],
   "source": [
    "y_pred_svc = classifier_svc.predict(X_test)"
   ]
  },
  {
   "cell_type": "code",
   "execution_count": 25,
   "id": "ab59106b",
   "metadata": {
    "execution": {
     "iopub.execute_input": "2022-09-26T01:55:02.891789Z",
     "iopub.status.busy": "2022-09-26T01:55:02.891475Z",
     "iopub.status.idle": "2022-09-26T01:55:02.899916Z",
     "shell.execute_reply": "2022-09-26T01:55:02.898930Z"
    },
    "papermill": {
     "duration": 0.025587,
     "end_time": "2022-09-26T01:55:02.902569",
     "exception": false,
     "start_time": "2022-09-26T01:55:02.876982",
     "status": "completed"
    },
    "tags": []
   },
   "outputs": [
    {
     "name": "stdout",
     "output_type": "stream",
     "text": [
      "Confusion Matrix SVC\n",
      "[[ 13  36   4   0   0   0   0   7   9   0   0   0   0   0   0   0]\n",
      " [  0 629   3   0   0   1   0  80   4   0   1   0   2   0   0   0]\n",
      " [  0   9 173   0   0   0   0 104   9   0   0   0   3   0   0   0]\n",
      " [  0   9   1   6   0   0   0  14  10   0   0   0  10   0   0   0]\n",
      " [  0  47   0   0   4   0   0   8   0   0   0   0   0   0   0   0]\n",
      " [  0 120   0   0   0  27   0  25   1   0   1   0   0   0   0   0]\n",
      " [  0  44   1   0   0   0  16  31   7   0   0   0   2   0   0   0]\n",
      " [  0 127  65   0   0   0   0 328  33   0   0   0   7   0   2   0]\n",
      " [  0   9  18   0   0   0   0  68 118   0   0   0  11   0   0   0]\n",
      " [  0   1  11   0   0   0   0  30   1   0   0   0   1   0   0   0]\n",
      " [  0  87   0   0   0   0   0  28   0   0  15   0   0   0   0   0]\n",
      " [  0   8  17   0   0   0   0  55   1   0   0  12   1   0   0   0]\n",
      " [  0  76   4   0   0   0   0  68  53   0   1   0  35   0   0   0]\n",
      " [  0  46   0   0   0   0   0  28   6   0   0   0   1   2   0   0]\n",
      " [  0  33   0   0   0   0   0  14   3   0   0   0   1   0  25   0]\n",
      " [  0  26   2   0   0   0   0  12   3   0   0   0   0   0   0   0]]\n",
      "Accuracy: 0.4733468286099865\n"
     ]
    }
   ],
   "source": [
    "result = confusion_matrix(y_test, y_pred_svc)\n",
    "\n",
    "print('Confusion Matrix SVC')\n",
    "\n",
    "print(result)\n",
    "\n",
    "\n",
    "print('Accuracy:', accuracy_score(y_test, y_pred_svc))"
   ]
  },
  {
   "cell_type": "code",
   "execution_count": 26,
   "id": "210223b8",
   "metadata": {
    "execution": {
     "iopub.execute_input": "2022-09-26T01:55:02.932371Z",
     "iopub.status.busy": "2022-09-26T01:55:02.932097Z",
     "iopub.status.idle": "2022-09-26T01:55:02.950931Z",
     "shell.execute_reply": "2022-09-26T01:55:02.947742Z"
    },
    "papermill": {
     "duration": 0.036455,
     "end_time": "2022-09-26T01:55:02.953506",
     "exception": false,
     "start_time": "2022-09-26T01:55:02.917051",
     "status": "completed"
    },
    "tags": []
   },
   "outputs": [
    {
     "name": "stdout",
     "output_type": "stream",
     "text": [
      "                    precision    recall  f1-score   support\n",
      "\n",
      "    cabernet franc       1.00      0.19      0.32        69\n",
      "cabernet sauvignon       0.48      0.87      0.62       720\n",
      "        chardonnay       0.58      0.58      0.58       298\n",
      "          grenache       1.00      0.12      0.21        50\n",
      "            malbec       1.00      0.07      0.13        59\n",
      "            merlot       0.96      0.16      0.27       174\n",
      "          nebbiolo       1.00      0.16      0.27       101\n",
      "             other       0.36      0.58      0.45       562\n",
      "        pinot noir       0.46      0.53      0.49       224\n",
      "          riesling       0.00      0.00      0.00        44\n",
      "        sangiovese       0.83      0.12      0.20       130\n",
      "   sauvignon blanc       1.00      0.13      0.23        94\n",
      "      shiraz syrah       0.47      0.15      0.23       237\n",
      "       tempranillo       1.00      0.02      0.05        83\n",
      "  touriga nacional       0.93      0.33      0.49        76\n",
      "         zinfandel       0.00      0.00      0.00        43\n",
      "\n",
      "          accuracy                           0.47      2964\n",
      "         macro avg       0.69      0.25      0.28      2964\n",
      "      weighted avg       0.59      0.47      0.42      2964\n",
      "\n"
     ]
    },
    {
     "name": "stderr",
     "output_type": "stream",
     "text": [
      "/opt/conda/lib/python3.7/site-packages/sklearn/metrics/_classification.py:1318: UndefinedMetricWarning: Precision and F-score are ill-defined and being set to 0.0 in labels with no predicted samples. Use `zero_division` parameter to control this behavior.\n",
      "  _warn_prf(average, modifier, msg_start, len(result))\n",
      "/opt/conda/lib/python3.7/site-packages/sklearn/metrics/_classification.py:1318: UndefinedMetricWarning: Precision and F-score are ill-defined and being set to 0.0 in labels with no predicted samples. Use `zero_division` parameter to control this behavior.\n",
      "  _warn_prf(average, modifier, msg_start, len(result))\n",
      "/opt/conda/lib/python3.7/site-packages/sklearn/metrics/_classification.py:1318: UndefinedMetricWarning: Precision and F-score are ill-defined and being set to 0.0 in labels with no predicted samples. Use `zero_division` parameter to control this behavior.\n",
      "  _warn_prf(average, modifier, msg_start, len(result))\n"
     ]
    }
   ],
   "source": [
    "print(classification_report(y_test,y_pred_svc,target_names=le.classes_))"
   ]
  },
  {
   "cell_type": "code",
   "execution_count": 27,
   "id": "390c1829",
   "metadata": {
    "execution": {
     "iopub.execute_input": "2022-09-26T01:55:02.982668Z",
     "iopub.status.busy": "2022-09-26T01:55:02.981831Z",
     "iopub.status.idle": "2022-09-26T01:56:23.589019Z",
     "shell.execute_reply": "2022-09-26T01:56:23.588031Z"
    },
    "papermill": {
     "duration": 80.637932,
     "end_time": "2022-09-26T01:56:23.605292",
     "exception": false,
     "start_time": "2022-09-26T01:55:02.967360",
     "status": "completed"
    },
    "tags": []
   },
   "outputs": [
    {
     "name": "stdout",
     "output_type": "stream",
     "text": [
      "Test accuracy: 0.473\n"
     ]
    }
   ],
   "source": [
    "print(\"Test accuracy: %.3f\" % classifier_svc.score(X_test, y_test))"
   ]
  },
  {
   "cell_type": "markdown",
   "id": "e4673b04",
   "metadata": {
    "id": "0KDzqXl9oC8i",
    "papermill": {
     "duration": 0.013443,
     "end_time": "2022-09-26T01:56:23.633468",
     "exception": false,
     "start_time": "2022-09-26T01:56:23.620025",
     "status": "completed"
    },
    "tags": []
   },
   "source": [
    "**Ajuste de Hiperparametros:**"
   ]
  },
  {
   "cell_type": "markdown",
   "id": "a64985c4",
   "metadata": {
    "id": "jnpJX6pJ-klg",
    "papermill": {
     "duration": 0.013272,
     "end_time": "2022-09-26T01:56:23.660315",
     "exception": false,
     "start_time": "2022-09-26T01:56:23.647043",
     "status": "completed"
    },
    "tags": []
   },
   "source": [
    "Vamos a proceder a optimizar nuestro modelo aplicando escalado a los datos y reducciendo dimensionalidad mediante PCA, además de utilizar GridSearchCV para buscar los mejores parametros asociados al Clasificador KNN."
   ]
  },
  {
   "cell_type": "code",
   "execution_count": 28,
   "id": "6d944412",
   "metadata": {
    "execution": {
     "iopub.execute_input": "2022-09-26T01:56:23.689620Z",
     "iopub.status.busy": "2022-09-26T01:56:23.688634Z",
     "iopub.status.idle": "2022-09-26T01:56:48.015668Z",
     "shell.execute_reply": "2022-09-26T01:56:48.014386Z"
    },
    "id": "y_iI32Cvpye-",
    "papermill": {
     "duration": 24.345564,
     "end_time": "2022-09-26T01:56:48.019515",
     "exception": false,
     "start_time": "2022-09-26T01:56:23.673951",
     "status": "completed"
    },
    "tags": []
   },
   "outputs": [],
   "source": [
    "from sklearn.pipeline import make_pipeline\n",
    "from sklearn.decomposition import PCA\n",
    "from sklearn.preprocessing import StandardScaler\n",
    "from sklearn.model_selection import GridSearchCV\n",
    "\n",
    "# Normalizacion\n",
    "\n",
    "scaler=StandardScaler()\n",
    "\n",
    "scaler.fit(X) # calculo la media para poder hacer la transformacion\n",
    "X_scaled=scaler.transform(X)# Ahora si, escalo los datos y los normalizo\n",
    "\n",
    "#Instanciamos objeto PCA y aplicamos\n",
    "pca=PCA(n_components=1000) \n",
    "pca.fit(X_scaled) # obtener los componentes principales\n",
    "X_pca=pca.transform(X_scaled) # convertimos nuestros datos con las nuevas dimensiones de PCA"
   ]
  },
  {
   "cell_type": "code",
   "execution_count": 29,
   "id": "729a828d",
   "metadata": {
    "execution": {
     "iopub.execute_input": "2022-09-26T01:56:48.093809Z",
     "iopub.status.busy": "2022-09-26T01:56:48.093263Z",
     "iopub.status.idle": "2022-09-26T01:56:48.138211Z",
     "shell.execute_reply": "2022-09-26T01:56:48.136764Z"
    },
    "papermill": {
     "duration": 0.085399,
     "end_time": "2022-09-26T01:56:48.141990",
     "exception": false,
     "start_time": "2022-09-26T01:56:48.056591",
     "status": "completed"
    },
    "tags": []
   },
   "outputs": [],
   "source": [
    "X_train, X_test, y_train, y_test = train_test_split(X_pca, y, test_size = 0.3, random_state=42)"
   ]
  },
  {
   "cell_type": "code",
   "execution_count": 30,
   "id": "a156ae53",
   "metadata": {
    "execution": {
     "iopub.execute_input": "2022-09-26T01:56:48.172043Z",
     "iopub.status.busy": "2022-09-26T01:56:48.171443Z",
     "iopub.status.idle": "2022-09-26T01:56:48.178110Z",
     "shell.execute_reply": "2022-09-26T01:56:48.177188Z"
    },
    "papermill": {
     "duration": 0.023165,
     "end_time": "2022-09-26T01:56:48.180000",
     "exception": false,
     "start_time": "2022-09-26T01:56:48.156835",
     "status": "completed"
    },
    "tags": []
   },
   "outputs": [
    {
     "data": {
      "text/plain": [
       "((6914, 1000), (2964, 1000), (6914,), (2964,))"
      ]
     },
     "execution_count": 30,
     "metadata": {},
     "output_type": "execute_result"
    }
   ],
   "source": [
    "X_train.shape, X_test.shape, y_train.shape, y_test.shape"
   ]
  },
  {
   "cell_type": "markdown",
   "id": "439294ba",
   "metadata": {
    "papermill": {
     "duration": 0.013414,
     "end_time": "2022-09-26T01:56:48.207027",
     "exception": false,
     "start_time": "2022-09-26T01:56:48.193613",
     "status": "completed"
    },
    "tags": []
   },
   "source": [
    "**KNN normalizado**"
   ]
  },
  {
   "cell_type": "code",
   "execution_count": 31,
   "id": "069edf8a",
   "metadata": {
    "execution": {
     "iopub.execute_input": "2022-09-26T01:56:48.235809Z",
     "iopub.status.busy": "2022-09-26T01:56:48.235051Z",
     "iopub.status.idle": "2022-09-26T01:56:48.239731Z",
     "shell.execute_reply": "2022-09-26T01:56:48.238931Z"
    },
    "id": "0ro3ugcHrw1X",
    "papermill": {
     "duration": 0.021043,
     "end_time": "2022-09-26T01:56:48.241649",
     "exception": false,
     "start_time": "2022-09-26T01:56:48.220606",
     "status": "completed"
    },
    "tags": []
   },
   "outputs": [],
   "source": [
    "classifier_knn_pca = KNeighborsClassifier(n_neighbors=5, p=3, weights='distance')"
   ]
  },
  {
   "cell_type": "code",
   "execution_count": 32,
   "id": "c5ebf949",
   "metadata": {
    "execution": {
     "iopub.execute_input": "2022-09-26T01:56:48.270393Z",
     "iopub.status.busy": "2022-09-26T01:56:48.269633Z",
     "iopub.status.idle": "2022-09-26T01:56:48.281487Z",
     "shell.execute_reply": "2022-09-26T01:56:48.280478Z"
    },
    "papermill": {
     "duration": 0.028264,
     "end_time": "2022-09-26T01:56:48.283517",
     "exception": false,
     "start_time": "2022-09-26T01:56:48.255253",
     "status": "completed"
    },
    "tags": []
   },
   "outputs": [
    {
     "data": {
      "text/plain": [
       "KNeighborsClassifier(p=3, weights='distance')"
      ]
     },
     "execution_count": 32,
     "metadata": {},
     "output_type": "execute_result"
    }
   ],
   "source": [
    "classifier_knn_pca.fit(X_train,y_train)"
   ]
  },
  {
   "cell_type": "code",
   "execution_count": 33,
   "id": "330425ab",
   "metadata": {
    "execution": {
     "iopub.execute_input": "2022-09-26T01:56:48.312055Z",
     "iopub.status.busy": "2022-09-26T01:56:48.311765Z",
     "iopub.status.idle": "2022-09-26T02:04:09.923759Z",
     "shell.execute_reply": "2022-09-26T02:04:09.922716Z"
    },
    "papermill": {
     "duration": 441.629317,
     "end_time": "2022-09-26T02:04:09.926553",
     "exception": false,
     "start_time": "2022-09-26T01:56:48.297236",
     "status": "completed"
    },
    "tags": []
   },
   "outputs": [],
   "source": [
    "y_pred_knn_pca = classifier_knn_pca.predict(X_test)"
   ]
  },
  {
   "cell_type": "code",
   "execution_count": 34,
   "id": "c0d392f3",
   "metadata": {
    "execution": {
     "iopub.execute_input": "2022-09-26T02:04:09.957011Z",
     "iopub.status.busy": "2022-09-26T02:04:09.956661Z",
     "iopub.status.idle": "2022-09-26T02:04:09.965292Z",
     "shell.execute_reply": "2022-09-26T02:04:09.964282Z"
    },
    "papermill": {
     "duration": 0.026699,
     "end_time": "2022-09-26T02:04:09.968378",
     "exception": false,
     "start_time": "2022-09-26T02:04:09.941679",
     "status": "completed"
    },
    "tags": []
   },
   "outputs": [
    {
     "name": "stdout",
     "output_type": "stream",
     "text": [
      "Confusion Matrix KNN - Normalizado y PCA\n",
      "[[ 40   4   3   1   0   3   4   5   3   0   2   0   1   1   2   0]\n",
      " [  9 510   6   4   7  33   8  57   9   0  11   1  31  15  12   7]\n",
      " [  0   6 174   5   1   0   6  62  17   1   2  11   9   3   0   1]\n",
      " [  0   7   1  21   0   2   1   5   5   0   0   2   5   0   1   0]\n",
      " [  1  23   0   1  10   4   1  13   0   0   2   0   1   0   2   1]\n",
      " [  0  46   0   3   0  75   0  24   3   0   5   1  10   3   2   2]\n",
      " [  0   9   1   0   0   3  60   9   8   0   1   0   8   1   1   0]\n",
      " [  2  87  72   5   4  13  11 251  27   4  16  23  31   5   7   4]\n",
      " [  0  12  31   6   2   3  12  28  99   1   0   0  25   1   3   1]\n",
      " [  0   1  10   1   0   0   0  17   3  10   0   0   2   0   0   0]\n",
      " [  0  30   1   1   1   4   5  21   0   0  50   1   3   1   8   4]\n",
      " [  0   8  17   0   2   2   2  26   3   2   2  27   1   0   0   2]\n",
      " [  2  29  10   7   3   9   7  27  22   1   6   3 102   5   2   2]\n",
      " [  0  19   1   0   4   2   3   9   7   0   5   0   4  28   0   1]\n",
      " [  3  10   1   1   1   1   2  12   2   0   4   0   5   1  33   0]\n",
      " [  2  12   2   0   0   2   2   6   1   0   1   0   8   0   1   6]]\n",
      "Accuracy: 0.50472334682861\n"
     ]
    }
   ],
   "source": [
    "result = confusion_matrix(y_test, y_pred_knn_pca)\n",
    "\n",
    "print('Confusion Matrix KNN - Normalizado y PCA')\n",
    "\n",
    "print(result)\n",
    "\n",
    "\n",
    "print('Accuracy:', accuracy_score(y_test, y_pred_knn_pca))"
   ]
  },
  {
   "cell_type": "code",
   "execution_count": 35,
   "id": "070f1899",
   "metadata": {
    "execution": {
     "iopub.execute_input": "2022-09-26T02:04:09.999529Z",
     "iopub.status.busy": "2022-09-26T02:04:09.999197Z",
     "iopub.status.idle": "2022-09-26T02:04:10.013671Z",
     "shell.execute_reply": "2022-09-26T02:04:10.012144Z"
    },
    "papermill": {
     "duration": 0.031517,
     "end_time": "2022-09-26T02:04:10.015720",
     "exception": false,
     "start_time": "2022-09-26T02:04:09.984203",
     "status": "completed"
    },
    "tags": []
   },
   "outputs": [
    {
     "name": "stdout",
     "output_type": "stream",
     "text": [
      "                    precision    recall  f1-score   support\n",
      "\n",
      "    cabernet franc       0.68      0.58      0.63        69\n",
      "cabernet sauvignon       0.63      0.71      0.67       720\n",
      "        chardonnay       0.53      0.58      0.55       298\n",
      "          grenache       0.38      0.42      0.40        50\n",
      "            malbec       0.29      0.17      0.21        59\n",
      "            merlot       0.48      0.43      0.45       174\n",
      "          nebbiolo       0.48      0.59      0.53       101\n",
      "             other       0.44      0.45      0.44       562\n",
      "        pinot noir       0.47      0.44      0.46       224\n",
      "          riesling       0.53      0.23      0.32        44\n",
      "        sangiovese       0.47      0.38      0.42       130\n",
      "   sauvignon blanc       0.39      0.29      0.33        94\n",
      "      shiraz syrah       0.41      0.43      0.42       237\n",
      "       tempranillo       0.44      0.34      0.38        83\n",
      "  touriga nacional       0.45      0.43      0.44        76\n",
      "         zinfandel       0.19      0.14      0.16        43\n",
      "\n",
      "          accuracy                           0.50      2964\n",
      "         macro avg       0.45      0.41      0.43      2964\n",
      "      weighted avg       0.50      0.50      0.50      2964\n",
      "\n"
     ]
    }
   ],
   "source": [
    "print(classification_report(y_test,y_pred_knn_pca,target_names=le.classes_))"
   ]
  },
  {
   "cell_type": "code",
   "execution_count": 36,
   "id": "1305a5d3",
   "metadata": {
    "execution": {
     "iopub.execute_input": "2022-09-26T02:04:10.046005Z",
     "iopub.status.busy": "2022-09-26T02:04:10.045151Z",
     "iopub.status.idle": "2022-09-26T02:11:31.468595Z",
     "shell.execute_reply": "2022-09-26T02:11:31.464181Z"
    },
    "papermill": {
     "duration": 441.451872,
     "end_time": "2022-09-26T02:11:31.482077",
     "exception": false,
     "start_time": "2022-09-26T02:04:10.030205",
     "status": "completed"
    },
    "tags": []
   },
   "outputs": [
    {
     "name": "stdout",
     "output_type": "stream",
     "text": [
      "Test accuracy: 0.505\n"
     ]
    }
   ],
   "source": [
    "print(\"Test accuracy: %.3f\" % classifier_knn_pca.score(X_test, y_test))"
   ]
  },
  {
   "cell_type": "markdown",
   "id": "12a2ba15",
   "metadata": {
    "papermill": {
     "duration": 0.015786,
     "end_time": "2022-09-26T02:11:31.513057",
     "exception": false,
     "start_time": "2022-09-26T02:11:31.497271",
     "status": "completed"
    },
    "tags": []
   },
   "source": [
    "**SVC Normalizado**"
   ]
  },
  {
   "cell_type": "code",
   "execution_count": 37,
   "id": "dc2f5a3b",
   "metadata": {
    "execution": {
     "iopub.execute_input": "2022-09-26T02:11:31.545243Z",
     "iopub.status.busy": "2022-09-26T02:11:31.543812Z",
     "iopub.status.idle": "2022-09-26T02:11:31.549303Z",
     "shell.execute_reply": "2022-09-26T02:11:31.548336Z"
    },
    "papermill": {
     "duration": 0.023841,
     "end_time": "2022-09-26T02:11:31.551596",
     "exception": false,
     "start_time": "2022-09-26T02:11:31.527755",
     "status": "completed"
    },
    "tags": []
   },
   "outputs": [],
   "source": [
    "classifier_svc_pca = SVC(C=10,gamma=0.01,kernel='rbf')"
   ]
  },
  {
   "cell_type": "code",
   "execution_count": 38,
   "id": "a8f3420c",
   "metadata": {
    "execution": {
     "iopub.execute_input": "2022-09-26T02:11:31.583024Z",
     "iopub.status.busy": "2022-09-26T02:11:31.582069Z",
     "iopub.status.idle": "2022-09-26T02:12:11.943984Z",
     "shell.execute_reply": "2022-09-26T02:12:11.943036Z"
    },
    "papermill": {
     "duration": 40.393927,
     "end_time": "2022-09-26T02:12:11.960280",
     "exception": false,
     "start_time": "2022-09-26T02:11:31.566353",
     "status": "completed"
    },
    "tags": []
   },
   "outputs": [
    {
     "data": {
      "text/plain": [
       "SVC(C=10, gamma=0.01)"
      ]
     },
     "execution_count": 38,
     "metadata": {},
     "output_type": "execute_result"
    }
   ],
   "source": [
    "classifier_svc_pca.fit(X_train, y_train)"
   ]
  },
  {
   "cell_type": "code",
   "execution_count": 39,
   "id": "f7bdac75",
   "metadata": {
    "execution": {
     "iopub.execute_input": "2022-09-26T02:12:11.993465Z",
     "iopub.status.busy": "2022-09-26T02:12:11.992621Z",
     "iopub.status.idle": "2022-09-26T02:12:26.818554Z",
     "shell.execute_reply": "2022-09-26T02:12:26.817548Z"
    },
    "papermill": {
     "duration": 14.84648,
     "end_time": "2022-09-26T02:12:26.820945",
     "exception": false,
     "start_time": "2022-09-26T02:12:11.974465",
     "status": "completed"
    },
    "tags": []
   },
   "outputs": [],
   "source": [
    "y_pred_svc_pca = classifier_svc_pca.predict(X_test)"
   ]
  },
  {
   "cell_type": "code",
   "execution_count": 40,
   "id": "6165fbeb",
   "metadata": {
    "execution": {
     "iopub.execute_input": "2022-09-26T02:12:26.851380Z",
     "iopub.status.busy": "2022-09-26T02:12:26.851064Z",
     "iopub.status.idle": "2022-09-26T02:12:26.859408Z",
     "shell.execute_reply": "2022-09-26T02:12:26.858392Z"
    },
    "papermill": {
     "duration": 0.026589,
     "end_time": "2022-09-26T02:12:26.862221",
     "exception": false,
     "start_time": "2022-09-26T02:12:26.835632",
     "status": "completed"
    },
    "tags": []
   },
   "outputs": [
    {
     "name": "stdout",
     "output_type": "stream",
     "text": [
      "Confusion Matrix SVC - Normalizado y PCA\n",
      "[[ 38   0   0   0   0   0   0  31   0   0   0   0   0   0   0   0]\n",
      " [  0 368   0   0   0   0   0 352   0   0   0   0   0   0   0   0]\n",
      " [  0   0  30   0   0   0   0 268   0   0   0   0   0   0   0   0]\n",
      " [  0   0   0  17   0   0   0  33   0   0   0   0   0   0   0   0]\n",
      " [  0   0   0   0   8   0   0  51   0   0   0   0   0   0   0   0]\n",
      " [  0   1   0   0   0  71   0 102   0   0   0   0   0   0   0   0]\n",
      " [  0   0   0   0   0   0  50  51   0   0   0   0   0   0   0   0]\n",
      " [  0   0   0   0   0   0   0 562   0   0   0   0   0   0   0   0]\n",
      " [  0   0   0   0   0   0   0 187  37   0   0   0   0   0   0   0]\n",
      " [  0   0   0   0   0   0   0  37   0   7   0   0   0   0   0   0]\n",
      " [  0   0   0   0   0   0   0  91   0   0  39   0   0   0   0   0]\n",
      " [  0   0   0   0   0   0   0  77   0   0   0  17   0   0   0   0]\n",
      " [  0   0   0   0   0   0   0 162   0   0   0   0  75   0   0   0]\n",
      " [  0   0   0   0   0   0   0  59   0   0   0   0   0  24   0   0]\n",
      " [  0   0   0   0   0   0   0  45   0   0   0   0   0   0  31   0]\n",
      " [  0   0   0   0   0   0   0  41   0   0   0   0   0   0   0   2]]\n",
      "Accuracy: 0.4642375168690958\n"
     ]
    }
   ],
   "source": [
    "result = confusion_matrix(y_test, y_pred_svc_pca)\n",
    "\n",
    "print('Confusion Matrix SVC - Normalizado y PCA')\n",
    "\n",
    "print(result)\n",
    "\n",
    "\n",
    "print('Accuracy:', accuracy_score(y_test, y_pred_svc_pca))"
   ]
  },
  {
   "cell_type": "code",
   "execution_count": 41,
   "id": "3ec21b11",
   "metadata": {
    "execution": {
     "iopub.execute_input": "2022-09-26T02:12:26.892080Z",
     "iopub.status.busy": "2022-09-26T02:12:26.891776Z",
     "iopub.status.idle": "2022-09-26T02:12:26.905395Z",
     "shell.execute_reply": "2022-09-26T02:12:26.904021Z"
    },
    "papermill": {
     "duration": 0.030717,
     "end_time": "2022-09-26T02:12:26.907364",
     "exception": false,
     "start_time": "2022-09-26T02:12:26.876647",
     "status": "completed"
    },
    "tags": []
   },
   "outputs": [
    {
     "name": "stdout",
     "output_type": "stream",
     "text": [
      "                    precision    recall  f1-score   support\n",
      "\n",
      "    cabernet franc       1.00      0.55      0.71        69\n",
      "cabernet sauvignon       1.00      0.51      0.68       720\n",
      "        chardonnay       1.00      0.10      0.18       298\n",
      "          grenache       1.00      0.34      0.51        50\n",
      "            malbec       1.00      0.14      0.24        59\n",
      "            merlot       1.00      0.41      0.58       174\n",
      "          nebbiolo       1.00      0.50      0.66       101\n",
      "             other       0.26      1.00      0.41       562\n",
      "        pinot noir       1.00      0.17      0.28       224\n",
      "          riesling       1.00      0.16      0.27        44\n",
      "        sangiovese       1.00      0.30      0.46       130\n",
      "   sauvignon blanc       1.00      0.18      0.31        94\n",
      "      shiraz syrah       1.00      0.32      0.48       237\n",
      "       tempranillo       1.00      0.29      0.45        83\n",
      "  touriga nacional       1.00      0.41      0.58        76\n",
      "         zinfandel       1.00      0.05      0.09        43\n",
      "\n",
      "          accuracy                           0.46      2964\n",
      "         macro avg       0.95      0.34      0.43      2964\n",
      "      weighted avg       0.86      0.46      0.47      2964\n",
      "\n"
     ]
    }
   ],
   "source": [
    "print(classification_report(y_test,y_pred_svc_pca,target_names=le.classes_))"
   ]
  },
  {
   "cell_type": "code",
   "execution_count": 42,
   "id": "8daf78a4",
   "metadata": {
    "execution": {
     "iopub.execute_input": "2022-09-26T02:12:26.937854Z",
     "iopub.status.busy": "2022-09-26T02:12:26.937570Z",
     "iopub.status.idle": "2022-09-26T02:12:42.018712Z",
     "shell.execute_reply": "2022-09-26T02:12:42.017427Z"
    },
    "papermill": {
     "duration": 15.099544,
     "end_time": "2022-09-26T02:12:42.021697",
     "exception": false,
     "start_time": "2022-09-26T02:12:26.922153",
     "status": "completed"
    },
    "tags": []
   },
   "outputs": [
    {
     "name": "stdout",
     "output_type": "stream",
     "text": [
      "Test accuracy: 0.464\n"
     ]
    }
   ],
   "source": [
    "print(\"Test accuracy: %.3f\" % classifier_svc_pca.score(X_test, y_test))"
   ]
  },
  {
   "cell_type": "markdown",
   "id": "843cd1c3",
   "metadata": {
    "papermill": {
     "duration": 0.014271,
     "end_time": "2022-09-26T02:12:42.051310",
     "exception": false,
     "start_time": "2022-09-26T02:12:42.037039",
     "status": "completed"
    },
    "tags": []
   },
   "source": [
    "**BALANCEADO DE DATOS**"
   ]
  },
  {
   "cell_type": "code",
   "execution_count": 43,
   "id": "cd74097b",
   "metadata": {
    "execution": {
     "iopub.execute_input": "2022-09-26T02:12:42.081424Z",
     "iopub.status.busy": "2022-09-26T02:12:42.081119Z",
     "iopub.status.idle": "2022-09-26T02:12:42.504299Z",
     "shell.execute_reply": "2022-09-26T02:12:42.503288Z"
    },
    "papermill": {
     "duration": 0.440909,
     "end_time": "2022-09-26T02:12:42.506642",
     "exception": false,
     "start_time": "2022-09-26T02:12:42.065733",
     "status": "completed"
    },
    "tags": []
   },
   "outputs": [],
   "source": [
    "from imblearn.over_sampling import RandomOverSampler\n",
    "\n",
    "ros = RandomOverSampler(sampling_strategy=\"not majority\")\n",
    "X_res, y_res = ros.fit_resample(X_pca,y)\n",
    "\n",
    "X_train, X_test, y_train, y_test = train_test_split(X_res, y_res, test_size = 0.3, random_state=42)"
   ]
  },
  {
   "cell_type": "markdown",
   "id": "575ea211",
   "metadata": {
    "papermill": {
     "duration": 0.014204,
     "end_time": "2022-09-26T02:12:42.535681",
     "exception": false,
     "start_time": "2022-09-26T02:12:42.521477",
     "status": "completed"
    },
    "tags": []
   },
   "source": [
    "**KNN BALANCEADO**"
   ]
  },
  {
   "cell_type": "code",
   "execution_count": 44,
   "id": "01c3eb8b",
   "metadata": {
    "execution": {
     "iopub.execute_input": "2022-09-26T02:12:42.566098Z",
     "iopub.status.busy": "2022-09-26T02:12:42.565255Z",
     "iopub.status.idle": "2022-09-26T02:12:42.590829Z",
     "shell.execute_reply": "2022-09-26T02:12:42.589744Z"
    },
    "papermill": {
     "duration": 0.043088,
     "end_time": "2022-09-26T02:12:42.593067",
     "exception": false,
     "start_time": "2022-09-26T02:12:42.549979",
     "status": "completed"
    },
    "tags": []
   },
   "outputs": [
    {
     "data": {
      "text/plain": [
       "KNeighborsClassifier(p=3, weights='distance')"
      ]
     },
     "execution_count": 44,
     "metadata": {},
     "output_type": "execute_result"
    }
   ],
   "source": [
    "classifier_knn_balanced = KNeighborsClassifier(n_neighbors=5, p=3, weights='distance')\n",
    "classifier_knn_balanced.fit(X_train, y_train)"
   ]
  },
  {
   "cell_type": "code",
   "execution_count": 45,
   "id": "27dc9fd4",
   "metadata": {
    "execution": {
     "iopub.execute_input": "2022-09-26T02:12:42.623859Z",
     "iopub.status.busy": "2022-09-26T02:12:42.623067Z",
     "iopub.status.idle": "2022-09-26T03:47:29.884676Z",
     "shell.execute_reply": "2022-09-26T03:47:29.883665Z"
    },
    "papermill": {
     "duration": 5687.279868,
     "end_time": "2022-09-26T03:47:29.887535",
     "exception": false,
     "start_time": "2022-09-26T02:12:42.607667",
     "status": "completed"
    },
    "tags": []
   },
   "outputs": [],
   "source": [
    "y_pred_balanced = classifier_knn_balanced.predict(X_test)"
   ]
  },
  {
   "cell_type": "code",
   "execution_count": 46,
   "id": "17833045",
   "metadata": {
    "execution": {
     "iopub.execute_input": "2022-09-26T03:47:29.918746Z",
     "iopub.status.busy": "2022-09-26T03:47:29.918433Z",
     "iopub.status.idle": "2022-09-26T03:47:29.928132Z",
     "shell.execute_reply": "2022-09-26T03:47:29.927133Z"
    },
    "papermill": {
     "duration": 0.027834,
     "end_time": "2022-09-26T03:47:29.930881",
     "exception": false,
     "start_time": "2022-09-26T03:47:29.903047",
     "status": "completed"
    },
    "tags": []
   },
   "outputs": [
    {
     "name": "stdout",
     "output_type": "stream",
     "text": [
      "Confusion Matrix - Clasificador KNN optimizado y Balanceado\n",
      "[[628   0   0   0   0   0   0   0   0   0   0   0   0   0   0   0]\n",
      " [ 20 367   6   7  27  35  21  17   8   1  46   5  26  24  21  21]\n",
      " [  3   1 594   2   0   2   2   8  14   6   2  25   8   1   0   1]\n",
      " [  0   0   0 685   0   0   0   0   0   0   0   0   0   0   0   0]\n",
      " [  0   0   0   0 663   0   0   0   0   0   0   0   0   0   0   0]\n",
      " [  1   0   0   1   0 639   0   0   5   3   1   2   0   2   0   0]\n",
      " [  0   0   0   0   0   0 669   0   0   0   0   0   0   4   0   0]\n",
      " [  6  32  73  22  31  37  28 200  43  18  41  61  39  26  22  20]\n",
      " [  1   0   9   1   1   5   7   1 637   0   3   0   9   0   0   5]\n",
      " [  0   0   0   0   0   0   0   0   0 637   0   0   0   0   0   0]\n",
      " [  0   3   0   1   0   3   0   0   0   0 609   0   0   0   0   1]\n",
      " [  0   0   0   0   0   0   0   2   0   0   0 678   0   0   0   0]\n",
      " [  1   6   0   2   2   5   5   5   6   2   3   1 617   6   1   2]\n",
      " [  0   0   0   0   0   0   0   0   0   0   0   0   0 676   0   0]\n",
      " [  0   0   0   0   0   0   0   0   0   0   0   0   0   0 694   0]\n",
      " [  0   0   0   0   0   0   0   0   0   0   0   0   0   0   0 662]]\n",
      "Accuracy: 0.9081075996990218\n"
     ]
    }
   ],
   "source": [
    "result_balanced = confusion_matrix(y_test, y_pred_balanced)\n",
    "\n",
    "print('Confusion Matrix - Clasificador KNN optimizado y Balanceado')\n",
    "\n",
    "print(result_balanced)\n",
    "print('Accuracy:', accuracy_score(y_test, y_pred_balanced))"
   ]
  },
  {
   "cell_type": "code",
   "execution_count": 47,
   "id": "fbe847a7",
   "metadata": {
    "execution": {
     "iopub.execute_input": "2022-09-26T03:47:29.962226Z",
     "iopub.status.busy": "2022-09-26T03:47:29.960653Z",
     "iopub.status.idle": "2022-09-26T03:47:29.988733Z",
     "shell.execute_reply": "2022-09-26T03:47:29.987728Z"
    },
    "papermill": {
     "duration": 0.045909,
     "end_time": "2022-09-26T03:47:29.991243",
     "exception": false,
     "start_time": "2022-09-26T03:47:29.945334",
     "status": "completed"
    },
    "tags": []
   },
   "outputs": [
    {
     "name": "stdout",
     "output_type": "stream",
     "text": [
      "                    precision    recall  f1-score   support\n",
      "\n",
      "    cabernet franc       0.95      1.00      0.98       628\n",
      "cabernet sauvignon       0.90      0.56      0.69       652\n",
      "        chardonnay       0.87      0.89      0.88       669\n",
      "          grenache       0.95      1.00      0.97       685\n",
      "            malbec       0.92      1.00      0.96       663\n",
      "            merlot       0.88      0.98      0.93       654\n",
      "          nebbiolo       0.91      0.99      0.95       673\n",
      "             other       0.86      0.29      0.43       699\n",
      "        pinot noir       0.89      0.94      0.92       679\n",
      "          riesling       0.96      1.00      0.98       637\n",
      "        sangiovese       0.86      0.99      0.92       617\n",
      "   sauvignon blanc       0.88      1.00      0.93       680\n",
      "      shiraz syrah       0.88      0.93      0.91       664\n",
      "       tempranillo       0.91      1.00      0.96       676\n",
      "  touriga nacional       0.94      1.00      0.97       694\n",
      "         zinfandel       0.93      1.00      0.96       662\n",
      "\n",
      "          accuracy                           0.91     10632\n",
      "         macro avg       0.91      0.91      0.90     10632\n",
      "      weighted avg       0.91      0.91      0.89     10632\n",
      "\n"
     ]
    }
   ],
   "source": [
    "print(classification_report(y_test,y_pred_balanced,target_names=le.classes_))"
   ]
  },
  {
   "cell_type": "code",
   "execution_count": 48,
   "id": "98b3b5a8",
   "metadata": {
    "execution": {
     "iopub.execute_input": "2022-09-26T03:47:30.022152Z",
     "iopub.status.busy": "2022-09-26T03:47:30.021717Z",
     "iopub.status.idle": "2022-09-26T05:22:14.963152Z",
     "shell.execute_reply": "2022-09-26T05:22:14.962097Z"
    },
    "papermill": {
     "duration": 5684.977873,
     "end_time": "2022-09-26T05:22:14.983920",
     "exception": false,
     "start_time": "2022-09-26T03:47:30.006047",
     "status": "completed"
    },
    "tags": []
   },
   "outputs": [
    {
     "name": "stdout",
     "output_type": "stream",
     "text": [
      "Test accuracy: 0.908\n"
     ]
    }
   ],
   "source": [
    "print(\"Test accuracy: %.3f\" % classifier_knn_balanced.score(X_test, y_test))"
   ]
  },
  {
   "cell_type": "code",
   "execution_count": 49,
   "id": "efa73c5b",
   "metadata": {
    "execution": {
     "iopub.execute_input": "2022-09-26T05:22:15.017815Z",
     "iopub.status.busy": "2022-09-26T05:22:15.016728Z",
     "iopub.status.idle": "2022-09-26T08:19:22.176426Z",
     "shell.execute_reply": "2022-09-26T08:19:22.175344Z"
    },
    "papermill": {
     "duration": 10627.178835,
     "end_time": "2022-09-26T08:19:22.179469",
     "exception": false,
     "start_time": "2022-09-26T05:22:15.000634",
     "status": "completed"
    },
    "tags": []
   },
   "outputs": [],
   "source": [
    "# Validacion anidada\n",
    "scores = cross_val_score(classifier_knn_balanced,X_train,y_train, scoring='accuracy',cv=5)"
   ]
  },
  {
   "cell_type": "code",
   "execution_count": 50,
   "id": "96a41034",
   "metadata": {
    "execution": {
     "iopub.execute_input": "2022-09-26T08:19:22.213709Z",
     "iopub.status.busy": "2022-09-26T08:19:22.212026Z",
     "iopub.status.idle": "2022-09-26T08:19:22.218743Z",
     "shell.execute_reply": "2022-09-26T08:19:22.217431Z"
    },
    "papermill": {
     "duration": 0.025516,
     "end_time": "2022-09-26T08:19:22.221333",
     "exception": false,
     "start_time": "2022-09-26T08:19:22.195817",
     "status": "completed"
    },
    "tags": []
   },
   "outputs": [
    {
     "name": "stdout",
     "output_type": "stream",
     "text": [
      "CV accuracy: 0.891 +/- 0.002\n"
     ]
    }
   ],
   "source": [
    "print('CV accuracy: %.3f +/- %.3f' %(np.mean(scores), np.std(scores)))"
   ]
  },
  {
   "cell_type": "markdown",
   "id": "0fec8cd8",
   "metadata": {
    "papermill": {
     "duration": 0.014736,
     "end_time": "2022-09-26T08:19:22.251470",
     "exception": false,
     "start_time": "2022-09-26T08:19:22.236734",
     "status": "completed"
    },
    "tags": []
   },
   "source": [
    "**SVC BALANCEADO**"
   ]
  },
  {
   "cell_type": "code",
   "execution_count": 51,
   "id": "74108cfb",
   "metadata": {
    "execution": {
     "iopub.execute_input": "2022-09-26T08:19:22.282498Z",
     "iopub.status.busy": "2022-09-26T08:19:22.281717Z",
     "iopub.status.idle": "2022-09-26T08:19:22.286227Z",
     "shell.execute_reply": "2022-09-26T08:19:22.285240Z"
    },
    "papermill": {
     "duration": 0.021981,
     "end_time": "2022-09-26T08:19:22.288256",
     "exception": false,
     "start_time": "2022-09-26T08:19:22.266275",
     "status": "completed"
    },
    "tags": []
   },
   "outputs": [],
   "source": [
    "classifier_svc_balanced = SVC(C=10,gamma=0.01,kernel='rbf')"
   ]
  },
  {
   "cell_type": "code",
   "execution_count": 52,
   "id": "8701f9b9",
   "metadata": {
    "execution": {
     "iopub.execute_input": "2022-09-26T08:19:22.319434Z",
     "iopub.status.busy": "2022-09-26T08:19:22.318820Z",
     "iopub.status.idle": "2022-09-26T08:21:30.662923Z",
     "shell.execute_reply": "2022-09-26T08:21:30.661968Z"
    },
    "papermill": {
     "duration": 128.375492,
     "end_time": "2022-09-26T08:21:30.678707",
     "exception": false,
     "start_time": "2022-09-26T08:19:22.303215",
     "status": "completed"
    },
    "tags": []
   },
   "outputs": [
    {
     "data": {
      "text/plain": [
       "SVC(C=10, gamma=0.01)"
      ]
     },
     "execution_count": 52,
     "metadata": {},
     "output_type": "execute_result"
    }
   ],
   "source": [
    "classifier_svc_balanced.fit(X_train, y_train)"
   ]
  },
  {
   "cell_type": "code",
   "execution_count": 53,
   "id": "b1a18549",
   "metadata": {
    "execution": {
     "iopub.execute_input": "2022-09-26T08:21:30.710927Z",
     "iopub.status.busy": "2022-09-26T08:21:30.710287Z",
     "iopub.status.idle": "2022-09-26T08:22:32.283247Z",
     "shell.execute_reply": "2022-09-26T08:22:32.282106Z"
    },
    "papermill": {
     "duration": 61.591517,
     "end_time": "2022-09-26T08:22:32.285692",
     "exception": false,
     "start_time": "2022-09-26T08:21:30.694175",
     "status": "completed"
    },
    "tags": []
   },
   "outputs": [],
   "source": [
    "y_pred_balanced= classifier_svc_balanced.predict(X_test)"
   ]
  },
  {
   "cell_type": "code",
   "execution_count": 54,
   "id": "7afb56b6",
   "metadata": {
    "execution": {
     "iopub.execute_input": "2022-09-26T08:22:32.317983Z",
     "iopub.status.busy": "2022-09-26T08:22:32.317631Z",
     "iopub.status.idle": "2022-09-26T08:22:32.327698Z",
     "shell.execute_reply": "2022-09-26T08:22:32.326737Z"
    },
    "papermill": {
     "duration": 0.028923,
     "end_time": "2022-09-26T08:22:32.330339",
     "exception": false,
     "start_time": "2022-09-26T08:22:32.301416",
     "status": "completed"
    },
    "tags": []
   },
   "outputs": [
    {
     "name": "stdout",
     "output_type": "stream",
     "text": [
      "Confusion Matrix - SVC Balanceado\n",
      "[[628   0   0   0   0   0   0   0   0   0   0   0   0   0   0   0]\n",
      " [  0 314   0   0   1   0   0 337   0   0   0   0   0   0   0   0]\n",
      " [  0   0 529   0   0   0   0 140   0   0   0   0   0   0   0   0]\n",
      " [  0   0   0 685   0   0   0   0   0   0   0   0   0   0   0   0]\n",
      " [  0   0   0   0 663   0   0   0   0   0   0   0   0   0   0   0]\n",
      " [  0   0   0   0   0 638   0  16   0   0   0   0   0   0   0   0]\n",
      " [  0   0   0   0   0   0 669   4   0   0   0   0   0   0   0   0]\n",
      " [  0   1   0   0   0   0   0 697   0   0   0   0   1   0   0   0]\n",
      " [  0   0   0   0   0   0   0  65 614   0   0   0   0   0   0   0]\n",
      " [  0   0   0   0   0   0   0   0   0 637   0   0   0   0   0   0]\n",
      " [  0   0   0   0   0   0   0   8   0   0 609   0   0   0   0   0]\n",
      " [  0   0   0   0   0   0   0   2   0   0   0 678   0   0   0   0]\n",
      " [  0   0   0   0   0   0   0  67   0   0   0   0 597   0   0   0]\n",
      " [  0   0   0   0   0   0   0   0   0   0   0   0   0 676   0   0]\n",
      " [  0   0   0   0   0   0   0   0   0   0   0   0   0   0 694   0]\n",
      " [  0   0   0   0   0   0   0   0   0   0   0   0   0   0   0 662]]\n",
      "Accuracy: 0.9396162528216704\n"
     ]
    }
   ],
   "source": [
    "result = confusion_matrix(y_test, y_pred_balanced)\n",
    "\n",
    "print('Confusion Matrix - SVC Balanceado')\n",
    "\n",
    "print(result)\n",
    "\n",
    "\n",
    "print('Accuracy:', accuracy_score(y_test, y_pred_balanced))"
   ]
  },
  {
   "cell_type": "code",
   "execution_count": 55,
   "id": "30c9edfc",
   "metadata": {
    "execution": {
     "iopub.execute_input": "2022-09-26T08:22:32.362820Z",
     "iopub.status.busy": "2022-09-26T08:22:32.362047Z",
     "iopub.status.idle": "2022-09-26T08:22:32.389823Z",
     "shell.execute_reply": "2022-09-26T08:22:32.388019Z"
    },
    "papermill": {
     "duration": 0.045622,
     "end_time": "2022-09-26T08:22:32.391825",
     "exception": false,
     "start_time": "2022-09-26T08:22:32.346203",
     "status": "completed"
    },
    "tags": []
   },
   "outputs": [
    {
     "name": "stdout",
     "output_type": "stream",
     "text": [
      "                    precision    recall  f1-score   support\n",
      "\n",
      "    cabernet franc       1.00      1.00      1.00       628\n",
      "cabernet sauvignon       1.00      0.48      0.65       652\n",
      "        chardonnay       1.00      0.79      0.88       669\n",
      "          grenache       1.00      1.00      1.00       685\n",
      "            malbec       1.00      1.00      1.00       663\n",
      "            merlot       1.00      0.98      0.99       654\n",
      "          nebbiolo       1.00      0.99      1.00       673\n",
      "             other       0.52      1.00      0.69       699\n",
      "        pinot noir       1.00      0.90      0.95       679\n",
      "          riesling       1.00      1.00      1.00       637\n",
      "        sangiovese       1.00      0.99      0.99       617\n",
      "   sauvignon blanc       1.00      1.00      1.00       680\n",
      "      shiraz syrah       1.00      0.90      0.95       664\n",
      "       tempranillo       1.00      1.00      1.00       676\n",
      "  touriga nacional       1.00      1.00      1.00       694\n",
      "         zinfandel       1.00      1.00      1.00       662\n",
      "\n",
      "          accuracy                           0.94     10632\n",
      "         macro avg       0.97      0.94      0.94     10632\n",
      "      weighted avg       0.97      0.94      0.94     10632\n",
      "\n"
     ]
    }
   ],
   "source": [
    "print(classification_report(y_test,y_pred_balanced,target_names=le.classes_))"
   ]
  },
  {
   "cell_type": "code",
   "execution_count": 56,
   "id": "612065b7",
   "metadata": {
    "execution": {
     "iopub.execute_input": "2022-09-26T08:22:32.423753Z",
     "iopub.status.busy": "2022-09-26T08:22:32.423490Z",
     "iopub.status.idle": "2022-09-26T08:23:31.968593Z",
     "shell.execute_reply": "2022-09-26T08:23:31.964511Z"
    },
    "papermill": {
     "duration": 59.577009,
     "end_time": "2022-09-26T08:23:31.984489",
     "exception": false,
     "start_time": "2022-09-26T08:22:32.407480",
     "status": "completed"
    },
    "tags": []
   },
   "outputs": [
    {
     "name": "stdout",
     "output_type": "stream",
     "text": [
      "Test accuracy: 0.940\n"
     ]
    }
   ],
   "source": [
    "print(\"Test accuracy: %.3f\" % classifier_svc_balanced.score(X_test, y_test))"
   ]
  },
  {
   "cell_type": "code",
   "execution_count": 57,
   "id": "fcd887f8",
   "metadata": {
    "execution": {
     "iopub.execute_input": "2022-09-26T08:23:32.017731Z",
     "iopub.status.busy": "2022-09-26T08:23:32.017416Z",
     "iopub.status.idle": "2022-09-26T08:32:49.334794Z",
     "shell.execute_reply": "2022-09-26T08:32:49.333671Z"
    },
    "papermill": {
     "duration": 557.338093,
     "end_time": "2022-09-26T08:32:49.338977",
     "exception": false,
     "start_time": "2022-09-26T08:23:32.000884",
     "status": "completed"
    },
    "tags": []
   },
   "outputs": [],
   "source": [
    "# Validacion anidada\n",
    "scores = cross_val_score(classifier_svc_balanced,X_train,y_train, scoring='accuracy',cv=5)"
   ]
  },
  {
   "cell_type": "code",
   "execution_count": 58,
   "id": "afba55e9",
   "metadata": {
    "execution": {
     "iopub.execute_input": "2022-09-26T08:32:49.388346Z",
     "iopub.status.busy": "2022-09-26T08:32:49.388027Z",
     "iopub.status.idle": "2022-09-26T08:32:49.393383Z",
     "shell.execute_reply": "2022-09-26T08:32:49.392448Z"
    },
    "papermill": {
     "duration": 0.024802,
     "end_time": "2022-09-26T08:32:49.396397",
     "exception": false,
     "start_time": "2022-09-26T08:32:49.371595",
     "status": "completed"
    },
    "tags": []
   },
   "outputs": [
    {
     "name": "stdout",
     "output_type": "stream",
     "text": [
      "CV accuracy: 0.917 +/- 0.003\n"
     ]
    }
   ],
   "source": [
    "print('CV accuracy: %.3f +/- %.3f' %(np.mean(scores), np.std(scores)))"
   ]
  }
 ],
 "metadata": {
  "kernelspec": {
   "display_name": "Python 3",
   "language": "python",
   "name": "python3"
  },
  "language_info": {
   "codemirror_mode": {
    "name": "ipython",
    "version": 3
   },
   "file_extension": ".py",
   "mimetype": "text/x-python",
   "name": "python",
   "nbconvert_exporter": "python",
   "pygments_lexer": "ipython3",
   "version": "3.7.12"
  },
  "papermill": {
   "default_parameters": {},
   "duration": 24102.76813,
   "end_time": "2022-09-26T08:32:50.066917",
   "environment_variables": {},
   "exception": null,
   "input_path": "__notebook__.ipynb",
   "output_path": "__notebook__.ipynb",
   "parameters": {},
   "start_time": "2022-09-26T01:51:07.298787",
   "version": "2.3.4"
  }
 },
 "nbformat": 4,
 "nbformat_minor": 5
}
